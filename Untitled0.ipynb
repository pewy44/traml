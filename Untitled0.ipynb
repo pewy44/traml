{
 "metadata": {
  "name": ""
 },
 "nbformat": 3,
 "nbformat_minor": 0,
 "worksheets": [
  {
   "cells": [
    {
     "cell_type": "code",
     "collapsed": false,
     "input": [
      "%matplotlib inline\n",
      "import db"
     ],
     "language": "python",
     "metadata": {},
     "outputs": [],
     "prompt_number": 1
    },
    {
     "cell_type": "code",
     "collapsed": false,
     "input": [
      "a = db.L()"
     ],
     "language": "python",
     "metadata": {},
     "outputs": [],
     "prompt_number": 2
    },
    {
     "cell_type": "code",
     "collapsed": false,
     "input": [
      "a.page(103003)"
     ],
     "language": "python",
     "metadata": {},
     "outputs": [
      {
       "metadata": {},
       "output_type": "pyout",
       "prompt_number": 3,
       "text": [
        "{'COMMENTS': u'\\u03b2-SiC (zincblende crystal structure)',\n",
        " 'DATA': [{'coefficients': '2.5538 0.0342 -2',\n",
        "   'range': '0.467 0.691',\n",
        "   'type': 'formula 5'}],\n",
        " 'REFERENCES': 'P. T. B. Shaffer. Refractive index, dispersion, and birefringence of silicon carbide polytypes, <a href=\"http://dx.doi.org/10.1364/AO.10.001034\"><i>Appl. Opt.</i> <b>10</b>, 1034-1036 (1971)</a>'}"
       ]
      }
     ],
     "prompt_number": 3
    },
    {
     "cell_type": "code",
     "collapsed": false,
     "input": [
      "a.search('formula 8')"
     ],
     "language": "python",
     "metadata": {},
     "outputs": [
      {
       "output_type": "stream",
       "stream": "stdout",
       "text": [
        "|     ID | SHELF   | BOOK   | PAGE     | DESCRIPTION                    |\n",
        "|--------+---------+--------+----------+--------------------------------|\n",
        "| 102001 | main    | AgBr   | Schr\u00f6ter | Schr\u00f6ter 1931: n 0.495-0.67 \u00b5m |\n",
        "| 102602 | main    | TlBr   | Schroter | Schr\u00f6ter 1931: n 0.54-0.65 \u00b5m  |\n",
        "| 104001 | main    | TlCl   | Schroter | Schr\u00f6ter 1931: n 0.43-0.66 \u00b5m  |\n"
       ]
      }
     ],
     "prompt_number": 4
    },
    {
     "cell_type": "code",
     "collapsed": false,
     "input": [
      "a.page(102602)"
     ],
     "language": "python",
     "metadata": {},
     "outputs": [
      {
       "metadata": {},
       "output_type": "pyout",
       "prompt_number": 5,
       "text": [
        "{'DATA': [{'coefficients': '0.48484 0.10279 0.090000 -0.0047896',\n",
        "   'range': '0.54 0.65',\n",
        "   'type': 'formula 8'}],\n",
        " 'REFERENCES': u'H. Schr\\xf6ter. \\xdcber die Brechungsindizes einiger Schwermetallhalogenide im Sichtbaren und die Berechnung von Interpolationsformeln f\\xfcr den Dispersionsverlauf (On the refractive indices of some heavy-metal halides in the visible and calculation of interpolation formulas for dispersion), <a href=\"http://dx.doi.org/10.1007/BF01391040\"><i>Z. Phys.</i> <b>67</b>, 24-36 (1931)</a> [in German]'}"
       ]
      }
     ],
     "prompt_number": 5
    },
    {
     "cell_type": "code",
     "collapsed": false,
     "input": [
      "a.search('exotic')"
     ],
     "language": "python",
     "metadata": {},
     "outputs": [
      {
       "output_type": "stream",
       "stream": "stdout",
       "text": [
        "|     ID | SHELF   | BOOK          | PAGE      | DESCRIPTION                    |\n",
        "|--------+---------+---------------+-----------+--------------------------------|\n",
        "| 403601 | other   | metamaterials | Valentine | Valentine et al. 2008: Metamat |\n"
       ]
      }
     ],
     "prompt_number": 6
    },
    {
     "cell_type": "code",
     "collapsed": false,
     "input": [
      "a.search('tabulated k')"
     ],
     "language": "python",
     "metadata": {},
     "outputs": [
      {
       "output_type": "stream",
       "stream": "stdout",
       "text": [
        "|     ID | SHELF   | BOOK                 | PAGE              | DESCRIPTION                    |\n",
        "|--------+---------+----------------------+-------------------+--------------------------------|\n",
        "| 110602 | main    | H2O                  | Kedenburg         | Kedenburg et al. 2012: Water;  |\n",
        "| 110608 | main    | H2O                  | Kedenburg-D2O     | Kedenburg et al. 2012: Heavy w |\n",
        "| 111301 | main    | SiO                  | Hass              | Hass and Salzberg 1954: n,k 0. |\n",
        "| 115901 | main    | Si                   | Chandler-Horowitz | Chandler-Horowitz and Amirthar |\n",
        "| 200501 | organic | ethanol              | Kedenburg         | Kedenburg et al. 2012: n 0.5-1 |\n",
        "| 200902 | organic | ethylene_glycol      | Sani_and_Otanicar | Sani 2014 + Otanicar 2009: n 0 |\n",
        "| 201001 | organic | propylene_glycol     | Otanicar          | Otanicar et al. 2009: n 0.434- |\n",
        "| 201701 | organic | toluene              | Kedenburg         | Kedenburg et al. 2012: n 0.5-1 |\n",
        "| 202401 | organic | chloroform           | Kedenburg         | Kedenburg et al. 2012: n 0.5-1 |\n",
        "| 202501 | organic | carbon_tetrachloride | Kedenburg         | Kedenburg et al. 2012: n 0.5-1 |\n",
        "| 300101 | glass   | BK7                  | SCHOTT            | N-BK7 (SCHOTT)                 |\n",
        "| 300201 | glass   | BAF10                | SCHOTT            | N-BAF10 (SCHOTT)               |\n",
        "| 300301 | glass   | BAK1                 | SCHOTT            | N-BAK1 (SCHOTT)                |\n",
        "| 300401 | glass   | FK51A                | SCHOTT            | N-FK51A (SCHOTT)               |\n",
        "| 300501 | glass   | LASF9                | SCHOTT            | N-LASF9 (SCHOTT)               |\n",
        "| 300601 | glass   | SF5                  | SCHOTT            | N-SF5 (SCHOTT)                 |\n",
        "| 300701 | glass   | SF10                 | SCHOTT            | N-SF10 (SCHOTT)                |\n",
        "| 300801 | glass   | SF11                 | SCHOTT            | N-SF11 (SCHOTT)                |\n",
        "| 301001 | glass   | soda-lime            | Rubin-clear       | Rubin 1985: Clear; n,k 0.31-4. |\n",
        "| 301002 | glass   | soda-lime            | Rubin-bronze      | Rubin 1985: Bronze; n,k 0.32-4 |\n",
        "| 301003 | glass   | soda-lime            | Rubin-grey        | Rubin 1985: Grey; n,k 0.32-4.6 |\n",
        "| 301004 | glass   | soda-lime            | Rubin-green       | Rubin 1985: Green; n,k 0.32-4. |\n",
        "| 301005 | glass   | soda-lime            | Rubin-lowiron     | Rubin 1985: Low-iron; n,k 0.31 |\n",
        "| 301103 | glass   | SCHOTT-multipurpose  | AF32ECO           | AF 32\u00ae eco Thin Glass          |\n",
        "| 301104 | glass   | SCHOTT-multipurpose  | D263TECO          | D 263\u00ae T eco Thin Glass        |\n",
        "| 301802 | glass   | AMTIR                | AMTIR-2           | AMTIR-2                        |\n",
        "| 301901 | glass   | VITRON-IG            | IG2               | IG 2                           |\n",
        "| 301902 | glass   | VITRON-IG            | IG3               | IG 3                           |\n",
        "| 301903 | glass   | VITRON-IG            | IG4               | IG 4                           |\n",
        "| 301904 | glass   | VITRON-IG            | IG5               | IG 5                           |\n",
        "| 301905 | glass   | VITRON-IG            | IG6               | IG 6                           |\n",
        "| 302201 | glass   | SCHOTT-BK            | N-BK7             | N-BK7                          |\n",
        "| 302202 | glass   | SCHOTT-BK            | N-BK7HT           | N-BK7HT                        |\n",
        "| 302203 | glass   | SCHOTT-BK            | N-BK10            | N-BK10                         |\n",
        "| 302204 | glass   | SCHOTT-BK            | P-BK7             | P-BK7                          |\n",
        "| 302301 | glass   | SCHOTT-BaF           | N-BAF4            | N-BAF4                         |\n",
        "| 302302 | glass   | SCHOTT-BaF           | N-BAF10           | N-BAF10                        |\n",
        "| 302303 | glass   | SCHOTT-BaF           | N-BAF51           | N-BAF51                        |\n",
        "| 302304 | glass   | SCHOTT-BaF           | N-BAF52           | N-BAF52                        |\n",
        "| 302401 | glass   | SCHOTT-BaK           | N-BAK1            | N-BAK1                         |\n",
        "| 302402 | glass   | SCHOTT-BaK           | N-BAK2            | N-BAK2                         |\n",
        "| 302403 | glass   | SCHOTT-BaK           | N-BAK4            | N-BAK4                         |\n",
        "| 302404 | glass   | SCHOTT-BaK           | N-BAK4HT          | N-BAK4HT                       |\n",
        "| 302501 | glass   | SCHOTT-BaLF          | N-BALF4           | N-BALF4                        |\n",
        "| 302502 | glass   | SCHOTT-BaLF          | N-BALF5           | N-BALF5                        |\n",
        "| 302601 | glass   | SCHOTT-BaSF          | N-BASF2           | N-BASF2                        |\n",
        "| 302602 | glass   | SCHOTT-BaSF          | N-BASF64          | N-BASF64                       |\n",
        "| 302701 | glass   | SCHOTT-F             | F2                | F2                             |\n",
        "| 302702 | glass   | SCHOTT-F             | F2HT              | F2HT                           |\n",
        "| 302703 | glass   | SCHOTT-F             | F5                | F5                             |\n",
        "| 302704 | glass   | SCHOTT-F             | N-F2              | N-F2                           |\n",
        "| 302801 | glass   | SCHOTT-FK            | N-FK5             | N-FK5                          |\n",
        "| 302802 | glass   | SCHOTT-FK            | N-FK51A           | N-FK51A                        |\n",
        "| 302901 | glass   | SCHOTT-K             | K7                | K7                             |\n",
        "| 302902 | glass   | SCHOTT-K             | K10               | K10                            |\n",
        "| 302903 | glass   | SCHOTT-K             | N-K5              | N-K5                           |\n",
        "| 302904 | glass   | SCHOTT-K             | N-ZK7             | N-ZK7                          |\n",
        "| 303001 | glass   | SCHOTT-KF            | N-KF9             | N-KF9                          |\n",
        "| 303101 | glass   | SCHOTT-KzFS          | N-KZFS2           | N-KZFS2                        |\n",
        "| 303102 | glass   | SCHOTT-KzFS          | N-KZFS4           | N-KZFS4                        |\n",
        "| 303103 | glass   | SCHOTT-KzFS          | N-KZFS4HT         | N-KZFS4HT                      |\n",
        "| 303104 | glass   | SCHOTT-KzFS          | N-KZFS5           | N-KZFS5                        |\n",
        "| 303105 | glass   | SCHOTT-KzFS          | N-KZFS8           | N-KZFS8                        |\n",
        "| 303106 | glass   | SCHOTT-KzFS          | N-KZFS11          | N-KZFS11                       |\n",
        "| 303201 | glass   | SCHOTT-LaF           | LAFN7             | LAFN7                          |\n",
        "| 303202 | glass   | SCHOTT-LaF           | N-LAF2            | N-LAF2                         |\n",
        "| 303203 | glass   | SCHOTT-LaF           | N-LAF7            | N-LAF7                         |\n",
        "| 303204 | glass   | SCHOTT-LaF           | N-LAF21           | N-LAF21                        |\n",
        "| 303205 | glass   | SCHOTT-LaF           | N-LAF33           | N-LAF33                        |\n",
        "| 303206 | glass   | SCHOTT-LaF           | N-LAF34           | N-LAF34                        |\n",
        "| 303207 | glass   | SCHOTT-LaF           | N-LAF35           | N-LAF35                        |\n",
        "| 303208 | glass   | SCHOTT-LaF           | N-LAF36           | N-LAF36                        |\n",
        "| 303209 | glass   | SCHOTT-LaF           | P-LAF37           | P-LAF37                        |\n",
        "| 303301 | glass   | SCHOTT-LaK           | N-LAK7            | N-LAK7                         |\n",
        "| 303302 | glass   | SCHOTT-LaK           | N-LAK8            | N-LAK8                         |\n",
        "| 303303 | glass   | SCHOTT-LaK           | N-LAK9            | N-LAK9                         |\n",
        "| 303304 | glass   | SCHOTT-LaK           | N-LAK10           | N-LAK10                        |\n",
        "| 303305 | glass   | SCHOTT-LaK           | N-LAK12           | N-LAK12                        |\n",
        "| 303306 | glass   | SCHOTT-LaK           | N-LAK14           | N-LAK14                        |\n",
        "| 303307 | glass   | SCHOTT-LaK           | N-LAK21           | N-LAK21                        |\n",
        "| 303308 | glass   | SCHOTT-LaK           | N-LAK22           | N-LAK22                        |\n",
        "| 303309 | glass   | SCHOTT-LaK           | N-LAK33A          | N-LAK33A                       |\n",
        "| 303310 | glass   | SCHOTT-LaK           | N-LAK33B          | N-LAK33B                       |\n",
        "| 303311 | glass   | SCHOTT-LaK           | N-LAK34           | N-LAK34                        |\n",
        "| 303312 | glass   | SCHOTT-LaK           | P-LAK35           | P-LAK35                        |\n",
        "| 303401 | glass   | SCHOTT-LaSF          | N-LASF9           | N-LASF9                        |\n",
        "| 303402 | glass   | SCHOTT-LaSF          | N-LASF9HT         | N-LASF9HT                      |\n",
        "| 303403 | glass   | SCHOTT-LaSF          | N-LASF31A         | N-LASF31A                      |\n",
        "| 303404 | glass   | SCHOTT-LaSF          | N-LASF40          | N-LASF40                       |\n",
        "| 303405 | glass   | SCHOTT-LaSF          | N-LASF41          | N-LASF41                       |\n",
        "| 303406 | glass   | SCHOTT-LaSF          | N-LASF43          | N-LASF43                       |\n",
        "| 303407 | glass   | SCHOTT-LaSF          | N-LASF44          | N-LASF44                       |\n",
        "| 303408 | glass   | SCHOTT-LaSF          | N-LASF45          | N-LASF45                       |\n",
        "| 303409 | glass   | SCHOTT-LaSF          | N-LASF45HT        | N-LASF45HT                     |\n",
        "| 303410 | glass   | SCHOTT-LaSF          | N-LASF46A         | N-LASF46A                      |\n",
        "| 303411 | glass   | SCHOTT-LaSF          | N-LASF46B         | N-LASF46B                      |\n",
        "| 303412 | glass   | SCHOTT-LaSF          | P-LASF47          | P-LASF47                       |\n",
        "| 303413 | glass   | SCHOTT-LaSF          | P-LASF50          | P-LASF50                       |\n",
        "| 303414 | glass   | SCHOTT-LaSF          | P-LASF51          | P-LASF51                       |\n",
        "| 303501 | glass   | SCHOTT-LF            | LF5               | LF5                            |\n",
        "| 303601 | glass   | SCHOTT-LLF           | LLF1              | LLF1                           |\n",
        "| 303701 | glass   | SCHOTT-PK            | N-PK51            | N-PK51                         |\n",
        "| 303702 | glass   | SCHOTT-PK            | N-PK52A           | N-PK52A                        |\n",
        "| 303703 | glass   | SCHOTT-PK            | P-PK53            | P-PK53                         |\n",
        "| 303801 | glass   | SCHOTT-PSK           | N-PSK3            | N-PSK3                         |\n",
        "| 303802 | glass   | SCHOTT-PSK           | N-PSK53A          | N-PSK53A                       |\n",
        "| 303901 | glass   | SCHOTT-SK            | N-SK2             | N-SK2                          |\n",
        "| 303902 | glass   | SCHOTT-SK            | N-SK2HT           | N-SK2HT                        |\n",
        "| 303903 | glass   | SCHOTT-SK            | N-SK4             | N-SK4                          |\n",
        "| 303904 | glass   | SCHOTT-SK            | N-SK5             | N-SK5                          |\n",
        "| 303905 | glass   | SCHOTT-SK            | N-SK11            | N-SK11                         |\n",
        "| 303906 | glass   | SCHOTT-SK            | N-SK14            | N-SK14                         |\n",
        "| 303907 | glass   | SCHOTT-SK            | N-SK16            | N-SK16                         |\n",
        "| 303908 | glass   | SCHOTT-SK            | P-SK57            | P-SK57                         |\n",
        "| 303909 | glass   | SCHOTT-SK            | P-SK57Q1          | P-SK57Q1                       |\n",
        "| 303910 | glass   | SCHOTT-SK            | P-SK58A           | P-SK58A                        |\n",
        "| 303911 | glass   | SCHOTT-SK            | P-SK60            | P-SK60                         |\n",
        "| 304001 | glass   | SCHOTT-SSK           | N-SSK2            | N-SSK2                         |\n",
        "| 304002 | glass   | SCHOTT-SSK           | N-SSK5            | N-SSK5                         |\n",
        "| 304003 | glass   | SCHOTT-SSK           | N-SSK8            | N-SSK8                         |\n",
        "| 304101 | glass   | SCHOTT-SF            | N-SF1             | N-SF1                          |\n",
        "| 304102 | glass   | SCHOTT-SF            | N-SF2             | N-SF2                          |\n",
        "| 304103 | glass   | SCHOTT-SF            | N-SF4             | N-SF4                          |\n",
        "| 304104 | glass   | SCHOTT-SF            | N-SF5             | N-SF5                          |\n",
        "| 304105 | glass   | SCHOTT-SF            | N-SF6             | N-SF6                          |\n",
        "| 304106 | glass   | SCHOTT-SF            | N-SF6HT           | N-SF6HT                        |\n",
        "| 304107 | glass   | SCHOTT-SF            | N-SF6HTultra      | N-SF6HTultra                   |\n",
        "| 304108 | glass   | SCHOTT-SF            | N-SF8             | N-SF8                          |\n",
        "| 304109 | glass   | SCHOTT-SF            | N-SF10            | N-SF10                         |\n",
        "| 304110 | glass   | SCHOTT-SF            | N-SF11            | N-SF11                         |\n",
        "| 304111 | glass   | SCHOTT-SF            | N-SF14            | N-SF14                         |\n",
        "| 304112 | glass   | SCHOTT-SF            | N-SF15            | N-SF15                         |\n",
        "| 304113 | glass   | SCHOTT-SF            | N-SF57            | N-SF57                         |\n",
        "| 304114 | glass   | SCHOTT-SF            | N-SF57HT          | N-SF57HT                       |\n",
        "| 304115 | glass   | SCHOTT-SF            | N-SF57HTultra     | N-SF57HTultra                  |\n",
        "| 304116 | glass   | SCHOTT-SF            | N-SF66            | N-SF66                         |\n",
        "| 304117 | glass   | SCHOTT-SF            | P-SF8             | P-SF8                          |\n",
        "| 304118 | glass   | SCHOTT-SF            | P-SF67            | P-SF67                         |\n",
        "| 304119 | glass   | SCHOTT-SF            | P-SF68            | P-SF68                         |\n",
        "| 304120 | glass   | SCHOTT-SF            | SF1               | SF1                            |\n",
        "| 304121 | glass   | SCHOTT-SF            | SF2               | SF2                            |\n",
        "| 304122 | glass   | SCHOTT-SF            | SF4               | SF4                            |\n",
        "| 304123 | glass   | SCHOTT-SF            | SF5               | SF5                            |\n",
        "| 304124 | glass   | SCHOTT-SF            | SF6               | SF6                            |\n",
        "| 304125 | glass   | SCHOTT-SF            | SF6HT             | SF6HT                          |\n",
        "| 304126 | glass   | SCHOTT-SF            | SF10              | SF10                           |\n",
        "| 304127 | glass   | SCHOTT-SF            | SF11              | SF11                           |\n",
        "| 304128 | glass   | SCHOTT-SF            | SF56A             | SF56A                          |\n",
        "| 304129 | glass   | SCHOTT-SF            | SF57              | SF57                           |\n",
        "| 304130 | glass   | SCHOTT-SF            | SF57HTultra       | SF57HTultra                    |\n",
        "| 304201 | glass   | SCHOTT-inquiry       | BAFN6             | BAFN6                          |\n",
        "| 304202 | glass   | SCHOTT-inquiry       | BK7G18            | BK7G18                         |\n",
        "| 304203 | glass   | SCHOTT-inquiry       | F2G12             | F2G12                          |\n",
        "| 304204 | glass   | SCHOTT-inquiry       | FK3               | FK3                            |\n",
        "| 304205 | glass   | SCHOTT-inquiry       | K5G20             | K5G20                          |\n",
        "| 304206 | glass   | SCHOTT-inquiry       | KZFS12            | KZFS12                         |\n",
        "| 304207 | glass   | SCHOTT-inquiry       | LAK9G15           | LAK9G15                        |\n",
        "| 304208 | glass   | SCHOTT-inquiry       | LASF35            | LASF35                         |\n",
        "| 304209 | glass   | SCHOTT-inquiry       | LF5G15            | LF5G15                         |\n",
        "| 304210 | glass   | SCHOTT-inquiry       | LF5G19            | LF5G19                         |\n",
        "| 304211 | glass   | SCHOTT-inquiry       | N-BAF3            | N-BAF3                         |\n",
        "| 304212 | glass   | SCHOTT-inquiry       | N-LAF3            | N-LAF3                         |\n",
        "| 304213 | glass   | SCHOTT-inquiry       | N-PSK53           | N-PSK53                        |\n",
        "| 304214 | glass   | SCHOTT-inquiry       | N-SF19            | N-SF19                         |\n",
        "| 304215 | glass   | SCHOTT-inquiry       | N-SF56            | N-SF56                         |\n",
        "| 304216 | glass   | SCHOTT-inquiry       | N-SF64            | N-SF64                         |\n",
        "| 304217 | glass   | SCHOTT-inquiry       | N-SK10            | N-SK10                         |\n",
        "| 304218 | glass   | SCHOTT-inquiry       | N-SK15            | N-SK15                         |\n",
        "| 304219 | glass   | SCHOTT-inquiry       | SF6G05            | SF6G05                         |\n",
        "| 304220 | glass   | SCHOTT-inquiry       | SFL6              | SFL6                           |\n",
        "| 304221 | glass   | SCHOTT-inquiry       | SFL57             | SFL57                          |\n",
        "| 304303 | glass   | SCHOTT-obsolete      | N-LASF46          | N-LASF46                       |\n",
        "| 304304 | glass   | SCHOTT-obsolete      | N-LASF31          | N-LASF31                       |\n",
        "| 304305 | glass   | SCHOTT-obsolete      | N-FK51            | N-FK51                         |\n",
        "| 304306 | glass   | SCHOTT-obsolete      | N-LAF32           | N-LAF32                        |\n",
        "| 304307 | glass   | SCHOTT-obsolete      | KZFSN4            | KZFSN4                         |\n",
        "| 304308 | glass   | SCHOTT-obsolete      | SF14              | SF14                           |\n",
        "| 304309 | glass   | SCHOTT-obsolete      | SF15              | SF15                           |\n",
        "| 304310 | glass   | SCHOTT-obsolete      | SF66              | SF66                           |\n",
        "| 304311 | glass   | SCHOTT-obsolete      | LITHOSIL-Q        | LITHOSIL-Q                     |\n",
        "| 304312 | glass   | SCHOTT-obsolete      | LITHOTEC-CAF2     | LITHOTEC-CAF2                  |\n",
        "| 403501 | other   | TherminolVP-1        | Otanicar          | Otanicar et al. 2009: k 0.2-1. |\n",
        "| 500401 | 3d      | glass                | BK7               | BK7 optical glass (crown)      |\n",
        "| 500402 | 3d      | glass                | BAF10             | BAF10 optical glass (flint)    |\n",
        "| 500403 | 3d      | glass                | soda-lime-clear   | Soda-lime glass - Clear        |\n",
        "| 500404 | 3d      | glass                | soda-lime-bronze  | Soda-lime glass - Bronze       |\n",
        "| 500405 | 3d      | glass                | soda-lime-grey    | Soda-lime glass - Grey         |\n",
        "| 500406 | 3d      | glass                | soda-lime-green   | Soda-lime glass - Green        |\n"
       ]
      }
     ],
     "prompt_number": 7
    },
    {
     "cell_type": "code",
     "collapsed": false,
     "input": [
      "a.page(110602)"
     ],
     "language": "python",
     "metadata": {},
     "outputs": [
      {
       "metadata": {},
       "output_type": "pyout",
       "prompt_number": 9,
       "text": [
        "{'COMMENTS': u'Distilled water, 20.0 \\xb0C.',\n",
        " 'DATA': [{'coefficients': '0 0.75831 0.01007 0.08495 8.91377',\n",
        "   'range': '0.5 1.6',\n",
        "   'type': 'formula 2'},\n",
        "  {'data': '0.5 1.89394e-09\\n0.501 2.01335e-09\\n0.502 1.87755e-09\\n0.503 1.95734e-09\\n0.504 1.89706e-09\\n0.505 1.82447e-09\\n0.506 1.90862e-09\\n0.507 2.08184e-09\\n0.508 2.09808e-09\\n0.509 2.23587e-09\\n0.510 2.32143e-09\\n0.511 2.33412e-09\\n0.512 2.46092e-09\\n0.513 2.51063e-09\\n0.514 2.40509e-09\\n0.515 2.46714e-09\\n0.516 2.48014e-09\\n0.517 2.54255e-09\\n0.518 2.52686e-09\\n0.519 2.56064e-09\\n0.520 2.64006e-09\\n0.521 2.62441e-09\\n0.522 2.6876e-09\\n0.523 2.66362e-09\\n0.524 2.48524e-09\\n0.525 2.55265e-09\\n0.526 2.6496e-09\\n0.527 2.48688e-09\\n0.528 2.58404e-09\\n0.529 2.73627e-09\\n0.530 2.69927e-09\\n0.531 2.70014e-09\\n0.532 2.65442e-09\\n0.533 2.93086e-09\\n0.534 2.69839e-09\\n0.535 2.75028e-09\\n0.536 2.84499e-09\\n0.537 2.66655e-09\\n0.538 2.74001e-09\\n0.539 2.80086e-09\\n0.540 2.9049e-09\\n0.541 2.91028e-09\\n0.542 2.87252e-09\\n0.543 3.0161e-09\\n0.544 3.26408e-09\\n0.545 3.36115e-09\\n0.546 3.19787e-09\\n0.547 3.43008e-09\\n0.548 3.46687e-09\\n0.549 3.64795e-09\\n0.550 3.79465e-09\\n0.551 3.66124e-09\\n0.552 3.68106e-09\\n0.553 3.62172e-09\\n0.554 3.67236e-09\\n0.555 3.72757e-09\\n0.556 3.7741e-09\\n0.557 3.7676e-09\\n0.558 3.93421e-09\\n0.559 3.79002e-09\\n0.560 3.91267e-09\\n0.561 3.85715e-09\\n0.562 3.94453e-09\\n0.563 3.90226e-09\\n0.564 3.92715e-09\\n0.565 4.03752e-09\\n0.566 3.8555e-09\\n0.567 4.02023e-09\\n0.568 4.17196e-09\\n0.569 4.22911e-09\\n0.570 4.2683e-09\\n0.571 4.27579e-09\\n0.572 4.38797e-09\\n0.573 4.52787e-09\\n0.574 4.6591e-09\\n0.575 4.75873e-09\\n0.576 4.81285e-09\\n0.577 5.00487e-09\\n0.578 4.96754e-09\\n0.579 5.16044e-09\\n0.580 5.40013e-09\\n0.581 5.64061e-09\\n0.582 5.88189e-09\\n0.583 5.98478e-09\\n0.584 6.08799e-09\\n0.585 6.51739e-09\\n0.586 6.6218e-09\\n0.587 6.77324e-09\\n0.588 7.15911e-09\\n0.589 7.35877e-09\\n0.590 7.69992e-09\\n0.591 8.08921e-09\\n0.592 8.33845e-09\\n0.593 8.58848e-09\\n0.594 8.83931e-09\\n0.595 9.13828e-09\\n0.596 9.72278e-09\\n0.597 1.04517e-08\\n0.598 1.08499e-08\\n0.599 1.14401e-08\\n0.600 1.24618e-08\\n0.601 1.30087e-08\\n0.602 1.3222e-08\\n0.603 1.36758e-08\\n0.604 1.37946e-08\\n0.605 1.401e-08\\n0.606 1.43707e-08\\n0.607 1.42978e-08\\n0.608 1.43698e-08\\n0.609 1.44903e-08\\n0.61 1.46112e-08\\n0.611 1.47324e-08\\n0.612 1.47078e-08\\n0.613 1.46831e-08\\n0.614 1.48536e-08\\n0.615 1.50246e-08\\n0.616 1.4902e-08\\n0.617 1.51226e-08\\n0.618 1.51471e-08\\n0.619 1.52701e-08\\n0.62 1.53441e-08\\n0.621 1.54677e-08\\n0.622 1.55421e-08\\n0.623 1.57158e-08\\n0.624 1.56914e-08\\n0.625 1.5816e-08\\n0.626 1.58911e-08\\n0.627 1.59165e-08\\n0.628 1.61418e-08\\n0.629 1.62676e-08\\n0.63 1.63436e-08\\n0.631 1.63696e-08\\n0.632 1.64961e-08\\n0.633 1.65726e-08\\n0.634 1.67501e-08\\n0.635 1.67765e-08\\n0.636 1.68029e-08\\n0.637 1.70828e-08\\n0.638 1.71604e-08\\n0.639 1.71365e-08\\n0.64 1.7367e-08\\n0.641 1.73431e-08\\n0.642 1.75745e-08\\n0.643 1.76531e-08\\n0.644 1.78343e-08\\n0.645 1.79133e-08\\n0.646 1.78382e-08\\n0.647 1.81748e-08\\n0.648 1.83576e-08\\n0.649 1.86441e-08\\n0.65 1.87246e-08\\n0.651 1.89088e-08\\n0.652 1.91454e-08\\n0.653 1.93826e-08\\n0.654 1.97245e-08\\n0.655 2.00674e-08\\n0.656 2.03069e-08\\n0.657 2.08084e-08\\n0.658 2.12066e-08\\n0.659 2.13437e-08\\n0.66 2.17963e-08\\n0.661 2.18819e-08\\n0.662 2.20204e-08\\n0.663 2.23702e-08\\n0.664 2.26153e-08\\n0.665 2.25964e-08\\n0.666 2.25774e-08\\n0.667 2.26644e-08\\n0.668 2.2911e-08\\n0.669 2.29453e-08\\n0.67 2.29796e-08\\n0.671 2.30139e-08\\n0.672 2.31551e-08\\n0.673 2.32967e-08\\n0.674 2.3224e-08\\n0.675 2.34196e-08\\n0.676 2.37233e-08\\n0.677 2.38123e-08\\n0.678 2.40633e-08\\n0.679 2.41528e-08\\n0.68 2.44048e-08\\n0.681 2.46033e-08\\n0.682 2.48565e-08\\n0.683 2.5056e-08\\n0.684 2.53648e-08\\n0.685 2.55109e-08\\n0.686 2.5712e-08\\n0.687 2.62961e-08\\n0.688 2.66082e-08\\n0.689 2.71403e-08\\n0.69 2.7564e-08\\n0.691 2.80989e-08\\n0.692 2.847e-08\\n0.693 2.89523e-08\\n0.694 2.96015e-08\\n0.695 3.02526e-08\\n0.696 3.09053e-08\\n0.697 3.16708e-08\\n0.698 3.23828e-08\\n0.699 3.31523e-08\\n0.7 3.39796e-08\\n0.701 3.49764e-08\\n0.702 3.58643e-08\\n0.703 3.68105e-08\\n0.704 3.77592e-08\\n0.705 3.91032e-08\\n0.706 4.01699e-08\\n0.707 4.14646e-08\\n0.708 4.28754e-08\\n0.709 4.43465e-08\\n0.71 4.5991e-08\\n0.711 4.78663e-08\\n0.712 4.98034e-08\\n0.713 5.1689e-08\\n0.714 5.39206e-08\\n0.715 5.61013e-08\\n0.716 5.86868e-08\\n0.717 6.16216e-08\\n0.718 6.45644e-08\\n0.719 6.6943e-08\\n0.72 6.99009e-08\\n0.721 7.28667e-08\\n0.722 7.64151e-08\\n0.723 7.93976e-08\\n0.724 8.35404e-08\\n0.725 8.71174e-08\\n0.726 9.12817e-08\\n0.727 9.54572e-08\\n0.728 1.00802e-07\\n0.729 1.06162e-07\\n0.73 1.11536e-07\\n0.731 1.18087e-07\\n0.732 1.24074e-07\\n0.733 1.3066e-07\\n0.734 1.36679e-07\\n0.735 1.41544e-07\\n0.736 1.46423e-07\\n0.737 1.5014e-07\\n0.738 1.53281e-07\\n0.739 1.55841e-07\\n0.74 1.57818e-07\\n0.741 1.598e-07\\n0.742 1.60606e-07\\n0.743 1.61414e-07\\n0.744 1.62223e-07\\n0.745 1.63034e-07\\n0.746 1.63253e-07\\n0.747 1.64066e-07\\n0.748 1.64286e-07\\n0.749 1.64506e-07\\n0.75 1.64725e-07\\n0.751 1.64945e-07\\n0.752 1.65763e-07\\n0.753 1.65983e-07\\n0.754 1.66204e-07\\n0.755 1.66424e-07\\n0.756 1.66645e-07\\n0.757 1.66865e-07\\n0.758 1.67086e-07\\n0.759 1.67306e-07\\n0.76 1.66922e-07\\n0.761 1.67141e-07\\n0.762 1.67361e-07\\n0.763 1.67581e-07\\n0.764 1.67192e-07\\n0.765 1.67411e-07\\n0.766 1.6702e-07\\n0.767 1.67238e-07\\n0.768 1.66845e-07\\n0.769 1.66451e-07\\n0.77 1.66054e-07\\n0.771 1.65656e-07\\n0.772 1.65257e-07\\n0.773 1.64856e-07\\n0.774 1.63837e-07\\n0.775 1.63432e-07\\n0.776 1.62408e-07\\n0.777 1.61999e-07\\n0.778 1.60969e-07\\n0.779 1.60556e-07\\n0.78 1.59521e-07\\n0.781 1.58483e-07\\n0.782 1.57441e-07\\n0.783 1.56396e-07\\n0.784 1.55348e-07\\n0.785 1.54297e-07\\n0.786 1.53242e-07\\n0.787 1.52185e-07\\n0.788 1.50497e-07\\n0.789 1.49432e-07\\n0.79 1.48364e-07\\n0.791 1.47293e-07\\n0.792 1.46219e-07\\n0.793 1.4451e-07\\n0.794 1.43429e-07\\n0.795 1.42344e-07\\n0.796 1.41256e-07\\n0.797 1.40165e-07\\n0.798 1.39071e-07\\n0.799 1.37974e-07\\n0.8 1.3751e-07\\n0.801 1.36407e-07\\n0.802 1.35939e-07\\n0.803 1.3547e-07\\n0.804 1.34998e-07\\n0.805 1.34526e-07\\n0.806 1.34051e-07\\n0.807 1.34218e-07\\n0.808 1.34384e-07\\n0.809 1.3455e-07\\n0.81 1.34717e-07\\n0.811 1.35528e-07\\n0.812 1.36342e-07\\n0.813 1.37157e-07\\n0.814 1.37973e-07\\n0.815 1.3944e-07\\n0.816 1.40909e-07\\n0.817 1.42382e-07\\n0.818 1.43859e-07\\n0.819 1.4599e-07\\n0.82 1.48778e-07\\n0.821 1.51573e-07\\n0.822 1.54374e-07\\n0.823 1.58491e-07\\n0.824 1.63274e-07\\n0.825 1.69381e-07\\n0.826 1.75502e-07\\n0.827 1.82953e-07\\n0.828 1.90423e-07\\n0.829 1.98569e-07\\n0.83 2.06734e-07\\n0.831 2.14919e-07\\n0.832 2.2246e-07\\n0.833 2.29357e-07\\n0.834 2.35605e-07\\n0.835 2.40539e-07\\n0.836 2.44818e-07\\n0.837 2.48442e-07\\n0.838 2.51406e-07\\n0.839 2.54377e-07\\n0.84 2.56685e-07\\n0.841 2.58998e-07\\n0.842 2.61317e-07\\n0.843 2.63639e-07\\n0.844 2.65967e-07\\n0.845 2.68299e-07\\n0.846 2.70637e-07\\n0.847 2.72979e-07\\n0.848 2.75325e-07\\n0.849 2.77677e-07\\n0.85 2.80033e-07\\n0.851 2.82394e-07\\n0.852 2.8476e-07\\n0.853 2.86452e-07\\n0.854 2.88826e-07\\n0.855 2.91206e-07\\n0.856 2.9359e-07\\n0.857 2.95979e-07\\n0.858 2.9769e-07\\n0.859 3.00087e-07\\n0.86 3.01806e-07\\n0.861 3.04212e-07\\n0.862 3.06623e-07\\n0.863 3.09039e-07\\n0.864 3.1146e-07\\n0.865 3.13885e-07\\n0.866 3.16316e-07\\n0.867 3.19441e-07\\n0.868 3.21881e-07\\n0.869 3.25018e-07\\n0.87 3.28162e-07\\n0.871 3.31311e-07\\n0.872 3.34467e-07\\n0.873 3.38324e-07\\n0.874 3.41494e-07\\n0.875 3.45366e-07\\n0.876 3.49246e-07\\n0.877 3.53135e-07\\n0.878 3.57031e-07\\n0.879 3.61634e-07\\n0.88 3.65547e-07\\n0.881 3.70169e-07\\n0.882 3.748e-07\\n0.883 3.79441e-07\\n0.884 3.83388e-07\\n0.885 3.88048e-07\\n0.886 3.92716e-07\\n0.887 3.97395e-07\\n0.888 4.01376e-07\\n0.889 4.06073e-07\\n0.89 4.10779e-07\\n0.891 4.14786e-07\\n0.892 4.1951e-07\\n0.893 4.23534e-07\\n0.894 4.28276e-07\\n0.895 4.32317e-07\\n0.896 4.37078e-07\\n0.897 4.41848e-07\\n0.898 4.45914e-07\\n0.899 4.50703e-07\\n0.9 4.55501e-07\\n0.901 4.6031e-07\\n0.902 4.65127e-07\\n0.903 4.70673e-07\\n0.904 4.7551e-07\\n0.905 4.81078e-07\\n0.906 4.86656e-07\\n0.907 4.92967e-07\\n0.908 4.99291e-07\\n0.909 5.06351e-07\\n0.91 5.13426e-07\\n0.911 5.20515e-07\\n0.912 5.29069e-07\\n0.913 5.38368e-07\\n0.914 5.47686e-07\\n0.915 5.58479e-07\\n0.916 5.70023e-07\\n0.917 5.92537e-07\\n0.918 6.06333e-07\\n0.919 6.22351e-07\\n0.92 6.38402e-07\\n0.921 6.57419e-07\\n0.922 6.80144e-07\\n0.923 7.02182e-07\\n0.924 7.27208e-07\\n0.925 7.50813e-07\\n0.926 7.81101e-07\\n0.927 8.11451e-07\\n0.928 8.49251e-07\\n0.929 8.79737e-07\\n0.93 9.17687e-07\\n0.931 9.63126e-07\\n0.932 1.00124e-06\\n0.933 1.04687e-06\\n0.934 1.08515e-06\\n0.935 1.1384e-06\\n0.936 1.1843e-06\\n0.937 1.23776e-06\\n0.938 1.29134e-06\\n0.939 1.34502e-06\\n0.94 1.40629e-06\\n0.941 1.4677e-06\\n0.942 1.52922e-06\\n0.943 1.59839e-06\\n0.944 1.66769e-06\\n0.945 1.74466e-06\\n0.946 1.82178e-06\\n0.947 1.9066e-06\\n0.948 1.99915e-06\\n0.949 2.09943e-06\\n0.95 2.20748e-06\\n0.951 2.32332e-06\\n0.952 2.44698e-06\\n0.953 2.57089e-06\\n0.954 2.69505e-06\\n0.955 2.81947e-06\\n0.956 2.94414e-06\\n0.957 3.05384e-06\\n0.958 3.15614e-06\\n0.959 3.24338e-06\\n0.96 3.31552e-06\\n0.961 3.38015e-06\\n0.962 3.4296e-06\\n0.963 3.47148e-06\\n0.964 3.50577e-06\\n0.965 3.54012e-06\\n0.966 3.55917e-06\\n0.967 3.58594e-06\\n0.968 3.60505e-06\\n0.969 3.6242e-06\\n0.97 3.64337e-06\\n0.971 3.65486e-06\\n0.972 3.66636e-06\\n0.973 3.67787e-06\\n0.974 3.6894e-06\\n0.975 3.69319e-06\\n0.976 3.69698e-06\\n0.977 3.70077e-06\\n0.978 3.69677e-06\\n0.979 3.69276e-06\\n0.98 3.68873e-06\\n0.981 3.67689e-06\\n0.982 3.67282e-06\\n0.983 3.65309e-06\\n0.984 3.64115e-06\\n0.985 3.62133e-06\\n0.986 3.60147e-06\\n0.987 3.58156e-06\\n0.988 3.5616e-06\\n0.989 3.53373e-06\\n0.99 3.51366e-06\\n0.991 3.48567e-06\\n0.992 3.45761e-06\\n0.993 3.42949e-06\\n0.994 3.4013e-06\\n0.995 3.36513e-06\\n0.996 3.32888e-06\\n0.997 3.30049e-06\\n0.998 3.26409e-06\\n0.999 3.22761e-06\\n1.000 3.19106e-06\\n1.001 3.15442e-06\\n1.002 3.1177e-06\\n1.003 3.08091e-06\\n1.004 3.04403e-06\\n1.005 3.00707e-06\\n1.006 2.96203e-06\\n1.007 2.92491e-06\\n1.008 2.87969e-06\\n1.009 2.8424e-06\\n1.01 2.79699e-06\\n1.011 2.75953e-06\\n1.012 2.71394e-06\\n1.013 2.66826e-06\\n1.014 2.63054e-06\\n1.015 2.58468e-06\\n1.016 2.53871e-06\\n1.017 2.50075e-06\\n1.018 2.4546e-06\\n1.019 2.40836e-06\\n1.02 2.37014e-06\\n1.021 2.32371e-06\\n1.022 2.28532e-06\\n1.023 2.23871e-06\\n1.024 2.20016e-06\\n1.025 2.16152e-06\\n1.026 2.12281e-06\\n1.027 2.07584e-06\\n1.028 2.03696e-06\\n1.029 1.998e-06\\n1.03 1.96716e-06\\n1.031 1.92804e-06\\n1.032 1.88885e-06\\n1.033 1.8578e-06\\n1.034 1.81846e-06\\n1.035 1.78727e-06\\n1.036 1.75602e-06\\n1.037 1.72471e-06\\n1.038 1.69333e-06\\n1.039 1.66189e-06\\n1.04 1.63038e-06\\n1.041 1.6071e-06\\n1.042 1.57547e-06\\n1.043 1.55209e-06\\n1.044 1.52865e-06\\n1.045 1.50517e-06\\n1.046 1.48164e-06\\n1.047 1.45806e-06\\n1.048 1.43443e-06\\n1.049 1.41076e-06\\n1.05 1.39539e-06\\n1.051 1.36327e-06\\n1.052 1.34782e-06\\n1.053 1.33234e-06\\n1.054 1.31683e-06\\n1.055 1.30129e-06\\n1.056 1.28572e-06\\n1.057 1.27852e-06\\n1.058 1.26289e-06\\n1.059 1.25566e-06\\n1.06 1.24841e-06\\n1.061 1.24115e-06\\n1.062 1.23386e-06\\n1.063 1.22657e-06\\n1.064 1.21925e-06\\n1.065 1.2204e-06\\n1.066 1.21306e-06\\n1.067 1.2142e-06\\n1.068 1.20684e-06\\n1.069 1.20797e-06\\n1.07 1.2091e-06\\n1.071 1.21023e-06\\n1.072 1.21136e-06\\n1.073 1.21249e-06\\n1.074 1.22217e-06\\n1.075 1.2233e-06\\n1.076 1.23301e-06\\n1.077 1.24272e-06\\n1.078 1.24388e-06\\n1.079 1.25362e-06\\n1.08 1.26337e-06\\n1.081 1.28175e-06\\n1.082 1.29154e-06\\n1.083 1.30135e-06\\n1.084 1.31981e-06\\n1.085 1.33829e-06\\n1.086 1.34817e-06\\n1.087 1.36671e-06\\n1.088 1.38528e-06\\n1.089 1.40389e-06\\n1.09 1.42253e-06\\n1.091 1.44988e-06\\n1.092 1.46859e-06\\n1.093 1.49602e-06\\n1.094 1.5148e-06\\n1.095 1.54233e-06\\n1.096 1.5699e-06\\n1.097 1.5888e-06\\n1.098 1.61646e-06\\n1.099 1.64417e-06\\n1.1 1.67192e-06\\n1.101 1.69973e-06\\n1.102 1.72758e-06\\n1.103 1.75548e-06\\n1.104 1.78343e-06\\n1.105 1.81142e-06\\n1.106 1.83947e-06\\n1.107 1.86756e-06\\n1.108 1.89569e-06\\n1.109 1.92388e-06\\n1.11 1.95211e-06\\n1.111 1.9804e-06\\n1.112 2.01758e-06\\n1.113 2.04596e-06\\n1.114 2.07439e-06\\n1.115 2.11175e-06\\n1.116 2.14028e-06\\n1.117 2.17776e-06\\n1.118 2.22419e-06\\n1.119 2.25289e-06\\n1.12 2.29947e-06\\n1.121 2.34613e-06\\n1.122 2.40179e-06\\n1.123 2.46649e-06\\n1.124 2.5313e-06\\n1.125 2.60517e-06\\n1.126 2.67917e-06\\n1.127 2.77123e-06\\n1.128 2.87243e-06\\n1.129 2.98279e-06\\n1.13 3.11132e-06\\n1.131 3.25808e-06\\n1.132 3.4141e-06\\n1.133 3.58842e-06\\n1.134 3.8984e-06\\n1.135 4.13668e-06\\n1.136 4.39344e-06\\n1.137 4.6597e-06\\n1.138 4.95359e-06\\n1.139 5.26611e-06\\n1.14 5.57918e-06\\n1.141 5.91094e-06\\n1.142 6.25237e-06\\n1.143 6.59439e-06\\n1.144 6.93699e-06\\n1.145 7.28018e-06\\n1.146 7.61485e-06\\n1.147 7.95008e-06\\n1.148 8.25849e-06\\n1.149 8.67714e-06\\n1.15 8.95923e-06\\n1.15 8.64808e-06\\n1.15125 8.95065e-06\\n1.1525 9.26302e-06\\n1.15375 9.45669e-06\\n1.155 9.65076e-06\\n1.15625 9.84523e-06\\n1.1575 1.00401e-05\\n1.15875 1.01431e-05\\n1.16 1.02464e-05\\n1.16125 1.04423e-05\\n1.1625 1.0546e-05\\n1.16375 1.05573e-05\\n1.165 1.06614e-05\\n1.16625 1.07656e-05\\n1.1675 1.07772e-05\\n1.16875 1.08817e-05\\n1.17 1.08934e-05\\n1.17125 1.09982e-05\\n1.1725 1.10099e-05\\n1.17375 1.11151e-05\\n1.175 1.11269e-05\\n1.17625 1.12324e-05\\n1.1775 1.12443e-05\\n1.17875 1.12562e-05\\n1.18 1.13621e-05\\n1.18125 1.13741e-05\\n1.1825 1.14802e-05\\n1.18375 1.14924e-05\\n1.185 1.15045e-05\\n1.18625 1.1611e-05\\n1.1875 1.16233e-05\\n1.18875 1.17301e-05\\n1.19 1.17425e-05\\n1.19125 1.18496e-05\\n1.1925 1.1862e-05\\n1.19375 1.19694e-05\\n1.195 1.1982e-05\\n1.19625 1.19945e-05\\n1.1975 1.2007e-05\\n1.19875 1.20196e-05\\n1.2 1.20321e-05\\n1.20125 1.20446e-05\\n1.2025 1.19615e-05\\n1.20375 1.19739e-05\\n1.205 1.19864e-05\\n1.20625 1.19988e-05\\n1.2075 1.20112e-05\\n1.20875 1.19275e-05\\n1.21 1.19398e-05\\n1.21125 1.19521e-05\\n1.2125 1.1868e-05\\n1.21375 1.18802e-05\\n1.215 1.18925e-05\\n1.21625 1.18079e-05\\n1.2175 1.182e-05\\n1.21875 1.18322e-05\\n1.22 1.18443e-05\\n1.22125 1.17593e-05\\n1.2225 1.17713e-05\\n1.22375 1.1686e-05\\n1.225 1.16979e-05\\n1.22625 1.16122e-05\\n1.2275 1.16241e-05\\n1.22875 1.16359e-05\\n1.23 1.15499e-05\\n1.23125 1.15616e-05\\n1.2325 1.15733e-05\\n1.23375 1.14869e-05\\n1.235 1.14985e-05\\n1.23625 1.14118e-05\\n1.2375 1.14233e-05\\n1.23875 1.13363e-05\\n1.24 1.13477e-05\\n1.24125 1.12604e-05\\n1.2425 1.12718e-05\\n1.24375 1.12831e-05\\n1.245 1.11954e-05\\n1.24625 1.12066e-05\\n1.2475 1.11186e-05\\n1.24875 1.11297e-05\\n1.25 1.10414e-05\\n1.25125 1.10524e-05\\n1.2525 1.10635e-05\\n1.25375 1.09747e-05\\n1.255 1.09857e-05\\n1.25625 1.09966e-05\\n1.2575 1.09075e-05\\n1.25875 1.09183e-05\\n1.26 1.09292e-05\\n1.26125 1.094e-05\\n1.2625 1.08504e-05\\n1.26375 1.09617e-05\\n1.265 1.08719e-05\\n1.26625 1.08826e-05\\n1.2675 1.08934e-05\\n1.26875 1.10051e-05\\n1.27 1.09148e-05\\n1.27125 1.10268e-05\\n1.2725 1.10376e-05\\n1.27375 1.10484e-05\\n1.275 1.10593e-05\\n1.27625 1.11717e-05\\n1.2775 1.11826e-05\\n1.27875 1.12953e-05\\n1.28 1.13064e-05\\n1.28125 1.14194e-05\\n1.2825 1.15326e-05\\n1.28375 1.1646e-05\\n1.285 1.16573e-05\\n1.28625 1.1771e-05\\n1.2875 1.18849e-05\\n1.28875 1.1999e-05\\n1.29 1.21133e-05\\n1.29125 1.24333e-05\\n1.2925 1.2651e-05\\n1.29375 1.27662e-05\\n1.295 1.29847e-05\\n1.29625 1.31003e-05\\n1.2975 1.33195e-05\\n1.29875 1.3539e-05\\n1.3 1.37589e-05\\n1.30125 1.39793e-05\\n1.3025 1.42e-05\\n1.30375 1.44211e-05\\n1.305 1.47465e-05\\n1.30625 1.49685e-05\\n1.3075 1.5295e-05\\n1.30875 1.56221e-05\\n1.31 1.59497e-05\\n1.31125 1.6278e-05\\n1.3125 1.66068e-05\\n1.31375 1.69363e-05\\n1.315 1.7371e-05\\n1.31625 1.78065e-05\\n1.3175 1.82427e-05\\n1.31875 1.86798e-05\\n1.32 1.91177e-05\\n1.32125 1.95564e-05\\n1.3225 2.01011e-05\\n1.32375 2.05414e-05\\n1.325 2.1088e-05\\n1.32625 2.16356e-05\\n1.3275 2.21842e-05\\n1.32875 2.27338e-05\\n1.33 2.33902e-05\\n1.33125 2.41538e-05\\n1.3325 2.48127e-05\\n1.33375 2.54727e-05\\n1.335 2.60278e-05\\n1.33625 2.66902e-05\\n1.3375 2.73538e-05\\n1.33875 2.80185e-05\\n1.34 2.85779e-05\\n1.34125 2.92449e-05\\n1.3425 2.99132e-05\\n1.34375 3.04757e-05\\n1.345 3.10392e-05\\n1.34625 3.17108e-05\\n1.3475 3.22764e-05\\n1.34875 3.2843e-05\\n1.35 3.34106e-05\\n1.35125 3.39792e-05\\n1.3525 3.45488e-05\\n1.35375 3.51193e-05\\n1.355 3.55831e-05\\n1.35625 3.62635e-05\\n1.3575 3.6729e-05\\n1.35875 3.73034e-05\\n1.36 3.78789e-05\\n1.36125 3.85636e-05\\n1.3625 3.9358e-05\\n1.36375 4.00453e-05\\n1.365 4.08423e-05\\n1.36625 4.18582e-05\\n1.3675 4.26583e-05\\n1.36875 4.37865e-05\\n1.37 4.50257e-05\\n1.37125 4.68127e-05\\n1.3725 4.82753e-05\\n1.37375 4.9959e-05\\n1.375 5.17552e-05\\n1.37625 5.38831e-05\\n1.3775 5.6234e-05\\n1.37875 5.86988e-05\\n1.38 6.14975e-05\\n1.38125 6.55102e-05\\n1.3825 6.942e-05\\n1.38375 7.38874e-05\\n1.385 7.86934e-05\\n1.38625 8.37285e-05\\n1.3875 8.93247e-05\\n1.38875 9.54834e-05\\n1.39 0.000101764\\n1.39125 0.000111819\\n1.3925 0.000118568\\n1.39375 0.000127548\\n1.395 0.000135433\\n1.39625 0.000144443\\n1.3975 0.000153469\\n1.39875 0.000162511\\n1.4 0.000170455\\n1.40125 0.000180643\\n1.4025 0.000189733\\n1.40375 0.000197721\\n1.405 0.000206842\\n1.40625 0.000214859\\n1.4075 0.000222891\\n1.40875 0.000229815\\n1.41 0.000236751\\n1.41125 0.000243699\\n1.4125 0.000249535\\n1.41375 0.000255381\\n1.415 0.000261237\\n1.41625 0.000265976\\n1.4175 0.000270723\\n1.41875 0.000275477\\n1.42 0.00028024\\n1.42125 0.000282749\\n1.4225 0.000286393\\n1.42375 0.000290044\\n1.425 0.000293701\\n1.42625 0.000296228\\n1.4275 0.00029876\\n1.42875 0.000301295\\n1.43 0.000303835\\n1.43125 0.000305239\\n1.4325 0.000307786\\n1.43375 0.000309195\\n1.435 0.000310607\\n1.43625 0.00031202\\n1.4375 0.000313436\\n1.43875 0.000314853\\n1.44 0.000315127\\n1.44125 0.000316547\\n1.4425 0.00031797\\n1.44375 0.000318245\\n1.445 0.000318521\\n1.44625 0.000319947\\n1.4475 0.000320224\\n1.44875 0.0003205\\n1.45 0.000320777\\n1.45125 0.000321053\\n1.4525 0.00032133\\n1.45375 0.000321606\\n1.455 0.000321883\\n1.45625 0.000322159\\n1.4575 0.000321276\\n1.45875 0.000321552\\n1.46 0.000321827\\n1.46125 0.000322103\\n1.4625 0.000322378\\n1.46375 0.000321489\\n1.465 0.000320598\\n1.46625 0.000319704\\n1.4675 0.000318809\\n1.46875 0.000317912\\n1.47 0.000317013\\n1.47125 0.000316112\\n1.4725 0.000315208\\n1.47375 0.00031313\\n1.475 0.000311048\\n1.47625 0.000308963\\n1.4775 0.000308048\\n1.47875 0.000305955\\n1.48 0.000303859\\n1.48125 0.000301758\\n1.4825 0.000298473\\n1.48375 0.000296363\\n1.485 0.000293068\\n1.48625 0.000290949\\n1.4875 0.000287643\\n1.48875 0.000285515\\n1.49 0.000282198\\n1.49125 0.000278874\\n1.4925 0.000276733\\n1.49375 0.000273398\\n1.495 0.000270058\\n1.49625 0.000266712\\n1.4975 0.00026336\\n1.49875 0.000260001\\n1.5 0.000256637\\n1.50125 0.000254462\\n1.5025 0.000251087\\n1.50375 0.000247706\\n1.505 0.000244319\\n1.50625 0.000240926\\n1.5075 0.000238726\\n1.50875 0.000234122\\n1.51 0.000231913\\n1.51125 0.000228497\\n1.5125 0.000225075\\n1.51375 0.000221647\\n1.515 0.000219419\\n1.51625 0.00021598\\n1.5175 0.000212536\\n1.51875 0.000210293\\n1.52 0.000206838\\n1.52125 0.000204587\\n1.5225 0.00020112\\n1.52375 0.00019886\\n1.525 0.000195383\\n1.52625 0.000193114\\n1.5275 0.000190841\\n1.52875 0.000187347\\n1.53 0.000185065\\n1.53125 0.00018278\\n1.5325 0.00018049\\n1.53375 0.000176975\\n1.535 0.000174677\\n1.53625 0.000172374\\n1.5375 0.000170067\\n1.53875 0.000168981\\n1.54 0.000166667\\n1.54125 0.000164349\\n1.5425 0.000162028\\n1.54375 0.000159702\\n1.545 0.000157372\\n1.54625 0.000155039\\n1.5475 0.000152701\\n1.54875 0.000151592\\n1.55 0.000149248\\n1.55125 0.000146899\\n1.5525 0.000145782\\n1.55375 0.000143426\\n1.555 0.000142304\\n1.55625 0.000139942\\n1.5575 0.000138815\\n1.55875 0.000136446\\n1.56 0.000135314\\n1.56125 0.000130452\\n1.5625 0.000129313\\n1.56375 0.000126928\\n1.565 0.000125784\\n1.56625 0.000124638\\n1.5675 0.00012349\\n1.56875 0.00012234\\n1.57 0.000121064\\n1.57125 0.000118159\\n1.5725 0.000117002\\n1.57375 0.000115842\\n1.575 0.000114806\\n1.57625 0.000113894\\n1.5775 0.000112729\\n1.57875 0.000111813\\n1.58 0.00011077\\n1.58125 0.000109851\\n1.5825 0.000108931\\n1.58375 0.000108008\\n1.585 0.000107085\\n1.58625 0.000106285\\n1.5875 0.000105359\\n1.58875 0.000104557\\n1.59 0.000103753\\n1.59125 0.000102948\\n1.5925 0.000102142\\n1.59375 0.000101461\\n1.595 0.000100652\\n1.59625 0.000100096\\n1.5975 9.92846e-05\\n1.59875 9.8599e-05\\n1.6 9.79121e-05\\n1.60125 9.72241e-05\\n1.6025 9.66624e-05\\n1.60375 9.5972e-05\\n1.605 9.54082e-05\\n1.60625 9.48434e-05\\n1.6075 9.42776e-05\\n1.60875 9.35828e-05\\n1.61 9.3143e-05\\n1.61125 9.25743e-05\\n1.6125 9.21328e-05\\n1.61375 9.14337e-05\\n1.615 9.1119e-05\\n1.61625 9.05464e-05\\n1.6175 9.01016e-05\\n1.61875 8.95271e-05\\n1.62 8.92095e-05\\n1.62125 8.86333e-05\\n1.6225 8.83143e-05\\n1.62375 8.77363e-05\\n1.625 8.74159e-05\\n1.62625 8.69654e-05\\n1.6275 8.66438e-05\\n1.62875 8.61919e-05\\n1.63 8.58689e-05\\n1.63125 8.55453e-05\\n1.6325 8.52211e-05\\n1.63375 8.47663e-05\\n1.635 8.4571e-05\\n1.63625 8.41148e-05\\n1.6375 8.37881e-05\\n1.63875 8.34609e-05\\n1.64 8.32635e-05\\n1.64125 8.29351e-05\\n1.6425 8.26062e-05\\n1.64375 8.24074e-05\\n1.645 8.19465e-05\\n1.64625 8.18778e-05\\n1.6475 8.15466e-05\\n1.64875 8.13461e-05\\n1.65 8.10138e-05\\n1.65125 8.09438e-05\\n1.6525 8.06106e-05\\n1.65375 8.054e-05\\n1.655 8.02057e-05\\n1.65625 8.01345e-05\\n1.6575 7.99312e-05\\n1.65875 7.98595e-05\\n1.66 7.95234e-05\\n1.66125 7.95832e-05\\n1.6625 7.93785e-05\\n1.66375 7.94382e-05\\n1.665 7.91004e-05\\n1.66625 7.92924e-05\\n1.6675 7.92192e-05\\n1.66875 7.91458e-05\\n1.67 7.89393e-05\\n1.67125 7.88654e-05\\n1.6725 7.89243e-05\\n1.67375 7.88501e-05\\n1.675 7.86424e-05\\n1.67625 7.87011e-05\\n1.6775 7.86263e-05\\n1.67875 7.85513e-05\\n1.68 7.83424e-05\\n1.68125 7.82669e-05\\n1.6825 7.83251e-05\\n1.68375 7.81153e-05\\n1.685 7.81733e-05\\n1.68625 7.80971e-05\\n1.6875 7.8155e-05\\n1.68875 7.80785e-05\\n1.69 7.80018e-05\\n1.69125 7.79249e-05\\n1.6925 7.78479e-05\\n1.69375 7.79053e-05\\n1.695 7.80977e-05\\n1.69625 7.99101e-05\\n1.6975 7.9969e-05\\n1.69875 8.00279e-05\\n1.7 8.00868e-05\\n1.70125 8.00103e-05\\n1.7025 8.00691e-05\\n1.70375 8.02634e-05\\n1.705 8.05937e-05\\n1.70625 8.07885e-05\\n1.7075 8.11195e-05\\n1.70875 8.10429e-05\\n1.71 8.11022e-05\\n1.71125 8.12976e-05\\n1.7125 8.1357e-05\\n1.71375 8.16892e-05\\n1.715 8.18852e-05\\n1.71625 8.22181e-05\\n1.7175 8.21413e-05\\n1.71875 8.2201e-05\\n1.72 8.23977e-05\\n1.72125 8.27315e-05\\n1.7225 8.30658e-05\\n1.72375 8.34004e-05\\n1.725 8.37354e-05\\n1.72625 8.37961e-05\\n1.7275 8.37193e-05\\n1.72875 8.4055e-05\\n1.73 8.42534e-05\\n1.73125 8.45899e-05\\n1.7325 8.47888e-05\\n1.73375 8.485e-05\\n1.735 8.50492e-05\\n1.73625 8.51105e-05\\n1.7375 8.54483e-05\\n1.73875 8.56481e-05\\n1.74 8.58482e-05\\n1.74125 8.54942e-05\\n1.7425 8.55555e-05\\n1.74375 8.53394e-05\\n1.745 8.54006e-05\\n1.74625 8.50448e-05\\n1.7475 8.49667e-05\\n1.74875 8.461e-05\\n1.75 8.43919e-05\\n',\n",
        "   'type': 'tabulated k'}],\n",
        " 'REFERENCES': 'S. Kedenburg, M. Vieweg, T. Gissibl, and H. Giessen. Linear refractive index and absorption measurements of nonlinear optical liquids in the visible and near-infrared spectral region, <a href=\"http://dx.doi.org/10.1364/OME.2.001588\"><i>Opt. Mat. Express</i> <b>2</b>, 1588-1611 (2012)</a>'}"
       ]
      }
     ],
     "prompt_number": 9
    },
    {
     "cell_type": "code",
     "collapsed": false,
     "input": [],
     "language": "python",
     "metadata": {},
     "outputs": []
    }
   ],
   "metadata": {}
  }
 ]
}