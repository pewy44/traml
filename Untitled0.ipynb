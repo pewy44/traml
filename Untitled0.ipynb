{
 "metadata": {
  "name": ""
 },
 "nbformat": 3,
 "nbformat_minor": 0,
 "worksheets": [
  {
   "cells": [
    {
     "cell_type": "code",
     "collapsed": false,
     "input": [
      "%matplotlib inline\n",
      "import db"
     ],
     "language": "python",
     "metadata": {},
     "outputs": [],
     "prompt_number": 1
    },
    {
     "cell_type": "code",
     "collapsed": false,
     "input": [
      "a = db.L()"
     ],
     "language": "python",
     "metadata": {},
     "outputs": [],
     "prompt_number": 2
    },
    {
     "cell_type": "code",
     "collapsed": false,
     "input": [
      "a.search('formula 1')"
     ],
     "language": "python",
     "metadata": {},
     "outputs": [
      {
       "output_type": "stream",
       "stream": "stdout",
       "text": [
        "|     ID | SHELF   | BOOK         | PAGE            | DESCRIPTION                    |\n",
        "|--------+---------+--------------+-----------------+--------------------------------|\n",
        "| 100301 | main    | MgAl2O4      | Tropf           | Tropf and Thomas 1991: n 0.35- |\n",
        "| 100601 | main    | AlAs         | Fern            | Fern and Onton 1971: n 0.56-2. |\n",
        "| 100701 | main    | GaAs         | Skauli          | Skauli et al. 2003: n 0.97-17  |\n",
        "| 100703 | main    | GaAs         | Kachare         | Kachare et al. 1976: n 1.4-11  |\n",
        "| 100802 | main    | InAs         | Lorimor         | Lorimor and Spitzer 1965: n 3. |\n",
        "| 102101 | main    | CsBr         | Li              | Li 1976: n 0.21-55 \u00b5m; 20 \u00b0C   |\n",
        "| 102102 | main    | CsBr         | Rodney          | Rodney and Spindler 1953: n 0. |\n",
        "| 102201 | main    | KBr          | Li              | Li 1976: n 0.20-42 \u00b5m          |\n",
        "| 102301 | main    | LiBr         | Li              | Li 1976: n 0.21-20 \u00b5m          |\n",
        "| 102401 | main    | NaBr         | Li              | Li 1976: n 0.21-34 \u00b5m          |\n",
        "| 102501 | main    | RbBr         | Li              | Li 1976: n 0.21-50 \u00b5m          |\n",
        "| 102601 | main    | TlBr         | Palik           | Palik 1985: n 0.57-39.4 \u00b5m     |\n",
        "| 102701 | main    | C            | Peter           | Peter 1923: Diamond; n 0.226-0 |\n",
        "| 103401 | main    | CsCl         | Li              | Li 1976: n 0.18-40 \u00b5m          |\n",
        "| 103601 | main    | KCl          | Li              | Li 1976: n 0.18-35 \u00b5m          |\n",
        "| 103701 | main    | LiCl         | Li              | Li 1976: n 0.17-16 \u00b5m          |\n",
        "| 103801 | main    | NaCl         | Li              | Li 1976: n 0.20-30 \u00b5m          |\n",
        "| 103901 | main    | RbCl         | Li              | Li 1976: n 0.18-40 \u00b5m          |\n",
        "| 104601 | main    | BaF2         | Li              | Li 1980: n 0.15-15.0 \u00b5m        |\n",
        "| 104602 | main    | BaF2         | Malitson        | Malitson 1964: n 0.2652-10.346 |\n",
        "| 104701 | main    | CaF2         | Li              | Li 1980: n 0.15-12.0 \u00b5m; 20 \u00b0C |\n",
        "| 104702 | main    | CaF2         | Malitson        | Malitson 1963: n 0.23-9.7 \u00b5m;  |\n",
        "| 104801 | main    | CsF          | Li              | Li 1976: n 0.15-30 \u00b5m          |\n",
        "| 104901 | main    | KF           | Li              | Li 1976: n 0.15-22 \u00b5m          |\n",
        "| 105001 | main    | LaF3         | Laihoa-o        | Laihoa and Lakkistoa 1983: n(o |\n",
        "| 105002 | main    | LaF3         | Laihoa-e        | Laihoa and Lakkistoa 1983: n(e |\n",
        "| 105101 | main    | LiF          | Li              | Li 1976: n 0.10-11 \u00b5m          |\n",
        "| 105301 | main    | NaF          | Li              | Li 1976: n 0.15-17 \u00b5m          |\n",
        "| 105401 | main    | MgF2         | Li-o            | Li 1980: n(o) 0.14-7.5 \u00b5m      |\n",
        "| 105402 | main    | MgF2         | Li-e            | Li 1980: n(e) 0.14-7.5 \u00b5m      |\n",
        "| 105403 | main    | MgF2         | Dodge-o         | Dodge 1984: n(o) 0.2-7.0 \u00b5m    |\n",
        "| 105404 | main    | MgF2         | Dodge-e         | Dodge 1984: n(e) 0.2-7.0 \u00b5m    |\n",
        "| 105501 | main    | PbF2         | Malitson        | Malitson and Dodge 1969: n 0.3 |\n",
        "| 105601 | main    | RbF          | Li              | Li 1976: n 0.15-25 \u00b5m          |\n",
        "| 105701 | main    | SrF2         | Li              | Li 1980: n 0.15-12.0 \u00b5m        |\n",
        "| 105702 | main    | SrF2         | Feldman         | Feldman et al. 1978: n 0.21-11 |\n",
        "| 106201 | main    | Bi4Ge3O12    | Williams        | Williams et al. 1996: n 0.305- |\n",
        "| 107101 | main    | CsI          | Li              | Li 1976: n 0.25-67 \u00b5m; 20 \u00b0C   |\n",
        "| 107102 | main    | CsI          | Rodney          | Rodney 1955: 0.2967-50 \u00b5m; 24  |\n",
        "| 107201 | main    | KI           | Li              | Li 1976: n 0.25-50 \u00b5m          |\n",
        "| 107301 | main    | LiI          | Li              | Li 1976: n 0.25-25 \u00b5m          |\n",
        "| 107401 | main    | NaI          | Li              | Li 1976: n 0.25-40 \u00b5m          |\n",
        "| 107501 | main    | RbI          | Li              | Li 1976: n 0.24-64 \u00b5m          |\n",
        "| 108501 | main    | CaMoO4       | Bond-o          | Bond 1965: n(o) 0.45-3.8 \u00b5m    |\n",
        "| 108502 | main    | CaMoO4       | Bond-e          | Bond 1965: n(e) 0.45-3.8 \u00b5m    |\n",
        "| 108601 | main    | PbMoO4       | Malitson-o      | Malitson 1978: n(o) 0.44-1.08  |\n",
        "| 108602 | main    | PbMoO4       | Malitson-e      | Malitson 1978: n(e) 0.44-1.08  |\n",
        "| 108701 | main    | SrMoO4       | Bond-o          | Bond 1965: n(o) 0.45-2.4 \u00b5m    |\n",
        "| 108702 | main    | SrMoO4       | Bond-e          | Bond 1965: n(e) 0.45-2.4 \u00b5m    |\n",
        "| 108901 | main    | AlN          | Pastrnak-o      | Pastr\u0148\u00e1k and Roskovcov\u00e1 1966:  |\n",
        "| 108902 | main    | AlN          | Pastrnak-e      | Pastr\u0148\u00e1k and Roskovcov\u00e1 1966:  |\n",
        "| 109001 | main    | GaN          | Barker-o        | Barker and Ilegems 1973: n(o)  |\n",
        "| 109002 | main    | GaN          | Barker-e        | Barker and Ilegems 1973: n(e)  |\n",
        "| 109201 | main    | Si3N4        | Philipp         | Philipp 1973: n 0.207-1.24 \u00b5m  |\n",
        "| 110101 | main    | Al2O3        | Malitson-o      | Malitson and Dodge 1972: Synth |\n",
        "| 110102 | main    | Al2O3        | Malitson-e      | Malitson and Dodge 1972: Synth |\n",
        "| 110104 | main    | Al2O3        | Malitson        | Malitson 1962: Synthetic sapph |\n",
        "| 110201 | main    | BeO          | Edwards-o       | Edwards and White 1991: n(o) 0 |\n",
        "| 110202 | main    | BeO          | Edwards-e       | Edwards and White 1991: n(e) 0 |\n",
        "| 110501 | main    | GeO2         | Fleming         | Fleming 1984: Fused germania;  |\n",
        "| 110701 | main    | HfO2         | Wood            | Wood et al. 1990: Cubic hafnia |\n",
        "| 111401 | main    | SiO2         | Malitson        | Malitson 1965: Fused silica; n |\n",
        "| 111404 | main    | SiO2         | Radhakrishnan-o | Radhakrishnan 1951: \u03b1-Quartz;  |\n",
        "| 111405 | main    | SiO2         | Radhakrishnan-e | Radhakrishnan 1951: \u03b1-Quartz;  |\n",
        "| 111601 | main    | TeO2         | Uchida-o        | Uchida 1971: \u03b1-TeO<sub>2</sub> |\n",
        "| 111602 | main    | TeO2         | Uchida-e        | Uchida 1971: \u03b1-TeO<sub>2</sub> |\n",
        "| 111801 | main    | Y2O3         | Nigara          | Nigara 1968: n 0.25-9.6 \u00b5m     |\n",
        "| 112101 | main    | ZrO2         | Wood            | Wood and Nassau 1982: Cubic zi |\n",
        "| 112502 | main    | InP          | Pettit          | Pettit and Turner 1965: n 0.95 |\n",
        "| 114601 | main    | PbS          | Zemel           | Zemel et al. 1965: n 3.5-10 \u00b5m |\n",
        "| 115501 | main    | PbSe         | Zemel           | Zemel et al. 1965: 5-10 \u00b5m     |\n",
        "| 115601 | main    | ZnSe         | Connolly        | Connolly et al. 1979: n 0.54-1 |\n",
        "| 115801 | main    | Tl3AsSe3     | Ewbank-o        | Ewbank et al. 1980: n(o) 2-12  |\n",
        "| 115802 | main    | Tl3AsSe3     | Ewbank-e        | Ewbank et al. 1980: n(e) 2-12  |\n",
        "| 115903 | main    | Si           | Salzberg        | Salzberg and Villa 1957: n 1.3 |\n",
        "| 116001 | main    | Bi12SiO20    | Gospodinov      | Gospodinov et al. 1988: n 0.48 |\n",
        "| 116401 | main    | KTaO3        | Fujii           | Fujii and Sakudo 1976: n 0.4-1 |\n",
        "| 117001 | main    | BaTiO3       | Wemple-o        | Wemple et al. 1968: n(o) 0.4-0 |\n",
        "| 117002 | main    | BaTiO3       | Wemple-e        | Wemple et al. 1968: n(e) 0.4-0 |\n",
        "| 117301 | main    | SrTiO3       | Dodge           | Dodge 1986: n 0.43-3.8 \u00b5m      |\n",
        "| 117801 | main    | CaWO4        | Bond-o          | Bond 1965: n(o) 0.45-4.0 \u00b5m    |\n",
        "| 117802 | main    | CaWO4        | Bond-e          | Bond 1965: n(e) 0.45-4.0 \u00b5m    |\n",
        "| 300901 | glass   | fused_silica | Malitson        | Malitson 1965: n 0.21-3.71 \u00b5m  |\n",
        "| 301802 | glass   | AMTIR        | AMTIR-2         | AMTIR-2                        |\n",
        "| 301803 | glass   | AMTIR        | AMTIR-3         | AMTIR-3 (out of production)    |\n",
        "| 301901 | glass   | VITRON-IG    | IG2             | IG 2                           |\n",
        "| 301902 | glass   | VITRON-IG    | IG3             | IG 3                           |\n",
        "| 301903 | glass   | VITRON-IG    | IG4             | IG 4                           |\n",
        "| 301904 | glass   | VITRON-IG    | IG5             | IG 5                           |\n",
        "| 301905 | glass   | VITRON-IG    | IG6             | IG 6                           |\n",
        "| 302002 | glass   | SCHOTT-IRG   | IRG23           | IRG 23                         |\n",
        "| 302003 | glass   | SCHOTT-IRG   | IRG24           | IRG 24                         |\n",
        "| 302004 | glass   | SCHOTT-IRG   | IRG25           | IRG 25                         |\n",
        "| 302005 | glass   | SCHOTT-IRG   | IRG26           | IRG 26                         |\n",
        "| 400501 | other   | AlON         | Hartnett-6.69   | Hartnett et al. 1998: 6.69 at. |\n",
        "| 400701 | other   | HfO2-Y2O3    | Wood            | Wood et al. 1990: n 0.36-5.0 \u00b5 |\n",
        "| 401101 | other   | ZrO2-Y2O3    | Wood            | Wood and Nassau 1982: 12 mol % |\n",
        "| 500304 | 3d      | crystals     | quartz          | Quartz (SiO2)                  |\n",
        "| 500305 | 3d      | crystals     | salt            | Salt (NaCl)                    |\n"
       ]
      }
     ],
     "prompt_number": 3
    },
    {
     "cell_type": "code",
     "collapsed": false,
     "input": [
      "a.plot(300901)"
     ],
     "language": "python",
     "metadata": {},
     "outputs": [
      {
       "metadata": {},
       "output_type": "display_data",
       "png": "[encoded data removed]",
       "text": [
        "<matplotlib.figure.Figure at 0x7fc5581c9790>"
       ]
      }
     ],
     "prompt_number": 7
    },
    {
     "cell_type": "code",
     "collapsed": false,
     "input": [],
     "language": "python",
     "metadata": {},
     "outputs": []
    }
   ],
   "metadata": {}
  }
 ]
}