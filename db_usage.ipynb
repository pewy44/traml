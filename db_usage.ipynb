{
 "cells": [
  {
   "cell_type": "markdown",
   "metadata": {},
   "source": [
    "# OpitcDB Library Script"
   ]
  },
  {
   "cell_type": "code",
   "execution_count": 2,
   "metadata": {
    "collapsed": false
   },
   "outputs": [],
   "source": [
    "import db"
   ]
  },
  {
   "cell_type": "code",
   "execution_count": 3,
   "metadata": {
    "collapsed": false
   },
   "outputs": [
    {
     "name": "stdout",
     "output_type": "stream",
     "text": [
      "| SHELF   | DESCRIPTION                       |\n",
      "|---------+-----------------------------------|\n",
      "| main    | MAIN - simple inorganic materials |\n",
      "| organic | ORGANIC - organic materials       |\n",
      "| glass   | GLASS - glasses                   |\n",
      "| other   | OTHER - miscellaneous materials   |\n",
      "| 3d      | 3D - selected data for 3D artists |\n"
     ]
    }
   ],
   "source": [
    "library = db.Library()\n",
    "library.shelves()"
   ]
  },
  {
   "cell_type": "code",
   "execution_count": 3,
   "metadata": {
    "collapsed": false
   },
   "outputs": [
    {
     "name": "stdout",
     "output_type": "stream",
     "text": [
      "| BOOK                         | DESCRIPTION                                                                             |\n",
      "|------------------------------+-----------------------------------------------------------------------------------------|\n",
      "| methane                      | CH<sub>4</sub> (Methane)                                                                |\n",
      "| pentane                      | C<sub>5</sub>H<sub>12</sub> (Pentane)                                                   |\n",
      "| octane                       | C<sub>8</sub>H<sub>18</sub> (Octane)                                                    |\n",
      "| methanol                     | CH<sub>3</sub>OH (Methanol)                                                             |\n",
      "| ethanol                      | C<sub>2</sub>H<sub>5</sub>OH (Ethanol)                                                  |\n",
      "| propanol                     | C<sub>3</sub>H<sub>7</sub>OH (Propanol)                                                 |\n",
      "| butanol                      | C<sub>4</sub>H<sub>9</sub>OH (Butanol)                                                  |\n",
      "| pentanol                     | C<sub>5</sub>H<sub>11</sub>OH (Pentanol, amyl alcohol)                                  |\n",
      "| ethylene_glycol              | C<sub>2</sub>H<sub>4</sub>(OH)<sub>2</sub> (Ethylene glycol)                            |\n",
      "| propylene_glycol             | C<sub>3</sub>H<sub>6</sub>(OH)<sub>2</sub> (Propylene glycol)                           |\n",
      "| glycerol                     | C<sub>3</sub>H<sub>5</sub>(OH)<sub>3</sub> (Glycerol)                                   |\n",
      "| methyl_salicylate            | C<sub>8</sub>H<sub>8</sub>O<sub>3</sub> (Methyl salicylate)                             |\n",
      "| ethyl_salicylate             | C<sub>9</sub>H<sub>10</sub>O<sub>3</sub> (Ethyl salicylate)                             |\n",
      "| cyclohexane                  | C<sub>6</sub>H<sub>12</sub> (Cyclohexane)                                               |\n",
      "| benzene                      | C<sub>6</sub>H<sub>6</sub> (Benzene)                                                    |\n",
      "| styrene                      | C<sub>8</sub>H<sub>8</sub> (Styrene)                                                    |\n",
      "| toluene                      | C<sub>7</sub>H<sub>8</sub> (Toluene)                                                    |\n",
      "| nitrobenzene                 | C<sub>6</sub>H<sub>5</sub>NO<sub>2</sub> (Nitrobenzene)                                 |\n",
      "| dioxane                      | C<sub>4</sub>H<sub>8</sub>O<sub>2</sub> (Dioxane)                                       |\n",
      "| acetic_acid                  | C<sub>2</sub>H<sub>4</sub>O<sub>2</sub> (Acetic acid)                                   |\n",
      "| pentanediol                  | C<sub>5</sub>H<sub>12</sub>O<sub>2</sub> (Pentanediol)                                  |\n",
      "| acetone                      | C<sub>3</sub>H<sub>6</sub>O (Acetone)                                                   |\n",
      "| bromoform                    | CHBr<sub>3</sub> (Bromoform)                                                            |\n",
      "| chloroform                   | CHCl<sub>3</sub> (Chloroform)                                                           |\n",
      "| carbon_tetrachloride         | CCl<sub>4</sub> (Carbon tetrachloride)                                                  |\n",
      "| acetonitrile                 | C<sub>2</sub>H<sub>3</sub>N (Acetonitrile)                                              |\n",
      "| cinnamaldehyde               | C<sub>9</sub>H<sub>8</sub>O (Cinnamaldehyde)                                            |\n",
      "| potassium_hydrogen_phthalate | C<sub>8</sub>H<sub>5</sub>KO<sub>4</sub> (Potassium hydrogen phthalate, KHP)            |\n",
      "| urea                         | CH<sub>4</sub>N<sub>2</sub>O (Urea)                                                     |\n",
      "| poly(methyl_methacrylate)    | (C<sub>5</sub>O<sub>2</sub>H<sub>8</sub>)<sub>n</sub> (Poly(methyl methacrylate), PMMA) |\n",
      "| polyvinylpyrrolidone         | (C<sub>6</sub>H<sub>9</sub>NO)<sub>n</sub> (Polyvinylpyrrolidone, PVP)                  |\n",
      "| cellulose                    | (C<sub>6</sub>H<sub>10</sub>O<sub>5</sub>)<sub>n</sub> (Cellulose)                      |\n",
      "| polystyren                   | (C<sub>8</sub>H<sub>8</sub>)<sub>n</sub> (Polystyrene, PS)                              |\n",
      "| polycarbonate                | (C<sub>16</sub>H<sub>14</sub>O<sub>3</sub>)<sub>n</sub> (Polycarbonate, PC)             |\n"
     ]
    }
   ],
   "source": [
    "library.shelf('organic')"
   ]
  },
  {
   "cell_type": "code",
   "execution_count": 4,
   "metadata": {
    "collapsed": false
   },
   "outputs": [
    {
     "name": "stdout",
     "output_type": "stream",
     "text": [
      "| PAGE        | DESCRIPTION                                   |\n",
      "|-------------+-----------------------------------------------|\n",
      "| Rakic       | Rakić 1998: n,k 0.2066-12.40 µm               |\n",
      "| McPeak      | McPeak et al. 2015: Thin film; n,k 0.3-1.7 µm |\n",
      "| Stahrenberg | Stahrenberg et al. 2001: n,k 0.128-0.496 µm   |\n",
      "| Babar       | Babar and Weaver 2015: n,k 0.2066-12.40 µm    |\n",
      "| Ordal       | Ordal et al. 1985: n,k 0.517-55.6 µm          |\n",
      "| Hagemann    | Hagemann et al. 1974: n,k 0.0000248-248 µm    |\n",
      "| Johnson     | Johnson and Christy 1972: n,k 0.188-1.937 µm  |\n",
      "| Brimhall    | Brimhall et al. 2009: n,k 0.010-0.035 µm      |\n"
     ]
    }
   ],
   "source": [
    "library.book('Cu')"
   ]
  },
  {
   "cell_type": "code",
   "execution_count": null,
   "metadata": {
    "collapsed": false
   },
   "outputs": [],
   "source": []
  }
 ],
 "metadata": {
  "kernelspec": {
   "display_name": "Python 2",
   "language": "python",
   "name": "python2"
  },
  "language_info": {
   "codemirror_mode": {
    "name": "ipython",
    "version": 2
   },
   "file_extension": ".py",
   "mimetype": "text/x-python",
   "name": "python",
   "nbconvert_exporter": "python",
   "pygments_lexer": "ipython2",
   "version": "2.7.6"
  }
 },
 "nbformat": 4,
 "nbformat_minor": 0
}
