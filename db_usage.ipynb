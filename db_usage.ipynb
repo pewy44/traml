{
 "cells": [
  {
   "cell_type": "markdown",
   "metadata": {},
   "source": [
    "# OpitcDB Library Script"
   ]
  },
  {
   "cell_type": "code",
   "execution_count": 1,
   "metadata": {
    "collapsed": false
   },
   "outputs": [],
   "source": [
    "import db"
   ]
  },
  {
   "cell_type": "code",
   "execution_count": 2,
   "metadata": {
    "collapsed": false
   },
   "outputs": [
    {
     "name": "stdout",
     "output_type": "stream",
     "text": [
      "| SHELF   | DESCRIPTION                       |\n",
      "|---------+-----------------------------------|\n",
      "| main    | MAIN - simple inorganic materials |\n",
      "| organic | ORGANIC - organic materials       |\n",
      "| glass   | GLASS - glasses                   |\n",
      "| other   | OTHER - miscellaneous materials   |\n",
      "| 3d      | 3D - selected data for 3D artists |\n"
     ]
    }
   ],
   "source": [
    "library = db.L()\n",
    "library.shelves()"
   ]
  },
  {
   "cell_type": "code",
   "execution_count": 3,
   "metadata": {
    "collapsed": false
   },
   "outputs": [
    {
     "name": "stdout",
     "output_type": "stream",
     "text": [
      "| ID   | BOOK                         | DESCRIPTION                                        |\n",
      "|------+------------------------------+----------------------------------------------------|\n",
      "| 3/1  | methane                      | CH<sub>4</sub> (Methane)                           |\n",
      "| 3/2  | pentane                      | C<sub>5</sub>H<sub>12</sub> (Pentane)              |\n",
      "| 3/3  | octane                       | C<sub>8</sub>H<sub>18</sub> (Octane)               |\n",
      "| 3/4  | methanol                     | CH<sub>3</sub>OH (Methanol)                        |\n",
      "| 3/5  | ethanol                      | C<sub>2</sub>H<sub>5</sub>OH (Ethanol)             |\n",
      "| 3/6  | propanol                     | C<sub>3</sub>H<sub>7</sub>OH (Propanol)            |\n",
      "| 3/7  | butanol                      | C<sub>4</sub>H<sub>9</sub>OH (Butanol)             |\n",
      "| 3/8  | pentanol                     | C<sub>5</sub>H<sub>11</sub>OH (Pentanol, amyl alco |\n",
      "| 3/9  | ethylene_glycol              | C<sub>2</sub>H<sub>4</sub>(OH)<sub>2</sub> (Ethyle |\n",
      "| 3/10 | propylene_glycol             | C<sub>3</sub>H<sub>6</sub>(OH)<sub>2</sub> (Propyl |\n",
      "| 3/11 | glycerol                     | C<sub>3</sub>H<sub>5</sub>(OH)<sub>3</sub> (Glycer |\n",
      "| 3/12 | methyl_salicylate            | C<sub>8</sub>H<sub>8</sub>O<sub>3</sub> (Methyl sa |\n",
      "| 3/13 | ethyl_salicylate             | C<sub>9</sub>H<sub>10</sub>O<sub>3</sub> (Ethyl sa |\n",
      "| 3/14 | cyclohexane                  | C<sub>6</sub>H<sub>12</sub> (Cyclohexane)          |\n",
      "| 3/15 | benzene                      | C<sub>6</sub>H<sub>6</sub> (Benzene)               |\n",
      "| 3/16 | styrene                      | C<sub>8</sub>H<sub>8</sub> (Styrene)               |\n",
      "| 3/17 | toluene                      | C<sub>7</sub>H<sub>8</sub> (Toluene)               |\n",
      "| 3/18 | nitrobenzene                 | C<sub>6</sub>H<sub>5</sub>NO<sub>2</sub> (Nitroben |\n",
      "| 3/19 | dioxane                      | C<sub>4</sub>H<sub>8</sub>O<sub>2</sub> (Dioxane)  |\n",
      "| 3/20 | acetic_acid                  | C<sub>2</sub>H<sub>4</sub>O<sub>2</sub> (Acetic ac |\n",
      "| 3/21 | pentanediol                  | C<sub>5</sub>H<sub>12</sub>O<sub>2</sub> (Pentaned |\n",
      "| 3/22 | acetone                      | C<sub>3</sub>H<sub>6</sub>O (Acetone)              |\n",
      "| 3/23 | bromoform                    | CHBr<sub>3</sub> (Bromoform)                       |\n",
      "| 3/24 | chloroform                   | CHCl<sub>3</sub> (Chloroform)                      |\n",
      "| 3/25 | carbon_tetrachloride         | CCl<sub>4</sub> (Carbon tetrachloride)             |\n",
      "| 3/26 | acetonitrile                 | C<sub>2</sub>H<sub>3</sub>N (Acetonitrile)         |\n",
      "| 3/27 | cinnamaldehyde               | C<sub>9</sub>H<sub>8</sub>O (Cinnamaldehyde)       |\n",
      "| 3/28 | potassium_hydrogen_phthalate | C<sub>8</sub>H<sub>5</sub>KO<sub>4</sub> (Potassiu |\n",
      "| 3/29 | urea                         | CH<sub>4</sub>N<sub>2</sub>O (Urea)                |\n",
      "| 3/30 | poly(methyl_methacrylate)    | (C<sub>5</sub>O<sub>2</sub>H<sub>8</sub>)<sub>n</s |\n",
      "| 3/31 | polyvinylpyrrolidone         | (C<sub>6</sub>H<sub>9</sub>NO)<sub>n</sub> (Polyvi |\n",
      "| 3/32 | cellulose                    | (C<sub>6</sub>H<sub>10</sub>O<sub>5</sub>)<sub>n</ |\n",
      "| 3/33 | polystyren                   | (C<sub>8</sub>H<sub>8</sub>)<sub>n</sub> (Polystyr |\n",
      "| 3/34 | polycarbonate                | (C<sub>16</sub>H<sub>14</sub>O<sub>3</sub>)<sub>n< |\n"
     ]
    }
   ],
   "source": [
    "library.shelf('organic')"
   ]
  },
  {
   "cell_type": "code",
   "execution_count": 4,
   "metadata": {
    "collapsed": false
   },
   "outputs": [
    {
     "name": "stdout",
     "output_type": "stream",
     "text": [
      "| ID     | PAGE        | DESCRIPTION                                   |\n",
      "|--------+-------------+-----------------------------------------------|\n",
      "| 1/43/1 | Rakic       | Rakić 1998: n,k 0.2066-12.40 µm               |\n",
      "| 1/43/2 | McPeak      | McPeak et al. 2015: Thin film; n,k 0.3-1.7 µm |\n",
      "| 1/43/3 | Stahrenberg | Stahrenberg et al. 2001: n,k 0.128-0.496 µm   |\n",
      "| 1/43/4 | Babar       | Babar and Weaver 2015: n,k 0.2066-12.40 µm    |\n",
      "| 1/43/5 | Ordal       | Ordal et al. 1985: n,k 0.517-55.6 µm          |\n",
      "| 1/43/6 | Hagemann    | Hagemann et al. 1974: n,k 0.0000248-248 µm    |\n",
      "| 1/43/7 | Johnson     | Johnson and Christy 1972: n,k 0.188-1.937 µm  |\n",
      "| 1/43/8 | Brimhall    | Brimhall et al. 2009: n,k 0.010-0.035 µm      |\n"
     ]
    }
   ],
   "source": [
    "library.book('Cu')"
   ]
  },
  {
   "cell_type": "code",
   "execution_count": 5,
   "metadata": {
    "collapsed": false
   },
   "outputs": [
    {
     "name": "stdout",
     "output_type": "stream",
     "text": [
      "other/perovskite/CH3NH3PbI3/Leguy.yml\n",
      "A. M. A. Leguy, Y. Hu, M. Campoy-Quiles, M. I. Alonso, O. J. Weber, P. Azarhoosh, M. van Schilfgaarde, M. T. Weller, T Bein, J. Nelson, P. Docampo, and P. R. F. Barnes. Reversible hydration of CH<sub>3</sub>NH<sub>3</sub>PbI<sub>3</sub> in films, single crystals, and solar cells, <a href=\"http://dx.doi.org/10.1021/acs.chemmater.5b00660\"><i>Chem. Matter.</i> <b>27</b>, 3397-3407 (2015)</a>\n",
      "Single crystal CH<sub>3</sub>NH<sub>3</sub>PbI<sub>3</sub>; orientation unknown; room temperature; critical point model used for fit, 249 nm - 789 nm - fit not reliable for sub-bandgap region - see reference\n"
     ]
    }
   ],
   "source": [
    "library.page('Leguy')"
   ]
  },
  {
   "cell_type": "code",
   "execution_count": null,
   "metadata": {
    "collapsed": true
   },
   "outputs": [],
   "source": []
  }
 ],
 "metadata": {
  "kernelspec": {
   "display_name": "Python 2",
   "language": "python",
   "name": "python2"
  },
  "language_info": {
   "codemirror_mode": {
    "name": "ipython",
    "version": 2
   },
   "file_extension": ".py",
   "mimetype": "text/x-python",
   "name": "python",
   "nbconvert_exporter": "python",
   "pygments_lexer": "ipython2",
   "version": "2.7.6"
  }
 },
 "nbformat": 4,
 "nbformat_minor": 0
}
