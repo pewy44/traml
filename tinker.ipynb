{
 "metadata": {
  "name": ""
 },
 "nbformat": 3,
 "nbformat_minor": 0,
 "worksheets": [
  {
   "cells": [
    {
     "cell_type": "code",
     "collapsed": false,
     "input": [
      "%matplotlib inline\n",
      "import db\n",
      "import traml"
     ],
     "language": "python",
     "metadata": {},
     "outputs": [],
     "prompt_number": 2
    },
    {
     "cell_type": "code",
     "collapsed": false,
     "input": [
      "a = traml.Stack()"
     ],
     "language": "python",
     "metadata": {},
     "outputs": [
      {
       "output_type": "stream",
       "stream": "stdout",
       "text": [
        "|   # | Material   | Thickness (nm)   | Type      |\n",
        "|-----+------------+------------------+-----------|\n",
        "|   0 | OW         | --               | substrate |\n",
        "|   1 | ITO        | 100              | passive   |\n",
        "|   # | Material   | Thickness (nm)   | Type      |\n",
        "|-----+------------+------------------+-----------|\n",
        "|   0 | OW         | --               | substrate |\n",
        "|   1 | ITO        | 100              | passive   |\n",
        "|   2 | CdTe       | 500              | absorber  |\n"
       ]
      }
     ],
     "prompt_number": 3
    },
    {
     "cell_type": "code",
     "collapsed": false,
     "input": [
      "a.library.data('301005')"
     ],
     "language": "python",
     "metadata": {},
     "outputs": [
      {
       "output_type": "stream",
       "stream": "stdout",
       "text": [
        "106\n"
       ]
      },
      {
       "metadata": {},
       "output_type": "pyout",
       "prompt_number": 4,
       "text": [
        "'done'"
       ]
      }
     ],
     "prompt_number": 4
    },
    {
     "cell_type": "code",
     "collapsed": false,
     "input": [
      "a.library.search('Si')"
     ],
     "language": "python",
     "metadata": {},
     "outputs": [
      {
       "output_type": "stream",
       "stream": "stdout",
       "text": [
        "|     ID | SHELF   | BOOK                         | PAGE              | DESCRIPTION                    |\n",
        "|--------+---------+------------------------------+-------------------+--------------------------------|\n",
        "| 101001 | main    | ZnSiAs2                      | Boyd-o            | Boyd et al. 1972: n(o) 0.7-11. |\n",
        "| 101002 | main    | ZnSiAs2                      | Boyd-e            | Boyd et al. 1972: n(e) 0.7-11. |\n",
        "| 102706 | main    | C                            | Djurisic-o        | Djuri\u0161i\u0107 and Li 1999: Graphite |\n",
        "| 102707 | main    | C                            | Djurisic-e        | Djuri\u0161i\u0107 and Li 1999: Graphite |\n",
        "| 103001 | main    | SiC                          | Singh-o           | Singh et al. 1971: \u03b1-SiC; n(o) |\n",
        "| 103002 | main    | SiC                          | Singh-e           | Singh et al. 1971: \u03b1-SiC; n(e) |\n",
        "| 103003 | main    | SiC                          | Shaffer           | Shaffer 1971: \u03b2-SiC; n 0.467-0 |\n",
        "| 103004 | main    | SiC                          | Larruquert        | Larruquert et al. 2011: Thin f |\n",
        "| 106301 | main    | Bi12GeO20                    | Simon             | Simon et al. 1997: n 0.45-0.70 |\n",
        "| 106401 | main    | Pb5Ge3O11                    | Simon-o           | Simon et al. 1997: n(o) 0.45-0 |\n",
        "| 106402 | main    | Pb5Ge3O11                    | Simon-e           | Simon et al. 1997: n(e) 0.45-0 |\n",
        "| 107101 | main    | CsI                          | Li                | Li 1976: n 0.25-67 \u00b5m; 20 \u00b0C   |\n",
        "| 107102 | main    | CsI                          | Rodney            | Rodney 1955: 0.2967-50 \u00b5m; 24  |\n",
        "| 108001 | main    | Li                           | Rasigni           | Rasigni and Rasigni 1977: n,k  |\n",
        "| 108202 | main    | Mg                           | Vidal-Dasilva     | Vidal-Dasilva et al. 2010: n,k |\n",
        "| 109201 | main    | Si3N4                        | Philipp           | Philipp 1973: n 0.207-1.24 \u00b5m  |\n",
        "| 109202 | main    | Si3N4                        | Kischkat          | Kischkat et al. 2012: Thin fil |\n",
        "| 111301 | main    | SiO                          | Hass              | Hass and Salzberg 1954: n,k 0. |\n",
        "| 111302 | main    | SiO                          | Fernandez-Perea   | Fernandez-Perea et al. 2009: n |\n",
        "| 111401 | main    | SiO2                         | Malitson          | Malitson 1965: Fused silica; n |\n",
        "| 111402 | main    | SiO2                         | Ghosh-o           | Ghosh 1999: \u03b1-Quartz, n(o) 0.1 |\n",
        "| 111403 | main    | SiO2                         | Ghosh-e           | Ghosh 1999: \u03b1-Quartz, n(e) 0.1 |\n",
        "| 111404 | main    | SiO2                         | Radhakrishnan-o   | Radhakrishnan 1951: \u03b1-Quartz;  |\n",
        "| 111405 | main    | SiO2                         | Radhakrishnan-e   | Radhakrishnan 1951: \u03b1-Quartz;  |\n",
        "| 111406 | main    | SiO2                         | Kischkat          | Kischkat et al. 2012: Thin fil |\n",
        "| 111407 | main    | SiO2                         | Gao               | Gao et al. 2013: Thin film; n, |\n",
        "| 111408 | main    | SiO2                         | Lemarchand        | Lemarchand 2013: Thin film; n, |\n",
        "| 115301 | main    | CdSe                         | Lisitsa-o         | Lisitsa et al. 1969: n(o) 1.01 |\n",
        "| 115302 | main    | CdSe                         | Lisitsa-e         | Lisitsa et al. 1969: n(e) 1.01 |\n",
        "| 115901 | main    | Si                           | Chandler-Horowitz | Chandler-Horowitz and Amirthar |\n",
        "| 115902 | main    | Si                           | Edwards           | Edwards and Ochoa 1980: n 2.5- |\n",
        "| 115903 | main    | Si                           | Salzberg          | Salzberg and Villa 1957: n 1.3 |\n",
        "| 115904 | main    | Si                           | Li-100K           | Li 1980: n 1.2-14 \u00b5m; 100 K    |\n",
        "| 115905 | main    | Si                           | Li-150K           | Li 1980: n 1.2-14 \u00b5m; 150 K    |\n",
        "| 115906 | main    | Si                           | Li-200K           | Li 1980: n 1.2-14 \u00b5m; 200 K    |\n",
        "| 115907 | main    | Si                           | Li-250K           | Li 1980: n 1.2-14 \u00b5m; 250 K    |\n",
        "| 115908 | main    | Si                           | Li-293K           | Li 1980: n 1.2-14 \u00b5m; 293 K    |\n",
        "| 115909 | main    | Si                           | Li-350K           | Li 1980: n 1.2-14 \u00b5m; 350 K    |\n",
        "| 115910 | main    | Si                           | Li-400K           | Li 1980: n 1.2-14 \u00b5m; 400 K    |\n",
        "| 115911 | main    | Si                           | Li-450K           | Li 1980: n 1.2-14 \u00b5m; 450 K    |\n",
        "| 115912 | main    | Si                           | Li-500K           | Li 1980: n 1.2-14 \u00b5m; 500 K    |\n",
        "| 115913 | main    | Si                           | Li-550K           | Li 1980: n 1.2-14 \u00b5m; 550 K    |\n",
        "| 115914 | main    | Si                           | Li-600K           | Li 1980: n 1.2-14 \u00b5m; 600 K    |\n",
        "| 115915 | main    | Si                           | Li-650K           | Li 1980: n 1.2-14 \u00b5m; 650 K    |\n",
        "| 115916 | main    | Si                           | Li-700K           | Li 1980: n 1.2-14 \u00b5m; 700 K    |\n",
        "| 115917 | main    | Si                           | Li-750K           | Li 1980: n 1.2-14 \u00b5m; 750 K    |\n",
        "| 115918 | main    | Si                           | Aspnes            | Aspnes and Studna 1983: n,k 0. |\n",
        "| 115919 | main    | Si                           | Vuye-20C          | Vuye et al. 1993: n,k 0.26-0.8 |\n",
        "| 115920 | main    | Si                           | Vuye-100C         | Vuye et al. 1993: n,k 0.26-0.8 |\n",
        "| 115921 | main    | Si                           | Vuye-150C         | Vuye et al. 1993: n,k 0.26-0.8 |\n",
        "| 115922 | main    | Si                           | Vuye-200C         | Vuye et al. 1993: n,k 0.26-0.8 |\n",
        "| 115923 | main    | Si                           | Vuye-250C         | Vuye et al. 1993: n,k 0.26-0.8 |\n",
        "| 115924 | main    | Si                           | Vuye-300C         | Vuye et al. 1993: n,k 0.26-0.8 |\n",
        "| 115925 | main    | Si                           | Vuye-350C         | Vuye et al. 1993: n,k 0.26-0.8 |\n",
        "| 115926 | main    | Si                           | Vuye-400C         | Vuye et al. 1993: n,k 0.26-0.8 |\n",
        "| 115927 | main    | Si                           | Vuye-450C         | Vuye et al. 1993: n,k 0.26-0.8 |\n",
        "| 115928 | main    | Si                           | Pierce            | Pierce and Spicer 1972: \u03b1-Si;  |\n",
        "| 116001 | main    | Bi12SiO20                    | Gospodinov        | Gospodinov et al. 1988: n 0.48 |\n",
        "| 117101 | main    | Bi4Ti3O12                    | Simon-a           | Simon et al. 1997: n(a); 0.45- |\n",
        "| 117102 | main    | Bi4Ti3O12                    | Simon-b           | Simon et al. 1997: n(b); 0.45- |\n",
        "| 117201 | main    | PbTiO3                       | Singh-o           | Singh et al. 1972: n(o) 0.45-1 |\n",
        "| 117202 | main    | PbTiO3                       | Singh-e           | Singh et al. 1972: n(e) 0.45-1 |\n",
        "| 117401 | main    | Tm                           | Vidal-Dasilva     | Vidal-Dasilva et al. 2009: n,k |\n",
        "| 202801 | organic | potassium_hydrogen_phthalate | Moutzouris-\u03b1      | Moutzouris et al. 2011: n(\u03b1) 0 |\n",
        "| 202802 | organic | potassium_hydrogen_phthalate | Moutzouris-\u03b2      | Moutzouris et al. 2011: n(\u03b2) 0 |\n",
        "| 202803 | organic | potassium_hydrogen_phthalate | Moutzouris-\u03b3      | Moutzouris et al. 2011: n(\u03b3) 0 |\n",
        "| 300901 | glass   | fused_silica                 | Malitson          | Malitson 1965: n 0.21-3.71 \u00b5m  |\n",
        "| 304311 | glass   | SCHOTT-obsolete              | LITHOSIL-Q        | LITHOSIL-Q                     |\n",
        "| 403001 | other   | fused_silica_matching_liquid | Cargille-06350    | Cargille-06350                 |\n",
        "| 403002 | other   | fused_silica_matching_liquid | Cargille-50350    | Cargille-50350                 |\n",
        "| 403201 | other   | pmma_resists                 | Microchem495      | Microchem 495 PMMA resist; 0.2 |\n",
        "| 403202 | other   | pmma_resists                 | Microchem950      | Microchem 950 PMMA resist; 0.2 |\n",
        "| 403301 | other   | copolymer_resists            | Microchem85mEL    | Microchem 8.5 mEL copolymer re |\n",
        "| 500108 | 3d      | metals                       | silver            | Silver (Ag)                    |\n",
        "| 500304 | 3d      | crystals                     | quartz            | Quartz (SiO2)                  |\n",
        "| 500306 | 3d      | crystals                     | silicon           | Silicon (Si)                   |\n"
       ]
      }
     ],
     "prompt_number": 6
    },
    {
     "cell_type": "code",
     "collapsed": false,
     "input": [
      "a.library.page(403201)"
     ],
     "language": "python",
     "metadata": {},
     "outputs": [
      {
       "metadata": {},
       "output_type": "pyout",
       "prompt_number": 12,
       "text": [
        "{'COMMENTS': 'Microchem 495 PMMA resist',\n",
        " 'DATA': [{'coefficients': '1.491 0.003427 -2 0.0001819 -4',\n",
        "   'range': '0.2 1.1',\n",
        "   'type': 'formula 5'}],\n",
        " 'REFERENCES': '<a href=\"http://refractiveindex.info/download/data/2001/MicroChem_PMMA_Data_Sheet.pdf\">Microchem PMMA Datasheet</a>, 2001'}"
       ]
      }
     ],
     "prompt_number": 12
    },
    {
     "cell_type": "code",
     "collapsed": false,
     "input": [
      "a.library.search('perovskite', deep=True)"
     ],
     "language": "python",
     "metadata": {},
     "outputs": [
      {
       "output_type": "stream",
       "stream": "stdout",
       "text": [
        "|     ID | SHELF   | BOOK       | PAGE           | DESCRIPTION                    |\n",
        "|--------+---------+------------+----------------+--------------------------------|\n",
        "| 403401 | other   | CH3NH3PbI3 | Leguy          | Leguy et al. 2015; n,k 0.249-0 |\n",
        "| 403402 | other   | CH3NH3PbI3 | Leguy-hydrated | Leguy et al. 2015; Hydrated; n |\n"
       ]
      }
     ],
     "prompt_number": 17
    },
    {
     "cell_type": "code",
     "collapsed": false,
     "input": [
      "a.library.page(403402)"
     ],
     "language": "python",
     "metadata": {},
     "outputs": [
      {
       "metadata": {},
       "output_type": "pyout",
       "prompt_number": 18,
       "text": [
        "{'COMMENTS': 'Hydrated single crystal CH<sub>3</sub>NH<sub>3</sub>PbI<sub>3</sub>.H<sub>2</sub>O; orientation unknown, hydrate phase grown on single crystal; room temperature; critical point model used for fit, 249 nm - 427 nm - fit not reliable for sub-bandgap region - see reference',\n",
        " 'DATA': [{'data': '0.2070 2.2205 1.1192\\n0.2080 2.2186 1.1164\\n0.2090 2.2168 1.1136\\n0.2100 2.2149 1.1110\\n0.2110 2.2131 1.1084\\n0.2120 2.2111 1.1058\\n0.2130 2.2092 1.1033\\n0.2140 2.2072 1.1009\\n0.2150 2.2052 1.0986\\n0.2160 2.2031 1.0963\\n0.2170 2.2010 1.0940\\n0.2180 2.1988 1.0919\\n0.2190 2.1966 1.0897\\n0.2200 2.1943 1.0877\\n0.2210 2.1919 1.0857\\n0.2220 2.1895 1.0837\\n0.2230 2.1869 1.0819\\n0.2240 2.1843 1.0801\\n0.2250 2.1816 1.0783\\n0.2260 2.1787 1.0766\\n0.2270 2.1757 1.0750\\n0.2280 2.1726 1.0734\\n0.2290 2.1693 1.0719\\n0.2300 2.1658 1.0705\\n0.2310 2.1622 1.0692\\n0.2320 2.1583 1.0679\\n0.2330 2.1542 1.0668\\n0.2340 2.1498 1.0657\\n0.2350 2.1451 1.0648\\n0.2360 2.1400 1.0640\\n0.2370 2.1346 1.0634\\n0.2380 2.1288 1.0630\\n0.2390 2.1224 1.0628\\n0.2400 2.1156 1.0629\\n0.2410 2.1081 1.0633\\n0.2420 2.1000 1.0641\\n0.2430 2.0911 1.0654\\n0.2440 2.0814 1.0673\\n0.2450 2.0708 1.0699\\n0.2460 2.0592 1.0733\\n0.2470 2.0464 1.0780\\n0.2480 2.0325 1.0840\\n0.2490 2.0173 1.0917\\n0.2500 2.0007 1.1017\\n0.2510 1.9830 1.1143\\n0.2520 1.9641 1.1304\\n0.2530 1.9444 1.1506\\n0.2540 1.9244 1.1759\\n0.2550 1.9053 1.2071\\n0.2560 1.8883 1.2451\\n0.2570 1.8754 1.2903\\n0.2580 1.8692 1.3427\\n0.2590 1.8729 1.4014\\n0.2600 1.8889 1.4635\\n0.2610 1.9187 1.5253\\n0.2620 1.9625 1.5824\\n0.2630 2.0186 1.6305\\n0.2640 2.0836 1.6660\\n0.2650 2.1529 1.6867\\n0.2660 2.2218 1.6938\\n0.2670 2.2869 1.6893\\n0.2680 2.3458 1.6754\\n0.2690 2.3972 1.6549\\n0.2700 2.4415 1.6307\\n0.2710 2.4794 1.6046\\n0.2720 2.5113 1.5779\\n0.2730 2.5384 1.5516\\n0.2740 2.5619 1.5262\\n0.2750 2.5822 1.5018\\n0.2760 2.6001 1.4787\\n0.2770 2.6163 1.4566\\n0.2780 2.6310 1.4357\\n0.2790 2.6447 1.4155\\n0.2800 2.6575 1.3961\\n0.2810 2.6696 1.3772\\n0.2820 2.6812 1.3587\\n0.2830 2.6922 1.3404\\n0.2840 2.7029 1.3222\\n0.2850 2.7129 1.3039\\n0.2860 2.7225 1.2855\\n0.2870 2.7314 1.2668\\n0.2880 2.7395 1.2478\\n0.2890 2.7468 1.2286\\n0.2900 2.7531 1.2091\\n0.2910 2.7582 1.1894\\n0.2920 2.7622 1.1697\\n0.2930 2.7646 1.1500\\n0.2940 2.7658 1.1306\\n0.2950 2.7654 1.1116\\n0.2960 2.7636 1.0934\\n0.2970 2.7604 1.0761\\n0.2980 2.7559 1.0600\\n0.2990 2.7504 1.0453\\n0.3000 2.7440 1.0323\\n0.3010 2.7371 1.0209\\n0.3020 2.7298 1.0112\\n0.3030 2.7226 1.0035\\n0.3040 2.7156 0.9974\\n0.3050 2.7092 0.9930\\n0.3060 2.7036 0.9902\\n0.3070 2.6991 0.9887\\n0.3080 2.6957 0.9883\\n0.3090 2.6937 0.9889\\n0.3100 2.6931 0.9902\\n0.3110 2.6939 0.9919\\n0.3120 2.6964 0.9939\\n0.3130 2.7003 0.9959\\n0.3140 2.7056 0.9978\\n0.3150 2.7122 0.9993\\n0.3160 2.7203 1.0002\\n0.3170 2.7297 1.0005\\n0.3180 2.7401 1.0001\\n0.3190 2.7515 0.9987\\n0.3200 2.7640 0.9962\\n0.3210 2.7772 0.9925\\n0.3220 2.7911 0.9877\\n0.3230 2.8055 0.9815\\n0.3240 2.8204 0.9740\\n0.3250 2.8356 0.9650\\n0.3260 2.8508 0.9545\\n0.3270 2.8661 0.9425\\n0.3280 2.8811 0.9290\\n0.3290 2.8959 0.9140\\n0.3300 2.9101 0.8976\\n0.3310 2.9237 0.8796\\n0.3320 2.9364 0.8602\\n0.3330 2.9482 0.8394\\n0.3340 2.9588 0.8174\\n0.3350 2.9682 0.7942\\n0.3360 2.9763 0.7700\\n0.3370 2.9828 0.7449\\n0.3380 2.9878 0.7190\\n0.3390 2.9911 0.6925\\n0.3400 2.9927 0.6655\\n0.3410 2.9925 0.6383\\n0.3420 2.9904 0.6109\\n0.3430 2.9866 0.5836\\n0.3440 2.9810 0.5566\\n0.3450 2.9737 0.5299\\n0.3460 2.9647 0.5038\\n0.3470 2.9540 0.4783\\n0.3480 2.9419 0.4536\\n0.3490 2.9283 0.4299\\n0.3500 2.9134 0.4072\\n0.3510 2.8972 0.3855\\n0.3520 2.8799 0.3651\\n0.3530 2.8616 0.3458\\n0.3540 2.8423 0.3279\\n0.3550 2.8222 0.3112\\n0.3560 2.8014 0.2959\\n0.3570 2.7799 0.2820\\n0.3580 2.7579 0.2694\\n0.3590 2.7354 0.2581\\n0.3600 2.7126 0.2482\\n0.3610 2.6894 0.2397\\n0.3620 2.6659 0.2325\\n0.3630 2.6422 0.2267\\n0.3640 2.6183 0.2221\\n0.3650 2.5943 0.2190\\n0.3660 2.5702 0.2173\\n0.3670 2.5460 0.2169\\n0.3680 2.5218 0.2180\\n0.3690 2.4975 0.2204\\n0.3700 2.4733 0.2243\\n0.3710 2.4491 0.2296\\n0.3720 2.4249 0.2365\\n0.3730 2.4008 0.2450\\n0.3740 2.3768 0.2552\\n0.3750 2.3529 0.2672\\n0.3760 2.3293 0.2812\\n0.3770 2.3060 0.2976\\n0.3780 2.2830 0.3163\\n0.3790 2.2607 0.3375\\n0.3800 2.2390 0.3614\\n0.3810 2.2183 0.3883\\n0.3820 2.1989 0.4185\\n0.3830 2.1811 0.4522\\n0.3840 2.1661 0.4906\\n0.3850 2.1542 0.5332\\n0.3860 2.1463 0.5800\\n0.3870 2.1435 0.6312\\n0.3880 2.1468 0.6865\\n0.3890 2.1578 0.7457\\n0.3900 2.1805 0.8082\\n0.3910 2.2146 0.8717\\n0.3920 2.2614 0.9339\\n0.3930 2.3216 0.9924\\n0.3940 2.3959 1.0444\\n0.3950 2.4874 1.0814\\n0.3960 2.5898 1.1006\\n0.3970 2.6983 1.0995\\n0.3980 2.8081 1.0765\\n0.3990 2.9135 1.0295\\n0.4000 3.0013 0.9560\\n0.4010 3.0704 0.8697\\n0.4020 3.1198 0.7758\\n0.4030 3.1493 0.6790\\n0.4040 3.1557 0.5867\\n0.4050 3.1478 0.5029\\n0.4060 3.1303 0.4275\\n0.4070 3.1053 0.3608\\n0.4080 3.0746 0.3055\\n0.4090 3.0417 0.2589\\n0.4100 3.0079 0.2189\\n0.4110 2.9739 0.1846\\n0.4120 2.9407 0.1574\\n0.4130 2.9087 0.1344\\n0.4140 2.8778 0.1147\\n0.4150 2.8482 0.0981\\n0.4160 2.8206 0.0851\\n0.4170 2.7942 0.0738\\n0.4180 2.7689 0.0641\\n0.4190 2.7453 0.0565\\n0.4200 2.7230 0.0501\\n0.4210 2.7016 0.0447\\n0.4220 2.6814 0.0403\\n0.4230 2.6625 0.0368\\n0.4240 2.6443 0.0340\\n0.4250 2.6269 0.0316\\n0.4260 2.6107 0.0300\\n0.4270 2.5951 0.0287',\n",
        "   'type': 'tabulated nk'}],\n",
        " 'REFERENCES': 'A. M. A. Leguy, Y. Hu, M. Campoy-Quiles, M. I. Alonso, O. J. Weber, P. Azarhoosh, M. van Schilfgaarde, M. T. Weller, T Bein, J. Nelson, P. Docampo, and P. R. F. Barnes. Reversible hydration of CH<sub>3</sub>NH<sub>3</sub>PbI<sub>3</sub> in films, single crystals, and solar cells, <a href=\"http://dx.doi.org/10.1021/acs.chemmater.5b00660\"><i>Chem. Matter.</i> <b>27</b>, 3397-3407 (2015)</a>'}"
       ]
      }
     ],
     "prompt_number": 18
    },
    {
     "cell_type": "code",
     "collapsed": false,
     "input": [
      "a.library.plot(403201)"
     ],
     "language": "python",
     "metadata": {},
     "outputs": [
      {
       "metadata": {},
       "output_type": "display_data",
       "png": "[encoded data removed]",
       "text": [
        "<matplotlib.figure.Figure at 0x7fb70c575f50>"
       ]
      }
     ],
     "prompt_number": 16
    },
    {
     "cell_type": "code",
     "collapsed": false,
     "input": [],
     "language": "python",
     "metadata": {},
     "outputs": []
    }
   ],
   "metadata": {}
  }
 ]
}