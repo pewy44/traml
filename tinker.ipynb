{
 "metadata": {
  "name": ""
 },
 "nbformat": 3,
 "nbformat_minor": 0,
 "worksheets": [
  {
   "cells": [
    {
     "cell_type": "code",
     "collapsed": false,
     "input": [
      "%matplotlib inline\n",
      "import db\n",
      "import traml"
     ],
     "language": "python",
     "metadata": {},
     "outputs": [],
     "prompt_number": 2
    },
    {
     "cell_type": "code",
     "collapsed": false,
     "input": [
      "a = traml.Stack()"
     ],
     "language": "python",
     "metadata": {},
     "outputs": [
      {
       "output_type": "stream",
       "stream": "stdout",
       "text": [
        "|   # | Material   | Thickness (nm)   | Type      |\n",
        "|-----+------------+------------------+-----------|\n",
        "|   0 | OW         | --               | substrate |\n",
        "|   1 | ITO        | 100              | passive   |\n",
        "|   # | Material   | Thickness (nm)   | Type      |\n",
        "|-----+------------+------------------+-----------|\n",
        "|   0 | OW         | --               | substrate |\n",
        "|   1 | ITO        | 100              | passive   |\n",
        "|   2 | CdTe       | 500              | absorber  |\n"
       ]
      }
     ],
     "prompt_number": 3
    },
    {
     "cell_type": "code",
     "collapsed": false,
     "input": [],
     "language": "python",
     "metadata": {},
     "outputs": []
    }
   ],
   "metadata": {}
  }
 ]
}