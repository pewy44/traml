{
 "cells": [
  {
   "cell_type": "code",
   "execution_count": 2,
   "metadata": {
    "collapsed": false
   },
   "outputs": [],
   "source": [
    "%matplotlib inline\n",
    "from scipy.optimize import minimize\n",
    "import traml"
   ]
  },
  {
   "cell_type": "code",
   "execution_count": 3,
   "metadata": {
    "collapsed": false
   },
   "outputs": [
    {
     "name": "stdout",
     "output_type": "stream",
     "text": [
      "|   # |   Material | Thickness (nm)   | Type      |\n",
      "|-----+------------+------------------+-----------|\n",
      "|   0 |     301005 | --               | substrate |\n"
     ]
    }
   ],
   "source": [
    "a = traml.Stack()"
   ]
  },
  {
   "cell_type": "code",
   "execution_count": 4,
   "metadata": {
    "collapsed": false
   },
   "outputs": [
    {
     "name": "stdout",
     "output_type": "stream",
     "text": [
      "|   # |   Material | Thickness (nm)   | Type      |\n",
      "|-----+------------+------------------+-----------|\n",
      "|   0 |     301005 | --               | substrate |\n",
      "|   1 |     112003 | 500              | passive   |\n"
     ]
    }
   ],
   "source": [
    "a.add(112003)\n",
    "a.add(111407)\n",
    "a.repeat('1,2', 6)"
   ]
  },
  {
   "cell_type": "code",
   "execution_count": 22,
   "metadata": {
    "collapsed": false
   },
   "outputs": [],
   "source": [
    "import numpy as np"
   ]
  },
  {
   "cell_type": "code",
   "execution_count": 24,
   "metadata": {
    "collapsed": false
   },
   "outputs": [],
   "source": [
    "def fun2(x, stack, film_range, c, delta):\n",
    "    for i in range (len(film_range)):\n",
    "        stack.d(film_range[i],x[i])\n",
    "    #stack.d(1,x[0])\n",
    "    #stack.d(2,x[1])\n",
    "    for p in x:\n",
    "        p = np.sqrt(x[0]**2)\n",
    "    #x[0]=np.sqrt(x[0]**2)\n",
    "    min = 1-stack.average('R', c, delta)\n",
    "    #print min, x[0], x[1]\n",
    "\n",
    "    return min**10"
   ]
  },
  {
   "cell_type": "code",
   "execution_count": 25,
   "metadata": {
    "collapsed": false
   },
   "outputs": [
    {
     "name": "stdout",
     "output_type": "stream",
     "text": [
      "|   # |   Material | Thickness (nm)   | Type      |\n",
      "|-----+------------+------------------+-----------|\n",
      "|   0 |     301005 | --               | substrate |\n",
      "|   1 |     112003 | 50.0             | passive   |\n",
      "|   2 |     111407 | 100              | passive   |\n",
      "|   3 |     112003 | 50.0             | passive   |\n",
      "|   4 |     111407 | 100              | passive   |\n",
      "|   5 |     112003 | 50.0             | passive   |\n",
      "|   6 |     111407 | 100              | passive   |\n",
      "|   7 |     112003 | 50.0             | passive   |\n",
      "|   8 |     111407 | 100              | passive   |\n"
     ]
    }
   ],
   "source": [
    "a.table()"
   ]
  },
  {
   "cell_type": "code",
   "execution_count": 26,
   "metadata": {
    "collapsed": false
   },
   "outputs": [
    {
     "data": {
      "image/png": "[encoded data removed]",
      "text/plain": [
       "<matplotlib.figure.Figure at 0x7f644c31b790>"
      ]
     },
     "metadata": {},
     "output_type": "display_data"
    }
   ],
   "source": [
    "minimize(fun2, [50,50,50,50,50,50,50,50], args=(a, [1,2,3,4,5,6,7,8], 0.6, 0.002), bounds = [(5,1000), (5,1000),(5,1000), (5,1000),(5,1000), (5,1000),(5,1000), (5,1000)],tol=1e-30, method='SLSQP')\n",
    "a.plot()"
   ]
  },
  {
   "cell_type": "code",
   "execution_count": null,
   "metadata": {
    "collapsed": true
   },
   "outputs": [],
   "source": []
  }
 ],
 "metadata": {
  "kernelspec": {
   "display_name": "Python 2",
   "language": "python",
   "name": "python2"
  },
  "language_info": {
   "codemirror_mode": {
    "name": "ipython",
    "version": 2
   },
   "file_extension": ".py",
   "mimetype": "text/x-python",
   "name": "python",
   "nbconvert_exporter": "python",
   "pygments_lexer": "ipython2",
   "version": "2.7.6"
  }
 },
 "nbformat": 4,
 "nbformat_minor": 0
}
