{
 "cells": [
  {
   "cell_type": "code",
   "execution_count": 21,
   "metadata": {
    "collapsed": false,
    "scrolled": true
   },
   "outputs": [],
   "source": [
    "%matplotlib inline\n",
    "from scipy.optimize import minimize\n",
    "import matplotlib.pyplot as plt\n",
    "import numpy as np\n",
    "import traml\n",
    "import copy"
   ]
  },
  {
   "cell_type": "code",
   "execution_count": 22,
   "metadata": {
    "collapsed": false
   },
   "outputs": [
    {
     "name": "stdout",
     "output_type": "stream",
     "text": [
      "|   # |   Material | Thickness (nm)   | Type      |\n",
      "|-----+------------+------------------+-----------|\n",
      "|   0 |     301005 | --               | substrate |\n"
     ]
    }
   ],
   "source": [
    "a = traml.Stack()"
   ]
  },
  {
   "cell_type": "code",
   "execution_count": 23,
   "metadata": {
    "collapsed": false
   },
   "outputs": [
    {
     "name": "stdout",
     "output_type": "stream",
     "text": [
      "|     ID | SHELF   | BOOK   | PAGE     | DESCRIPTION               |\n",
      "|--------+---------+--------+----------+---------------------------|\n",
      "| 114301 | main    | CdZnS  | Treharne | Treharne et al. 2014: n,k |\n"
     ]
    }
   ],
   "source": [
    "a.library.search('CdZnS')"
   ]
  },
  {
   "cell_type": "code",
   "execution_count": 24,
   "metadata": {
    "collapsed": false
   },
   "outputs": [],
   "source": [
    "CdS = 114203\n",
    "CdTe = 116705\n",
    "CdZnS = 114301"
   ]
  },
  {
   "cell_type": "code",
   "execution_count": 25,
   "metadata": {
    "collapsed": false
   },
   "outputs": [
    {
     "name": "stdout",
     "output_type": "stream",
     "text": [
      "|     ID | SHELF   | BOOK   | PAGE        | DESCRIPTION                    |\n",
      "|--------+---------+--------+-------------+--------------------------------|\n",
      "| 116701 | main    | CdTe   | DeBell-300K | DeBell et al. 1979: n 6-22 µm; |\n",
      "| 116702 | main    | CdTe   | DeBell-80K  | DeBell et al. 1979: n 6-22 µm; |\n",
      "| 116703 | main    | CdTe   | DeBell-20K  | DeBell et al. 1979: n 6-22 µm; |\n",
      "| 116704 | main    | CdTe   | Marple      | Marple 1964: n 0.86-2.5 µm     |\n",
      "| 116705 | main    | CdTe   | Treharne    | Treharne et al. 2011: n,k 0.3- |\n"
     ]
    }
   ],
   "source": [
    "a.library.search('CdTe')"
   ]
  },
  {
   "cell_type": "code",
   "execution_count": 26,
   "metadata": {
    "collapsed": false
   },
   "outputs": [
    {
     "data": {
      "image/png": "[encoded data removed]",
      "text/plain": [
       "<matplotlib.figure.Figure at 0x7fc5ed48fbd0>"
      ]
     },
     "metadata": {},
     "output_type": "display_data"
    }
   ],
   "source": [
    "a.library.plot(CdZnS)"
   ]
  },
  {
   "cell_type": "code",
   "execution_count": 27,
   "metadata": {
    "collapsed": false
   },
   "outputs": [],
   "source": [
    "def fun(x, stack, layers, c, delta, TR):\n",
    "    for i in layers:\n",
    "          \n",
    "        \n",
    "        stack.d(i, x[i-1])\n",
    "    #stack.d(1,x[0])\n",
    "    #stack.d(2,x[1])\n",
    "    for p in x:\n",
    "        p = np.sqrt(x[0]**2)\n",
    "    x[0]=np.sqrt(x[0]**2)\n",
    "    min = 1-stack.average(TR, c, delta, o='a')\n",
    "    #min = stack.average(TR, c, delta)\n",
    "    #print min\n",
    "\n",
    "    return min**10"
   ]
  },
  {
   "cell_type": "code",
   "execution_count": 28,
   "metadata": {
    "collapsed": false
   },
   "outputs": [],
   "source": [
    "def minTR(stack, film_range, c, delta, TR='T'):\n",
    "    print film_range\n",
    "    x = []\n",
    "    layers = []\n",
    "    bnds = []\n",
    "    for i in range(film_range[0],film_range[1]+1):\n",
    "        #print i\n",
    "        x.append(stack.config[i][1])\n",
    "        layers.append(i)\n",
    "        bnds.append(stack.config[i][3])\n",
    "        \n",
    "    result = minimize(fun, x, args=(stack, layers, c,delta, TR), bounds = bnds,tol=1e-30, method='SLSQP')\n",
    "    \n",
    "    #stack.plot()\n",
    "    print layers\n",
    "    return result"
   ]
  },
  {
   "cell_type": "code",
   "execution_count": 29,
   "metadata": {
    "collapsed": false
   },
   "outputs": [
    {
     "name": "stdout",
     "output_type": "stream",
     "text": [
      "|     ID | SHELF   | BOOK          | PAGE         | DESCRIPTION                    |\n",
      "|--------+---------+---------------+--------------+--------------------------------|\n",
      "| 112003 | main    | ZnO           | Treharne-AZO | Treharne et al. 2011: n,k 0.3- |\n",
      "| 114203 | main    | CdS           | Treharne     | Treharne et al. 2011: n,k 0.3- |\n",
      "| 114301 | main    | CdZnS         | Treharne     | Treharne et al. 2014: n,k      |\n",
      "| 116705 | main    | CdTe          | Treharne     | Treharne et al. 2011: n,k 0.3- |\n",
      "| 316001 | glass   | NSG-OptiWhite | OptiWhite    | OptiWhite                      |\n"
     ]
    }
   ],
   "source": [
    "a.library.search('Treharne')"
   ]
  },
  {
   "cell_type": "code",
   "execution_count": 68,
   "metadata": {
    "collapsed": false,
    "scrolled": true
   },
   "outputs": [
    {
     "name": "stdout",
     "output_type": "stream",
     "text": [
      "|   # |   Material | Thickness (nm)   | Type      |\n",
      "|-----+------------+------------------+-----------|\n",
      "|   0 |     301005 | --               | substrate |\n",
      "|   # |   Material | Thickness (nm)   | Type      |\n",
      "|-----+------------+------------------+-----------|\n",
      "|   0 |     301005 | --               | substrate |\n",
      "|   1 |     112003 | 500              | passive   |\n",
      "|   # |   Material | Thickness (nm)   | Type      |\n",
      "|-----+------------+------------------+-----------|\n",
      "|   0 |     301005 | --               | substrate |\n",
      "|   1 |     112003 | 500              | passive   |\n",
      "|   2 |     114203 | 50               | passive   |\n",
      "|   # |   Material | Thickness (nm)   | Type      |\n",
      "|-----+------------+------------------+-----------|\n",
      "|   0 |     301005 | --               | substrate |\n",
      "|   1 |     112003 | 500              | passive   |\n",
      "|   2 |     114203 | 50               | passive   |\n",
      "|   3 |     116705 | 100              | absorber  |\n",
      "23.156526694 (ma/cm^2)\n",
      "[23.156526694012534]\n",
      "[1, 2]\n",
      "[1, 2]\n",
      "24.9304953091 (ma/cm^2)\n",
      "even 0\n",
      "|   # |   Material | Thickness (nm)   | Type      |\n",
      "|-----+------------+------------------+-----------|\n",
      "|   0 |     301005 | --               | substrate |\n",
      "|   1 |     114801 | 10               | passive   |\n",
      "|   # |   Material | Thickness (nm)   | Type      |\n",
      "|-----+------------+------------------+-----------|\n",
      "|   0 |     301005 | --               | substrate |\n",
      "|   1 |     114801 | 10               | passive   |\n",
      "|   2 |     112003 | 500              | passive   |\n",
      "|   # |   Material | Thickness (nm)   | Type      |\n",
      "|-----+------------+------------------+-----------|\n",
      "|   0 |     301005 | --               | substrate |\n",
      "|   1 |     114801 | 10               | passive   |\n",
      "|   2 |     112003 | 500              | passive   |\n",
      "|   3 |     114203 | 50               | passive   |\n",
      "|   # |   Material | Thickness (nm)   | Type      |\n",
      "|-----+------------+------------------+-----------|\n",
      "|   0 |     301005 | --               | substrate |\n",
      "|   1 |     114801 | 10               | passive   |\n",
      "|   2 |     112003 | 500              | passive   |\n",
      "|   3 |     114203 | 50               | passive   |\n",
      "|   4 |     116705 | 100              | absorber  |\n",
      "[1, 3]\n",
      "[1, 2, 3]\n",
      "26.2428442062 (ma/cm^2)\n",
      "25.0\n",
      "|   # |   Material | Thickness (nm)   | Type      |\n",
      "|-----+------------+------------------+-----------|\n",
      "|   0 |     301005 | --               | substrate |\n",
      "|   1 |     114801 | 51.8384597771    | passive   |\n",
      "|   2 |     112003 | 500.0            | passive   |\n",
      "|   3 |     114203 | 25.0             | passive   |\n",
      "|   4 |     116705 | 100              | absorber  |\n",
      "============================================================================================\n",
      "0.814332740708\n",
      "============================================================================================\n",
      "|   # |   Material | Thickness (nm)   | Type      |\n",
      "|-----+------------+------------------+-----------|\n",
      "|   0 |     301005 | --               | substrate |\n",
      "|   1 |     114801 | 51.8384597771    | passive   |\n",
      "|   2 |     111407 | 10               | passive   |\n",
      "|   # |   Material | Thickness (nm)   | Type      |\n",
      "|-----+------------+------------------+-----------|\n",
      "|   0 |     301005 | --               | substrate |\n",
      "|   1 |     114801 | 51.8384597771    | passive   |\n",
      "|   2 |     111407 | 10               | passive   |\n",
      "|   3 |     112003 | 500              | passive   |\n",
      "|   # |   Material | Thickness (nm)   | Type      |\n",
      "|-----+------------+------------------+-----------|\n",
      "|   0 |     301005 | --               | substrate |\n",
      "|   1 |     114801 | 51.8384597771    | passive   |\n",
      "|   2 |     111407 | 10               | passive   |\n",
      "|   3 |     112003 | 500              | passive   |\n",
      "|   4 |     114203 | 50               | passive   |\n",
      "|   # |   Material | Thickness (nm)   | Type      |\n",
      "|-----+------------+------------------+-----------|\n",
      "|   0 |     301005 | --               | substrate |\n",
      "|   1 |     114801 | 51.8384597771    | passive   |\n",
      "|   2 |     111407 | 10               | passive   |\n",
      "|   3 |     112003 | 500              | passive   |\n",
      "|   4 |     114203 | 50               | passive   |\n",
      "|   5 |     116705 | 100              | absorber  |\n",
      "[1, 4]\n",
      "[1, 2, 3, 4]\n",
      "26.2618061411 (ma/cm^2)\n",
      "25.0\n",
      "|   # |   Material | Thickness (nm)   | Type      |\n",
      "|-----+------------+------------------+-----------|\n",
      "|   0 |     301005 | --               | substrate |\n",
      "|   1 |     114801 | 55.3466702528    | passive   |\n",
      "|   2 |     111407 | 5.35984189333    | passive   |\n",
      "|   3 |     112003 | 500.0            | passive   |\n",
      "|   4 |     114203 | 25.0             | passive   |\n",
      "|   5 |     116705 | 100              | absorber  |\n",
      "============================================================================================\n",
      "0.814547188029\n",
      "============================================================================================\n",
      "even 2\n",
      "|   # |   Material | Thickness (nm)   | Type      |\n",
      "|-----+------------+------------------+-----------|\n",
      "|   0 |     301005 | --               | substrate |\n",
      "|   1 |     114801 | 55.3466702528    | passive   |\n",
      "|   2 |     111407 | 5.35984189333    | passive   |\n",
      "|   3 |     114801 | 10               | passive   |\n",
      "|   # |   Material | Thickness (nm)   | Type      |\n",
      "|-----+------------+------------------+-----------|\n",
      "|   0 |     301005 | --               | substrate |\n",
      "|   1 |     114801 | 55.3466702528    | passive   |\n",
      "|   2 |     111407 | 5.35984189333    | passive   |\n",
      "|   3 |     114801 | 10               | passive   |\n",
      "|   4 |     112003 | 500              | passive   |\n",
      "|   # |   Material | Thickness (nm)   | Type      |\n",
      "|-----+------------+------------------+-----------|\n",
      "|   0 |     301005 | --               | substrate |\n",
      "|   1 |     114801 | 55.3466702528    | passive   |\n",
      "|   2 |     111407 | 5.35984189333    | passive   |\n",
      "|   3 |     114801 | 10               | passive   |\n",
      "|   4 |     112003 | 500              | passive   |\n",
      "|   5 |     114203 | 50               | passive   |\n",
      "|   # |   Material | Thickness (nm)   | Type      |\n",
      "|-----+------------+------------------+-----------|\n",
      "|   0 |     301005 | --               | substrate |\n",
      "|   1 |     114801 | 55.3466702528    | passive   |\n",
      "|   2 |     111407 | 5.35984189333    | passive   |\n",
      "|   3 |     114801 | 10               | passive   |\n",
      "|   4 |     112003 | 500              | passive   |\n",
      "|   5 |     114203 | 50               | passive   |\n",
      "|   6 |     116705 | 100              | absorber  |\n",
      "[1, 5]\n",
      "[1, 2, 3, 4, 5]\n",
      "26.3810151827 (ma/cm^2)\n",
      "25.0000000149\n",
      "|   # |   Material | Thickness (nm)   | Type      |\n",
      "|-----+------------+------------------+-----------|\n",
      "|   0 |     301005 | --               | substrate |\n",
      "|   1 |     114801 | 56.4564758477    | passive   |\n",
      "|   2 |     111407 | 18.4198439216    | passive   |\n",
      "|   3 |     114801 | 15.6944964637    | passive   |\n",
      "|   4 |     112003 | 500.0            | passive   |\n",
      "|   5 |     114203 | 25.0000000149    | passive   |\n",
      "|   6 |     116705 | 100              | absorber  |\n",
      "============================================================================================\n",
      "0.818524913061\n",
      "============================================================================================\n",
      "|   # |   Material | Thickness (nm)   | Type      |\n",
      "|-----+------------+------------------+-----------|\n",
      "|   0 |     301005 | --               | substrate |\n",
      "|   1 |     114801 | 56.4564758477    | passive   |\n",
      "|   2 |     111407 | 18.4198439216    | passive   |\n",
      "|   3 |     114801 | 15.6944964637    | passive   |\n",
      "|   4 |     111407 | 10               | passive   |\n",
      "|   # |   Material | Thickness (nm)   | Type      |\n",
      "|-----+------------+------------------+-----------|\n",
      "|   0 |     301005 | --               | substrate |\n",
      "|   1 |     114801 | 56.4564758477    | passive   |\n",
      "|   2 |     111407 | 18.4198439216    | passive   |\n",
      "|   3 |     114801 | 15.6944964637    | passive   |\n",
      "|   4 |     111407 | 10               | passive   |\n",
      "|   5 |     112003 | 500              | passive   |\n",
      "|   # |   Material | Thickness (nm)   | Type      |\n",
      "|-----+------------+------------------+-----------|\n",
      "|   0 |     301005 | --               | substrate |\n",
      "|   1 |     114801 | 56.4564758477    | passive   |\n",
      "|   2 |     111407 | 18.4198439216    | passive   |\n",
      "|   3 |     114801 | 15.6944964637    | passive   |\n",
      "|   4 |     111407 | 10               | passive   |\n",
      "|   5 |     112003 | 500              | passive   |\n",
      "|   6 |     114203 | 50               | passive   |\n",
      "|   # |   Material | Thickness (nm)   | Type      |\n",
      "|-----+------------+------------------+-----------|\n",
      "|   0 |     301005 | --               | substrate |\n",
      "|   1 |     114801 | 56.4564758477    | passive   |\n",
      "|   2 |     111407 | 18.4198439216    | passive   |\n",
      "|   3 |     114801 | 15.6944964637    | passive   |\n",
      "|   4 |     111407 | 10               | passive   |\n",
      "|   5 |     112003 | 500              | passive   |\n",
      "|   6 |     114203 | 50               | passive   |\n",
      "|   7 |     116705 | 100              | absorber  |\n",
      "[1, 6]\n",
      "[1, 2, 3, 4, 5, 6]\n",
      "26.3616424189 (ma/cm^2)\n",
      "25.0000000149\n",
      "|   # |   Material | Thickness (nm)   | Type      |\n",
      "|-----+------------+------------------+-----------|\n",
      "|   0 |     301005 | --               | substrate |\n",
      "|   1 |     114801 | 56.1853735825    | passive   |\n",
      "|   2 |     111407 | 20.5439244701    | passive   |\n",
      "|   3 |     114801 | 17.8251411957    | passive   |\n",
      "|   4 |     111407 | 5.0710111591     | passive   |\n",
      "|   5 |     112003 | 500.0            | passive   |\n",
      "|   6 |     114203 | 25.0000000149    | passive   |\n",
      "|   7 |     116705 | 100              | absorber  |\n",
      "============================================================================================\n",
      "0.818199946046\n",
      "============================================================================================\n",
      "even 4\n",
      "|   # |   Material | Thickness (nm)   | Type      |\n",
      "|-----+------------+------------------+-----------|\n",
      "|   0 |     301005 | --               | substrate |\n",
      "|   1 |     114801 | 56.1853735825    | passive   |\n",
      "|   2 |     111407 | 20.5439244701    | passive   |\n",
      "|   3 |     114801 | 17.8251411957    | passive   |\n",
      "|   4 |     111407 | 5.0710111591     | passive   |\n",
      "|   5 |     114801 | 10               | passive   |\n",
      "|   # |   Material | Thickness (nm)   | Type      |\n",
      "|-----+------------+------------------+-----------|\n",
      "|   0 |     301005 | --               | substrate |\n",
      "|   1 |     114801 | 56.1853735825    | passive   |\n",
      "|   2 |     111407 | 20.5439244701    | passive   |\n",
      "|   3 |     114801 | 17.8251411957    | passive   |\n",
      "|   4 |     111407 | 5.0710111591     | passive   |\n",
      "|   5 |     114801 | 10               | passive   |\n",
      "|   6 |     112003 | 500              | passive   |\n",
      "|   # |   Material | Thickness (nm)   | Type      |\n",
      "|-----+------------+------------------+-----------|\n",
      "|   0 |     301005 | --               | substrate |\n",
      "|   1 |     114801 | 56.1853735825    | passive   |\n",
      "|   2 |     111407 | 20.5439244701    | passive   |\n",
      "|   3 |     114801 | 17.8251411957    | passive   |\n",
      "|   4 |     111407 | 5.0710111591     | passive   |\n",
      "|   5 |     114801 | 10               | passive   |\n",
      "|   6 |     112003 | 500              | passive   |\n",
      "|   7 |     114203 | 50               | passive   |\n",
      "|   # |   Material | Thickness (nm)   | Type      |\n",
      "|-----+------------+------------------+-----------|\n",
      "|   0 |     301005 | --               | substrate |\n",
      "|   1 |     114801 | 56.1853735825    | passive   |\n",
      "|   2 |     111407 | 20.5439244701    | passive   |\n",
      "|   3 |     114801 | 17.8251411957    | passive   |\n",
      "|   4 |     111407 | 5.0710111591     | passive   |\n",
      "|   5 |     114801 | 10               | passive   |\n",
      "|   6 |     112003 | 500              | passive   |\n",
      "|   7 |     114203 | 50               | passive   |\n",
      "|   8 |     116705 | 100              | absorber  |\n",
      "[1, 7]\n",
      "[1, 2, 3, 4, 5, 6, 7]\n",
      "26.3434865533 (ma/cm^2)\n",
      "25.0\n",
      "|   # |   Material | Thickness (nm)   | Type      |\n",
      "|-----+------------+------------------+-----------|\n",
      "|   0 |     301005 | --               | substrate |\n",
      "|   1 |     114801 | 57.5002903058    | passive   |\n",
      "|   2 |     111407 | 17.7320903217    | passive   |\n",
      "|   3 |     114801 | 15.1071706496    | passive   |\n",
      "|   4 |     111407 | 7.13002020055    | passive   |\n",
      "|   5 |     114801 | 5.86973361988    | passive   |\n",
      "|   6 |     112003 | 500.0            | passive   |\n",
      "|   7 |     114203 | 25.0             | passive   |\n",
      "|   8 |     116705 | 100              | absorber  |\n",
      "============================================================================================\n",
      "0.818061956879\n",
      "============================================================================================\n",
      "|   # |   Material | Thickness (nm)   | Type      |\n",
      "|-----+------------+------------------+-----------|\n",
      "|   0 |     301005 | --               | substrate |\n",
      "|   1 |     114801 | 57.5002903058    | passive   |\n",
      "|   2 |     111407 | 17.7320903217    | passive   |\n",
      "|   3 |     114801 | 15.1071706496    | passive   |\n",
      "|   4 |     111407 | 7.13002020055    | passive   |\n",
      "|   5 |     114801 | 5.86973361988    | passive   |\n",
      "|   6 |     111407 | 10               | passive   |\n",
      "|   # |   Material | Thickness (nm)   | Type      |\n",
      "|-----+------------+------------------+-----------|\n",
      "|   0 |     301005 | --               | substrate |\n",
      "|   1 |     114801 | 57.5002903058    | passive   |\n",
      "|   2 |     111407 | 17.7320903217    | passive   |\n",
      "|   3 |     114801 | 15.1071706496    | passive   |\n",
      "|   4 |     111407 | 7.13002020055    | passive   |\n",
      "|   5 |     114801 | 5.86973361988    | passive   |\n",
      "|   6 |     111407 | 10               | passive   |\n",
      "|   7 |     112003 | 500              | passive   |\n",
      "|   # |   Material | Thickness (nm)   | Type      |\n",
      "|-----+------------+------------------+-----------|\n",
      "|   0 |     301005 | --               | substrate |\n",
      "|   1 |     114801 | 57.5002903058    | passive   |\n",
      "|   2 |     111407 | 17.7320903217    | passive   |\n",
      "|   3 |     114801 | 15.1071706496    | passive   |\n",
      "|   4 |     111407 | 7.13002020055    | passive   |\n",
      "|   5 |     114801 | 5.86973361988    | passive   |\n",
      "|   6 |     111407 | 10               | passive   |\n",
      "|   7 |     112003 | 500              | passive   |\n",
      "|   8 |     114203 | 50               | passive   |\n",
      "|   # |   Material | Thickness (nm)   | Type      |\n",
      "|-----+------------+------------------+-----------|\n",
      "|   0 |     301005 | --               | substrate |\n",
      "|   1 |     114801 | 57.5002903058    | passive   |\n",
      "|   2 |     111407 | 17.7320903217    | passive   |\n",
      "|   3 |     114801 | 15.1071706496    | passive   |\n",
      "|   4 |     111407 | 7.13002020055    | passive   |\n",
      "|   5 |     114801 | 5.86973361988    | passive   |\n",
      "|   6 |     111407 | 10               | passive   |\n",
      "|   7 |     112003 | 500              | passive   |\n",
      "|   8 |     114203 | 50               | passive   |\n",
      "|   9 |     116705 | 100              | absorber  |\n",
      "[1, 8]\n",
      "[1, 2, 3, 4, 5, 6, 7, 8]\n",
      "26.3122668705 (ma/cm^2)\n",
      "25.0000000149\n",
      "|   # |   Material | Thickness (nm)   | Type      |\n",
      "|-----+------------+------------------+-----------|\n",
      "|   0 |     301005 | --               | substrate |\n",
      "|   1 |     114801 | 56.5990033893    | passive   |\n",
      "|   2 |     111407 | 21.2984375458    | passive   |\n",
      "|   3 |     114801 | 16.2341487822    | passive   |\n",
      "|   4 |     111407 | 7.58438779778    | passive   |\n",
      "|   5 |     114801 | 8.26669147558    | passive   |\n",
      "|   6 |     111407 | 9.80230712757    | passive   |\n",
      "|   7 |     112003 | 500.0            | passive   |\n",
      "|   8 |     114203 | 25.0000000149    | passive   |\n",
      "|   9 |     116705 | 100              | absorber  |\n",
      "============================================================================================\n",
      "0.817858142782\n",
      "============================================================================================\n",
      "even 6\n",
      "|   # |   Material | Thickness (nm)   | Type      |\n",
      "|-----+------------+------------------+-----------|\n",
      "|   0 |     301005 | --               | substrate |\n",
      "|   1 |     114801 | 56.5990033893    | passive   |\n",
      "|   2 |     111407 | 21.2984375458    | passive   |\n",
      "|   3 |     114801 | 16.2341487822    | passive   |\n",
      "|   4 |     111407 | 7.58438779778    | passive   |\n",
      "|   5 |     114801 | 8.26669147558    | passive   |\n",
      "|   6 |     111407 | 9.80230712757    | passive   |\n",
      "|   7 |     114801 | 10               | passive   |\n",
      "|   # |   Material | Thickness (nm)   | Type      |\n",
      "|-----+------------+------------------+-----------|\n",
      "|   0 |     301005 | --               | substrate |\n",
      "|   1 |     114801 | 56.5990033893    | passive   |\n",
      "|   2 |     111407 | 21.2984375458    | passive   |\n",
      "|   3 |     114801 | 16.2341487822    | passive   |\n",
      "|   4 |     111407 | 7.58438779778    | passive   |\n",
      "|   5 |     114801 | 8.26669147558    | passive   |\n",
      "|   6 |     111407 | 9.80230712757    | passive   |\n",
      "|   7 |     114801 | 10               | passive   |\n",
      "|   8 |     112003 | 500              | passive   |\n",
      "|   # |   Material | Thickness (nm)   | Type      |\n",
      "|-----+------------+------------------+-----------|\n",
      "|   0 |     301005 | --               | substrate |\n",
      "|   1 |     114801 | 56.5990033893    | passive   |\n",
      "|   2 |     111407 | 21.2984375458    | passive   |\n",
      "|   3 |     114801 | 16.2341487822    | passive   |\n",
      "|   4 |     111407 | 7.58438779778    | passive   |\n",
      "|   5 |     114801 | 8.26669147558    | passive   |\n",
      "|   6 |     111407 | 9.80230712757    | passive   |\n",
      "|   7 |     114801 | 10               | passive   |\n",
      "|   8 |     112003 | 500              | passive   |\n",
      "|   9 |     114203 | 50               | passive   |\n",
      "|   # |   Material | Thickness (nm)   | Type      |\n",
      "|-----+------------+------------------+-----------|\n",
      "|   0 |     301005 | --               | substrate |\n",
      "|   1 |     114801 | 56.5990033893    | passive   |\n",
      "|   2 |     111407 | 21.2984375458    | passive   |\n",
      "|   3 |     114801 | 16.2341487822    | passive   |\n",
      "|   4 |     111407 | 7.58438779778    | passive   |\n",
      "|   5 |     114801 | 8.26669147558    | passive   |\n",
      "|   6 |     111407 | 9.80230712757    | passive   |\n",
      "|   7 |     114801 | 10               | passive   |\n",
      "|   8 |     112003 | 500              | passive   |\n",
      "|   9 |     114203 | 50               | passive   |\n",
      "|  10 |     116705 | 100              | absorber  |\n",
      "[1, 9]\n",
      "[1, 2, 3, 4, 5, 6, 7, 8, 9]\n",
      "26.2739127116 (ma/cm^2)\n",
      "25.0000000149\n",
      "|   # |   Material | Thickness (nm)   | Type      |\n",
      "|-----+------------+------------------+-----------|\n",
      "|   0 |     301005 | --               | substrate |\n",
      "|   1 |     114801 | 57.5709662014    | passive   |\n",
      "|   2 |     111407 | 23.2252531395    | passive   |\n",
      "|   3 |     114801 | 20.0675690397    | passive   |\n",
      "|   4 |     111407 | 10.0150080216    | passive   |\n",
      "|   5 |     114801 | 7.65219922632    | passive   |\n",
      "|   6 |     111407 | 18.0930542366    | passive   |\n",
      "|   7 |     114801 | 0.630898178237   | passive   |\n",
      "|   8 |     112003 | 500.214746311    | passive   |\n",
      "|   9 |     114203 | 25.0000000149    | passive   |\n",
      "|  10 |     116705 | 100              | absorber  |\n",
      "============================================================================================\n",
      "0.818394615282\n",
      "============================================================================================\n",
      "|   # |   Material | Thickness (nm)   | Type      |\n",
      "|-----+------------+------------------+-----------|\n",
      "|   0 |     301005 | --               | substrate |\n",
      "|   1 |     114801 | 57.5709662014    | passive   |\n",
      "|   2 |     111407 | 23.2252531395    | passive   |\n",
      "|   3 |     114801 | 20.0675690397    | passive   |\n",
      "|   4 |     111407 | 10.0150080216    | passive   |\n",
      "|   5 |     114801 | 7.65219922632    | passive   |\n",
      "|   6 |     111407 | 18.0930542366    | passive   |\n",
      "|   7 |     114801 | 0.630898178237   | passive   |\n",
      "|   8 |     111407 | 10               | passive   |\n",
      "|   # |   Material | Thickness (nm)   | Type      |\n",
      "|-----+------------+------------------+-----------|\n",
      "|   0 |     301005 | --               | substrate |\n",
      "|   1 |     114801 | 57.5709662014    | passive   |\n",
      "|   2 |     111407 | 23.2252531395    | passive   |\n",
      "|   3 |     114801 | 20.0675690397    | passive   |\n",
      "|   4 |     111407 | 10.0150080216    | passive   |\n",
      "|   5 |     114801 | 7.65219922632    | passive   |\n",
      "|   6 |     111407 | 18.0930542366    | passive   |\n",
      "|   7 |     114801 | 0.630898178237   | passive   |\n",
      "|   8 |     111407 | 10               | passive   |\n",
      "|   9 |     112003 | 500              | passive   |\n",
      "|   # |   Material | Thickness (nm)   | Type      |\n",
      "|-----+------------+------------------+-----------|\n",
      "|   0 |     301005 | --               | substrate |\n",
      "|   1 |     114801 | 57.5709662014    | passive   |\n",
      "|   2 |     111407 | 23.2252531395    | passive   |\n",
      "|   3 |     114801 | 20.0675690397    | passive   |\n",
      "|   4 |     111407 | 10.0150080216    | passive   |\n",
      "|   5 |     114801 | 7.65219922632    | passive   |\n",
      "|   6 |     111407 | 18.0930542366    | passive   |\n",
      "|   7 |     114801 | 0.630898178237   | passive   |\n",
      "|   8 |     111407 | 10               | passive   |\n",
      "|   9 |     112003 | 500              | passive   |\n",
      "|  10 |     114203 | 50               | passive   |\n",
      "|   # |   Material | Thickness (nm)   | Type      |\n",
      "|-----+------------+------------------+-----------|\n",
      "|   0 |     301005 | --               | substrate |\n",
      "|   1 |     114801 | 57.5709662014    | passive   |\n",
      "|   2 |     111407 | 23.2252531395    | passive   |\n",
      "|   3 |     114801 | 20.0675690397    | passive   |\n",
      "|   4 |     111407 | 10.0150080216    | passive   |\n",
      "|   5 |     114801 | 7.65219922632    | passive   |\n",
      "|   6 |     111407 | 18.0930542366    | passive   |\n",
      "|   7 |     114801 | 0.630898178237   | passive   |\n",
      "|   8 |     111407 | 10               | passive   |\n",
      "|   9 |     112003 | 500              | passive   |\n",
      "|  10 |     114203 | 50               | passive   |\n",
      "|  11 |     116705 | 100              | absorber  |\n",
      "[1, 10]\n",
      "[1, 2, 3, 4, 5, 6, 7, 8, 9, 10]\n",
      "26.2162758789 (ma/cm^2)\n",
      "25.0\n",
      "|   # |   Material | Thickness (nm)   | Type      |\n",
      "|-----+------------+------------------+-----------|\n",
      "|   0 |     301005 | --               | substrate |\n",
      "|   1 |     114801 | 59.5313739771    | passive   |\n",
      "|   2 |     111407 | 28.0047323078    | passive   |\n",
      "|   3 |     114801 | 18.6796004234    | passive   |\n",
      "|   4 |     111407 | 11.960808789     | passive   |\n",
      "|   5 |     114801 | 7.95075248777    | passive   |\n",
      "|   6 |     111407 | 19.0169256149    | passive   |\n",
      "|   7 |     114801 | 4.99224387234    | passive   |\n",
      "|   8 |     111407 | 9.26462609932    | passive   |\n",
      "|   9 |     112003 | 500.684352185    | passive   |\n",
      "|  10 |     114203 | 25.0             | passive   |\n",
      "|  11 |     116705 | 100              | absorber  |\n",
      "============================================================================================\n",
      "0.82066512872\n",
      "============================================================================================\n",
      "even 8\n",
      "|   # |   Material | Thickness (nm)   | Type      |\n",
      "|-----+------------+------------------+-----------|\n",
      "|   0 |     301005 | --               | substrate |\n",
      "|   1 |     114801 | 59.5313739771    | passive   |\n",
      "|   2 |     111407 | 28.0047323078    | passive   |\n",
      "|   3 |     114801 | 18.6796004234    | passive   |\n",
      "|   4 |     111407 | 11.960808789     | passive   |\n",
      "|   5 |     114801 | 7.95075248777    | passive   |\n",
      "|   6 |     111407 | 19.0169256149    | passive   |\n",
      "|   7 |     114801 | 4.99224387234    | passive   |\n",
      "|   8 |     111407 | 9.26462609932    | passive   |\n",
      "|   9 |     114801 | 10               | passive   |\n",
      "|   # |   Material | Thickness (nm)   | Type      |\n",
      "|-----+------------+------------------+-----------|\n",
      "|   0 |     301005 | --               | substrate |\n",
      "|   1 |     114801 | 59.5313739771    | passive   |\n",
      "|   2 |     111407 | 28.0047323078    | passive   |\n",
      "|   3 |     114801 | 18.6796004234    | passive   |\n",
      "|   4 |     111407 | 11.960808789     | passive   |\n",
      "|   5 |     114801 | 7.95075248777    | passive   |\n",
      "|   6 |     111407 | 19.0169256149    | passive   |\n",
      "|   7 |     114801 | 4.99224387234    | passive   |\n",
      "|   8 |     111407 | 9.26462609932    | passive   |\n",
      "|   9 |     114801 | 10               | passive   |\n",
      "|  10 |     112003 | 500              | passive   |\n",
      "|   # |   Material | Thickness (nm)   | Type      |\n",
      "|-----+------------+------------------+-----------|\n",
      "|   0 |     301005 | --               | substrate |\n",
      "|   1 |     114801 | 59.5313739771    | passive   |\n",
      "|   2 |     111407 | 28.0047323078    | passive   |\n",
      "|   3 |     114801 | 18.6796004234    | passive   |\n",
      "|   4 |     111407 | 11.960808789     | passive   |\n",
      "|   5 |     114801 | 7.95075248777    | passive   |\n",
      "|   6 |     111407 | 19.0169256149    | passive   |\n",
      "|   7 |     114801 | 4.99224387234    | passive   |\n",
      "|   8 |     111407 | 9.26462609932    | passive   |\n",
      "|   9 |     114801 | 10               | passive   |\n",
      "|  10 |     112003 | 500              | passive   |\n",
      "|  11 |     114203 | 50               | passive   |\n",
      "|   # |   Material | Thickness (nm)   | Type      |\n",
      "|-----+------------+------------------+-----------|\n",
      "|   0 |     301005 | --               | substrate |\n",
      "|   1 |     114801 | 59.5313739771    | passive   |\n",
      "|   2 |     111407 | 28.0047323078    | passive   |\n",
      "|   3 |     114801 | 18.6796004234    | passive   |\n",
      "|   4 |     111407 | 11.960808789     | passive   |\n",
      "|   5 |     114801 | 7.95075248777    | passive   |\n",
      "|   6 |     111407 | 19.0169256149    | passive   |\n",
      "|   7 |     114801 | 4.99224387234    | passive   |\n",
      "|   8 |     111407 | 9.26462609932    | passive   |\n",
      "|   9 |     114801 | 10               | passive   |\n",
      "|  10 |     112003 | 500              | passive   |\n",
      "|  11 |     114203 | 50               | passive   |\n",
      "|  12 |     116705 | 100              | absorber  |\n",
      "[1, 11]\n",
      "[1, 2, 3, 4, 5, 6, 7, 8, 9, 10, 11]\n",
      "26.1692433876 (ma/cm^2)\n",
      "25.0000000149\n",
      "|   # |   Material | Thickness (nm)   | Type      |\n",
      "|-----+------------+------------------+-----------|\n",
      "|   0 |     301005 | --               | substrate |\n",
      "|   1 |     114801 | 60.7588865103    | passive   |\n",
      "|   2 |     111407 | 29.2531216231    | passive   |\n",
      "|   3 |     114801 | 19.7602302751    | passive   |\n",
      "|   4 |     111407 | 12.5625849878    | passive   |\n",
      "|   5 |     114801 | 8.38760100754    | passive   |\n",
      "|   6 |     111407 | 20.5642631046    | passive   |\n",
      "|   7 |     114801 | 2.79496459909    | passive   |\n",
      "|   8 |     111407 | 11.3796782263    | passive   |\n",
      "|   9 |     114801 | 7.40033413305    | passive   |\n",
      "|  10 |     112003 | 500.0            | passive   |\n",
      "|  11 |     114203 | 25.0000000149    | passive   |\n",
      "|  12 |     116705 | 100              | absorber  |\n",
      "============================================================================================\n",
      "0.821788579063\n",
      "============================================================================================\n",
      "|   # |   Material | Thickness (nm)   | Type      |\n",
      "|-----+------------+------------------+-----------|\n",
      "|   0 |     301005 | --               | substrate |\n",
      "|   1 |     114801 | 60.7588865103    | passive   |\n",
      "|   2 |     111407 | 29.2531216231    | passive   |\n",
      "|   3 |     114801 | 19.7602302751    | passive   |\n",
      "|   4 |     111407 | 12.5625849878    | passive   |\n",
      "|   5 |     114801 | 8.38760100754    | passive   |\n",
      "|   6 |     111407 | 20.5642631046    | passive   |\n",
      "|   7 |     114801 | 2.79496459909    | passive   |\n",
      "|   8 |     111407 | 11.3796782263    | passive   |\n",
      "|   9 |     114801 | 7.40033413305    | passive   |\n",
      "|  10 |     111407 | 10               | passive   |\n",
      "|   # |   Material | Thickness (nm)   | Type      |\n",
      "|-----+------------+------------------+-----------|\n",
      "|   0 |     301005 | --               | substrate |\n",
      "|   1 |     114801 | 60.7588865103    | passive   |\n",
      "|   2 |     111407 | 29.2531216231    | passive   |\n",
      "|   3 |     114801 | 19.7602302751    | passive   |\n",
      "|   4 |     111407 | 12.5625849878    | passive   |\n",
      "|   5 |     114801 | 8.38760100754    | passive   |\n",
      "|   6 |     111407 | 20.5642631046    | passive   |\n",
      "|   7 |     114801 | 2.79496459909    | passive   |\n",
      "|   8 |     111407 | 11.3796782263    | passive   |\n",
      "|   9 |     114801 | 7.40033413305    | passive   |\n",
      "|  10 |     111407 | 10               | passive   |\n",
      "|  11 |     112003 | 500              | passive   |\n",
      "|   # |   Material | Thickness (nm)   | Type      |\n",
      "|-----+------------+------------------+-----------|\n",
      "|   0 |     301005 | --               | substrate |\n",
      "|   1 |     114801 | 60.7588865103    | passive   |\n",
      "|   2 |     111407 | 29.2531216231    | passive   |\n",
      "|   3 |     114801 | 19.7602302751    | passive   |\n",
      "|   4 |     111407 | 12.5625849878    | passive   |\n",
      "|   5 |     114801 | 8.38760100754    | passive   |\n",
      "|   6 |     111407 | 20.5642631046    | passive   |\n",
      "|   7 |     114801 | 2.79496459909    | passive   |\n",
      "|   8 |     111407 | 11.3796782263    | passive   |\n",
      "|   9 |     114801 | 7.40033413305    | passive   |\n",
      "|  10 |     111407 | 10               | passive   |\n",
      "|  11 |     112003 | 500              | passive   |\n",
      "|  12 |     114203 | 50               | passive   |\n",
      "|   # |   Material | Thickness (nm)   | Type      |\n",
      "|-----+------------+------------------+-----------|\n",
      "|   0 |     301005 | --               | substrate |\n",
      "|   1 |     114801 | 60.7588865103    | passive   |\n",
      "|   2 |     111407 | 29.2531216231    | passive   |\n",
      "|   3 |     114801 | 19.7602302751    | passive   |\n",
      "|   4 |     111407 | 12.5625849878    | passive   |\n",
      "|   5 |     114801 | 8.38760100754    | passive   |\n",
      "|   6 |     111407 | 20.5642631046    | passive   |\n",
      "|   7 |     114801 | 2.79496459909    | passive   |\n",
      "|   8 |     111407 | 11.3796782263    | passive   |\n",
      "|   9 |     114801 | 7.40033413305    | passive   |\n",
      "|  10 |     111407 | 10               | passive   |\n",
      "|  11 |     112003 | 500              | passive   |\n",
      "|  12 |     114203 | 50               | passive   |\n",
      "|  13 |     116705 | 100              | absorber  |\n",
      "[1, 12]\n",
      "[1, 2, 3, 4, 5, 6, 7, 8, 9, 10, 11, 12]\n",
      "26.2089197182 (ma/cm^2)\n",
      "25.0000000149\n",
      "|   # |   Material | Thickness (nm)   | Type      |\n",
      "|-----+------------+------------------+-----------|\n",
      "|   0 |     301005 | --               | substrate |\n",
      "|   1 |     114801 | 59.1512064235    | passive   |\n",
      "|   2 |     111407 | 26.2930709106    | passive   |\n",
      "|   3 |     114801 | 15.8030236451    | passive   |\n",
      "|   4 |     111407 | 12.8444335321    | passive   |\n",
      "|   5 |     114801 | 10.4238074054    | passive   |\n",
      "|   6 |     111407 | 19.9820958096    | passive   |\n",
      "|   7 |     114801 | 1.88969050865    | passive   |\n",
      "|   8 |     111407 | 10.3468941759    | passive   |\n",
      "|   9 |     114801 | 8.43143716237    | passive   |\n",
      "|  10 |     111407 | 8.52627570775    | passive   |\n",
      "|  11 |     112003 | 500.209753404    | passive   |\n",
      "|  12 |     114203 | 25.0000000149    | passive   |\n",
      "|  13 |     116705 | 100              | absorber  |\n",
      "============================================================================================\n",
      "0.821682837845\n",
      "============================================================================================\n"
     ]
    }
   ],
   "source": [
    "c = traml.Stack()\n",
    "\n",
    "peak = 0.6\n",
    "delta = 0.2\n",
    "mat2 = 105401 #MgF2\n",
    "sio2 = 111407 #SiO2\n",
    "zns = 114801 #ZnS\n",
    "zno = 112003 #ZnO\n",
    "mgo = 110902 #MgO\n",
    "#mat1 = 110104 #Al2O3\n",
    "zro2 = 112101\n",
    "stack_list = []\n",
    "\n",
    "c.add(zno, 500, bnds = (500, 2500))\n",
    "c.add(CdS, 50, bnds=(25, 250))\n",
    "c.add(CdTe, film_type='absorber')\n",
    "\n",
    "stack_list.append(copy.deepcopy(c))\n",
    "R=[]\n",
    "point = []\n",
    "point.append(c.jsc())\n",
    "print point\n",
    "n = [0]\n",
    "it = [1]\n",
    "\n",
    "result = minTR(c, [1,len(c.config)-2], peak, delta, TR='T')\n",
    "point.append(c.jsc())\n",
    "n.append(0)\n",
    "stack_list.append(copy.deepcopy(c))\n",
    "\n",
    "c.remove()\n",
    "c.remove()\n",
    "c.remove()\n",
    "\n",
    "N = 10\n",
    "for i in range(0, N):\n",
    "    if i % 2 == 0:\n",
    "        print 'even', i\n",
    "        c.add(zns,10, bnds=(0,100))\n",
    "    else:\n",
    "        c.add(sio2,10, bnds=(0,100))\n",
    "        \n",
    "    c.add(zno, 500, bnds = (500, 2500))\n",
    "    c.add(CdS, 50, bnds=(25, 250))\n",
    "    c.add(CdTe, film_type='absorber')\n",
    "    \n",
    "    \n",
    "    result = minTR(c, [1,len(c.config)-2], peak, delta, TR='T')\n",
    "    R.append(c.average('R',peak,delta))\n",
    "    n.append(i+1)\n",
    "    it.append(result.nit)\n",
    "    stack_list.append(copy.deepcopy(c))\n",
    "    point.append(c.jsc())\n",
    "    \n",
    "    print c.config[i+3][1]\n",
    "    \n",
    "   \n",
    "    c.table()\n",
    "    print '============================================================================================'\n",
    "    print c.average('T',peak,delta, o='a')\n",
    "    \n",
    "    \n",
    "    if i !=N-1:\n",
    "        c.remove()\n",
    "        c.remove()\n",
    "        c.remove()\n",
    "        \n",
    "    print '============================================================================================'\n",
    "    \n",
    "    \n",
    "    \n",
    "    \n",
    " "
   ]
  },
  {
   "cell_type": "code",
   "execution_count": 69,
   "metadata": {
    "collapsed": false
   },
   "outputs": [
    {
     "data": {
      "image/png": "[encoded data removed]",
      "text/plain": [
       "<matplotlib.figure.Figure at 0x7fc5f5771090>"
      ]
     },
     "metadata": {},
     "output_type": "display_data"
    }
   ],
   "source": [
    "c.plot(o='a')"
   ]
  },
  {
   "cell_type": "code",
   "execution_count": 74,
   "metadata": {
    "collapsed": false
   },
   "outputs": [
    {
     "data": {
      "image/png": "[encoded data removed]",
      "text/plain": [
       "<matplotlib.figure.Figure at 0x7fc5ec4f0090>"
      ]
     },
     "metadata": {},
     "output_type": "display_data"
    }
   ],
   "source": [
    "stack_list[0].plot(o='a')"
   ]
  },
  {
   "cell_type": "code",
   "execution_count": 71,
   "metadata": {
    "collapsed": false
   },
   "outputs": [
    {
     "data": {
      "text/plain": [
       "[<matplotlib.lines.Line2D at 0x7fc5ed57ae10>]"
      ]
     },
     "execution_count": 71,
     "metadata": {},
     "output_type": "execute_result"
    },
    {
     "data": {
      "image/png": "[encoded data removed]",
      "text/plain": [
       "<matplotlib.figure.Figure at 0x7fc5ec275110>"
      ]
     },
     "metadata": {},
     "output_type": "display_data"
    }
   ],
   "source": [
    "plt.plot(n, point, '-o')"
   ]
  },
  {
   "cell_type": "code",
   "execution_count": 72,
   "metadata": {
    "collapsed": false
   },
   "outputs": [
    {
     "data": {
      "text/plain": [
       "26.381015182654771"
      ]
     },
     "execution_count": 72,
     "metadata": {},
     "output_type": "execute_result"
    }
   ],
   "source": [
    "max(point)"
   ]
  },
  {
   "cell_type": "code",
   "execution_count": 73,
   "metadata": {
    "collapsed": false
   },
   "outputs": [
    {
     "data": {
      "text/plain": [
       "23.156526694012534"
      ]
     },
     "execution_count": 73,
     "metadata": {},
     "output_type": "execute_result"
    }
   ],
   "source": [
    "min(point)"
   ]
  },
  {
   "cell_type": "code",
   "execution_count": 66,
   "metadata": {
    "collapsed": false
   },
   "outputs": [
    {
     "data": {
      "text/plain": [
       "<matplotlib.figure.Figure at 0x7fc5f5763b90>"
      ]
     },
     "metadata": {},
     "output_type": "display_data"
    }
   ],
   "source": [
    "fig = plt.figure()"
   ]
  },
  {
   "cell_type": "markdown",
   "metadata": {},
   "source": [
    "for stack in stack_list:\n",
    "    stack.jsc()"
   ]
  },
  {
   "cell_type": "code",
   "execution_count": null,
   "metadata": {
    "collapsed": false
   },
   "outputs": [],
   "source": [
    "stack_list[0].config"
   ]
  },
  {
   "cell_type": "code",
   "execution_count": null,
   "metadata": {
    "collapsed": false
   },
   "outputs": [],
   "source": [
    "b = traml.Stack()"
   ]
  },
  {
   "cell_type": "code",
   "execution_count": null,
   "metadata": {
    "collapsed": false
   },
   "outputs": [],
   "source": [
    "b.add(CdZnS, 200)"
   ]
  },
  {
   "cell_type": "code",
   "execution_count": null,
   "metadata": {
    "collapsed": false
   },
   "outputs": [],
   "source": [
    "b.plot()"
   ]
  },
  {
   "cell_type": "code",
   "execution_count": 43,
   "metadata": {
    "collapsed": true
   },
   "outputs": [],
   "source": [
    "b.remove()"
   ]
  },
  {
   "cell_type": "code",
   "execution_count": 44,
   "metadata": {
    "collapsed": false
   },
   "outputs": [
    {
     "name": "stdout",
     "output_type": "stream",
     "text": [
      "|   # |   Material | Thickness (nm)   | Type      |\n",
      "|-----+------------+------------------+-----------|\n",
      "|   0 |     301005 | --               | substrate |\n"
     ]
    }
   ],
   "source": [
    "b.table()"
   ]
  },
  {
   "cell_type": "code",
   "execution_count": 45,
   "metadata": {
    "collapsed": false
   },
   "outputs": [
    {
     "name": "stdout",
     "output_type": "stream",
     "text": [
      "|     ID | SHELF   | BOOK          | PAGE         | DESCRIPTION                    |\n",
      "|--------+---------+---------------+--------------+--------------------------------|\n",
      "| 112003 | main    | ZnO           | Treharne-AZO | Treharne et al. 2011: n,k 0.3- |\n",
      "| 114203 | main    | CdS           | Treharne     | Treharne et al. 2011: n,k 0.3- |\n",
      "| 114301 | main    | CdZnS         | Treharne     | Treharne et al. 2014: n,k      |\n",
      "| 116705 | main    | CdTe          | Treharne     | Treharne et al. 2011: n,k 0.3- |\n",
      "| 316001 | glass   | NSG-OptiWhite | OptiWhite    | OptiWhite                      |\n"
     ]
    }
   ],
   "source": [
    "b.library.search('Treharne')"
   ]
  },
  {
   "cell_type": "code",
   "execution_count": 47,
   "metadata": {
    "collapsed": false
   },
   "outputs": [
    {
     "data": {
      "image/png": "[encoded data removed]",
      "text/plain": [
       "<matplotlib.figure.Figure at 0x7fc5eca30d10>"
      ]
     },
     "metadata": {},
     "output_type": "display_data"
    }
   ],
   "source": [
    "b.library.plot(301005)"
   ]
  },
  {
   "cell_type": "code",
   "execution_count": null,
   "metadata": {
    "collapsed": true
   },
   "outputs": [],
   "source": []
  }
 ],
 "metadata": {
  "kernelspec": {
   "display_name": "Python 2",
   "language": "python",
   "name": "python2"
  },
  "language_info": {
   "codemirror_mode": {
    "name": "ipython",
    "version": 2
   },
   "file_extension": ".py",
   "mimetype": "text/x-python",
   "name": "python",
   "nbconvert_exporter": "python",
   "pygments_lexer": "ipython2",
   "version": "2.7.6"
  }
 },
 "nbformat": 4,
 "nbformat_minor": 0
}
