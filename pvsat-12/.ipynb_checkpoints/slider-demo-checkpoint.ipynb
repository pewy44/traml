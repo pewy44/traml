{
 "cells": [
  {
   "cell_type": "markdown",
   "metadata": {},
   "source": [
    "<h1>Traml Slider Demo</h1>\n",
    "<h3>Single film of AZO on SLG substrate</h3>"
   ]
  },
  {
   "cell_type": "code",
   "execution_count": 1,
   "metadata": {
    "collapsed": false
   },
   "outputs": [
    {
     "name": "stdout",
     "output_type": "stream",
     "text": [
      "Populating the interactive namespace from numpy and matplotlib\n"
     ]
    }
   ],
   "source": [
    "%pylab inline\n",
    "import traml #TMM script\n",
    "AZO = 112003 \n",
    "a = traml.Stack() #create new stack object, default SLG substrate\n",
    "a.add(AZO) #add AZO layer (default 100 nm)"
   ]
  },
  {
   "cell_type": "code",
   "execution_count": 2,
   "metadata": {
    "collapsed": false
   },
   "outputs": [],
   "source": [
    "def getTR(stack):\n",
    "    '''Get T and R for stack'''\n",
    "    T = stack.get_T()\n",
    "    R = stack.get_R()\n",
    "    x = stack.x\n",
    "    return x, real(T), real(R)"
   ]
  },
  {
   "cell_type": "code",
   "execution_count": 7,
   "metadata": {
    "collapsed": false
   },
   "outputs": [],
   "source": [
    "def plot(d):\n",
    "    '''Plot T and R for stack'''\n",
    "    \n",
    "    fig = figure(figsize(9,5))\n",
    "    ax = fig.add_subplot(111)\n",
    "    \n",
    "    stack = a\n",
    "    stack.d(1, d) #change layer 1 thickness\n",
    "    x, T, R = getTR(a) \n",
    "    \n",
    "    ax.plot(x, T, color='red', linewidth=3)\n",
    "    ax.plot(x, R, color='blue', linewidth=3)\n",
    "    ax.set_xlim([min(x), max(x)])\n",
    "    ax.set_ylim([0,1])\n",
    "    ax.set_xlabel('$\\lambda$ ($\\mu$m)', fontsize=20)\n",
    "    ax.set_ylabel('T, R', fontsize=20)\n",
    "    \n",
    "    \n",
    "    "
   ]
  },
  {
   "cell_type": "markdown",
   "metadata": {},
   "source": [
    "<h1>Traml Slider Demo</h1>\n",
    "<h3>Single film of AZO on SLG substrate</h3>"
   ]
  },
  {
   "cell_type": "code",
   "execution_count": 8,
   "metadata": {
    "collapsed": false
   },
   "outputs": [
    {
     "data": {
      "image/png": "[encoded data removed]",
      "text/plain": [
       "<matplotlib.figure.Figure at 0x7f8eface4310>"
      ]
     },
     "metadata": {},
     "output_type": "display_data"
    }
   ],
   "source": [
    "from ipywidgets import *\n",
    "d_s = FloatSlider(min=0, max=1000, step=5, value = 0)\n",
    "interactive(plot,a=a,d=d_s)"
   ]
  }
 ],
 "metadata": {
  "kernelspec": {
   "display_name": "Python 2",
   "language": "python",
   "name": "python2"
  },
  "language_info": {
   "codemirror_mode": {
    "name": "ipython",
    "version": 2
   },
   "file_extension": ".py",
   "mimetype": "text/x-python",
   "name": "python",
   "nbconvert_exporter": "python",
   "pygments_lexer": "ipython2",
   "version": "2.7.6"
  }
 },
 "nbformat": 4,
 "nbformat_minor": 0
}
