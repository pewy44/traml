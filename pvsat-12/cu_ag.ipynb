{
 "cells": [
  {
   "cell_type": "code",
   "execution_count": 2,
   "metadata": {
    "collapsed": false,
    "scrolled": true
   },
   "outputs": [],
   "source": [
    "%matplotlib inline\n",
    "from scipy.optimize import minimize\n",
    "import matplotlib.pyplot as plt\n",
    "import numpy as np\n",
    "import traml\n",
    "import copy"
   ]
  },
  {
   "cell_type": "code",
   "execution_count": 3,
   "metadata": {
    "collapsed": false
   },
   "outputs": [
    {
     "name": "stdout",
     "output_type": "stream",
     "text": [
      "|   # |   Material | Thickness (nm)   | Type      |\n",
      "|-----+------------+------------------+-----------|\n",
      "|   0 |     301005 | --               | substrate |\n"
     ]
    }
   ],
   "source": [
    "a = traml.Stack()"
   ]
  },
  {
   "cell_type": "code",
   "execution_count": 4,
   "metadata": {
    "collapsed": false
   },
   "outputs": [
    {
     "name": "stdout",
     "output_type": "stream",
     "text": [
      "|     ID | SHELF   | BOOK           | PAGE     | DESCRIPTION                    |\n",
      "|--------+---------+----------------+----------+--------------------------------|\n",
      "| 101001 | main    | ZnSiAs2        | Boyd-o   | Boyd et al. 1972: n(o) 0.7-11. |\n",
      "| 101002 | main    | ZnSiAs2        | Boyd-e   | Boyd et al. 1972: n(e) 0.7-11. |\n",
      "| 114301 | main    | CdZnS          | Treharne | Treharne et al. 2014: n,k      |\n",
      "| 114801 | main    | ZnS            | Debenham | Debenham 1984: Cubic ZnS; n 0. |\n",
      "| 115701 | main    | ZnSe           | Connolly | Connolly et al. 1979: n 0.54-1 |\n",
      "| 115702 | main    | ZnSe           | Marple   | Marple 1964: n 0.48-2.5 µm     |\n",
      "| 314738 | glass   | SUMITA-molding | K-ZnSF8  | K-ZnSF8                        |\n"
     ]
    }
   ],
   "source": [
    "a.library.search('zns')"
   ]
  },
  {
   "cell_type": "code",
   "execution_count": 5,
   "metadata": {
    "collapsed": false
   },
   "outputs": [],
   "source": [
    "ag = 100101\n",
    "sio2 = 111407\n",
    "zno = 112003\n",
    "cds = 114203\n",
    "cdte= 116705\n",
    "cdzns = 114301\n",
    "cu=104301\n",
    "zns = 114301\n"
   ]
  },
  {
   "cell_type": "code",
   "execution_count": 6,
   "metadata": {
    "collapsed": false
   },
   "outputs": [
    {
     "name": "stdout",
     "output_type": "stream",
     "text": [
      "|   # |   Material | Thickness (nm)   | Type      |\n",
      "|-----+------------+------------------+-----------|\n",
      "|   0 |     301005 | --               | substrate |\n",
      "|   # |   Material | Thickness (nm)   | Type      |\n",
      "|-----+------------+------------------+-----------|\n",
      "|   0 |     301005 | --               | substrate |\n",
      "|   1 |     111407 | 5                | passive   |\n",
      "|   # |   Material | Thickness (nm)   | Type      |\n",
      "|-----+------------+------------------+-----------|\n",
      "|   0 |     301005 | --               | substrate |\n",
      "|   1 |     111407 | 5                | passive   |\n",
      "|   2 |     104301 | 1                | passive   |\n",
      "|   # |   Material | Thickness (nm)   | Type      |\n",
      "|-----+------------+------------------+-----------|\n",
      "|   0 |     301005 | --               | substrate |\n",
      "|   1 |     111407 | 5                | passive   |\n",
      "|   2 |     104301 | 1                | passive   |\n",
      "|   3 |     100101 | 5                | passive   |\n",
      "|   # |   Material | Thickness (nm)   | Type      |\n",
      "|-----+------------+------------------+-----------|\n",
      "|   0 |     301005 | --               | substrate |\n",
      "|   1 |     111407 | 5                | passive   |\n",
      "|   2 |     104301 | 1                | passive   |\n",
      "|   3 |     100101 | 5                | passive   |\n",
      "|   4 |     112003 | 20               | passive   |\n",
      "|   # |   Material | Thickness (nm)   | Type      |\n",
      "|-----+------------+------------------+-----------|\n",
      "|   0 |     301005 | --               | substrate |\n",
      "|   1 |     111407 | 5                | passive   |\n",
      "|   2 |     104301 | 1                | passive   |\n",
      "|   3 |     100101 | 5                | passive   |\n",
      "|   4 |     112003 | 20               | passive   |\n",
      "|   5 |     114203 | 30               | passive   |\n",
      "|   # |   Material | Thickness (nm)   | Type      |\n",
      "|-----+------------+------------------+-----------|\n",
      "|   0 |     301005 | --               | substrate |\n",
      "|   1 |     111407 | 5                | passive   |\n",
      "|   2 |     104301 | 1                | passive   |\n",
      "|   3 |     100101 | 5                | passive   |\n",
      "|   4 |     112003 | 20               | passive   |\n",
      "|   5 |     114203 | 30               | passive   |\n",
      "|   6 |     116705 | 100              | absorber  |\n"
     ]
    }
   ],
   "source": [
    "a = traml.Stack()\n",
    "a.add(sio2, 5)\n",
    "a.add(cu, 1)\n",
    "a.add(ag, 5)\n",
    "a.add(zno, 20)\n",
    "a.add(cds, 30)\n",
    "a.add(cdte, film_type='absorber')"
   ]
  },
  {
   "cell_type": "code",
   "execution_count": 7,
   "metadata": {
    "collapsed": false
   },
   "outputs": [
    {
     "name": "stdout",
     "output_type": "stream",
     "text": [
      "24.9754416023 (ma/cm^2)\n"
     ]
    },
    {
     "data": {
      "text/plain": [
       "24.975441602300613"
      ]
     },
     "execution_count": 7,
     "metadata": {},
     "output_type": "execute_result"
    }
   ],
   "source": [
    "a.jsc()"
   ]
  },
  {
   "cell_type": "code",
   "execution_count": 8,
   "metadata": {
    "collapsed": false
   },
   "outputs": [
    {
     "name": "stdout",
     "output_type": "stream",
     "text": [
      "|   # |   Material | Thickness (nm)   | Type      |\n",
      "|-----+------------+------------------+-----------|\n",
      "|   0 |     301005 | --               | substrate |\n",
      "|   # |   Material | Thickness (nm)   | Type      |\n",
      "|-----+------------+------------------+-----------|\n",
      "|   0 |     301005 | --               | substrate |\n",
      "|   1 |     111407 | 2                | passive   |\n",
      "|   # |   Material | Thickness (nm)   | Type      |\n",
      "|-----+------------+------------------+-----------|\n",
      "|   0 |     301005 | --               | substrate |\n",
      "|   1 |     111407 | 2                | passive   |\n",
      "|   2 |     104301 | 1                | passive   |\n",
      "|   # |   Material | Thickness (nm)   | Type      |\n",
      "|-----+------------+------------------+-----------|\n",
      "|   0 |     301005 | --               | substrate |\n",
      "|   1 |     111407 | 2                | passive   |\n",
      "|   2 |     104301 | 1                | passive   |\n",
      "|   3 |     100101 | 6                | passive   |\n",
      "|   # |   Material | Thickness (nm)   | Type      |\n",
      "|-----+------------+------------------+-----------|\n",
      "|   0 |     301005 | --               | substrate |\n",
      "|   1 |     111407 | 2                | passive   |\n",
      "|   2 |     104301 | 1                | passive   |\n",
      "|   3 |     100101 | 6                | passive   |\n",
      "|   4 |     112003 | 5                | passive   |\n",
      "|   # |   Material | Thickness (nm)   | Type      |\n",
      "|-----+------------+------------------+-----------|\n",
      "|   0 |     301005 | --               | substrate |\n",
      "|   1 |     111407 | 2                | passive   |\n",
      "|   2 |     104301 | 1                | passive   |\n",
      "|   3 |     100101 | 6                | passive   |\n",
      "|   4 |     112003 | 5                | passive   |\n",
      "|   5 |     114203 | 30               | passive   |\n",
      "|   # |   Material | Thickness (nm)   | Type      |\n",
      "|-----+------------+------------------+-----------|\n",
      "|   0 |     301005 | --               | substrate |\n",
      "|   1 |     111407 | 2                | passive   |\n",
      "|   2 |     104301 | 1                | passive   |\n",
      "|   3 |     100101 | 6                | passive   |\n",
      "|   4 |     112003 | 5                | passive   |\n",
      "|   5 |     114203 | 30               | passive   |\n",
      "|   6 |     116705 | 100              | absorber  |\n",
      "|   # |   Material | Thickness (nm)   | Type      |\n",
      "|-----+------------+------------------+-----------|\n",
      "|   0 |     301005 | --               | substrate |\n",
      "|   1 |     111407 | 2                | passive   |\n",
      "|   2 |     104301 | 1                | passive   |\n",
      "|   3 |     100101 | 6                | passive   |\n",
      "|   4 |     112003 | 5                | passive   |\n",
      "|   5 |     114301 | 30               | passive   |\n",
      "|   6 |     116705 | 100              | absorber  |\n",
      "23.1935286599 (ma/cm^2)\n",
      "23.1935286599 (ma/cm^2)\n",
      "23.3331339019 (ma/cm^2)\n",
      "23.388255374 (ma/cm^2)\n",
      "23.4734250303 (ma/cm^2)\n",
      "23.585530873 (ma/cm^2)\n",
      "23.6138194594 (ma/cm^2)\n",
      "23.7845558334 (ma/cm^2)\n",
      "23.7537368169 (ma/cm^2)\n",
      "23.9844996008 (ma/cm^2)\n",
      "23.89260447 (ma/cm^2)\n",
      "24.184510387 (ma/cm^2)\n",
      "24.0298628501 (ma/cm^2)\n",
      "24.3837262269 (ma/cm^2)\n",
      "24.1649703732 (ma/cm^2)\n",
      "24.5812861095 (ma/cm^2)\n",
      "24.2974077904 (ma/cm^2)\n",
      "24.7763407196 (ma/cm^2)\n",
      "24.4266818472 (ma/cm^2)\n",
      "24.9680623065 (ma/cm^2)\n",
      "24.552328187 (ma/cm^2)\n",
      "25.1556533368 (ma/cm^2)\n",
      "24.673913483 (ma/cm^2)\n",
      "25.3383537396 (ma/cm^2)\n",
      "24.7910368315 (ma/cm^2)\n",
      "25.5154467064 (ma/cm^2)\n",
      "24.9033304737 (ma/cm^2)\n",
      "25.6862631253 (ma/cm^2)\n",
      "25.0104599394 (ma/cm^2)\n",
      "25.8501848071 (ma/cm^2)\n",
      "25.1121237143 (ma/cm^2)\n",
      "26.0066466971 (ma/cm^2)\n",
      "25.2080525378 (ma/cm^2)\n",
      "26.1551382644 (ma/cm^2)\n",
      "25.2980084319 (ma/cm^2)\n",
      "26.2952042358 (ma/cm^2)\n",
      "25.3817835468 (ma/cm^2)\n",
      "26.4264448053 (ma/cm^2)\n",
      "25.4591988993 (ma/cm^2)\n",
      "26.5485154123 (ma/cm^2)\n",
      "25.5301030635 (ma/cm^2)\n",
      "26.6611261493 (ma/cm^2)\n",
      "25.5943708563 (ma/cm^2)\n",
      "26.7640408362 (ma/cm^2)\n",
      "25.6519020526 (ma/cm^2)\n",
      "26.8570757858 (ma/cm^2)\n",
      "25.7026201505 (ma/cm^2)\n",
      "26.9400982779 (ma/cm^2)\n",
      "25.7464711974 (ma/cm^2)\n",
      "27.0130247611 (ma/cm^2)\n",
      "25.7834226855 (ma/cm^2)\n",
      "27.0758188047 (ma/cm^2)\n",
      "25.8134625134 (ma/cm^2)\n",
      "27.1284888291 (ma/cm^2)\n",
      "25.8365980124 (ma/cm^2)\n",
      "27.1710856488 (ma/cm^2)\n",
      "25.8528550304 (ma/cm^2)\n",
      "27.2036998651 (ma/cm^2)\n",
      "25.8622770645 (ma/cm^2)\n",
      "27.2264591504 (ma/cm^2)\n",
      "25.8649244347 (ma/cm^2)\n",
      "27.2395254629 (ma/cm^2)\n",
      "25.8608734889 (ma/cm^2)\n",
      "27.2430922332 (ma/cm^2)\n",
      "25.8502158304 (ma/cm^2)\n",
      "27.2373815583 (ma/cm^2)\n",
      "25.8330575602 (ma/cm^2)\n",
      "27.2226414356 (ma/cm^2)\n",
      "25.8095185272 (ma/cm^2)\n",
      "27.1991430648 (ma/cm^2)\n",
      "25.7797315799 (ma/cm^2)\n",
      "27.1671782393 (ma/cm^2)\n",
      "25.7438418158 (ma/cm^2)\n",
      "27.1270568452 (ma/cm^2)\n",
      "25.702005825 (ma/cm^2)\n",
      "27.0791044785 (ma/cm^2)\n",
      "25.654390925 (ma/cm^2)\n",
      "27.0236601894 (ma/cm^2)\n",
      "25.6011743883 (ma/cm^2)\n",
      "26.9610743552 (ma/cm^2)\n",
      "25.5425426603 (ma/cm^2)\n",
      "26.8917066833 (ma/cm^2)\n",
      "25.4786905708 (ma/cm^2)\n",
      "26.8159243402 (ma/cm^2)\n",
      "25.4098205395 (ma/cm^2)\n",
      "26.7341002032 (ma/cm^2)\n",
      "25.3361417788 (ma/cm^2)\n",
      "26.6466112275 (ma/cm^2)\n",
      "25.2578694976 (ma/cm^2)\n",
      "26.5538369225 (ma/cm^2)\n",
      "25.1752241072 (ma/cm^2)\n",
      "26.4561579314 (ma/cm^2)\n",
      "25.088430435 (ma/cm^2)\n",
      "26.3539547055 (ma/cm^2)\n",
      "24.9977169493 (ma/cm^2)\n",
      "26.2476062706 (ma/cm^2)\n",
      "24.9033149971 (ma/cm^2)\n",
      "26.1374890779 (ma/cm^2)\n",
      "24.8054580616 (ma/cm^2)\n",
      "26.0239759383 (ma/cm^2)\n",
      "24.7043810398 (ma/cm^2)\n",
      "25.9074350361 (ma/cm^2)\n",
      "24.6003195459 (ma/cm^2)\n",
      "25.7882290235 (ma/cm^2)\n",
      "24.4935092422 (ma/cm^2)\n",
      "25.6667141934 (ma/cm^2)\n",
      "24.3841852016 (ma/cm^2)\n",
      "25.5432397337 (ma/cm^2)\n",
      "24.2725813033 (ma/cm^2)\n",
      "25.4181470631 (ma/cm^2)\n",
      "24.1589296641 (ma/cm^2)\n",
      "25.2917692484 (ma/cm^2)\n",
      "24.0434601072 (ma/cm^2)\n",
      "25.164430506 (ma/cm^2)\n",
      "23.9263996708 (ma/cm^2)\n",
      "25.036445782 (ma/cm^2)\n",
      "23.8079721549 (ma/cm^2)\n",
      "24.908120412 (ma/cm^2)\n",
      "23.6883977089 (ma/cm^2)\n",
      "24.7797498519 (ma/cm^2)\n",
      "23.5678924586 (ma/cm^2)\n",
      "24.6516194732 (ma/cm^2)\n",
      "23.4466681722 (ma/cm^2)\n",
      "24.5240044136 (ma/cm^2)\n",
      "23.3249319629 (ma/cm^2)\n",
      "24.3971694708 (ma/cm^2)\n",
      "23.2028860279 (ma/cm^2)\n",
      "24.2713690273 (ma/cm^2)\n",
      "23.0807274207 (ma/cm^2)\n",
      "24.1468469947 (ma/cm^2)\n",
      "22.9586478536 (ma/cm^2)\n",
      "24.0238367636 (ma/cm^2)\n",
      "22.8368335289 (ma/cm^2)\n",
      "23.9025611506 (ma/cm^2)\n",
      "22.715464996 (ma/cm^2)\n",
      "23.783232332 (ma/cm^2)\n",
      "22.59471703 (ma/cm^2)\n",
      "23.6660517589 (ma/cm^2)\n",
      "22.4747585315 (ma/cm^2)\n",
      "23.5512100489 (ma/cm^2)\n",
      "22.3557524439 (ma/cm^2)\n",
      "23.4388868549 (ma/cm^2)\n",
      "22.2378556859 (ma/cm^2)\n",
      "23.3292507114 (ma/cm^2)\n",
      "22.1212190987 (ma/cm^2)\n",
      "23.2224588619 (ma/cm^2)\n",
      "22.0059874048 (ma/cm^2)\n",
      "23.1186570744 (ma/cm^2)\n",
      "21.8922991784 (ma/cm^2)\n",
      "23.0179794515 (ma/cm^2)\n",
      "21.7802868259 (ma/cm^2)\n",
      "22.9205482421 (ma/cm^2)\n",
      "21.6700765758 (ma/cm^2)\n",
      "22.8264736664 (ma/cm^2)\n",
      "21.561788478 (ma/cm^2)\n",
      "22.73585376 (ma/cm^2)\n",
      "21.4555364111 (ma/cm^2)\n",
      "22.6487742478 (ma/cm^2)\n",
      "21.3514280978 (ma/cm^2)\n",
      "22.565308455 (ma/cm^2)\n",
      "21.2495651286 (ma/cm^2)\n",
      "22.4855172628 (ma/cm^2)\n",
      "21.1500429916 (ma/cm^2)\n",
      "22.4094491142 (ma/cm^2)\n",
      "21.0529511099 (ma/cm^2)\n",
      "22.3371400754 (ma/cm^2)\n",
      "20.9583728843 (ma/cm^2)\n",
      "22.2686139554 (ma/cm^2)\n",
      "20.8663857418 (ma/cm^2)\n",
      "22.2038824864 (ma/cm^2)\n",
      "20.7770611877 (ma/cm^2)\n",
      "22.1429455644 (ma/cm^2)\n",
      "20.690464862 (ma/cm^2)\n",
      "22.0857915497 (ma/cm^2)\n",
      "20.6066565971 (ma/cm^2)\n",
      "22.0323976262 (ma/cm^2)\n",
      "20.5256904782 (ma/cm^2)\n",
      "21.9827302143 (ma/cm^2)\n",
      "20.4476149031 (ma/cm^2)\n",
      "21.9367454377 (ma/cm^2)\n",
      "20.3724726414 (ma/cm^2)\n",
      "21.8943896377 (ma/cm^2)\n",
      "20.3003008926 (ma/cm^2)\n",
      "21.8555999329 (ma/cm^2)\n",
      "20.2311313418 (ma/cm^2)\n",
      "21.820304822 (ma/cm^2)\n",
      "20.1649902123 (ma/cm^2)\n",
      "21.7884248237 (ma/cm^2)\n",
      "20.101898315 (ma/cm^2)\n",
      "21.7598731544 (ma/cm^2)\n",
      "20.0418710945 (ma/cm^2)\n",
      "21.7345564371 (ma/cm^2)\n",
      "19.9849186721 (ma/cm^2)\n",
      "21.7123754403 (ma/cm^2)\n",
      "19.9310458851 (ma/cm^2)\n",
      "21.6932258416 (ma/cm^2)\n",
      "19.8802523249 (ma/cm^2)\n",
      "21.676999011 (ma/cm^2)\n",
      "19.8325323733 (ma/cm^2)\n",
      "21.6635828088 (ma/cm^2)\n"
     ]
    }
   ],
   "source": [
    "a = traml.Stack()\n",
    "a.add(sio2, 2)\n",
    "a.add(cu, 1)\n",
    "a.add(ag, 6)\n",
    "a.add(zno, 5)\n",
    "a.add(cds, 30)\n",
    "a.add(cdte, film_type='absorber')\n",
    "\n",
    "b = copy.deepcopy(a)\n",
    "\n",
    "b.remove(5)\n",
    "b.add(cdzns, 30, loc=5)\n",
    "\n",
    "rho = 1e-6\n",
    "jsc1 = []\n",
    "jsc2 = []\n",
    "rs = []\n",
    "d = []\n",
    "\n",
    "\n",
    "for i in range(0, 100):\n",
    "    a.d(5,i)\n",
    "    b.d(5,i)\n",
    "    jsc1.append(a.jsc())\n",
    "    jsc2.append(b.jsc())\n",
    "    d.append(i)\n",
    "    "
   ]
  },
  {
   "cell_type": "code",
   "execution_count": 9,
   "metadata": {
    "collapsed": false
   },
   "outputs": [
    {
     "data": {
      "image/png": "[encoded data removed]",
      "text/plain": [
       "<matplotlib.figure.Figure at 0x7f51971bac50>"
      ]
     },
     "metadata": {},
     "output_type": "display_data"
    }
   ],
   "source": [
    "fig = plt.figure(figsize=(9,7))\n",
    "ax = fig.add_subplot(111)\n",
    "l1, = ax.plot(d, jsc1)\n",
    "l2, = ax.plot(d, jsc2)\n"
   ]
  },
  {
   "cell_type": "code",
   "execution_count": 11,
   "metadata": {
    "collapsed": false
   },
   "outputs": [
    {
     "name": "stdout",
     "output_type": "stream",
     "text": [
      "|   # |   Material | Thickness (nm)   | Type      |\n",
      "|-----+------------+------------------+-----------|\n",
      "|   0 |     301005 | --               | substrate |\n",
      "|   # |   Material | Thickness (nm)   | Type      |\n",
      "|-----+------------+------------------+-----------|\n",
      "|   0 |     301005 | --               | substrate |\n",
      "|   1 |     111407 | 5                | passive   |\n",
      "|   # |   Material | Thickness (nm)   | Type      |\n",
      "|-----+------------+------------------+-----------|\n",
      "|   0 |     301005 | --               | substrate |\n",
      "|   1 |     111407 | 5                | passive   |\n",
      "|   2 |     104301 | 1                | passive   |\n",
      "|   # |   Material | Thickness (nm)   | Type      |\n",
      "|-----+------------+------------------+-----------|\n",
      "|   0 |     301005 | --               | substrate |\n",
      "|   1 |     111407 | 5                | passive   |\n",
      "|   2 |     104301 | 1                | passive   |\n",
      "|   3 |     100101 | 10               | passive   |\n",
      "|   # |   Material | Thickness (nm)   | Type      |\n",
      "|-----+------------+------------------+-----------|\n",
      "|   0 |     301005 | --               | substrate |\n",
      "|   1 |     111407 | 5                | passive   |\n",
      "|   2 |     104301 | 1                | passive   |\n",
      "|   3 |     100101 | 10               | passive   |\n",
      "|   4 |     112003 | 20               | passive   |\n",
      "|   # |   Material | Thickness (nm)   | Type      |\n",
      "|-----+------------+------------------+-----------|\n",
      "|   0 |     301005 | --               | substrate |\n",
      "|   1 |     111407 | 5                | passive   |\n",
      "|   2 |     104301 | 1                | passive   |\n",
      "|   3 |     100101 | 10               | passive   |\n",
      "|   4 |     112003 | 20               | passive   |\n",
      "|   5 |     114203 | 30               | passive   |\n",
      "|   # |   Material | Thickness (nm)   | Type      |\n",
      "|-----+------------+------------------+-----------|\n",
      "|   0 |     301005 | --               | substrate |\n",
      "|   1 |     111407 | 5                | passive   |\n",
      "|   2 |     104301 | 1                | passive   |\n",
      "|   3 |     100101 | 10               | passive   |\n",
      "|   4 |     112003 | 20               | passive   |\n",
      "|   5 |     114203 | 30               | passive   |\n",
      "|   6 |     116705 | 100              | absorber  |\n"
     ]
    }
   ],
   "source": [
    "a = traml.Stack()\n",
    "a.add(sio2, 5)\n",
    "a.add(cu, 1)\n",
    "a.add(ag, 10)\n",
    "a.add(zno, 20)\n",
    "a.add(cds, 30)\n",
    "a.add(cdte, film_type='absorber')\n",
    "\n",
    "    "
   ]
  },
  {
   "cell_type": "code",
   "execution_count": 12,
   "metadata": {
    "collapsed": false
   },
   "outputs": [
    {
     "data": {
      "image/png": "[encoded data removed]",
      "text/plain": [
       "<matplotlib.figure.Figure at 0x7f518c3fae90>"
      ]
     },
     "metadata": {},
     "output_type": "display_data"
    }
   ],
   "source": [
    "b.plot(o='a')"
   ]
  },
  {
   "cell_type": "code",
   "execution_count": 13,
   "metadata": {
    "collapsed": false
   },
   "outputs": [
    {
     "name": "stdout",
     "output_type": "stream",
     "text": [
      "21.1083588882 (ma/cm^2)\n"
     ]
    },
    {
     "data": {
      "text/plain": [
       "21.108358888165291"
      ]
     },
     "execution_count": 13,
     "metadata": {},
     "output_type": "execute_result"
    }
   ],
   "source": [
    "a.jsc()"
   ]
  },
  {
   "cell_type": "code",
   "execution_count": 14,
   "metadata": {
    "collapsed": false
   },
   "outputs": [],
   "source": [
    "def fun(x, stack, layers, c, delta, TR):\n",
    "    for i in layers:\n",
    "          \n",
    "        \n",
    "        stack.d(i, x[i-1])\n",
    "    #stack.d(1,x[0])\n",
    "    #stack.d(2,x[1])\n",
    "    for p in x:\n",
    "        p = np.sqrt(x[0]**2)\n",
    "    x[0]=np.sqrt(x[0]**2)\n",
    "    min = 1-stack.average(TR, c, delta, o='a')\n",
    "    #min = stack.average(TR, c, delta)\n",
    "    #print min\n",
    "\n",
    "    return min**10"
   ]
  },
  {
   "cell_type": "code",
   "execution_count": 15,
   "metadata": {
    "collapsed": false
   },
   "outputs": [],
   "source": [
    "def minTR(stack, film_range, c, delta, TR='T'):\n",
    "    print film_range\n",
    "    x = []\n",
    "    layers = []\n",
    "    bnds = []\n",
    "    for i in range(film_range[0],film_range[1]+1):\n",
    "        #print i\n",
    "        x.append(stack.config[i][1])\n",
    "        layers.append(i)\n",
    "        bnds.append(stack.config[i][3])\n",
    "        \n",
    "    result = minimize(fun, x, args=(stack, layers, c,delta, TR), bounds = bnds,tol=1e-30, method='SLSQP')\n",
    "    \n",
    "    #stack.plot()\n",
    "    print layers\n",
    "    return result"
   ]
  },
  {
   "cell_type": "code",
   "execution_count": 16,
   "metadata": {
    "collapsed": false,
    "scrolled": true
   },
   "outputs": [
    {
     "name": "stdout",
     "output_type": "stream",
     "text": [
      "|   # |   Material | Thickness (nm)   | Type      |\n",
      "|-----+------------+------------------+-----------|\n",
      "|   0 |     301005 | --               | substrate |\n",
      "|   # |   Material | Thickness (nm)   | Type      |\n",
      "|-----+------------+------------------+-----------|\n",
      "|   0 |     301005 | --               | substrate |\n",
      "|   1 |     104301 | 1                | passive   |\n",
      "|   # |   Material | Thickness (nm)   | Type      |\n",
      "|-----+------------+------------------+-----------|\n",
      "|   0 |     301005 | --               | substrate |\n",
      "|   1 |     104301 | 1                | passive   |\n",
      "|   2 |     100101 | 6                | passive   |\n",
      "|   # |   Material | Thickness (nm)   | Type      |\n",
      "|-----+------------+------------------+-----------|\n",
      "|   0 |     301005 | --               | substrate |\n",
      "|   1 |     104301 | 1                | passive   |\n",
      "|   2 |     100101 | 6                | passive   |\n",
      "|   3 |     112003 | 10               | passive   |\n",
      "|   # |   Material | Thickness (nm)   | Type      |\n",
      "|-----+------------+------------------+-----------|\n",
      "|   0 |     301005 | --               | substrate |\n",
      "|   1 |     104301 | 1                | passive   |\n",
      "|   2 |     100101 | 6                | passive   |\n",
      "|   3 |     112003 | 10               | passive   |\n",
      "|   4 |     114301 | 50               | passive   |\n",
      "|   # |   Material | Thickness (nm)   | Type      |\n",
      "|-----+------------+------------------+-----------|\n",
      "|   0 |     301005 | --               | substrate |\n",
      "|   1 |     104301 | 1                | passive   |\n",
      "|   2 |     100101 | 6                | passive   |\n",
      "|   3 |     112003 | 10               | passive   |\n",
      "|   4 |     114301 | 50               | passive   |\n",
      "|   5 |     116705 | 100              | absorber  |\n",
      "25.3875798252 (ma/cm^2)\n",
      "[25.387579825157772]\n",
      "[1, 4]\n",
      "[1, 2, 3, 4]\n",
      "27.4632841239 (ma/cm^2)\n",
      "even 0\n",
      "|   # |   Material | Thickness (nm)   | Type      |\n",
      "|-----+------------+------------------+-----------|\n",
      "|   0 |     301005 | --               | substrate |\n",
      "|   1 |     111407 | 10               | passive   |\n",
      "|   # |   Material | Thickness (nm)   | Type      |\n",
      "|-----+------------+------------------+-----------|\n",
      "|   0 |     301005 | --               | substrate |\n",
      "|   1 |     111407 | 10               | passive   |\n",
      "|   2 |     104301 | 1                | passive   |\n",
      "|   # |   Material | Thickness (nm)   | Type      |\n",
      "|-----+------------+------------------+-----------|\n",
      "|   0 |     301005 | --               | substrate |\n",
      "|   1 |     111407 | 10               | passive   |\n",
      "|   2 |     104301 | 1                | passive   |\n",
      "|   3 |     100101 | 6                | passive   |\n",
      "|   # |   Material | Thickness (nm)   | Type      |\n",
      "|-----+------------+------------------+-----------|\n",
      "|   0 |     301005 | --               | substrate |\n",
      "|   1 |     111407 | 10               | passive   |\n",
      "|   2 |     104301 | 1                | passive   |\n",
      "|   3 |     100101 | 6                | passive   |\n",
      "|   4 |     112003 | 10               | passive   |\n",
      "|   # |   Material | Thickness (nm)   | Type      |\n",
      "|-----+------------+------------------+-----------|\n",
      "|   0 |     301005 | --               | substrate |\n",
      "|   1 |     111407 | 10               | passive   |\n",
      "|   2 |     104301 | 1                | passive   |\n",
      "|   3 |     100101 | 6                | passive   |\n",
      "|   4 |     112003 | 10               | passive   |\n",
      "|   5 |     114301 | 50               | passive   |\n",
      "|   # |   Material | Thickness (nm)   | Type      |\n",
      "|-----+------------+------------------+-----------|\n",
      "|   0 |     301005 | --               | substrate |\n",
      "|   1 |     111407 | 10               | passive   |\n",
      "|   2 |     104301 | 1                | passive   |\n",
      "|   3 |     100101 | 6                | passive   |\n",
      "|   4 |     112003 | 10               | passive   |\n",
      "|   5 |     114301 | 50               | passive   |\n",
      "|   6 |     116705 | 100              | absorber  |\n",
      "[1, 5]\n",
      "[1, 2, 3, 4, 5]\n",
      "27.336166767 (ma/cm^2)\n",
      "6.0\n",
      "|   # |   Material | Thickness (nm)   | Type      |\n",
      "|-----+------------+------------------+-----------|\n",
      "|   0 |     301005 | --               | substrate |\n",
      "|   1 |     111407 | 1.0              | passive   |\n",
      "|   2 |     104301 | 1.0              | passive   |\n",
      "|   3 |     100101 | 6.0              | passive   |\n",
      "|   4 |     112003 | 5.0              | passive   |\n",
      "|   5 |     114301 | 28.3226273537    | passive   |\n",
      "|   6 |     116705 | 100              | absorber  |\n",
      "============================================================================================\n",
      "0.863713835689\n",
      "============================================================================================\n",
      "|   # |   Material | Thickness (nm)   | Type      |\n",
      "|-----+------------+------------------+-----------|\n",
      "|   0 |     301005 | --               | substrate |\n",
      "|   1 |     111407 | 1.0              | passive   |\n",
      "|   2 |     111407 | 10               | passive   |\n",
      "|   # |   Material | Thickness (nm)   | Type      |\n",
      "|-----+------------+------------------+-----------|\n",
      "|   0 |     301005 | --               | substrate |\n",
      "|   1 |     111407 | 1.0              | passive   |\n",
      "|   2 |     111407 | 10               | passive   |\n",
      "|   3 |     104301 | 1                | passive   |\n",
      "|   # |   Material | Thickness (nm)   | Type      |\n",
      "|-----+------------+------------------+-----------|\n",
      "|   0 |     301005 | --               | substrate |\n",
      "|   1 |     111407 | 1.0              | passive   |\n",
      "|   2 |     111407 | 10               | passive   |\n",
      "|   3 |     104301 | 1                | passive   |\n",
      "|   4 |     100101 | 6                | passive   |\n",
      "|   # |   Material | Thickness (nm)   | Type      |\n",
      "|-----+------------+------------------+-----------|\n",
      "|   0 |     301005 | --               | substrate |\n",
      "|   1 |     111407 | 1.0              | passive   |\n",
      "|   2 |     111407 | 10               | passive   |\n",
      "|   3 |     104301 | 1                | passive   |\n",
      "|   4 |     100101 | 6                | passive   |\n",
      "|   5 |     112003 | 10               | passive   |\n",
      "|   # |   Material | Thickness (nm)   | Type      |\n",
      "|-----+------------+------------------+-----------|\n",
      "|   0 |     301005 | --               | substrate |\n",
      "|   1 |     111407 | 1.0              | passive   |\n",
      "|   2 |     111407 | 10               | passive   |\n",
      "|   3 |     104301 | 1                | passive   |\n",
      "|   4 |     100101 | 6                | passive   |\n",
      "|   5 |     112003 | 10               | passive   |\n",
      "|   6 |     114301 | 50               | passive   |\n",
      "|   # |   Material | Thickness (nm)   | Type      |\n",
      "|-----+------------+------------------+-----------|\n",
      "|   0 |     301005 | --               | substrate |\n",
      "|   1 |     111407 | 1.0              | passive   |\n",
      "|   2 |     111407 | 10               | passive   |\n",
      "|   3 |     104301 | 1                | passive   |\n",
      "|   4 |     100101 | 6                | passive   |\n",
      "|   5 |     112003 | 10               | passive   |\n",
      "|   6 |     114301 | 50               | passive   |\n",
      "|   7 |     116705 | 100              | absorber  |\n",
      "[1, 6]\n",
      "[1, 2, 3, 4, 5, 6]\n",
      "27.2043197826 (ma/cm^2)\n",
      "6.0\n",
      "|   # |   Material | Thickness (nm)   | Type      |\n",
      "|-----+------------+------------------+-----------|\n",
      "|   0 |     301005 | --               | substrate |\n",
      "|   1 |     111407 | 1.0              | passive   |\n",
      "|   2 |     111407 | 1.0              | passive   |\n",
      "|   3 |     104301 | 1.0              | passive   |\n",
      "|   4 |     100101 | 6.0              | passive   |\n",
      "|   5 |     112003 | 5.0              | passive   |\n",
      "|   6 |     114301 | 28.0225002067    | passive   |\n",
      "|   7 |     116705 | 100              | absorber  |\n",
      "============================================================================================\n",
      "0.85976136338\n",
      "============================================================================================\n"
     ]
    }
   ],
   "source": [
    "c = traml.Stack()\n",
    "c.subsinf = False\n",
    "\n",
    "peak = 0.6\n",
    "delta = 0.2\n",
    "mat2 = 105401 #MgF2\n",
    "sio2 = 111407 #SiO2\n",
    "zns = 114801 #ZnS\n",
    "zno = 112003 #ZnO\n",
    "mgo = 110902 #MgO\n",
    "#mat1 = 110104 #Al2O3\n",
    "zro2 = 112101\n",
    "stack_list = []\n",
    "\n",
    "c.add(cu, 1, bnds=(1,1))\n",
    "c.add(ag, 6, bnds=(6,6))\n",
    "c.add(zno, 10, bnds = (5, 100))\n",
    "c.add(cdzns, 50, bnds=(25, 100))\n",
    "c.add(cdte, film_type='absorber')\n",
    "\n",
    "stack_list.append(copy.deepcopy(c))\n",
    "R=[]\n",
    "point = []\n",
    "point.append(c.jsc())\n",
    "print point\n",
    "n = [0]\n",
    "it = [1]\n",
    "\n",
    "result = minTR(c, [1,len(c.config)-2], peak, delta, TR='T')\n",
    "point.append(c.jsc())\n",
    "n.append(0)\n",
    "stack_list.append(copy.deepcopy(c))\n",
    "\n",
    "c.remove()\n",
    "c.remove()\n",
    "c.remove()\n",
    "c.remove()\n",
    "c.remove()\n",
    "\n",
    "N = 2\n",
    "for i in range(0, N):\n",
    "    if i % 2 == 0:\n",
    "        print 'even', i\n",
    "        c.add(sio2,10, bnds=(1,100))\n",
    "    else:\n",
    "        c.add(sio2,10, bnds=(1,100))\n",
    "        \n",
    "    c.add(cu, 1,  bnds=(1,1))\n",
    "    c.add(ag, 6, bnds = (6,6))\n",
    "        \n",
    "    c.add(zno, 10, bnds = (5, 100))\n",
    "    c.add(cdzns, 50, bnds=(0, 100))\n",
    "    c.add(cdte, film_type='absorber')\n",
    "    \n",
    "    \n",
    "    result = minTR(c, [1,len(c.config)-2], peak, delta, TR='T')\n",
    "    R.append(c.average('R',peak,delta))\n",
    "    n.append(i+1)\n",
    "    it.append(result.nit)\n",
    "    stack_list.append(copy.deepcopy(c))\n",
    "    point.append(c.jsc())\n",
    "    \n",
    "    print c.config[i+3][1]\n",
    "    \n",
    "   \n",
    "    c.table()\n",
    "    print '============================================================================================'\n",
    "    print c.average('T',peak,delta, o='a')\n",
    "    \n",
    "    \n",
    "    if i !=N-1:\n",
    "        c.remove()\n",
    "        c.remove()\n",
    "        c.remove()\n",
    "        c.remove()\n",
    "        c.remove()\n",
    "        \n",
    "    print '============================================================================================'\n",
    "    \n",
    "    \n",
    "    \n",
    "    \n",
    " "
   ]
  },
  {
   "cell_type": "code",
   "execution_count": 17,
   "metadata": {
    "collapsed": false
   },
   "outputs": [
    {
     "data": {
      "text/plain": [
       "[<matplotlib.lines.Line2D at 0x7f518c41dad0>]"
      ]
     },
     "execution_count": 17,
     "metadata": {},
     "output_type": "execute_result"
    },
    {
     "data": {
      "image/png": "[encoded data removed]",
      "text/plain": [
       "<matplotlib.figure.Figure at 0x7f518c41d690>"
      ]
     },
     "metadata": {},
     "output_type": "display_data"
    }
   ],
   "source": [
    "plt.plot(n, point, '-o')"
   ]
  },
  {
   "cell_type": "code",
   "execution_count": 21,
   "metadata": {
    "collapsed": false
   },
   "outputs": [
    {
     "name": "stdout",
     "output_type": "stream",
     "text": [
      "Using matplotlib backend: TkAgg\n",
      "27.2043197826 (ma/cm^2)\n",
      "27.2043197826\n",
      "28.4251579741 (ma/cm^2)\n",
      "28.4251579741\n"
     ]
    },
    {
     "data": {
      "text/plain": [
       "(0.35, 0.9)"
      ]
     },
     "execution_count": 21,
     "metadata": {},
     "output_type": "execute_result"
    }
   ],
   "source": [
    "%matplotlib \n",
    "c.subsinf=False\n",
    "T1 = c.get_T(option='a')\n",
    "R1 = c.get_R(option='a')\n",
    "print c.jsc()\n",
    "c.subsinf=True\n",
    "T2 = c.get_T(option='a')\n",
    "R2 = c.get_R(option='a')\n",
    "print c.jsc()\n",
    "x = c.x\n",
    "\n",
    "\n",
    "\n",
    "\n",
    "\n",
    "fig = plt.figure(figsize=(9,7))\n",
    "ax = fig.add_subplot(111)\n",
    "\n",
    "l1, = ax.plot(x, T1, '-', color='red', label='T')\n",
    "l2, = ax.plot(x, R1, '-', color='blue', label = 'R')\n",
    "\n",
    "\n",
    "leg = ax.legend(loc='center right', fontsize = 20)\n",
    "\n",
    "ax.set_ylabel('T, R', fontsize=24)\n",
    "ax.set_xlabel('$\\lambda$ ($\\mu$m)', fontsize=24)\n",
    "ax.tick_params(labelsize = 20)\n",
    "ax.set_ylim([0,1])\n",
    "ax.set_xlim([0.35,0.9])\n"
   ]
  },
  {
   "cell_type": "code",
   "execution_count": null,
   "metadata": {
    "collapsed": false
   },
   "outputs": [],
   "source": [
    "c.table()"
   ]
  },
  {
   "cell_type": "code",
   "execution_count": null,
   "metadata": {
    "collapsed": false
   },
   "outputs": [],
   "source": [
    "c.table()"
   ]
  },
  {
   "cell_type": "code",
   "execution_count": null,
   "metadata": {
    "collapsed": false
   },
   "outputs": [],
   "source": [
    "c.jsc()"
   ]
  },
  {
   "cell_type": "code",
   "execution_count": null,
   "metadata": {
    "collapsed": false
   },
   "outputs": [],
   "source": [
    "%matplotlib\n",
    "fig = plt.figure(figsize=(9,7))\n",
    "ax = fig.add_subplot(111)\n",
    "\n",
    "l1, = ax.plot(c.x, stack_list[0].get_T(option='a'), '-', color='red', label='')\n",
    "\n",
    "\n",
    "\n",
    "legend = ax.legend(loc='center right', fontsize=16)\n",
    "\n",
    "#ax.set_xlim([0,14])\n",
    "#ax.set_xlabel(r'Number of films', fontsize=20)\n",
    "ax.set_ylabel('T, R', fontsize=20)\n",
    "ax.set_xlabel('$\\lambda$ ($\\mu$m)', fontsize=24)\n",
    "ax.tick_params(labelsize = 20)\n",
    "ax.set_ylim([0,1])\n",
    "ax.set_xlim([0.35,0.9])\n",
    "\n",
    "\n",
    "\n",
    "#plt.plot(a.x, a.get_T(),)\n",
    "#plt.plot(c.x, c.get_T())\n",
    "#a.average('R', 0.6,0.3)\n",
    "#plt.xlim([0.4, 0.9])"
   ]
  },
  {
   "cell_type": "code",
   "execution_count": null,
   "metadata": {
    "collapsed": false
   },
   "outputs": [],
   "source": [
    "e = traml.Stack()"
   ]
  },
  {
   "cell_type": "code",
   "execution_count": null,
   "metadata": {
    "collapsed": true
   },
   "outputs": [],
   "source": [
    "e.add(cdte, film_type='substrate')"
   ]
  },
  {
   "cell_type": "code",
   "execution_count": null,
   "metadata": {
    "collapsed": true
   },
   "outputs": [],
   "source": [
    "a.remove(0)"
   ]
  },
  {
   "cell_type": "code",
   "execution_count": null,
   "metadata": {
    "collapsed": false
   },
   "outputs": [],
   "source": [
    "e.add(cdte, 100)\n",
    "e.add(cdte, film_type='substrate')"
   ]
  },
  {
   "cell_type": "code",
   "execution_count": null,
   "metadata": {
    "collapsed": true
   },
   "outputs": [],
   "source": [
    "a.remove(0)"
   ]
  },
  {
   "cell_type": "code",
   "execution_count": null,
   "metadata": {
    "collapsed": true
   },
   "outputs": [],
   "source": [
    "e.remove(0)"
   ]
  },
  {
   "cell_type": "code",
   "execution_count": null,
   "metadata": {
    "collapsed": false
   },
   "outputs": [],
   "source": [
    "e.table()"
   ]
  },
  {
   "cell_type": "code",
   "execution_count": null,
   "metadata": {
    "collapsed": false
   },
   "outputs": [],
   "source": [
    "e.d(1, 0)"
   ]
  },
  {
   "cell_type": "code",
   "execution_count": null,
   "metadata": {
    "collapsed": false
   },
   "outputs": [],
   "source": [
    "e.table()"
   ]
  },
  {
   "cell_type": "code",
   "execution_count": null,
   "metadata": {
    "collapsed": false
   },
   "outputs": [],
   "source": [
    "e.library.search('air')"
   ]
  },
  {
   "cell_type": "code",
   "execution_count": null,
   "metadata": {
    "collapsed": false
   },
   "outputs": [],
   "source": [
    "e.library.plot(401501)"
   ]
  },
  {
   "cell_type": "code",
   "execution_count": null,
   "metadata": {
    "collapsed": true
   },
   "outputs": [],
   "source": []
  }
 ],
 "metadata": {
  "kernelspec": {
   "display_name": "Python 2",
   "language": "python",
   "name": "python2"
  },
  "language_info": {
   "codemirror_mode": {
    "name": "ipython",
    "version": 2
   },
   "file_extension": ".py",
   "mimetype": "text/x-python",
   "name": "python",
   "nbconvert_exporter": "python",
   "pygments_lexer": "ipython2",
   "version": "2.7.6"
  }
 },
 "nbformat": 4,
 "nbformat_minor": 0
}
