{
 "cells": [
  {
   "cell_type": "code",
   "execution_count": 2,
   "metadata": {
    "collapsed": false,
    "scrolled": true
   },
   "outputs": [],
   "source": [
    "%matplotlib inline\n",
    "from scipy.optimize import minimize\n",
    "import matplotlib.pyplot as plt\n",
    "import numpy as np\n",
    "import traml\n",
    "import copy"
   ]
  },
  {
   "cell_type": "code",
   "execution_count": 3,
   "metadata": {
    "collapsed": false
   },
   "outputs": [
    {
     "name": "stdout",
     "output_type": "stream",
     "text": [
      "|   # |   Material | Thickness (nm)   | Type      |\n",
      "|-----+------------+------------------+-----------|\n",
      "|   0 |     301005 | --               | substrate |\n"
     ]
    }
   ],
   "source": [
    "a = traml.Stack()"
   ]
  },
  {
   "cell_type": "code",
   "execution_count": 37,
   "metadata": {
    "collapsed": false
   },
   "outputs": [
    {
     "name": "stdout",
     "output_type": "stream",
     "text": [
      "|     ID | SHELF   | BOOK   | PAGE     | DESCRIPTION               |\n",
      "|--------+---------+--------+----------+---------------------------|\n",
      "| 114301 | main    | CdZnS  | Treharne | Treharne et al. 2014: n,k |\n"
     ]
    }
   ],
   "source": [
    "a.library.search('cdzns')"
   ]
  },
  {
   "cell_type": "code",
   "execution_count": 38,
   "metadata": {
    "collapsed": false
   },
   "outputs": [],
   "source": [
    "ag = 100101\n",
    "sio2 = 111407\n",
    "zno = 112003\n",
    "cds = 114203\n",
    "cdte= 116705\n",
    "zns = 114301\n"
   ]
  },
  {
   "cell_type": "code",
   "execution_count": 33,
   "metadata": {
    "collapsed": false
   },
   "outputs": [
    {
     "name": "stdout",
     "output_type": "stream",
     "text": [
      "|   # |   Material | Thickness (nm)   | Type      |\n",
      "|-----+------------+------------------+-----------|\n",
      "|   0 |     301005 | --               | substrate |\n",
      "|   1 |     111407 | 5                | passive   |\n",
      "|   2 |     100101 | 4                | passive   |\n",
      "|   3 |     112003 | 20               | passive   |\n",
      "|   4 |     114203 | 30               | passive   |\n",
      "|   5 |     116705 | 100              | absorber  |\n"
     ]
    }
   ],
   "source": [
    "a.add(cdte, film_type='absorber')"
   ]
  },
  {
   "cell_type": "code",
   "execution_count": 59,
   "metadata": {
    "collapsed": false
   },
   "outputs": [
    {
     "name": "stdout",
     "output_type": "stream",
     "text": [
      "|     ID | SHELF   | BOOK   | PAGE     | DESCRIPTION               |\n",
      "|--------+---------+--------+----------+---------------------------|\n",
      "| 114301 | main    | CdZnS  | Treharne | Treharne et al. 2014: n,k |\n"
     ]
    }
   ],
   "source": [
    "a.library.search('cdzns')"
   ]
  },
  {
   "cell_type": "code",
   "execution_count": 56,
   "metadata": {
    "collapsed": false
   },
   "outputs": [
    {
     "data": {
      "image/png": "[encoded data removed]",
      "text/plain": [
       "<matplotlib.figure.Figure at 0x7fd27fb0e4d0>"
      ]
     },
     "metadata": {},
     "output_type": "display_data"
    }
   ],
   "source": [
    "a.plot(o='a')"
   ]
  },
  {
   "cell_type": "code",
   "execution_count": 57,
   "metadata": {
    "collapsed": false
   },
   "outputs": [
    {
     "name": "stdout",
     "output_type": "stream",
     "text": [
      "26.0825464882 (ma/cm^2)\n"
     ]
    },
    {
     "data": {
      "text/plain": [
       "26.082546488213772"
      ]
     },
     "execution_count": 57,
     "metadata": {},
     "output_type": "execute_result"
    }
   ],
   "source": [
    "a.jsc()"
   ]
  },
  {
   "cell_type": "code",
   "execution_count": null,
   "metadata": {
    "collapsed": false
   },
   "outputs": [],
   "source": [
    "def fun(x, stack, layers, c, delta, TR):\n",
    "    for i in layers:\n",
    "          \n",
    "        \n",
    "        stack.d(i, x[i-1])\n",
    "    #stack.d(1,x[0])\n",
    "    #stack.d(2,x[1])\n",
    "    for p in x:\n",
    "        p = np.sqrt(x[0]**2)\n",
    "    x[0]=np.sqrt(x[0]**2)\n",
    "    min = 1-stack.average(TR, c, delta, o='a')\n",
    "    #min = stack.average(TR, c, delta)\n",
    "    #print min\n",
    "\n",
    "    return min**10"
   ]
  },
  {
   "cell_type": "code",
   "execution_count": null,
   "metadata": {
    "collapsed": false
   },
   "outputs": [],
   "source": [
    "def minTR(stack, film_range, c, delta, TR='T'):\n",
    "    print film_range\n",
    "    x = []\n",
    "    layers = []\n",
    "    bnds = []\n",
    "    for i in range(film_range[0],film_range[1]+1):\n",
    "        #print i\n",
    "        x.append(stack.config[i][1])\n",
    "        layers.append(i)\n",
    "        bnds.append(stack.config[i][3])\n",
    "        \n",
    "    result = minimize(fun, x, args=(stack, layers, c,delta, TR), bounds = bnds,tol=1e-30, method='SLSQP')\n",
    "    \n",
    "    #stack.plot()\n",
    "    print layers\n",
    "    return result"
   ]
  },
  {
   "cell_type": "code",
   "execution_count": null,
   "metadata": {
    "collapsed": false,
    "scrolled": true
   },
   "outputs": [],
   "source": [
    "c = traml.Stack()\n",
    "\n",
    "peak = 0.6\n",
    "delta = 0.2\n",
    "mat2 = 105401 #MgF2\n",
    "sio2 = 111407 #SiO2\n",
    "zns = 114801 #ZnS\n",
    "zno = 112003 #ZnO\n",
    "mgo = 110902 #MgO\n",
    "#mat1 = 110104 #Al2O3\n",
    "zro2 = 112101\n",
    "stack_list = []\n",
    "\n",
    "c.add(zno, 500, bnds = (500, 2500))\n",
    "c.add(CdS, 50, bnds=(25, 250))\n",
    "c.add(CdTe, film_type='absorber')\n",
    "\n",
    "stack_list.append(copy.deepcopy(c))\n",
    "R=[]\n",
    "point = []\n",
    "point.append(c.jsc())\n",
    "print point\n",
    "n = [0]\n",
    "it = [1]\n",
    "\n",
    "result = minTR(c, [1,len(c.config)-2], peak, delta, TR='T')\n",
    "point.append(c.jsc())\n",
    "n.append(0)\n",
    "stack_list.append(copy.deepcopy(c))\n",
    "\n",
    "c.remove()\n",
    "c.remove()\n",
    "c.remove()\n",
    "\n",
    "N = 10\n",
    "for i in range(0, N):\n",
    "    if i % 2 == 0:\n",
    "        print 'even', i\n",
    "        c.add(zns,10, bnds=(0,100))\n",
    "    else:\n",
    "        c.add(sio2,10, bnds=(0,100))\n",
    "        \n",
    "    c.add(zno, 500, bnds = (500, 2500))\n",
    "    c.add(CdS, 50, bnds=(25, 250))\n",
    "    c.add(CdTe, film_type='absorber')\n",
    "    \n",
    "    \n",
    "    result = minTR(c, [1,len(c.config)-2], peak, delta, TR='T')\n",
    "    R.append(c.average('R',peak,delta))\n",
    "    n.append(i+1)\n",
    "    it.append(result.nit)\n",
    "    stack_list.append(copy.deepcopy(c))\n",
    "    point.append(c.jsc())\n",
    "    \n",
    "    print c.config[i+3][1]\n",
    "    \n",
    "   \n",
    "    c.table()\n",
    "    print '============================================================================================'\n",
    "    print c.average('T',peak,delta, o='a')\n",
    "    \n",
    "    \n",
    "    if i !=N-1:\n",
    "        c.remove()\n",
    "        c.remove()\n",
    "        c.remove()\n",
    "        \n",
    "    print '============================================================================================'\n",
    "    \n",
    "    \n",
    "    \n",
    "    \n",
    " "
   ]
  }
 ],
 "metadata": {
  "kernelspec": {
   "display_name": "Python 2",
   "language": "python",
   "name": "python2"
  },
  "language_info": {
   "codemirror_mode": {
    "name": "ipython",
    "version": 2
   },
   "file_extension": ".py",
   "mimetype": "text/x-python",
   "name": "python",
   "nbconvert_exporter": "python",
   "pygments_lexer": "ipython2",
   "version": "2.7.6"
  }
 },
 "nbformat": 4,
 "nbformat_minor": 0
}
