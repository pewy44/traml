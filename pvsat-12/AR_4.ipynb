{
 "cells": [
  {
   "cell_type": "code",
   "execution_count": 47,
   "metadata": {
    "collapsed": false,
    "scrolled": true
   },
   "outputs": [],
   "source": [
    "%matplotlib inline\n",
    "from scipy.optimize import minimize\n",
    "import matplotlib.pyplot as plt\n",
    "import numpy as np\n",
    "import traml\n",
    "import copy"
   ]
  },
  {
   "cell_type": "code",
   "execution_count": 48,
   "metadata": {
    "collapsed": false
   },
   "outputs": [
    {
     "name": "stdout",
     "output_type": "stream",
     "text": [
      "|   # |   Material | Thickness (nm)   | Type      |\n",
      "|-----+------------+------------------+-----------|\n",
      "|   0 |     301005 | --               | substrate |\n"
     ]
    }
   ],
   "source": [
    "a = traml.Stack()"
   ]
  },
  {
   "cell_type": "code",
   "execution_count": 49,
   "metadata": {
    "collapsed": false
   },
   "outputs": [
    {
     "name": "stdout",
     "output_type": "stream",
     "text": [
      "|     ID | SHELF   | BOOK   | PAGE     | DESCRIPTION               |\n",
      "|--------+---------+--------+----------+---------------------------|\n",
      "| 114301 | main    | CdZnS  | Treharne | Treharne et al. 2014: n,k |\n"
     ]
    }
   ],
   "source": [
    "a.library.search('CdZnS')"
   ]
  },
  {
   "cell_type": "code",
   "execution_count": 50,
   "metadata": {
    "collapsed": false
   },
   "outputs": [],
   "source": [
    "CdS = 114203\n",
    "CdTe = 116705\n",
    "CdZnS = 114301"
   ]
  },
  {
   "cell_type": "code",
   "execution_count": 51,
   "metadata": {
    "collapsed": false
   },
   "outputs": [
    {
     "name": "stdout",
     "output_type": "stream",
     "text": [
      "|     ID | SHELF   | BOOK   | PAGE        | DESCRIPTION                    |\n",
      "|--------+---------+--------+-------------+--------------------------------|\n",
      "| 116701 | main    | CdTe   | DeBell-300K | DeBell et al. 1979: n 6-22 µm; |\n",
      "| 116702 | main    | CdTe   | DeBell-80K  | DeBell et al. 1979: n 6-22 µm; |\n",
      "| 116703 | main    | CdTe   | DeBell-20K  | DeBell et al. 1979: n 6-22 µm; |\n",
      "| 116704 | main    | CdTe   | Marple      | Marple 1964: n 0.86-2.5 µm     |\n",
      "| 116705 | main    | CdTe   | Treharne    | Treharne et al. 2011: n,k 0.3- |\n"
     ]
    }
   ],
   "source": [
    "a.library.search('CdTe')"
   ]
  },
  {
   "cell_type": "code",
   "execution_count": 52,
   "metadata": {
    "collapsed": false
   },
   "outputs": [
    {
     "data": {
      "image/png": "[encoded data removed]",
      "text/plain": [
       "<matplotlib.figure.Figure at 0x7fac26d0b390>"
      ]
     },
     "metadata": {},
     "output_type": "display_data"
    }
   ],
   "source": [
    "a.library.plot(CdZnS)"
   ]
  },
  {
   "cell_type": "code",
   "execution_count": 53,
   "metadata": {
    "collapsed": false
   },
   "outputs": [],
   "source": [
    "def fun(x, stack, layers, c, delta, TR):\n",
    "    for i in layers:\n",
    "          \n",
    "        \n",
    "        stack.d(i, x[i-1])\n",
    "    #stack.d(1,x[0])\n",
    "    #stack.d(2,x[1])\n",
    "    for p in x:\n",
    "        p = np.sqrt(x[0]**2)\n",
    "    x[0]=np.sqrt(x[0]**2)\n",
    "    min = 1-stack.average(TR, c, delta, o='a')\n",
    "    #min = stack.average(TR, c, delta)\n",
    "    #print min\n",
    "\n",
    "    return min**10"
   ]
  },
  {
   "cell_type": "code",
   "execution_count": 54,
   "metadata": {
    "collapsed": false
   },
   "outputs": [],
   "source": [
    "def minTR(stack, film_range, c, delta, TR='T'):\n",
    "    print film_range\n",
    "    x = []\n",
    "    layers = []\n",
    "    bnds = []\n",
    "    for i in range(film_range[0],film_range[1]+1):\n",
    "        #print i\n",
    "        x.append(stack.config[i][1])\n",
    "        layers.append(i)\n",
    "        bnds.append(stack.config[i][3])\n",
    "        \n",
    "    result = minimize(fun, x, args=(stack, layers, c,delta, TR), bounds = bnds,tol=1e-30, method='SLSQP')\n",
    "    \n",
    "    #stack.plot()\n",
    "    print layers\n",
    "    return result"
   ]
  },
  {
   "cell_type": "code",
   "execution_count": 55,
   "metadata": {
    "collapsed": false
   },
   "outputs": [
    {
     "name": "stdout",
     "output_type": "stream",
     "text": [
      "|     ID | SHELF   | BOOK          | PAGE         | DESCRIPTION                    |\n",
      "|--------+---------+---------------+--------------+--------------------------------|\n",
      "| 112003 | main    | ZnO           | Treharne-AZO | Treharne et al. 2011: n,k 0.3- |\n",
      "| 114203 | main    | CdS           | Treharne     | Treharne et al. 2011: n,k 0.3- |\n",
      "| 114301 | main    | CdZnS         | Treharne     | Treharne et al. 2014: n,k      |\n",
      "| 116705 | main    | CdTe          | Treharne     | Treharne et al. 2011: n,k 0.3- |\n",
      "| 316001 | glass   | NSG-OptiWhite | OptiWhite    | OptiWhite                      |\n"
     ]
    }
   ],
   "source": [
    "a.library.search('Treharne')"
   ]
  },
  {
   "cell_type": "code",
   "execution_count": 73,
   "metadata": {
    "collapsed": false
   },
   "outputs": [
    {
     "name": "stdout",
     "output_type": "stream",
     "text": [
      "|   # |   Material | Thickness (nm)   | Type      |\n",
      "|-----+------------+------------------+-----------|\n",
      "|   0 |     301005 | --               | substrate |\n",
      "|   # |   Material | Thickness (nm)   | Type      |\n",
      "|-----+------------+------------------+-----------|\n",
      "|   0 |     301005 | --               | substrate |\n",
      "|   1 |     112003 | 500              | passive   |\n",
      "|   # |   Material | Thickness (nm)   | Type      |\n",
      "|-----+------------+------------------+-----------|\n",
      "|   0 |     301005 | --               | substrate |\n",
      "|   1 |     112003 | 500              | passive   |\n",
      "|   2 |     114301 | 50               | passive   |\n",
      "|   # |   Material | Thickness (nm)   | Type      |\n",
      "|-----+------------+------------------+-----------|\n",
      "|   0 |     301005 | --               | substrate |\n",
      "|   1 |     112003 | 500              | passive   |\n",
      "|   2 |     114301 | 50               | passive   |\n",
      "|   3 |     116705 | 100              | absorber  |\n",
      "24.1054990673 (ma/cm^2)\n",
      "[24.105499067290904]\n",
      "[1, 2]\n",
      "[1, 2]\n",
      "25.2274177168 (ma/cm^2)\n",
      "even 0\n",
      "|   # |   Material | Thickness (nm)   | Type      |\n",
      "|-----+------------+------------------+-----------|\n",
      "|   0 |     301005 | --               | substrate |\n",
      "|   1 |     114801 | 10               | passive   |\n",
      "|   # |   Material | Thickness (nm)   | Type      |\n",
      "|-----+------------+------------------+-----------|\n",
      "|   0 |     301005 | --               | substrate |\n",
      "|   1 |     114801 | 10               | passive   |\n",
      "|   2 |     112003 | 500              | passive   |\n",
      "|   # |   Material | Thickness (nm)   | Type      |\n",
      "|-----+------------+------------------+-----------|\n",
      "|   0 |     301005 | --               | substrate |\n",
      "|   1 |     114801 | 10               | passive   |\n",
      "|   2 |     112003 | 500              | passive   |\n",
      "|   3 |     114301 | 50               | passive   |\n",
      "|   # |   Material | Thickness (nm)   | Type      |\n",
      "|-----+------------+------------------+-----------|\n",
      "|   0 |     301005 | --               | substrate |\n",
      "|   1 |     114801 | 10               | passive   |\n",
      "|   2 |     112003 | 500              | passive   |\n",
      "|   3 |     114301 | 50               | passive   |\n",
      "|   4 |     116705 | 100              | absorber  |\n",
      "[1, 3]\n",
      "[1, 2, 3]\n",
      "26.9143653126 (ma/cm^2)\n",
      "25.0000000149\n",
      "|   # |   Material | Thickness (nm)   | Type      |\n",
      "|-----+------------+------------------+-----------|\n",
      "|   0 |     301005 | --               | substrate |\n",
      "|   1 |     114801 | 50.5069382409    | passive   |\n",
      "|   2 |     112003 | 500.0            | passive   |\n",
      "|   3 |     114301 | 25.0000000149    | passive   |\n",
      "|   4 |     116705 | 100              | absorber  |\n",
      "============================================================================================\n",
      "0.845315963933\n",
      "============================================================================================\n",
      "|   # |   Material | Thickness (nm)   | Type      |\n",
      "|-----+------------+------------------+-----------|\n",
      "|   0 |     301005 | --               | substrate |\n",
      "|   1 |     114801 | 50.5069382409    | passive   |\n",
      "|   2 |     111407 | 10               | passive   |\n",
      "|   # |   Material | Thickness (nm)   | Type      |\n",
      "|-----+------------+------------------+-----------|\n",
      "|   0 |     301005 | --               | substrate |\n",
      "|   1 |     114801 | 50.5069382409    | passive   |\n",
      "|   2 |     111407 | 10               | passive   |\n",
      "|   3 |     112003 | 500              | passive   |\n",
      "|   # |   Material | Thickness (nm)   | Type      |\n",
      "|-----+------------+------------------+-----------|\n",
      "|   0 |     301005 | --               | substrate |\n",
      "|   1 |     114801 | 50.5069382409    | passive   |\n",
      "|   2 |     111407 | 10               | passive   |\n",
      "|   3 |     112003 | 500              | passive   |\n",
      "|   4 |     114301 | 50               | passive   |\n",
      "|   # |   Material | Thickness (nm)   | Type      |\n",
      "|-----+------------+------------------+-----------|\n",
      "|   0 |     301005 | --               | substrate |\n",
      "|   1 |     114801 | 50.5069382409    | passive   |\n",
      "|   2 |     111407 | 10               | passive   |\n",
      "|   3 |     112003 | 500              | passive   |\n",
      "|   4 |     114301 | 50               | passive   |\n",
      "|   5 |     116705 | 100              | absorber  |\n",
      "[1, 4]\n",
      "[1, 2, 3, 4]\n",
      "26.9403893887 (ma/cm^2)\n",
      "25.0000000149\n",
      "|   # |   Material | Thickness (nm)   | Type      |\n",
      "|-----+------------+------------------+-----------|\n",
      "|   0 |     301005 | --               | substrate |\n",
      "|   1 |     114801 | 55.8723124866    | passive   |\n",
      "|   2 |     111407 | 7.6113875689     | passive   |\n",
      "|   3 |     112003 | 500.0            | passive   |\n",
      "|   4 |     114301 | 25.0000000149    | passive   |\n",
      "|   5 |     116705 | 100              | absorber  |\n",
      "============================================================================================\n",
      "0.84584877633\n",
      "============================================================================================\n",
      "even 2\n",
      "|   # |   Material | Thickness (nm)   | Type      |\n",
      "|-----+------------+------------------+-----------|\n",
      "|   0 |     301005 | --               | substrate |\n",
      "|   1 |     114801 | 55.8723124866    | passive   |\n",
      "|   2 |     111407 | 7.6113875689     | passive   |\n",
      "|   3 |     114801 | 10               | passive   |\n",
      "|   # |   Material | Thickness (nm)   | Type      |\n",
      "|-----+------------+------------------+-----------|\n",
      "|   0 |     301005 | --               | substrate |\n",
      "|   1 |     114801 | 55.8723124866    | passive   |\n",
      "|   2 |     111407 | 7.6113875689     | passive   |\n",
      "|   3 |     114801 | 10               | passive   |\n",
      "|   4 |     112003 | 500              | passive   |\n",
      "|   # |   Material | Thickness (nm)   | Type      |\n",
      "|-----+------------+------------------+-----------|\n",
      "|   0 |     301005 | --               | substrate |\n",
      "|   1 |     114801 | 55.8723124866    | passive   |\n",
      "|   2 |     111407 | 7.6113875689     | passive   |\n",
      "|   3 |     114801 | 10               | passive   |\n",
      "|   4 |     112003 | 500              | passive   |\n",
      "|   5 |     114301 | 50               | passive   |\n",
      "|   # |   Material | Thickness (nm)   | Type      |\n",
      "|-----+------------+------------------+-----------|\n",
      "|   0 |     301005 | --               | substrate |\n",
      "|   1 |     114801 | 55.8723124866    | passive   |\n",
      "|   2 |     111407 | 7.6113875689     | passive   |\n",
      "|   3 |     114801 | 10               | passive   |\n",
      "|   4 |     112003 | 500              | passive   |\n",
      "|   5 |     114301 | 50               | passive   |\n",
      "|   6 |     116705 | 100              | absorber  |\n",
      "[1, 5]\n",
      "[1, 2, 3, 4, 5]\n",
      "27.0511693114 (ma/cm^2)\n",
      "25.0000000149\n",
      "|   # |   Material | Thickness (nm)   | Type      |\n",
      "|-----+------------+------------------+-----------|\n",
      "|   0 |     301005 | --               | substrate |\n",
      "|   1 |     114801 | 58.123497202     | passive   |\n",
      "|   2 |     111407 | 19.2005456311    | passive   |\n",
      "|   3 |     114801 | 15.0555026709    | passive   |\n",
      "|   4 |     112003 | 500.0            | passive   |\n",
      "|   5 |     114301 | 25.0000000149    | passive   |\n",
      "|   6 |     116705 | 100              | absorber  |\n",
      "============================================================================================\n",
      "0.850704997907\n",
      "============================================================================================\n",
      "|   # |   Material | Thickness (nm)   | Type      |\n",
      "|-----+------------+------------------+-----------|\n",
      "|   0 |     301005 | --               | substrate |\n",
      "|   1 |     114801 | 58.123497202     | passive   |\n",
      "|   2 |     111407 | 19.2005456311    | passive   |\n",
      "|   3 |     114801 | 15.0555026709    | passive   |\n",
      "|   4 |     111407 | 10               | passive   |\n",
      "|   # |   Material | Thickness (nm)   | Type      |\n",
      "|-----+------------+------------------+-----------|\n",
      "|   0 |     301005 | --               | substrate |\n",
      "|   1 |     114801 | 58.123497202     | passive   |\n",
      "|   2 |     111407 | 19.2005456311    | passive   |\n",
      "|   3 |     114801 | 15.0555026709    | passive   |\n",
      "|   4 |     111407 | 10               | passive   |\n",
      "|   5 |     112003 | 500              | passive   |\n",
      "|   # |   Material | Thickness (nm)   | Type      |\n",
      "|-----+------------+------------------+-----------|\n",
      "|   0 |     301005 | --               | substrate |\n",
      "|   1 |     114801 | 58.123497202     | passive   |\n",
      "|   2 |     111407 | 19.2005456311    | passive   |\n",
      "|   3 |     114801 | 15.0555026709    | passive   |\n",
      "|   4 |     111407 | 10               | passive   |\n",
      "|   5 |     112003 | 500              | passive   |\n",
      "|   6 |     114301 | 50               | passive   |\n",
      "|   # |   Material | Thickness (nm)   | Type      |\n",
      "|-----+------------+------------------+-----------|\n",
      "|   0 |     301005 | --               | substrate |\n",
      "|   1 |     114801 | 58.123497202     | passive   |\n",
      "|   2 |     111407 | 19.2005456311    | passive   |\n",
      "|   3 |     114801 | 15.0555026709    | passive   |\n",
      "|   4 |     111407 | 10               | passive   |\n",
      "|   5 |     112003 | 500              | passive   |\n",
      "|   6 |     114301 | 50               | passive   |\n",
      "|   7 |     116705 | 100              | absorber  |\n",
      "[1, 6]\n",
      "[1, 2, 3, 4, 5, 6]\n",
      "27.0221635774 (ma/cm^2)\n",
      "25.0\n",
      "|   # |   Material | Thickness (nm)   | Type      |\n",
      "|-----+------------+------------------+-----------|\n",
      "|   0 |     301005 | --               | substrate |\n",
      "|   1 |     114801 | 57.5288143005    | passive   |\n",
      "|   2 |     111407 | 17.0979341872    | passive   |\n",
      "|   3 |     114801 | 20.8559424744    | passive   |\n",
      "|   4 |     111407 | 7.33400939499    | passive   |\n",
      "|   5 |     112003 | 500.0            | passive   |\n",
      "|   6 |     114301 | 25.0             | passive   |\n",
      "|   7 |     116705 | 100              | absorber  |\n",
      "============================================================================================\n",
      "0.849771969972\n",
      "============================================================================================\n",
      "even 4\n",
      "|   # |   Material | Thickness (nm)   | Type      |\n",
      "|-----+------------+------------------+-----------|\n",
      "|   0 |     301005 | --               | substrate |\n",
      "|   1 |     114801 | 57.5288143005    | passive   |\n",
      "|   2 |     111407 | 17.0979341872    | passive   |\n",
      "|   3 |     114801 | 20.8559424744    | passive   |\n",
      "|   4 |     111407 | 7.33400939499    | passive   |\n",
      "|   5 |     114801 | 10               | passive   |\n",
      "|   # |   Material | Thickness (nm)   | Type      |\n",
      "|-----+------------+------------------+-----------|\n",
      "|   0 |     301005 | --               | substrate |\n",
      "|   1 |     114801 | 57.5288143005    | passive   |\n",
      "|   2 |     111407 | 17.0979341872    | passive   |\n",
      "|   3 |     114801 | 20.8559424744    | passive   |\n",
      "|   4 |     111407 | 7.33400939499    | passive   |\n",
      "|   5 |     114801 | 10               | passive   |\n",
      "|   6 |     112003 | 500              | passive   |\n",
      "|   # |   Material | Thickness (nm)   | Type      |\n",
      "|-----+------------+------------------+-----------|\n",
      "|   0 |     301005 | --               | substrate |\n",
      "|   1 |     114801 | 57.5288143005    | passive   |\n",
      "|   2 |     111407 | 17.0979341872    | passive   |\n",
      "|   3 |     114801 | 20.8559424744    | passive   |\n",
      "|   4 |     111407 | 7.33400939499    | passive   |\n",
      "|   5 |     114801 | 10               | passive   |\n",
      "|   6 |     112003 | 500              | passive   |\n",
      "|   7 |     114301 | 50               | passive   |\n",
      "|   # |   Material | Thickness (nm)   | Type      |\n",
      "|-----+------------+------------------+-----------|\n",
      "|   0 |     301005 | --               | substrate |\n",
      "|   1 |     114801 | 57.5288143005    | passive   |\n",
      "|   2 |     111407 | 17.0979341872    | passive   |\n",
      "|   3 |     114801 | 20.8559424744    | passive   |\n",
      "|   4 |     111407 | 7.33400939499    | passive   |\n",
      "|   5 |     114801 | 10               | passive   |\n",
      "|   6 |     112003 | 500              | passive   |\n",
      "|   7 |     114301 | 50               | passive   |\n",
      "|   8 |     116705 | 100              | absorber  |\n",
      "[1, 7]\n",
      "[1, 2, 3, 4, 5, 6, 7]\n",
      "27.0126460274 (ma/cm^2)\n",
      "25.0\n",
      "|   # |   Material | Thickness (nm)   | Type      |\n",
      "|-----+------------+------------------+-----------|\n",
      "|   0 |     301005 | --               | substrate |\n",
      "|   1 |     114801 | 55.6602829141    | passive   |\n",
      "|   2 |     111407 | 17.3983098684    | passive   |\n",
      "|   3 |     114801 | 19.4285026166    | passive   |\n",
      "|   4 |     111407 | 12.2045960235    | passive   |\n",
      "|   5 |     114801 | 3.68151303019    | passive   |\n",
      "|   6 |     112003 | 500.0            | passive   |\n",
      "|   7 |     114301 | 25.0             | passive   |\n",
      "|   8 |     116705 | 100              | absorber  |\n",
      "============================================================================================\n",
      "0.849846979099\n",
      "============================================================================================\n"
     ]
    }
   ],
   "source": [
    "c = traml.Stack()\n",
    "\n",
    "peak = 0.6\n",
    "delta = 0.2\n",
    "mat2 = 105401 #MgF2\n",
    "sio2 = 111407 #SiO2\n",
    "zns = 114801 #ZnS\n",
    "zno = 112003 #ZnO\n",
    "mgo = 110902 #MgO\n",
    "#mat1 = 110104 #Al2O3\n",
    "zro2 = 112101\n",
    "stack_list = []\n",
    "\n",
    "c.add(zno, 500, bnds = (500, 2500))\n",
    "c.add(CdZnS, 50, bnds=(30, 250))\n",
    "c.add(CdTe, film_type='absorber')\n",
    "\n",
    "stack_list.append(copy.deepcopy(c))\n",
    "R=[]\n",
    "point = []\n",
    "point.append(c.jsc())\n",
    "print point\n",
    "n = [0]\n",
    "it = [1]\n",
    "\n",
    "result = minTR(c, [1,len(c.config)-2], peak, delta, TR='T')\n",
    "point.append(c.jsc())\n",
    "n.append(0)\n",
    "stack_list.append(copy.deepcopy(c))\n",
    "\n",
    "c.remove()\n",
    "c.remove()\n",
    "c.remove()\n",
    "\n",
    "N =5\n",
    "for i in range(0, N):\n",
    "    if i % 2 == 0:\n",
    "        print 'even', i\n",
    "        c.add(zns,10, bnds=(0,100))\n",
    "    else:\n",
    "        c.add(sio2,10, bnds=(0,100))\n",
    "        \n",
    "    c.add(zno, 500, bnds = (500, 2500))\n",
    "    c.add(CdZnS, 50, bnds=(25, 250))\n",
    "    c.add(CdTe, film_type='absorber')\n",
    "    \n",
    "    \n",
    "    result = minTR(c, [1,len(c.config)-2], peak, delta, TR='T')\n",
    "    R.append(c.average('R',peak,delta))\n",
    "    n.append(i+1)\n",
    "    it.append(result.nit)\n",
    "    stack_list.append(copy.deepcopy(c))\n",
    "    point.append(c.jsc())\n",
    "    \n",
    "    print c.config[i+3][1]\n",
    "    \n",
    "   \n",
    "    c.table()\n",
    "    print '============================================================================================'\n",
    "    print c.average('T',peak,delta, o='a')\n",
    "    \n",
    "    \n",
    "    if i !=N-1:\n",
    "        c.remove()\n",
    "        c.remove()\n",
    "        c.remove()\n",
    "        \n",
    "    print '============================================================================================'\n",
    "    \n",
    "    \n",
    "    \n",
    "    \n",
    " "
   ]
  },
  {
   "cell_type": "code",
   "execution_count": 71,
   "metadata": {
    "collapsed": false
   },
   "outputs": [
    {
     "name": "stdout",
     "output_type": "stream",
     "text": [
      "|   # |   Material | Thickness (nm)   | Type      |\n",
      "|-----+------------+------------------+-----------|\n",
      "|   0 |     301005 | --               | substrate |\n",
      "|   1 |     114801 | 57.596988825     | passive   |\n",
      "|   2 |     111407 | 17.5961624894    | passive   |\n",
      "|   3 |     114801 | 15.9778074132    | passive   |\n",
      "|   4 |     112003 | 500.0            | passive   |\n",
      "|   5 |     114301 | 30.0             | passive   |\n",
      "|   6 |     116705 | 100              | absorber  |\n"
     ]
    }
   ],
   "source": [
    "stack_list[4].table()"
   ]
  },
  {
   "cell_type": "code",
   "execution_count": 74,
   "metadata": {
    "collapsed": false
   },
   "outputs": [
    {
     "name": "stdout",
     "output_type": "stream",
     "text": [
      "27.0511693114 (ma/cm^2)\n"
     ]
    },
    {
     "data": {
      "text/plain": [
       "27.051169311389827"
      ]
     },
     "execution_count": 74,
     "metadata": {},
     "output_type": "execute_result"
    }
   ],
   "source": [
    "stack_list[4].jsc()"
   ]
  },
  {
   "cell_type": "code",
   "execution_count": 75,
   "metadata": {
    "collapsed": false
   },
   "outputs": [
    {
     "name": "stdout",
     "output_type": "stream",
     "text": [
      "|   # |   Material | Thickness (nm)   | Type      |\n",
      "|-----+------------+------------------+-----------|\n",
      "|   0 |     301005 | --               | substrate |\n",
      "|   1 |     114801 | 58.123497202     | passive   |\n",
      "|   2 |     111407 | 19.2005456311    | passive   |\n",
      "|   3 |     114801 | 15.0555026709    | passive   |\n",
      "|   4 |     112003 | 500.0            | passive   |\n",
      "|   5 |     114301 | 25.0000000149    | passive   |\n",
      "|   6 |     116705 | 100              | absorber  |\n"
     ]
    }
   ],
   "source": [
    "stack_list[4].table()"
   ]
  },
  {
   "cell_type": "code",
   "execution_count": 60,
   "metadata": {
    "collapsed": false
   },
   "outputs": [
    {
     "data": {
      "text/plain": [
       "26.567105621966714"
      ]
     },
     "execution_count": 60,
     "metadata": {},
     "output_type": "execute_result"
    }
   ],
   "source": [
    "max(point)"
   ]
  },
  {
   "cell_type": "code",
   "execution_count": 61,
   "metadata": {
    "collapsed": false
   },
   "outputs": [
    {
     "data": {
      "text/plain": [
       "24.105499067290904"
      ]
     },
     "execution_count": 61,
     "metadata": {},
     "output_type": "execute_result"
    }
   ],
   "source": [
    "min(point)"
   ]
  },
  {
   "cell_type": "code",
   "execution_count": 62,
   "metadata": {
    "collapsed": false
   },
   "outputs": [
    {
     "data": {
      "text/plain": [
       "<matplotlib.figure.Figure at 0x7fac2e804ed0>"
      ]
     },
     "metadata": {},
     "output_type": "display_data"
    }
   ],
   "source": [
    "fig = plt.figure()"
   ]
  },
  {
   "cell_type": "markdown",
   "metadata": {},
   "source": [
    "for stack in stack_list:\n",
    "    stack.jsc()"
   ]
  },
  {
   "cell_type": "code",
   "execution_count": 63,
   "metadata": {
    "collapsed": false
   },
   "outputs": [
    {
     "data": {
      "text/plain": [
       "[[301005, '--', 'substrate'],\n",
       " [112003, 500, 'passive', (500, 2500)],\n",
       " [114301, 50, 'passive', (30, 250)],\n",
       " [116705, 100, 'absorber', (0, 10000)]]"
      ]
     },
     "execution_count": 63,
     "metadata": {},
     "output_type": "execute_result"
    }
   ],
   "source": [
    "stack_list[0].config"
   ]
  },
  {
   "cell_type": "code",
   "execution_count": 64,
   "metadata": {
    "collapsed": false
   },
   "outputs": [
    {
     "name": "stdout",
     "output_type": "stream",
     "text": [
      "|   # |   Material | Thickness (nm)   | Type      |\n",
      "|-----+------------+------------------+-----------|\n",
      "|   0 |     301005 | --               | substrate |\n"
     ]
    }
   ],
   "source": [
    "b = traml.Stack()"
   ]
  },
  {
   "cell_type": "code",
   "execution_count": 65,
   "metadata": {
    "collapsed": false
   },
   "outputs": [
    {
     "name": "stdout",
     "output_type": "stream",
     "text": [
      "|   # |   Material | Thickness (nm)   | Type      |\n",
      "|-----+------------+------------------+-----------|\n",
      "|   0 |     301005 | --               | substrate |\n",
      "|   1 |     114301 | 200              | passive   |\n"
     ]
    }
   ],
   "source": [
    "b.add(CdZnS, 200)"
   ]
  },
  {
   "cell_type": "code",
   "execution_count": 66,
   "metadata": {
    "collapsed": false
   },
   "outputs": [
    {
     "data": {
      "image/png": "[encoded data removed]",
      "text/plain": [
       "<matplotlib.figure.Figure at 0x7fac2589ed10>"
      ]
     },
     "metadata": {},
     "output_type": "display_data"
    }
   ],
   "source": [
    "b.plot()"
   ]
  },
  {
   "cell_type": "code",
   "execution_count": 67,
   "metadata": {
    "collapsed": true
   },
   "outputs": [],
   "source": [
    "b.remove()"
   ]
  },
  {
   "cell_type": "code",
   "execution_count": 68,
   "metadata": {
    "collapsed": false
   },
   "outputs": [
    {
     "name": "stdout",
     "output_type": "stream",
     "text": [
      "|   # |   Material | Thickness (nm)   | Type      |\n",
      "|-----+------------+------------------+-----------|\n",
      "|   0 |     301005 | --               | substrate |\n"
     ]
    }
   ],
   "source": [
    "b.table()"
   ]
  },
  {
   "cell_type": "code",
   "execution_count": 69,
   "metadata": {
    "collapsed": false
   },
   "outputs": [
    {
     "name": "stdout",
     "output_type": "stream",
     "text": [
      "|     ID | SHELF   | BOOK          | PAGE         | DESCRIPTION                    |\n",
      "|--------+---------+---------------+--------------+--------------------------------|\n",
      "| 112003 | main    | ZnO           | Treharne-AZO | Treharne et al. 2011: n,k 0.3- |\n",
      "| 114203 | main    | CdS           | Treharne     | Treharne et al. 2011: n,k 0.3- |\n",
      "| 114301 | main    | CdZnS         | Treharne     | Treharne et al. 2014: n,k      |\n",
      "| 116705 | main    | CdTe          | Treharne     | Treharne et al. 2011: n,k 0.3- |\n",
      "| 316001 | glass   | NSG-OptiWhite | OptiWhite    | OptiWhite                      |\n"
     ]
    }
   ],
   "source": [
    "b.library.search('Treharne')"
   ]
  },
  {
   "cell_type": "code",
   "execution_count": 70,
   "metadata": {
    "collapsed": false
   },
   "outputs": [
    {
     "data": {
      "image/png": "[encoded data removed]",
      "text/plain": [
       "<matplotlib.figure.Figure at 0x7fac26cb78d0>"
      ]
     },
     "metadata": {},
     "output_type": "display_data"
    }
   ],
   "source": [
    "b.library.plot(301005)"
   ]
  },
  {
   "cell_type": "code",
   "execution_count": null,
   "metadata": {
    "collapsed": true
   },
   "outputs": [],
   "source": []
  }
 ],
 "metadata": {
  "kernelspec": {
   "display_name": "Python 2",
   "language": "python",
   "name": "python2"
  },
  "language_info": {
   "codemirror_mode": {
    "name": "ipython",
    "version": 2
   },
   "file_extension": ".py",
   "mimetype": "text/x-python",
   "name": "python",
   "nbconvert_exporter": "python",
   "pygments_lexer": "ipython2",
   "version": "2.7.6"
  }
 },
 "nbformat": 4,
 "nbformat_minor": 0
}
