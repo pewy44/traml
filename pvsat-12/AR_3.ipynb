{
 "cells": [
  {
   "cell_type": "code",
   "execution_count": 17,
   "metadata": {
    "collapsed": false,
    "scrolled": true
   },
   "outputs": [],
   "source": [
    "%matplotlib inline\n",
    "from scipy.optimize import minimize\n",
    "import matplotlib.pyplot as plt\n",
    "import numpy as np\n",
    "import traml\n",
    "import copy"
   ]
  },
  {
   "cell_type": "code",
   "execution_count": 2,
   "metadata": {
    "collapsed": false
   },
   "outputs": [
    {
     "name": "stdout",
     "output_type": "stream",
     "text": [
      "|   # |   Material | Thickness (nm)   | Type      |\n",
      "|-----+------------+------------------+-----------|\n",
      "|   0 |     301005 | --               | substrate |\n"
     ]
    }
   ],
   "source": [
    "a = traml.Stack()"
   ]
  },
  {
   "cell_type": "code",
   "execution_count": 3,
   "metadata": {
    "collapsed": false
   },
   "outputs": [
    {
     "name": "stdout",
     "output_type": "stream",
     "text": [
      "|     ID | SHELF   | BOOK   | PAGE        | DESCRIPTION                    |\n",
      "|--------+---------+--------+-------------+--------------------------------|\n",
      "| 116701 | main    | CdTe   | DeBell-300K | DeBell et al. 1979: n 6-22 µm; |\n",
      "| 116702 | main    | CdTe   | DeBell-80K  | DeBell et al. 1979: n 6-22 µm; |\n",
      "| 116703 | main    | CdTe   | DeBell-20K  | DeBell et al. 1979: n 6-22 µm; |\n",
      "| 116704 | main    | CdTe   | Marple      | Marple 1964: n 0.86-2.5 µm     |\n",
      "| 116705 | main    | CdTe   | Treharne    | Treharne et al. 2011: n,k 0.3- |\n"
     ]
    }
   ],
   "source": [
    "a.library.search('CdTe')"
   ]
  },
  {
   "cell_type": "code",
   "execution_count": 4,
   "metadata": {
    "collapsed": false
   },
   "outputs": [],
   "source": [
    "CdS = 114203\n",
    "CdTe = 116705\n",
    "CdZnS = 114301"
   ]
  },
  {
   "cell_type": "code",
   "execution_count": 5,
   "metadata": {
    "collapsed": false
   },
   "outputs": [],
   "source": [
    "a.library.plot(CdS)"
   ]
  },
  {
   "cell_type": "code",
   "execution_count": 6,
   "metadata": {
    "collapsed": false
   },
   "outputs": [],
   "source": [
    "def fun(x, stack, layers, c, delta, TR):\n",
    "    for i in layers:\n",
    "          \n",
    "        \n",
    "        stack.d(i, x[i-1])\n",
    "    #stack.d(1,x[0])\n",
    "    #stack.d(2,x[1])\n",
    "    for p in x:\n",
    "        p = np.sqrt(x[0]**2)\n",
    "    x[0]=np.sqrt(x[0]**2)\n",
    "    min = 1-stack.average(TR, c, delta, o='a')\n",
    "    #min = stack.average(TR, c, delta)\n",
    "    #print min\n",
    "\n",
    "    return min**10"
   ]
  },
  {
   "cell_type": "code",
   "execution_count": 7,
   "metadata": {
    "collapsed": false
   },
   "outputs": [],
   "source": [
    "def minTR(stack, film_range, c, delta, TR='T'):\n",
    "    print film_range\n",
    "    x = []\n",
    "    layers = []\n",
    "    bnds = []\n",
    "    for i in range(film_range[0],film_range[1]+1):\n",
    "        #print i\n",
    "        x.append(stack.config[i][1])\n",
    "        layers.append(i)\n",
    "        bnds.append(stack.config[i][3])\n",
    "        \n",
    "    result = minimize(fun, x, args=(stack, layers, c,delta, TR), bounds = bnds,tol=1e-30, method='SLSQP')\n",
    "    \n",
    "    #stack.plot()\n",
    "    print layers\n",
    "    return result"
   ]
  },
  {
   "cell_type": "code",
   "execution_count": 8,
   "metadata": {
    "collapsed": false,
    "scrolled": true
   },
   "outputs": [
    {
     "name": "stdout",
     "output_type": "stream",
     "text": [
      "|   # |   Material | Thickness (nm)   | Type      |\n",
      "|-----+------------+------------------+-----------|\n",
      "|   0 |     301005 | --               | substrate |\n",
      "|   # |   Material | Thickness (nm)   | Type      |\n",
      "|-----+------------+------------------+-----------|\n",
      "|   0 |     301005 | --               | substrate |\n",
      "|   1 |     112003 | 500              | passive   |\n",
      "|   # |   Material | Thickness (nm)   | Type      |\n",
      "|-----+------------+------------------+-----------|\n",
      "|   0 |     301005 | --               | substrate |\n",
      "|   1 |     112003 | 500              | passive   |\n",
      "|   2 |     114301 | 50               | passive   |\n",
      "|   # |   Material | Thickness (nm)   | Type      |\n",
      "|-----+------------+------------------+-----------|\n",
      "|   0 |     301005 | --               | substrate |\n",
      "|   1 |     112003 | 500              | passive   |\n",
      "|   2 |     114301 | 50               | passive   |\n",
      "|   3 |     116705 | 100              | absorber  |\n",
      "24.1054990673 (ma/cm^2)\n",
      "[24.105499067290904]\n",
      "[1, 2]\n",
      "[1, 2]\n",
      "25.618848626 (ma/cm^2)\n",
      "even 0\n",
      "|   # |   Material | Thickness (nm)   | Type      |\n",
      "|-----+------------+------------------+-----------|\n",
      "|   0 |     301005 | --               | substrate |\n",
      "|   1 |     114801 | 20               | passive   |\n",
      "|   # |   Material | Thickness (nm)   | Type      |\n",
      "|-----+------------+------------------+-----------|\n",
      "|   0 |     301005 | --               | substrate |\n",
      "|   1 |     114801 | 20               | passive   |\n",
      "|   2 |     112003 | 500              | passive   |\n",
      "|   # |   Material | Thickness (nm)   | Type      |\n",
      "|-----+------------+------------------+-----------|\n",
      "|   0 |     301005 | --               | substrate |\n",
      "|   1 |     114801 | 20               | passive   |\n",
      "|   2 |     112003 | 500              | passive   |\n",
      "|   3 |     114301 | 50               | passive   |\n",
      "|   # |   Material | Thickness (nm)   | Type      |\n",
      "|-----+------------+------------------+-----------|\n",
      "|   0 |     301005 | --               | substrate |\n",
      "|   1 |     114801 | 20               | passive   |\n",
      "|   2 |     112003 | 500              | passive   |\n",
      "|   3 |     114301 | 50               | passive   |\n",
      "|   4 |     116705 | 100              | absorber  |\n",
      "[1, 3]\n",
      "[1, 2, 3]\n",
      "26.9143654572 (ma/cm^2)\n",
      "25.0000000149\n",
      "|   # |   Material | Thickness (nm)   | Type      |\n",
      "|-----+------------+------------------+-----------|\n",
      "|   0 |     301005 | --               | substrate |\n",
      "|   1 |     114801 | 50.5069659611    | passive   |\n",
      "|   2 |     112003 | 500.0            | passive   |\n",
      "|   3 |     114301 | 25.0000000149    | passive   |\n",
      "|   4 |     116705 | 100              | absorber  |\n",
      "============================================================================================\n",
      "0.845315963933\n",
      "============================================================================================\n",
      "|   # |   Material | Thickness (nm)   | Type      |\n",
      "|-----+------------+------------------+-----------|\n",
      "|   0 |     301005 | --               | substrate |\n",
      "|   1 |     114801 | 50.5069659611    | passive   |\n",
      "|   2 |     111407 | 20               | passive   |\n",
      "|   # |   Material | Thickness (nm)   | Type      |\n",
      "|-----+------------+------------------+-----------|\n",
      "|   0 |     301005 | --               | substrate |\n",
      "|   1 |     114801 | 50.5069659611    | passive   |\n",
      "|   2 |     111407 | 20               | passive   |\n",
      "|   3 |     112003 | 500              | passive   |\n",
      "|   # |   Material | Thickness (nm)   | Type      |\n",
      "|-----+------------+------------------+-----------|\n",
      "|   0 |     301005 | --               | substrate |\n",
      "|   1 |     114801 | 50.5069659611    | passive   |\n",
      "|   2 |     111407 | 20               | passive   |\n",
      "|   3 |     112003 | 500              | passive   |\n",
      "|   4 |     114301 | 50               | passive   |\n",
      "|   # |   Material | Thickness (nm)   | Type      |\n",
      "|-----+------------+------------------+-----------|\n",
      "|   0 |     301005 | --               | substrate |\n",
      "|   1 |     114801 | 50.5069659611    | passive   |\n",
      "|   2 |     111407 | 20               | passive   |\n",
      "|   3 |     112003 | 500              | passive   |\n",
      "|   4 |     114301 | 50               | passive   |\n",
      "|   5 |     116705 | 100              | absorber  |\n",
      "[1, 4]\n",
      "[1, 2, 3, 4]\n",
      "26.9401457551 (ma/cm^2)\n",
      "25.0000000149\n",
      "|   # |   Material | Thickness (nm)   | Type      |\n",
      "|-----+------------+------------------+-----------|\n",
      "|   0 |     301005 | --               | substrate |\n",
      "|   1 |     114801 | 56.2064151941    | passive   |\n",
      "|   2 |     111407 | 8.0015454881     | passive   |\n",
      "|   3 |     112003 | 500.0            | passive   |\n",
      "|   4 |     114301 | 25.0000000149    | passive   |\n",
      "|   5 |     116705 | 100              | absorber  |\n",
      "============================================================================================\n",
      "0.845851769693\n",
      "============================================================================================\n",
      "even 2\n",
      "|   # |   Material | Thickness (nm)   | Type      |\n",
      "|-----+------------+------------------+-----------|\n",
      "|   0 |     301005 | --               | substrate |\n",
      "|   1 |     114801 | 56.2064151941    | passive   |\n",
      "|   2 |     111407 | 8.0015454881     | passive   |\n",
      "|   3 |     114801 | 20               | passive   |\n",
      "|   # |   Material | Thickness (nm)   | Type      |\n",
      "|-----+------------+------------------+-----------|\n",
      "|   0 |     301005 | --               | substrate |\n",
      "|   1 |     114801 | 56.2064151941    | passive   |\n",
      "|   2 |     111407 | 8.0015454881     | passive   |\n",
      "|   3 |     114801 | 20               | passive   |\n",
      "|   4 |     112003 | 500              | passive   |\n",
      "|   # |   Material | Thickness (nm)   | Type      |\n",
      "|-----+------------+------------------+-----------|\n",
      "|   0 |     301005 | --               | substrate |\n",
      "|   1 |     114801 | 56.2064151941    | passive   |\n",
      "|   2 |     111407 | 8.0015454881     | passive   |\n",
      "|   3 |     114801 | 20               | passive   |\n",
      "|   4 |     112003 | 500              | passive   |\n",
      "|   5 |     114301 | 50               | passive   |\n",
      "|   # |   Material | Thickness (nm)   | Type      |\n",
      "|-----+------------+------------------+-----------|\n",
      "|   0 |     301005 | --               | substrate |\n",
      "|   1 |     114801 | 56.2064151941    | passive   |\n",
      "|   2 |     111407 | 8.0015454881     | passive   |\n",
      "|   3 |     114801 | 20               | passive   |\n",
      "|   4 |     112003 | 500              | passive   |\n",
      "|   5 |     114301 | 50               | passive   |\n",
      "|   6 |     116705 | 100              | absorber  |\n",
      "[1, 5]\n",
      "[1, 2, 3, 4, 5]\n",
      "27.0526962424 (ma/cm^2)\n",
      "25.0000000149\n",
      "|   # |   Material | Thickness (nm)   | Type      |\n",
      "|-----+------------+------------------+-----------|\n",
      "|   0 |     301005 | --               | substrate |\n",
      "|   1 |     114801 | 58.1313817388    | passive   |\n",
      "|   2 |     111407 | 19.0895804194    | passive   |\n",
      "|   3 |     114801 | 14.6340946154    | passive   |\n",
      "|   4 |     112003 | 500.0            | passive   |\n",
      "|   5 |     114301 | 25.0000000149    | passive   |\n",
      "|   6 |     116705 | 100              | absorber  |\n",
      "============================================================================================\n",
      "0.850703200581\n",
      "============================================================================================\n",
      "|   # |   Material | Thickness (nm)   | Type      |\n",
      "|-----+------------+------------------+-----------|\n",
      "|   0 |     301005 | --               | substrate |\n",
      "|   1 |     114801 | 58.1313817388    | passive   |\n",
      "|   2 |     111407 | 19.0895804194    | passive   |\n",
      "|   3 |     114801 | 14.6340946154    | passive   |\n",
      "|   4 |     111407 | 20               | passive   |\n",
      "|   # |   Material | Thickness (nm)   | Type      |\n",
      "|-----+------------+------------------+-----------|\n",
      "|   0 |     301005 | --               | substrate |\n",
      "|   1 |     114801 | 58.1313817388    | passive   |\n",
      "|   2 |     111407 | 19.0895804194    | passive   |\n",
      "|   3 |     114801 | 14.6340946154    | passive   |\n",
      "|   4 |     111407 | 20               | passive   |\n",
      "|   5 |     112003 | 500              | passive   |\n",
      "|   # |   Material | Thickness (nm)   | Type      |\n",
      "|-----+------------+------------------+-----------|\n",
      "|   0 |     301005 | --               | substrate |\n",
      "|   1 |     114801 | 58.1313817388    | passive   |\n",
      "|   2 |     111407 | 19.0895804194    | passive   |\n",
      "|   3 |     114801 | 14.6340946154    | passive   |\n",
      "|   4 |     111407 | 20               | passive   |\n",
      "|   5 |     112003 | 500              | passive   |\n",
      "|   6 |     114301 | 50               | passive   |\n",
      "|   # |   Material | Thickness (nm)   | Type      |\n",
      "|-----+------------+------------------+-----------|\n",
      "|   0 |     301005 | --               | substrate |\n",
      "|   1 |     114801 | 58.1313817388    | passive   |\n",
      "|   2 |     111407 | 19.0895804194    | passive   |\n",
      "|   3 |     114801 | 14.6340946154    | passive   |\n",
      "|   4 |     111407 | 20               | passive   |\n",
      "|   5 |     112003 | 500              | passive   |\n",
      "|   6 |     114301 | 50               | passive   |\n",
      "|   7 |     116705 | 100              | absorber  |\n",
      "[1, 6]\n",
      "[1, 2, 3, 4, 5, 6]\n",
      "27.0052098248 (ma/cm^2)\n",
      "25.0\n",
      "|   # |   Material | Thickness (nm)   | Type      |\n",
      "|-----+------------+------------------+-----------|\n",
      "|   0 |     301005 | --               | substrate |\n",
      "|   1 |     114801 | 55.962815766     | passive   |\n",
      "|   2 |     111407 | 21.2620751204    | passive   |\n",
      "|   3 |     114801 | 22.7543339655    | passive   |\n",
      "|   4 |     111407 | 13.9950000119    | passive   |\n",
      "|   5 |     112003 | 500.0            | passive   |\n",
      "|   6 |     114301 | 25.0             | passive   |\n",
      "|   7 |     116705 | 100              | absorber  |\n",
      "============================================================================================\n",
      "0.849817823727\n",
      "============================================================================================\n",
      "even 4\n",
      "|   # |   Material | Thickness (nm)   | Type      |\n",
      "|-----+------------+------------------+-----------|\n",
      "|   0 |     301005 | --               | substrate |\n",
      "|   1 |     114801 | 55.962815766     | passive   |\n",
      "|   2 |     111407 | 21.2620751204    | passive   |\n",
      "|   3 |     114801 | 22.7543339655    | passive   |\n",
      "|   4 |     111407 | 13.9950000119    | passive   |\n",
      "|   5 |     114801 | 20               | passive   |\n",
      "|   # |   Material | Thickness (nm)   | Type      |\n",
      "|-----+------------+------------------+-----------|\n",
      "|   0 |     301005 | --               | substrate |\n",
      "|   1 |     114801 | 55.962815766     | passive   |\n",
      "|   2 |     111407 | 21.2620751204    | passive   |\n",
      "|   3 |     114801 | 22.7543339655    | passive   |\n",
      "|   4 |     111407 | 13.9950000119    | passive   |\n",
      "|   5 |     114801 | 20               | passive   |\n",
      "|   6 |     112003 | 500              | passive   |\n",
      "|   # |   Material | Thickness (nm)   | Type      |\n",
      "|-----+------------+------------------+-----------|\n",
      "|   0 |     301005 | --               | substrate |\n",
      "|   1 |     114801 | 55.962815766     | passive   |\n",
      "|   2 |     111407 | 21.2620751204    | passive   |\n",
      "|   3 |     114801 | 22.7543339655    | passive   |\n",
      "|   4 |     111407 | 13.9950000119    | passive   |\n",
      "|   5 |     114801 | 20               | passive   |\n",
      "|   6 |     112003 | 500              | passive   |\n",
      "|   7 |     114301 | 50               | passive   |\n",
      "|   # |   Material | Thickness (nm)   | Type      |\n",
      "|-----+------------+------------------+-----------|\n",
      "|   0 |     301005 | --               | substrate |\n",
      "|   1 |     114801 | 55.962815766     | passive   |\n",
      "|   2 |     111407 | 21.2620751204    | passive   |\n",
      "|   3 |     114801 | 22.7543339655    | passive   |\n",
      "|   4 |     111407 | 13.9950000119    | passive   |\n",
      "|   5 |     114801 | 20               | passive   |\n",
      "|   6 |     112003 | 500              | passive   |\n",
      "|   7 |     114301 | 50               | passive   |\n",
      "|   8 |     116705 | 100              | absorber  |\n",
      "[1, 7]\n",
      "[1, 2, 3, 4, 5, 6, 7]\n",
      "26.9613191749 (ma/cm^2)\n",
      "25.0000000149\n",
      "|   # |   Material | Thickness (nm)   | Type      |\n",
      "|-----+------------+------------------+-----------|\n",
      "|   0 |     301005 | --               | substrate |\n",
      "|   1 |     114801 | 54.1252740103    | passive   |\n",
      "|   2 |     111407 | 17.4839518243    | passive   |\n",
      "|   3 |     114801 | 23.2447245359    | passive   |\n",
      "|   4 |     111407 | 17.6189024696    | passive   |\n",
      "|   5 |     114801 | 6.39441776313    | passive   |\n",
      "|   6 |     112003 | 500.0            | passive   |\n",
      "|   7 |     114301 | 25.0000000149    | passive   |\n",
      "|   8 |     116705 | 100              | absorber  |\n",
      "============================================================================================\n",
      "0.849283871099\n",
      "============================================================================================\n"
     ]
    }
   ],
   "source": [
    "c = traml.Stack()\n",
    "\n",
    "peak = 0.6\n",
    "delta = 0.2\n",
    "mat2 = 105401 #MgF2\n",
    "sio2 = 111407 #SiO2\n",
    "zns = 114801 #ZnS\n",
    "zno = 112003 #ZnO\n",
    "mgo = 110902 #MgO\n",
    "#mat1 = 110104 #Al2O3\n",
    "zro2 = 112101\n",
    "stack_list = []\n",
    "\n",
    "c.add(zno, 500, bnds = (500, 2500))\n",
    "c.add(CdZnS, 50, bnds=(25, 250))\n",
    "c.add(CdTe, film_type='absorber')\n",
    "\n",
    "stack_list.append(copy.deepcopy(c))\n",
    "R=[]\n",
    "point = []\n",
    "point.append(c.jsc())\n",
    "print point\n",
    "n = [0]\n",
    "it = [1]\n",
    "\n",
    "result = minTR(c, [1,len(c.config)-2], peak, delta, TR='T')\n",
    "point.append(c.jsc())\n",
    "n.append(0)\n",
    "stack_list.append(copy.deepcopy(c))\n",
    "\n",
    "c.remove()\n",
    "c.remove()\n",
    "c.remove()\n",
    "\n",
    "N = 5\n",
    "for i in range(0, N):\n",
    "    if i % 2 == 0:\n",
    "        print 'even', i\n",
    "        c.add(zns,20, bnds=(0,100))\n",
    "    else:\n",
    "        c.add(sio2,20, bnds=(0,100))\n",
    "        \n",
    "    c.add(zno, 500, bnds = (500, 2500))\n",
    "    c.add(CdZnS, 50, bnds=(25, 250))\n",
    "    c.add(CdTe, film_type='absorber')\n",
    "    \n",
    "    \n",
    "    result = minTR(c, [1,len(c.config)-2], peak, delta, TR='T')\n",
    "    R.append(c.average('R',peak,delta))\n",
    "    n.append(i+1)\n",
    "    it.append(result.nit)\n",
    "    stack_list.append(copy.deepcopy(c))\n",
    "    point.append(c.jsc())\n",
    "    \n",
    "    print c.config[i+3][1]\n",
    "    \n",
    "   \n",
    "    c.table()\n",
    "    print '============================================================================================'\n",
    "    print c.average('T',peak,delta, o='a')\n",
    "    \n",
    "    \n",
    "    if i !=N-1:\n",
    "        c.remove()\n",
    "        c.remove()\n",
    "        c.remove()\n",
    "        \n",
    "    print '============================================================================================'\n",
    "    \n",
    "    \n",
    "    \n",
    "    \n",
    " "
   ]
  },
  {
   "cell_type": "code",
   "execution_count": 9,
   "metadata": {
    "collapsed": false
   },
   "outputs": [
    {
     "name": "stdout",
     "output_type": "stream",
     "text": [
      "24.1054990673 (ma/cm^2)\n",
      "25.618848626 (ma/cm^2)\n",
      "26.9143654572 (ma/cm^2)\n",
      "26.9401457551 (ma/cm^2)\n",
      "27.0526962424 (ma/cm^2)\n",
      "27.0052098248 (ma/cm^2)\n",
      "26.9613191749 (ma/cm^2)\n"
     ]
    }
   ],
   "source": [
    "for film in stack_list:\n",
    "    film.jsc()"
   ]
  },
  {
   "cell_type": "code",
   "execution_count": null,
   "metadata": {
    "collapsed": false
   },
   "outputs": [],
   "source": []
  },
  {
   "cell_type": "code",
   "execution_count": 20,
   "metadata": {
    "collapsed": false
   },
   "outputs": [
    {
     "name": "stdout",
     "output_type": "stream",
     "text": [
      "Using matplotlib backend: TkAgg\n"
     ]
    },
    {
     "data": {
      "text/plain": [
       "(0.35, 0.9)"
      ]
     },
     "execution_count": 20,
     "metadata": {},
     "output_type": "execute_result"
    }
   ],
   "source": [
    "%matplotlib\n",
    "fig = plt.figure(figsize=(9,7))\n",
    "ax = fig.add_subplot(111)\n",
    "\n",
    "l1, = ax.plot(c.x, stack_list[0].get_T(option='a'), '-', color='red', label='T (w/o FSARC)')\n",
    "l2, = ax.plot(c.x, stack_list[5].get_T(option='a'), '--', color='red', label='T (with FSARC)')\n",
    "l3, = ax.plot(c.x, stack_list[0].get_R(option='a'), '-', color='blue', label='R (w/o FSARC)')\n",
    "l4, = ax.plot(c.x, stack_list[5].get_R(option='a'), '--', color='blue', label='R (with FSARC)')\n",
    "\n",
    "\n",
    "legend = ax.legend(loc='center right', fontsize=16)\n",
    "\n",
    "#ax.set_xlim([0,14])\n",
    "#ax.set_xlabel(r'Number of films', fontsize=20)\n",
    "ax.set_ylabel('T, R', fontsize=20)\n",
    "ax.set_xlabel('$\\lambda$ ($\\mu$m)', fontsize=24)\n",
    "ax.tick_params(labelsize = 20)\n",
    "ax.set_ylim([0,1])\n",
    "ax.set_xlim([0.35,0.9])\n",
    "\n",
    "\n",
    "\n",
    "#plt.plot(a.x, a.get_T(),)\n",
    "#plt.plot(c.x, c.get_T())\n",
    "#a.average('R', 0.6,0.3)\n",
    "#plt.xlim([0.4, 0.9])"
   ]
  },
  {
   "cell_type": "code",
   "execution_count": 11,
   "metadata": {
    "collapsed": false
   },
   "outputs": [
    {
     "name": "stdout",
     "output_type": "stream",
     "text": [
      "26.9613191749 (ma/cm^2)\n"
     ]
    },
    {
     "data": {
      "text/plain": [
       "26.961319174854822"
      ]
     },
     "execution_count": 11,
     "metadata": {},
     "output_type": "execute_result"
    }
   ],
   "source": [
    "c.jsc()"
   ]
  },
  {
   "cell_type": "code",
   "execution_count": 12,
   "metadata": {
    "collapsed": false
   },
   "outputs": [
    {
     "data": {
      "text/plain": [
       "[<matplotlib.lines.Line2D at 0x7f935447bed0>]"
      ]
     },
     "execution_count": 12,
     "metadata": {},
     "output_type": "execute_result"
    }
   ],
   "source": [
    "plt.plot(n, point, '-o')"
   ]
  },
  {
   "cell_type": "code",
   "execution_count": 13,
   "metadata": {
    "collapsed": false
   },
   "outputs": [
    {
     "data": {
      "text/plain": [
       "27.052696242385537"
      ]
     },
     "execution_count": 13,
     "metadata": {},
     "output_type": "execute_result"
    }
   ],
   "source": [
    "max(point)"
   ]
  },
  {
   "cell_type": "code",
   "execution_count": 14,
   "metadata": {
    "collapsed": false
   },
   "outputs": [],
   "source": [
    "fig = plt.figure()"
   ]
  },
  {
   "cell_type": "markdown",
   "metadata": {},
   "source": [
    "for stack in stack_list:\n",
    "    stack.jsc()"
   ]
  },
  {
   "cell_type": "code",
   "execution_count": 15,
   "metadata": {
    "collapsed": false
   },
   "outputs": [
    {
     "data": {
      "text/plain": [
       "[[301005, '--', 'substrate'],\n",
       " [112003, 500, 'passive', (500, 2500)],\n",
       " [114301, 50, 'passive', (25, 250)],\n",
       " [116705, 100, 'absorber', (0, 10000)]]"
      ]
     },
     "execution_count": 15,
     "metadata": {},
     "output_type": "execute_result"
    }
   ],
   "source": [
    "stack_list[0].config"
   ]
  },
  {
   "cell_type": "code",
   "execution_count": null,
   "metadata": {
    "collapsed": true
   },
   "outputs": [],
   "source": []
  }
 ],
 "metadata": {
  "kernelspec": {
   "display_name": "Python 2",
   "language": "python",
   "name": "python2"
  },
  "language_info": {
   "codemirror_mode": {
    "name": "ipython",
    "version": 2
   },
   "file_extension": ".py",
   "mimetype": "text/x-python",
   "name": "python",
   "nbconvert_exporter": "python",
   "pygments_lexer": "ipython2",
   "version": "2.7.6"
  }
 },
 "nbformat": 4,
 "nbformat_minor": 0
}
