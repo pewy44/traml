{
 "cells": [
  {
   "cell_type": "code",
   "execution_count": 16,
   "metadata": {
    "collapsed": true
   },
   "outputs": [],
   "source": [
    "%matplotlib inline\n",
    "from scipy.optimize import minimize\n",
    "import numpy as np\n",
    "import traml"
   ]
  },
  {
   "cell_type": "code",
   "execution_count": 17,
   "metadata": {
    "collapsed": false
   },
   "outputs": [],
   "source": [
    "a = traml.Stack()"
   ]
  },
  {
   "cell_type": "code",
   "execution_count": 18,
   "metadata": {
    "collapsed": false
   },
   "outputs": [
    {
     "name": "stdout",
     "output_type": "stream",
     "text": [
      "|     ID | SHELF   | BOOK   | PAGE    | DESCRIPTION                 |\n",
      "|--------+---------+--------+---------+-----------------------------|\n",
      "| 105401 | main    | MgF2   | Li-o    | Li 1980: n(o) 0.14-7.5 µm   |\n",
      "| 105402 | main    | MgF2   | Li-e    | Li 1980: n(e) 0.14-7.5 µm   |\n",
      "| 105403 | main    | MgF2   | Dodge-o | Dodge 1984: n(o) 0.2-7.0 µm |\n",
      "| 105404 | main    | MgF2   | Dodge-e | Dodge 1984: n(e) 0.2-7.0 µm |\n"
     ]
    }
   ],
   "source": [
    "a.library.search('mgf2')"
   ]
  },
  {
   "cell_type": "code",
   "execution_count": 19,
   "metadata": {
    "collapsed": false
   },
   "outputs": [
    {
     "data": {
      "image/png": "[encoded data removed]",
      "text/plain": [
       "<matplotlib.figure.Figure at 0x7f9c471427d0>"
      ]
     },
     "metadata": {},
     "output_type": "display_data"
    }
   ],
   "source": [
    "sio2 = 111407\n",
    "mgf2 = 105401\n",
    "a.library.plot(105401)"
   ]
  },
  {
   "cell_type": "code",
   "execution_count": 20,
   "metadata": {
    "collapsed": false
   },
   "outputs": [],
   "source": [
    "def fun(x, stack, layers, c, delta, TR):\n",
    "    for i in layers:\n",
    "          \n",
    "        \n",
    "        stack.d(i, x[i-1])\n",
    "    #stack.d(1,x[0])\n",
    "    #stack.d(2,x[1])\n",
    "    for p in x:\n",
    "        p = np.sqrt(x[0]**2)\n",
    "    x[0]=np.sqrt(x[0]**2)\n",
    "    min = 1-stack.average(TR, c, delta)\n",
    "    #min = stack.average(TR, c, delta)\n",
    "    #print min\n",
    "\n",
    "    return min**10"
   ]
  },
  {
   "cell_type": "code",
   "execution_count": 21,
   "metadata": {
    "collapsed": false
   },
   "outputs": [],
   "source": [
    "def test(stack, film_range):\n",
    "    for i in range(film_range[0],film_range[1]):\n",
    "        print stack.config[i], film_range"
   ]
  },
  {
   "cell_type": "code",
   "execution_count": 22,
   "metadata": {
    "collapsed": false
   },
   "outputs": [],
   "source": [
    "def minTR(stack, film_range, c, delta, TR='R'):\n",
    "    print film_range\n",
    "    x = []\n",
    "    layers = []\n",
    "    bnds = []\n",
    "    for i in range(film_range[0],film_range[1]+1):\n",
    "        #print i\n",
    "        x.append(stack.config[i][1])\n",
    "        layers.append(i)\n",
    "        bnds.append((2,1000))\n",
    "        \n",
    "    result = minimize(fun, x, args=(stack, layers, c,delta, TR), bounds = bnds,tol=1e-30, method='SLSQP')\n",
    "    \n",
    "    #stack.plot()\n",
    "    print layers\n",
    "    return result"
   ]
  },
  {
   "cell_type": "code",
   "execution_count": 24,
   "metadata": {
    "collapsed": false
   },
   "outputs": [
    {
     "name": "stdout",
     "output_type": "stream",
     "text": [
      "|   # |   Material | Thickness (nm)   | Type      |\n",
      "|-----+------------+------------------+-----------|\n",
      "|   0 |     301005 | --               | substrate |\n"
     ]
    }
   ],
   "source": [
    "a.table()"
   ]
  },
  {
   "cell_type": "code",
   "execution_count": 33,
   "metadata": {
    "collapsed": false
   },
   "outputs": [
    {
     "name": "stdout",
     "output_type": "stream",
     "text": [
      "even 0\n",
      "[1, 1]\n",
      "[1]\n",
      "============================================================================================\n",
      "0.0820959739392\n",
      "============================================================================================\n",
      "[1, 2]\n",
      "[1, 2]\n",
      "============================================================================================\n",
      "0.0820206083295\n",
      "============================================================================================\n",
      "even 2\n",
      "[1, 3]\n",
      "[1, 2, 3]\n",
      "============================================================================================\n",
      "0.0819805499068\n",
      "============================================================================================\n",
      "[1, 4]\n",
      "[1, 2, 3, 4]\n",
      "============================================================================================\n",
      "0.0818099612273\n",
      "============================================================================================\n",
      "even 4\n",
      "[1, 5]\n",
      "[1, 2, 3, 4, 5]\n",
      "============================================================================================\n",
      "0.0819139042491\n",
      "============================================================================================\n",
      "[1, 6]\n",
      "[1, 2, 3, 4, 5, 6]\n",
      "============================================================================================\n",
      "0.110764792394\n",
      "============================================================================================\n",
      "even 6\n",
      "[1, 7]\n",
      "[1, 2, 3, 4, 5, 6, 7]\n",
      "============================================================================================\n",
      "0.110756262373\n",
      "============================================================================================\n",
      "[1, 8]\n",
      "[1, 2, 3, 4, 5, 6, 7, 8]\n",
      "============================================================================================\n",
      "0.110703842937\n",
      "============================================================================================\n",
      "even 8\n",
      "[1, 9]\n",
      "[1, 2, 3, 4, 5, 6, 7, 8, 9]\n",
      "============================================================================================\n",
      "0.110678300555\n",
      "============================================================================================\n",
      "[1, 10]\n",
      "[1, 2, 3, 4, 5, 6, 7, 8, 9, 10]\n",
      "============================================================================================\n",
      "0.110573739324\n",
      "============================================================================================\n",
      "even 10\n",
      "[1, 11]\n",
      "[1, 2, 3, 4, 5, 6, 7, 8, 9, 10, 11]\n",
      "============================================================================================\n",
      "0.110531320012\n",
      "============================================================================================\n",
      "[1, 12]\n",
      "[1, 2, 3, 4, 5, 6, 7, 8, 9, 10, 11, 12]\n",
      "============================================================================================\n",
      "0.110375172102\n",
      "============================================================================================\n",
      "even 12\n",
      "[1, 13]\n",
      "[1, 2, 3, 4, 5, 6, 7, 8, 9, 10, 11, 12, 13]\n",
      "============================================================================================\n",
      "0.110316101353\n",
      "============================================================================================\n",
      "[1, 14]\n",
      "[1, 2, 3, 4, 5, 6, 7, 8, 9, 10, 11, 12, 13, 14]\n",
      "============================================================================================\n",
      "0.110109198243\n",
      "============================================================================================\n",
      "even 14\n",
      "[1, 15]\n",
      "[1, 2, 3, 4, 5, 6, 7, 8, 9, 10, 11, 12, 13, 14, 15]\n",
      "============================================================================================\n",
      "0.109372411761\n",
      "============================================================================================\n",
      "[1, 16]\n",
      "[1, 2, 3, 4, 5, 6, 7, 8, 9, 10, 11, 12, 13, 14, 15, 16]\n",
      "============================================================================================\n",
      "0.144864192413\n",
      "============================================================================================\n",
      "even 16\n",
      "[1, 17]\n",
      "[1, 2, 3, 4, 5, 6, 7, 8, 9, 10, 11, 12, 13, 14, 15, 16, 17]\n",
      "============================================================================================\n",
      "0.145466426888\n",
      "============================================================================================\n",
      "[1, 18]\n",
      "[1, 2, 3, 4, 5, 6, 7, 8, 9, 10, 11, 12, 13, 14, 15, 16, 17, 18]\n",
      "============================================================================================\n",
      "0.14377030598\n",
      "============================================================================================\n",
      "even 18\n",
      "[1, 19]\n",
      "[1, 2, 3, 4, 5, 6, 7, 8, 9, 10, 11, 12, 13, 14, 15, 16, 17, 18, 19]\n",
      "============================================================================================\n",
      "0.144461518944\n",
      "============================================================================================\n",
      "[1, 20]\n",
      "[1, 2, 3, 4, 5, 6, 7, 8, 9, 10, 11, 12, 13, 14, 15, 16, 17, 18, 19, 20]\n",
      "============================================================================================\n",
      "0.143059814221\n",
      "============================================================================================\n",
      "even 20\n",
      "[1, 21]\n",
      "[1, 2, 3, 4, 5, 6, 7, 8, 9, 10, 11, 12, 13, 14, 15, 16, 17, 18, 19, 20, 21]\n",
      "============================================================================================\n",
      "0.144275110586\n",
      "============================================================================================\n",
      "[1, 22]\n",
      "[1, 2, 3, 4, 5, 6, 7, 8, 9, 10, 11, 12, 13, 14, 15, 16, 17, 18, 19, 20, 21, 22]\n",
      "============================================================================================\n",
      "0.143317124745\n",
      "============================================================================================\n",
      "even 22\n",
      "[1, 23]\n",
      "[1, 2, 3, 4, 5, 6, 7, 8, 9, 10, 11, 12, 13, 14, 15, 16, 17, 18, 19, 20, 21, 22, 23]\n",
      "============================================================================================\n",
      "0.143710965635\n",
      "============================================================================================\n",
      "[1, 24]\n",
      "[1, 2, 3, 4, 5, 6, 7, 8, 9, 10, 11, 12, 13, 14, 15, 16, 17, 18, 19, 20, 21, 22, 23, 24]\n",
      "============================================================================================\n",
      "0.14328995785\n",
      "============================================================================================\n",
      "even 24\n",
      "[1, 25]\n",
      "[1, 2, 3, 4, 5, 6, 7, 8, 9, 10, 11, 12, 13, 14, 15, 16, 17, 18, 19, 20, 21, 22, 23, 24, 25]\n",
      "============================================================================================\n",
      "0.143274533522\n",
      "============================================================================================\n",
      "[1, 26]\n",
      "[1, 2, 3, 4, 5, 6, 7, 8, 9, 10, 11, 12, 13, 14, 15, 16, 17, 18, 19, 20, 21, 22, 23, 24, 25, 26]\n",
      "============================================================================================\n",
      "0.142984471801\n",
      "============================================================================================\n",
      "even 26\n",
      "[1, 27]\n",
      "[1, 2, 3, 4, 5, 6, 7, 8, 9, 10, 11, 12, 13, 14, 15, 16, 17, 18, 19, 20, 21, 22, 23, 24, 25, 26, 27]\n",
      "============================================================================================\n",
      "0.136404845532\n",
      "============================================================================================\n",
      "[1, 28]\n",
      "[1, 2, 3, 4, 5, 6, 7, 8, 9, 10, 11, 12, 13, 14, 15, 16, 17, 18, 19, 20, 21, 22, 23, 24, 25, 26, 27, 28]\n",
      "============================================================================================\n",
      "0.177396285886\n",
      "============================================================================================\n",
      "even 28\n",
      "[1, 29]\n",
      "[1, 2, 3, 4, 5, 6, 7, 8, 9, 10, 11, 12, 13, 14, 15, 16, 17, 18, 19, 20, 21, 22, 23, 24, 25, 26, 27, 28, 29]\n",
      "============================================================================================\n",
      "0.176127319585\n",
      "============================================================================================\n",
      "[1, 30]\n",
      "[1, 2, 3, 4, 5, 6, 7, 8, 9, 10, 11, 12, 13, 14, 15, 16, 17, 18, 19, 20, 21, 22, 23, 24, 25, 26, 27, 28, 29, 30]\n",
      "============================================================================================\n",
      "0.22178611853\n",
      "============================================================================================\n",
      "even 30\n",
      "[1, 31]\n",
      "[1, 2, 3, 4, 5, 6, 7, 8, 9, 10, 11, 12, 13, 14, 15, 16, 17, 18, 19, 20, 21, 22, 23, 24, 25, 26, 27, 28, 29, 30, 31]\n",
      "============================================================================================\n",
      "0.217206974286\n",
      "============================================================================================\n",
      "[1, 32]\n",
      "[1, 2, 3, 4, 5, 6, 7, 8, 9, 10, 11, 12, 13, 14, 15, 16, 17, 18, 19, 20, 21, 22, 23, 24, 25, 26, 27, 28, 29, 30, 31, 32]\n",
      "============================================================================================\n",
      "0.265745136811\n",
      "============================================================================================\n",
      "even 32\n",
      "[1, 33]\n",
      "[1, 2, 3, 4, 5, 6, 7, 8, 9, 10, 11, 12, 13, 14, 15, 16, 17, 18, 19, 20, 21, 22, 23, 24, 25, 26, 27, 28, 29, 30, 31, 32, 33]\n",
      "============================================================================================\n",
      "0.256521039607\n",
      "============================================================================================\n",
      "[1, 34]\n",
      "[1, 2, 3, 4, 5, 6, 7, 8, 9, 10, 11, 12, 13, 14, 15, 16, 17, 18, 19, 20, 21, 22, 23, 24, 25, 26, 27, 28, 29, 30, 31, 32, 33, 34]\n",
      "============================================================================================\n",
      "0.322583309055\n",
      "============================================================================================\n",
      "even 34\n",
      "[1, 35]\n",
      "[1, 2, 3, 4, 5, 6, 7, 8, 9, 10, 11, 12, 13, 14, 15, 16, 17, 18, 19, 20, 21, 22, 23, 24, 25, 26, 27, 28, 29, 30, 31, 32, 33, 34, 35]\n",
      "============================================================================================\n",
      "0.304328713597\n",
      "============================================================================================\n",
      "[1, 36]\n",
      "[1, 2, 3, 4, 5, 6, 7, 8, 9, 10, 11, 12, 13, 14, 15, 16, 17, 18, 19, 20, 21, 22, 23, 24, 25, 26, 27, 28, 29, 30, 31, 32, 33, 34, 35, 36]\n",
      "============================================================================================\n",
      "0.371869534806\n",
      "============================================================================================\n",
      "even 36\n",
      "[1, 37]\n",
      "[1, 2, 3, 4, 5, 6, 7, 8, 9, 10, 11, 12, 13, 14, 15, 16, 17, 18, 19, 20, 21, 22, 23, 24, 25, 26, 27, 28, 29, 30, 31, 32, 33, 34, 35, 36, 37]\n",
      "============================================================================================\n",
      "0.354507125712\n",
      "============================================================================================\n",
      "[1, 38]\n",
      "[1, 2, 3, 4, 5, 6, 7, 8, 9, 10, 11, 12, 13, 14, 15, 16, 17, 18, 19, 20, 21, 22, 23, 24, 25, 26, 27, 28, 29, 30, 31, 32, 33, 34, 35, 36, 37, 38]\n",
      "============================================================================================\n",
      "0.421337211213\n",
      "============================================================================================\n",
      "even 38\n",
      "[1, 39]\n",
      "[1, 2, 3, 4, 5, 6, 7, 8, 9, 10, 11, 12, 13, 14, 15, 16, 17, 18, 19, 20, 21, 22, 23, 24, 25, 26, 27, 28, 29, 30, 31, 32, 33, 34, 35, 36, 37, 38, 39]\n",
      "============================================================================================\n",
      "0.404146934124\n",
      "============================================================================================\n",
      "[1, 40]\n",
      "[1, 2, 3, 4, 5, 6, 7, 8, 9, 10, 11, 12, 13, 14, 15, 16, 17, 18, 19, 20, 21, 22, 23, 24, 25, 26, 27, 28, 29, 30, 31, 32, 33, 34, 35, 36, 37, 38, 39, 40]\n",
      "============================================================================================\n",
      "0.469045233203\n",
      "============================================================================================\n",
      "even 40\n",
      "[1, 41]\n",
      "[1, 2, 3, 4, 5, 6, 7, 8, 9, 10, 11, 12, 13, 14, 15, 16, 17, 18, 19, 20, 21, 22, 23, 24, 25, 26, 27, 28, 29, 30, 31, 32, 33, 34, 35, 36, 37, 38, 39, 40, 41]\n",
      "============================================================================================\n",
      "0.452955337286\n",
      "============================================================================================\n",
      "[1, 42]\n",
      "[1, 2, 3, 4, 5, 6, 7, 8, 9, 10, 11, 12, 13, 14, 15, 16, 17, 18, 19, 20, 21, 22, 23, 24, 25, 26, 27, 28, 29, 30, 31, 32, 33, 34, 35, 36, 37, 38, 39, 40, 41, 42]\n",
      "============================================================================================\n",
      "0.51363487569\n",
      "============================================================================================\n",
      "even 42\n",
      "[1, 43]\n",
      "[1, 2, 3, 4, 5, 6, 7, 8, 9, 10, 11, 12, 13, 14, 15, 16, 17, 18, 19, 20, 21, 22, 23, 24, 25, 26, 27, 28, 29, 30, 31, 32, 33, 34, 35, 36, 37, 38, 39, 40, 41, 42, 43]\n",
      "============================================================================================\n",
      "0.501513806954\n",
      "============================================================================================\n",
      "[1, 44]\n",
      "[1, 2, 3, 4, 5, 6, 7, 8, 9, 10, 11, 12, 13, 14, 15, 16, 17, 18, 19, 20, 21, 22, 23, 24, 25, 26, 27, 28, 29, 30, 31, 32, 33, 34, 35, 36, 37, 38, 39, 40, 41, 42, 43, 44]\n",
      "============================================================================================\n",
      "0.558504365017\n",
      "============================================================================================\n",
      "even 44\n",
      "[1, 45]\n",
      "[1, 2, 3, 4, 5, 6, 7, 8, 9, 10, 11, 12, 13, 14, 15, 16, 17, 18, 19, 20, 21, 22, 23, 24, 25, 26, 27, 28, 29, 30, 31, 32, 33, 34, 35, 36, 37, 38, 39, 40, 41, 42, 43, 44, 45]\n",
      "============================================================================================\n",
      "0.547925678606\n",
      "============================================================================================\n",
      "[1, 46]\n",
      "[1, 2, 3, 4, 5, 6, 7, 8, 9, 10, 11, 12, 13, 14, 15, 16, 17, 18, 19, 20, 21, 22, 23, 24, 25, 26, 27, 28, 29, 30, 31, 32, 33, 34, 35, 36, 37, 38, 39, 40, 41, 42, 43, 44, 45, 46]\n",
      "============================================================================================\n",
      "0.60152693019\n",
      "============================================================================================\n",
      "even 46\n",
      "[1, 47]\n",
      "[1, 2, 3, 4, 5, 6, 7, 8, 9, 10, 11, 12, 13, 14, 15, 16, 17, 18, 19, 20, 21, 22, 23, 24, 25, 26, 27, 28, 29, 30, 31, 32, 33, 34, 35, 36, 37, 38, 39, 40, 41, 42, 43, 44, 45, 46, 47]\n",
      "============================================================================================\n",
      "0.592048758103\n",
      "============================================================================================\n",
      "[1, 48]\n",
      "[1, 2, 3, 4, 5, 6, 7, 8, 9, 10, 11, 12, 13, 14, 15, 16, 17, 18, 19, 20, 21, 22, 23, 24, 25, 26, 27, 28, 29, 30, 31, 32, 33, 34, 35, 36, 37, 38, 39, 40, 41, 42, 43, 44, 45, 46, 47, 48]\n",
      "============================================================================================\n",
      "0.641155854949\n",
      "============================================================================================\n",
      "even 48\n",
      "[1, 49]\n",
      "[1, 2, 3, 4, 5, 6, 7, 8, 9, 10, 11, 12, 13, 14, 15, 16, 17, 18, 19, 20, 21, 22, 23, 24, 25, 26, 27, 28, 29, 30, 31, 32, 33, 34, 35, 36, 37, 38, 39, 40, 41, 42, 43, 44, 45, 46, 47, 48, 49]\n",
      "============================================================================================\n",
      "0.629748176945\n",
      "============================================================================================\n",
      "[1, 50]\n",
      "[1, 2, 3, 4, 5, 6, 7, 8, 9, 10, 11, 12, 13, 14, 15, 16, 17, 18, 19, 20, 21, 22, 23, 24, 25, 26, 27, 28, 29, 30, 31, 32, 33, 34, 35, 36, 37, 38, 39, 40, 41, 42, 43, 44, 45, 46, 47, 48, 49, 50]\n",
      "============================================================================================\n",
      "0.675392434731\n",
      "============================================================================================\n"
     ]
    }
   ],
   "source": [
    "c = traml.Stack()\n",
    "\n",
    "peak = 0.632\n",
    "delta = 0.005\n",
    "mat2 = mgf2 #MgF2\n",
    "mat1 = sio2 #SiO2\n",
    "#mat2 = 114701 #ZnS\n",
    "#mat2 = 112003 #ZnO\n",
    "#mat2 = 110902 #MgO\n",
    "#mat1 = 110104 #Al2O3\n",
    "\n",
    "R = []\n",
    "n = []\n",
    "it = []\n",
    "\n",
    "\n",
    "for i in range(0, 50):\n",
    "    if i % 2 == 0:\n",
    "        print 'even', i\n",
    "        c.add(mat1,100)\n",
    "    else:\n",
    "        c.add(mat2,100)\n",
    "        \n",
    "    \n",
    "    \n",
    "    result = minTR(c, [1,len(c.config)-1], peak, delta, TR='R')\n",
    "    R.append(c.average('R',peak,delta))\n",
    "    n.append(i+1)\n",
    "    it.append(result.nit)\n",
    "   \n",
    "    #c.table()\n",
    "    print '============================================================================================'\n",
    "    print c.average('R',peak,delta)\n",
    "    print '============================================================================================'"
   ]
  },
  {
   "cell_type": "code",
   "execution_count": 26,
   "metadata": {
    "collapsed": true
   },
   "outputs": [],
   "source": [
    "import matplotlib.pyplot as plt\n",
    "c.set_range([0.25, 1])"
   ]
  },
  {
   "cell_type": "code",
   "execution_count": 27,
   "metadata": {
    "collapsed": false
   },
   "outputs": [
    {
     "data": {
      "text/plain": [
       "[0.082871480495969069,\n",
       " 0.1122385938025994,\n",
       " 0.11223216475800525,\n",
       " 0.1481979554813182,\n",
       " 0.14818642864617407,\n",
       " 0.18958007800051746,\n",
       " 0.18956325168478036,\n",
       " 0.23513033147861245,\n",
       " 0.23510829348442963,\n",
       " 0.28357418788136679,\n",
       " 0.28355384908803249,\n",
       " 0.33364366270660795,\n",
       " 0.33367267296598901,\n",
       " 0.38418175057485721,\n",
       " 0.3843385527656179,\n",
       " 0.43434283319216305,\n",
       " 0.43435599761764776,\n",
       " 0.48255158318195973,\n",
       " 0.48061139248409912,\n",
       " 0.52929719212562443,\n",
       " 0.52007462741395249,\n",
       " 0.57525856881801229,\n",
       " 0.57123586592894648,\n",
       " 0.6130162444854601,\n",
       " 0.60073045175087714,\n",
       " 0.65751811254021475,\n",
       " 0.65007514853671089,\n",
       " 0.68901626750929368,\n",
       " 0.67802397228284694,\n",
       " 0.72700073759915695,\n",
       " 0.71388069045328162,\n",
       " 0.75714923107673537,\n",
       " 0.74512759241659321,\n",
       " 0.78481759134627271,\n",
       " 0.77354853925095601,\n",
       " 0.80960454375561497,\n",
       " 0.79963059867997655,\n",
       " 0.83176359300317815,\n",
       " 0.82270640612713741,\n",
       " 0.85112697779465507]"
      ]
     },
     "execution_count": 27,
     "metadata": {},
     "output_type": "execute_result"
    }
   ],
   "source": [
    "R"
   ]
  },
  {
   "cell_type": "code",
   "execution_count": 28,
   "metadata": {
    "collapsed": false
   },
   "outputs": [],
   "source": [
    "%matplotlib inline\n",
    "import matplotlib as mpl\n",
    "label_size = 18\n",
    "mpl.rcParams['xtick.labelsize'] = label_size \n",
    "mpl.rcParams['ytick.labelsize'] = label_size \n"
   ]
  },
  {
   "cell_type": "code",
   "execution_count": 29,
   "metadata": {
    "collapsed": false
   },
   "outputs": [
    {
     "data": {
      "text/plain": [
       "<matplotlib.text.Text at 0x7f9c46ff3cd0>"
      ]
     },
     "execution_count": 29,
     "metadata": {},
     "output_type": "execute_result"
    },
    {
     "data": {
      "image/png": "[encoded data removed]",
      "text/plain": [
       "<matplotlib.figure.Figure at 0x7f9c4803c410>"
      ]
     },
     "metadata": {},
     "output_type": "display_data"
    }
   ],
   "source": [
    "%matplotlib inline\n",
    "fig = plt.figure(figsize=(9,7))\n",
    "ax = fig.add_subplot(111)\n",
    "\n",
    "ax.plot(R, 'o')\n",
    "ax.set_xlim([0,40])\n",
    "ax.set_xlabel(r'Number of films', fontsize=20)\n",
    "ax.set_ylabel(r'Peak Reflectance ($425\\pm35$  nm)', fontsize=20)\n"
   ]
  },
  {
   "cell_type": "code",
   "execution_count": 31,
   "metadata": {
    "collapsed": false
   },
   "outputs": [
    {
     "data": {
      "image/png": "[encoded data removed]",
      "text/plain": [
       "<matplotlib.figure.Figure at 0x7f9c4829ee90>"
      ]
     },
     "metadata": {},
     "output_type": "display_data"
    }
   ],
   "source": [
    "c.set_range([0.4,0.7])\n",
    "c.plot()"
   ]
  },
  {
   "cell_type": "code",
   "execution_count": 32,
   "metadata": {
    "collapsed": false
   },
   "outputs": [
    {
     "name": "stdout",
     "output_type": "stream",
     "text": [
      "|   # |   Material | Thickness (nm)   | Type      |\n",
      "|-----+------------+------------------+-----------|\n",
      "|   0 |     301005 | --               | substrate |\n",
      "|   1 |     111407 | 93.5378973682    | passive   |\n",
      "|   2 |     105401 | 100.356178938    | passive   |\n",
      "|   3 |     111407 | 93.5402241522    | passive   |\n",
      "|   4 |     105401 | 100.355443681    | passive   |\n",
      "|   5 |     111407 | 93.5336875127    | passive   |\n",
      "|   6 |     105401 | 100.344442184    | passive   |\n",
      "|   7 |     111407 | 93.513610655     | passive   |\n",
      "|   8 |     105401 | 100.318102111    | passive   |\n",
      "|   9 |     111407 | 93.4805189066    | passive   |\n",
      "|  10 |     105401 | 100.287518475    | passive   |\n",
      "|  11 |     111407 | 93.4456976637    | passive   |\n",
      "|  12 |     105401 | 100.25582458     | passive   |\n",
      "|  13 |     111407 | 93.4188949204    | passive   |\n",
      "|  14 |     105401 | 100.23046397     | passive   |\n",
      "|  15 |     111407 | 93.3800980432    | passive   |\n",
      "|  16 |     105401 | 100.197271836    | passive   |\n",
      "|  17 |     111407 | 93.3653762813    | passive   |\n",
      "|  18 |     105401 | 100.201472186    | passive   |\n",
      "|  19 |     111407 | 93.3578252962    | passive   |\n",
      "|  20 |     105401 | 100.199881882    | passive   |\n",
      "|  21 |     111407 | 93.3422006675    | passive   |\n",
      "|  22 |     105401 | 100.280727881    | passive   |\n",
      "|  23 |     111407 | 93.2928947344    | passive   |\n",
      "|  24 |     105401 | 100.199751918    | passive   |\n",
      "|  25 |     111407 | 93.3223300581    | passive   |\n",
      "|  26 |     105401 | 99.8519514243    | passive   |\n",
      "|  27 |     111407 | 93.7325720141    | passive   |\n",
      "|  28 |     105401 | 100.077427807    | passive   |\n",
      "|  29 |     111407 | 94.2573321924    | passive   |\n",
      "|  30 |     105401 | 99.2194987048    | passive   |\n",
      "|  31 |     111407 | 95.1052132512    | passive   |\n",
      "|  32 |     105401 | 96.8630884226    | passive   |\n",
      "|  33 |     111407 | 96.1032792067    | passive   |\n",
      "|  34 |     105401 | 95.5226479026    | passive   |\n",
      "|  35 |     111407 | 95.2563167005    | passive   |\n",
      "|  36 |     105401 | 97.9499246802    | passive   |\n",
      "|  37 |     111407 | 100.278846859    | passive   |\n",
      "|  38 |     105401 | 98.4944047739    | passive   |\n",
      "|  39 |     111407 | 99.99468256      | passive   |\n",
      "|  40 |     105401 | 99.8042283111    | passive   |\n"
     ]
    }
   ],
   "source": [
    "c.table()"
   ]
  },
  {
   "cell_type": "code",
   "execution_count": null,
   "metadata": {
    "collapsed": false
   },
   "outputs": [],
   "source": [
    "c.remove()"
   ]
  },
  {
   "cell_type": "code",
   "execution_count": null,
   "metadata": {
    "collapsed": false
   },
   "outputs": [],
   "source": [
    "d.plot()"
   ]
  },
  {
   "cell_type": "code",
   "execution_count": null,
   "metadata": {
    "collapsed": false
   },
   "outputs": [],
   "source": [
    "print d.average('R',0.5, 0.02)"
   ]
  },
  {
   "cell_type": "code",
   "execution_count": null,
   "metadata": {
    "collapsed": true
   },
   "outputs": [],
   "source": []
  }
 ],
 "metadata": {
  "kernelspec": {
   "display_name": "Python 2",
   "language": "python",
   "name": "python2"
  },
  "language_info": {
   "codemirror_mode": {
    "name": "ipython",
    "version": 2
   },
   "file_extension": ".py",
   "mimetype": "text/x-python",
   "name": "python",
   "nbconvert_exporter": "python",
   "pygments_lexer": "ipython2",
   "version": "2.7.6"
  }
 },
 "nbformat": 4,
 "nbformat_minor": 0
}
