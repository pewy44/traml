{
 "cells": [
  {
   "cell_type": "code",
   "execution_count": 160,
   "metadata": {
    "collapsed": true
   },
   "outputs": [],
   "source": [
    "def func(x, sign=1.0):\n",
    "    print x, sign\n",
    "    return sign*(2*x[0]*x[1] + 2*x[0] - x[0]**2 - 2*x[1]**2)"
   ]
  },
  {
   "cell_type": "code",
   "execution_count": 164,
   "metadata": {
    "collapsed": false
   },
   "outputs": [
    {
     "name": "stdout",
     "output_type": "stream",
     "text": [
      "[10, -1] 1.0\n"
     ]
    },
    {
     "data": {
      "text/plain": [
       "-102.0"
      ]
     },
     "execution_count": 164,
     "metadata": {},
     "output_type": "execute_result"
    }
   ],
   "source": [
    "x=[10,-1]\n",
    "func(x)"
   ]
  },
  {
   "cell_type": "code",
   "execution_count": 165,
   "metadata": {
    "collapsed": true
   },
   "outputs": [],
   "source": [
    "from scipy.optimize import minimize"
   ]
  },
  {
   "cell_type": "code",
   "execution_count": 170,
   "metadata": {
    "collapsed": false
   },
   "outputs": [
    {
     "name": "stdout",
     "output_type": "stream",
     "text": [
      "[ 10.  -1.] -1.0\n",
      "[ 10.  -1.] -1.0\n",
      "[ 10.00000001  -1.        ] -1.0\n",
      "[ 10.          -0.99999999] -1.0\n",
      "[ 1.   0.7] -1.0\n",
      "[ 1.   0.7] -1.0\n",
      "[ 1.00000001  0.7       ] -1.0\n",
      "[ 1.          0.70000001] -1.0\n",
      "[ 1.5  0.7] -1.0\n",
      "[ 1.5  0.7] -1.0\n",
      "[ 1.50000001  0.7       ] -1.0\n",
      "[ 1.5         0.70000001] -1.0\n",
      "Optimization terminated successfully.    (Exit mode 0)\n",
      "            Current function value: -1.87\n",
      "            Iterations: 3\n",
      "            Function evaluations: 12\n",
      "            Gradient evaluations: 3\n"
     ]
    }
   ],
   "source": [
    "res = minimize(func, x, args=(-1.0,), method='SLSQP', bounds = [(1,1.5),(0.5,0.7)],tol=1e-2,options={'disp': True})"
   ]
  },
  {
   "cell_type": "code",
   "execution_count": 118,
   "metadata": {
    "collapsed": false
   },
   "outputs": [
    {
     "name": "stdout",
     "output_type": "stream",
     "text": [
      "[ 1.99999994  0.99999995]\n"
     ]
    }
   ],
   "source": [
    "%matplotlib inline\n",
    "print(res.x)"
   ]
  },
  {
   "cell_type": "code",
   "execution_count": 119,
   "metadata": {
    "collapsed": true
   },
   "outputs": [],
   "source": [
    "import traml"
   ]
  },
  {
   "cell_type": "code",
   "execution_count": 120,
   "metadata": {
    "collapsed": false
   },
   "outputs": [
    {
     "name": "stdout",
     "output_type": "stream",
     "text": [
      "|   # |   Material | Thickness (nm)   | Type      |\n",
      "|-----+------------+------------------+-----------|\n",
      "|   0 |     301005 | --               | substrate |\n"
     ]
    }
   ],
   "source": [
    "a = traml.Stack()"
   ]
  },
  {
   "cell_type": "code",
   "execution_count": 121,
   "metadata": {
    "collapsed": false
   },
   "outputs": [
    {
     "name": "stdout",
     "output_type": "stream",
     "text": [
      "|   # |   Material | Thickness (nm)   | Type      |\n",
      "|-----+------------+------------------+-----------|\n",
      "|   0 |     301005 | --               | substrate |\n",
      "|   1 |     112003 | 500              | passive   |\n"
     ]
    }
   ],
   "source": [
    "a.add(112003, 500)"
   ]
  },
  {
   "cell_type": "code",
   "execution_count": 122,
   "metadata": {
    "collapsed": false
   },
   "outputs": [],
   "source": [
    "def av(TR, stack, c, delta):\n",
    "    x_low = find_nearest(stack.x, c-delta)\n",
    "    x_high = find_nearest(stack.x, c+delta)\n",
    "    if TR == 'T':\n",
    "        T = stack.get_T().real\n",
    "        return np.mean(T[x_low:x_high])\n",
    "    if TR =='R':\n",
    "        R = stack.get_R().real\n",
    "        return np.mean(R[x_low:x_high])"
   ]
  },
  {
   "cell_type": "code",
   "execution_count": 123,
   "metadata": {
    "collapsed": false
   },
   "outputs": [],
   "source": [
    "import numpy as np"
   ]
  },
  {
   "cell_type": "code",
   "execution_count": 124,
   "metadata": {
    "collapsed": true
   },
   "outputs": [],
   "source": [
    "def find_nearest(array,value):\n",
    "    idx = (np.abs(array-value)).argmin()\n",
    "    return idx\n",
    "    "
   ]
  },
  {
   "cell_type": "code",
   "execution_count": 143,
   "metadata": {
    "collapsed": false
   },
   "outputs": [],
   "source": [
    "def maxr(stack, film_range, c, delta):\n",
    "    x0=[]\n",
    "    for film in stack.config[film_range[0]:film_range[-1]+1]:\n",
    "        x0.append(film[1])\n",
    "    \n",
    "    #return fun1(x0, stack, film_range, c, delta)\n",
    "    \n",
    "    res = minimize(fun1, x0, args=(stack, film_range, c, delta,), bounds = [(300,400)], tol=1e-10, method='SLSQP', options={'disp': True})\n",
    "    return res.x\n",
    "    "
   ]
  },
  {
   "cell_type": "code",
   "execution_count": 144,
   "metadata": {
    "collapsed": false
   },
   "outputs": [],
   "source": [
    "def fun1(x, stack, film_range, c, delta):\n",
    "    count = 0\n",
    "    for film in stack.config[film_range[0]:film_range[-1]+1]:\n",
    "        film[1]=stack.x[count]\n",
    "        count += 1\n",
    "    print x, film_range, c, delta\n",
    "    return 1-av('R', stack, c, delta)"
   ]
  },
  {
   "cell_type": "code",
   "execution_count": 159,
   "metadata": {
    "collapsed": false
   },
   "outputs": [
    {
     "name": "stdout",
     "output_type": "stream",
     "text": [
      "[ 0.31] [1, 1] 0.5 0.1\n",
      "[ 0.31] [1, 1] 0.5 0.1\n",
      "[ 0.31000001] [1, 1] 0.5 0.1\n",
      "Optimization terminated successfully.    (Exit mode 0)\n",
      "            Current function value: 0.851258634004\n",
      "            Iterations: 1\n",
      "            Function evaluations: 3\n",
      "            Gradient evaluations: 1\n"
     ]
    },
    {
     "data": {
      "text/plain": [
       "array([ 0.31])"
      ]
     },
     "execution_count": 159,
     "metadata": {},
     "output_type": "execute_result"
    }
   ],
   "source": [
    "maxr(a, [1,1], 0.5, 0.1)"
   ]
  },
  {
   "cell_type": "code",
   "execution_count": 157,
   "metadata": {
    "collapsed": false
   },
   "outputs": [],
   "source": [
    "a.d(1, 350)"
   ]
  },
  {
   "cell_type": "code",
   "execution_count": 155,
   "metadata": {
    "collapsed": false
   },
   "outputs": [
    {
     "name": "stdout",
     "output_type": "stream",
     "text": [
      "|   # |   Material | Thickness (nm)   | Type      |\n",
      "|-----+------------+------------------+-----------|\n",
      "|   0 |     301005 | --               | substrate |\n",
      "|   1 |     112003 | 350              | passive   |\n"
     ]
    }
   ],
   "source": [
    "a.table()"
   ]
  },
  {
   "cell_type": "code",
   "execution_count": 137,
   "metadata": {
    "collapsed": true
   },
   "outputs": [],
   "source": [
    "a.d(1, 1000)"
   ]
  },
  {
   "cell_type": "code",
   "execution_count": 138,
   "metadata": {
    "collapsed": false
   },
   "outputs": [
    {
     "data": {
      "text/plain": [
       "0.14132296797212318"
      ]
     },
     "execution_count": 138,
     "metadata": {},
     "output_type": "execute_result"
    }
   ],
   "source": [
    "av('R', a, 0.5, 0.1)"
   ]
  },
  {
   "cell_type": "code",
   "execution_count": null,
   "metadata": {
    "collapsed": true
   },
   "outputs": [],
   "source": []
  },
  {
   "cell_type": "code",
   "execution_count": null,
   "metadata": {
    "collapsed": true
   },
   "outputs": [],
   "source": []
  }
 ],
 "metadata": {
  "kernelspec": {
   "display_name": "Python 2",
   "language": "python",
   "name": "python2"
  },
  "language_info": {
   "codemirror_mode": {
    "name": "ipython",
    "version": 2
   },
   "file_extension": ".py",
   "mimetype": "text/x-python",
   "name": "python",
   "nbconvert_exporter": "python",
   "pygments_lexer": "ipython2",
   "version": "2.7.6"
  }
 },
 "nbformat": 4,
 "nbformat_minor": 0
}
