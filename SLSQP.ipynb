{
 "cells": [
  {
   "cell_type": "code",
   "execution_count": 109,
   "metadata": {
    "collapsed": true
   },
   "outputs": [],
   "source": [
    "def func(x, sign=1.0):\n",
    "    return sign*(2*x[0]*x[1] + 2*x[0] - x[0]**2 - 2*x[1]**2)"
   ]
  },
  {
   "cell_type": "code",
   "execution_count": 110,
   "metadata": {
    "collapsed": false
   },
   "outputs": [
    {
     "data": {
      "text/plain": [
       "1.0"
      ]
     },
     "execution_count": 110,
     "metadata": {},
     "output_type": "execute_result"
    }
   ],
   "source": [
    "x=[1,1]\n",
    "func(x)"
   ]
  },
  {
   "cell_type": "code",
   "execution_count": 111,
   "metadata": {
    "collapsed": true
   },
   "outputs": [],
   "source": [
    "from scipy.optimize import minimize"
   ]
  },
  {
   "cell_type": "code",
   "execution_count": 112,
   "metadata": {
    "collapsed": false
   },
   "outputs": [
    {
     "name": "stdout",
     "output_type": "stream",
     "text": [
      "Optimization terminated successfully.    (Exit mode 0)\n",
      "            Current function value: -2.0\n",
      "            Iterations: 4\n",
      "            Function evaluations: 17\n",
      "            Gradient evaluations: 4\n"
     ]
    }
   ],
   "source": [
    "res = minimize(func, [-1.0,1.0], args=(-1.0,), method='SLSQP', options={'disp': True})"
   ]
  },
  {
   "cell_type": "code",
   "execution_count": 113,
   "metadata": {
    "collapsed": false
   },
   "outputs": [
    {
     "name": "stdout",
     "output_type": "stream",
     "text": [
      "[ 1.99999994  0.99999995]\n"
     ]
    }
   ],
   "source": [
    "print(res.x)"
   ]
  },
  {
   "cell_type": "code",
   "execution_count": 114,
   "metadata": {
    "collapsed": true
   },
   "outputs": [],
   "source": [
    "import traml"
   ]
  },
  {
   "cell_type": "code",
   "execution_count": 115,
   "metadata": {
    "collapsed": false
   },
   "outputs": [
    {
     "name": "stdout",
     "output_type": "stream",
     "text": [
      "|   # |   Material | Thickness (nm)   | Type      |\n",
      "|-----+------------+------------------+-----------|\n",
      "|   0 |     301005 | --               | substrate |\n"
     ]
    }
   ],
   "source": [
    "a = traml.Stack()"
   ]
  },
  {
   "cell_type": "code",
   "execution_count": 116,
   "metadata": {
    "collapsed": false
   },
   "outputs": [
    {
     "name": "stdout",
     "output_type": "stream",
     "text": [
      "|   # |   Material | Thickness (nm)   | Type      |\n",
      "|-----+------------+------------------+-----------|\n",
      "|   0 |     301005 | --               | substrate |\n",
      "|   1 |     111407 | 20               | passive   |\n"
     ]
    }
   ],
   "source": [
    "a.add(111407, 20)"
   ]
  },
  {
   "cell_type": "code",
   "execution_count": 117,
   "metadata": {
    "collapsed": false
   },
   "outputs": [],
   "source": [
    "def av(TR, stack, c, delta):\n",
    "    x_low = find_nearest(stack.x, c-delta)\n",
    "    x_high = find_nearest(stack.x, c+delta)\n",
    "    if TR == 'T':\n",
    "        T = stack.get_T().real\n",
    "        return np.mean(T[x_low:x_high])\n",
    "    if TR =='R':\n",
    "        R = stack.get_R().real\n",
    "        return np.mean(R[x_low:x_high])"
   ]
  },
  {
   "cell_type": "code",
   "execution_count": 118,
   "metadata": {
    "collapsed": false
   },
   "outputs": [],
   "source": [
    "import numpy as np"
   ]
  },
  {
   "cell_type": "code",
   "execution_count": 119,
   "metadata": {
    "collapsed": true
   },
   "outputs": [],
   "source": [
    "def find_nearest(array,value):\n",
    "    idx = (np.abs(array-value)).argmin()\n",
    "    return idx\n",
    "    "
   ]
  },
  {
   "cell_type": "code",
   "execution_count": 120,
   "metadata": {
    "collapsed": false
   },
   "outputs": [
    {
     "data": {
      "text/plain": [
       "0.91760432255908819"
      ]
     },
     "execution_count": 120,
     "metadata": {},
     "output_type": "execute_result"
    }
   ],
   "source": [
    "av('T',a, 0.8, 0.4)"
   ]
  },
  {
   "cell_type": "code",
   "execution_count": 121,
   "metadata": {
    "collapsed": false
   },
   "outputs": [
    {
     "data": {
      "image/png": "[encoded data removed]",
      "text/plain": [
       "<matplotlib.figure.Figure at 0x7f11bd507fd0>"
      ]
     },
     "metadata": {},
     "output_type": "display_data"
    }
   ],
   "source": [
    "%matplotlib inline\n",
    "a.plot()"
   ]
  },
  {
   "cell_type": "code",
   "execution_count": 122,
   "metadata": {
    "collapsed": false
   },
   "outputs": [
    {
     "name": "stdout",
     "output_type": "stream",
     "text": [
      "|   # |   Material | Thickness (nm)   | Type      |\n",
      "|-----+------------+------------------+-----------|\n",
      "|   0 |     301005 | --               | substrate |\n",
      "|   1 |     111407 | 20               | passive   |\n",
      "|   2 |     111408 | 20               | passive   |\n"
     ]
    }
   ],
   "source": [
    "a.add(111408, 20)"
   ]
  },
  {
   "cell_type": "code",
   "execution_count": 123,
   "metadata": {
    "collapsed": false
   },
   "outputs": [
    {
     "name": "stdout",
     "output_type": "stream",
     "text": [
      "|   # |   Material | Thickness (nm)   | Type      |\n",
      "|-----+------------+------------------+-----------|\n",
      "|   0 |     301005 | --               | substrate |\n",
      "|   1 |     111407 | 20               | passive   |\n",
      "|   2 |     111408 | 20               | passive   |\n",
      "|   3 |     111704 | 100              | passive   |\n"
     ]
    }
   ],
   "source": [
    "a.add(111704)"
   ]
  },
  {
   "cell_type": "code",
   "execution_count": 124,
   "metadata": {
    "collapsed": false
   },
   "outputs": [
    {
     "name": "stdout",
     "output_type": "stream",
     "text": [
      "|   # |   Material | Thickness (nm)   | Type      |\n",
      "|-----+------------+------------------+-----------|\n",
      "|   0 |     301005 | --               | substrate |\n",
      "|   1 |     111407 | 20               | passive   |\n",
      "|   2 |     111408 | 20               | passive   |\n",
      "|   3 |     111704 | 100              | passive   |\n",
      "|   4 |     111407 | 20               | passive   |\n",
      "|   5 |     111408 | 20               | passive   |\n",
      "|   6 |     111407 | 20               | passive   |\n",
      "|   7 |     111408 | 20               | passive   |\n",
      "|   8 |     111407 | 20               | passive   |\n",
      "|   9 |     111408 | 20               | passive   |\n",
      "|  10 |     111407 | 20               | passive   |\n",
      "|  11 |     111408 | 20               | passive   |\n",
      "|  12 |     111407 | 20               | passive   |\n",
      "|  13 |     111408 | 20               | passive   |\n",
      "|  14 |     111407 | 20               | passive   |\n",
      "|  15 |     111408 | 20               | passive   |\n",
      "|  16 |     111407 | 20               | passive   |\n",
      "|  17 |     111408 | 20               | passive   |\n",
      "|  18 |     111407 | 20               | passive   |\n",
      "|  19 |     111408 | 20               | passive   |\n",
      "|  20 |     111407 | 20               | passive   |\n",
      "|  21 |     111408 | 20               | passive   |\n",
      "|  22 |     111407 | 20               | passive   |\n",
      "|  23 |     111408 | 20               | passive   |\n",
      "|  24 |     111407 | 20               | passive   |\n",
      "|  25 |     111408 | 20               | passive   |\n",
      "|  26 |     111407 | 20               | passive   |\n",
      "|  27 |     111408 | 20               | passive   |\n",
      "|  28 |     111407 | 20               | passive   |\n",
      "|  29 |     111408 | 20               | passive   |\n",
      "|  30 |     111407 | 20               | passive   |\n",
      "|  31 |     111408 | 20               | passive   |\n",
      "|  32 |     111407 | 20               | passive   |\n",
      "|  33 |     111408 | 20               | passive   |\n"
     ]
    }
   ],
   "source": [
    "a.repeat('1,2', 15)"
   ]
  },
  {
   "cell_type": "code",
   "execution_count": null,
   "metadata": {
    "collapsed": false
   },
   "outputs": [
    {
     "data": {
      "text/plain": [
       "0.049352959682472872"
      ]
     },
     "execution_count": 125,
     "metadata": {},
     "output_type": "execute_result"
    }
   ],
   "source": [
    "av('R', a, 0.51, 0.005)"
   ]
  },
  {
   "cell_type": "code",
   "execution_count": null,
   "metadata": {
    "collapsed": false
   },
   "outputs": [],
   "source": [
    "a.plot()"
   ]
  },
  {
   "cell_type": "code",
   "execution_count": null,
   "metadata": {
    "collapsed": true
   },
   "outputs": [],
   "source": []
  }
 ],
 "metadata": {
  "kernelspec": {
   "display_name": "Python 2",
   "language": "python",
   "name": "python2"
  },
  "language_info": {
   "codemirror_mode": {
    "name": "ipython",
    "version": 2
   },
   "file_extension": ".py",
   "mimetype": "text/x-python",
   "name": "python",
   "nbconvert_exporter": "python",
   "pygments_lexer": "ipython2",
   "version": "2.7.10"
  }
 },
 "nbformat": 4,
 "nbformat_minor": 0
}
