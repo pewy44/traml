{
 "cells": [
  {
   "cell_type": "markdown",
   "metadata": {},
   "source": [
    "<h1>Traml Slider for 160504_CdTe </h1>\n",
    "<h3>Single film of CdTe on OptiWhite substrate</h3>\n",
    "<p><ul>\n",
    "  <li>Power: 60 W</li>\n",
    "  <li>Pressure: 5 mTorr</li>\n",
    "  <li>Temp : 150 degC</li>\n",
    "  <li>Time: 30 min</li>\n",
    "  <li>Rotation: On</li>\n",
    "</ul></p>\n"
   ]
  },
  {
   "cell_type": "code",
   "execution_count": 1,
   "metadata": {
    "collapsed": false
   },
   "outputs": [
    {
     "name": "stdout",
     "output_type": "stream",
     "text": [
      "Populating the interactive namespace from numpy and matplotlib\n"
     ]
    }
   ],
   "source": [
    "%pylab inline\n",
    "import os, sys\n",
    "sys.path.append(\"../\")\n",
    "import traml #TMM script\n",
    "import db\n",
    "import csv\n",
    "import datarip\n"
   ]
  },
  {
   "cell_type": "code",
   "execution_count": 2,
   "metadata": {
    "collapsed": false
   },
   "outputs": [],
   "source": [
    "a = traml.Stack() #create new stack object, default SLG substrate"
   ]
  },
  {
   "cell_type": "code",
   "execution_count": 3,
   "metadata": {
    "collapsed": false
   },
   "outputs": [
    {
     "name": "stdout",
     "output_type": "stream",
     "text": [
      "|     ID | SHELF   | BOOK   | PAGE        | DESCRIPTION                    |\n",
      "|--------+---------+--------+-------------+--------------------------------|\n",
      "| 116601 | main    | CdTe   | DeBell-300K | DeBell et al. 1979: n 6-22 µm; |\n",
      "| 116602 | main    | CdTe   | DeBell-80K  | DeBell et al. 1979: n 6-22 µm; |\n",
      "| 116603 | main    | CdTe   | DeBell-20K  | DeBell et al. 1979: n 6-22 µm; |\n",
      "| 116604 | main    | CdTe   | Marple      | Marple 1964: n 0.86-2.5 µm     |\n",
      "| 116605 | main    | CdTe   | Treharne    | Treharne et al. 2011: Thin fil |\n"
     ]
    }
   ],
   "source": [
    "a.library.search('CdTe') #search for a ZnO film as an example"
   ]
  },
  {
   "cell_type": "code",
   "execution_count": 4,
   "metadata": {
    "collapsed": false
   },
   "outputs": [
    {
     "name": "stdout",
     "output_type": "stream",
     "text": [
      "|   # |     ID | Material   | Thickness (nm)   | Type      |\n",
      "|-----+--------+------------+------------------+-----------|\n",
      "|   0 | 301005 | soda-lime  | --               | substrate |\n",
      "|   1 | 116605 | CdTe       | 100              | passive   |\n"
     ]
    }
   ],
   "source": [
    "a.add(116605) #Add the Al:ZnO layer\n",
    "a.table()"
   ]
  },
  {
   "cell_type": "code",
   "execution_count": 5,
   "metadata": {
    "collapsed": false
   },
   "outputs": [],
   "source": [
    "data = datarip.data_dict('160504_CdTe_T.csv')"
   ]
  },
  {
   "cell_type": "code",
   "execution_count": 6,
   "metadata": {
    "collapsed": false
   },
   "outputs": [],
   "source": [
    "def getTR(stack):\n",
    "    '''Get T and R for stack'''\n",
    "    T = stack.get_T()\n",
    "    R = stack.get_R()\n",
    "    x = stack.x\n",
    "    return x, real(T), real(R)"
   ]
  },
  {
   "cell_type": "code",
   "execution_count": 7,
   "metadata": {
    "collapsed": false
   },
   "outputs": [],
   "source": [
    "def plot(d):\n",
    "    '''Plot T and R for a stack with a single film of thickness d'''\n",
    "    \n",
    "    fig = figure(figsize(9,5))\n",
    "    ax = fig.add_subplot(111)\n",
    "    \n",
    "    stack = a\n",
    "    stack.d(1, d) #change layer 1 thickness\n",
    "    x, T, R = getTR(a)\n",
    "    \n",
    "    x_data = array(data.get('data', None)[0])/1000\n",
    "    y_data = array(data.get('data'), None)[1]/100\n",
    "    \n",
    "    ax.plot(x, T, color='red', linewidth=3)\n",
    "    #ax.plot(x, R, color='blue', linewidth=3)\n",
    "    ax.plot(x_data, y_data, 'o', markevery=10)\n",
    "    ax.set_xlim([min(x), max(x)])\n",
    "    ax.set_ylim([0,1])\n",
    "    ax.set_xlabel('$\\lambda$ ($\\mu$m)', fontsize=20)\n",
    "    ax.set_ylabel('T, R', fontsize=20)\n",
    "    \n",
    "    \n",
    "    "
   ]
  },
  {
   "cell_type": "code",
   "execution_count": 8,
   "metadata": {
    "collapsed": false
   },
   "outputs": [
    {
     "data": {
      "image/png": "[encoded data removed]",
      "text/plain": [
       "<matplotlib.figure.Figure at 0xaf5091cc>"
      ]
     },
     "metadata": {},
     "output_type": "display_data"
    }
   ],
   "source": [
    "from ipywidgets import *\n",
    "d_s = FloatSlider(min=0, max=1000, step=1, value = 0)\n",
    "interactive(plot,a=a,d=d_s)"
   ]
  },
  {
   "cell_type": "code",
   "execution_count": null,
   "metadata": {
    "collapsed": true
   },
   "outputs": [],
   "source": []
  }
 ],
 "metadata": {
  "kernelspec": {
   "display_name": "Python 2",
   "language": "python",
   "name": "python2"
  },
  "language_info": {
   "codemirror_mode": {
    "name": "ipython",
    "version": 2
   },
   "file_extension": ".py",
   "mimetype": "text/x-python",
   "name": "python",
   "nbconvert_exporter": "python",
   "pygments_lexer": "ipython2",
   "version": "2.7.6"
  }
 },
 "nbformat": 4,
 "nbformat_minor": 0
}
