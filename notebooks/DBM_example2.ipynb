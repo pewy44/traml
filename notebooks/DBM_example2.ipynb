{
 "cells": [
  {
   "cell_type": "code",
   "execution_count": null,
   "metadata": {
    "collapsed": false
   },
   "outputs": [],
   "source": [
    "%pylab inline\n",
    "import os, sys\n",
    "sys.path.append(\"../\")\n",
    "import traml\n",
    "import db\n",
    "from scipy.optimize import minimize\n",
    "import copy"
   ]
  },
  {
   "cell_type": "code",
   "execution_count": null,
   "metadata": {
    "collapsed": false
   },
   "outputs": [],
   "source": [
    "a = traml.Stack()\n",
    "a.library.search('SiO2')\n",
    "a.library.search('mgf2')"
   ]
  },
  {
   "cell_type": "code",
   "execution_count": null,
   "metadata": {
    "collapsed": false
   },
   "outputs": [],
   "source": [
    "PAZO = 500603\n",
    "PMMA = 500201\n",
    "sio2 = 111401\n",
    "mgf2 = 105404\n",
    "a.library.page(sio2)"
   ]
  },
  {
   "cell_type": "code",
   "execution_count": null,
   "metadata": {
    "collapsed": false
   },
   "outputs": [],
   "source": [
    "def fun(x, stack, layers, c, delta, TR):\n",
    "    for i in layers:\n",
    "        stack.d(i, x[i-1])\n",
    "\n",
    "    for p in x:\n",
    "        p = np.sqrt(x[0]**2)\n",
    "    x[0]=np.sqrt(x[0]**2)\n",
    "    #min = 1-stack.average(TR, c, delta, o='a')\n",
    "    min = stack.average(TR, c, delta)\n",
    "   \n",
    "    return min**10"
   ]
  },
  {
   "cell_type": "code",
   "execution_count": null,
   "metadata": {
    "collapsed": true
   },
   "outputs": [],
   "source": [
    "def minTR(stack, film_range, c, delta, TR='T'):\n",
    "    \n",
    "    x = []\n",
    "    layers = []\n",
    "    bnds = []\n",
    "    for i in range(film_range[0],film_range[1]+1):\n",
    "        x.append(stack.config[i][1])\n",
    "        layers.append(i)\n",
    "        bnds.append(stack.config[i][3])\n",
    "        \n",
    "    result = minimize(fun, x, args=(stack, layers, c,delta, TR), bounds = bnds,tol=1e-30, method='SLSQP')\n",
    "    \n",
    "    \n",
    "    return result"
   ]
  },
  {
   "cell_type": "code",
   "execution_count": null,
   "metadata": {
    "collapsed": false
   },
   "outputs": [],
   "source": [
    "c = traml.Stack()\n",
    "\n",
    "peak = 0.65\n",
    "delta = 0.01\n",
    "\n",
    "stack_list = []\n",
    "\n",
    "\n",
    "R=[]\n",
    "n = [0]\n",
    "\n",
    "N =40\n",
    "for i in range(0, N):\n",
    "    #if i % 2 == 0:\n",
    "       # print 'even', i\n",
    "        #c.add(PMMA,100, bnds=(50,250))\n",
    "    # else:\n",
    "        #c.add(PAZO,100, bnds=(50,250))\n",
    "    \n",
    "    c.add(mgf2, 100, bnds=(0,250))\n",
    "    c.add(sio2, 100, bnds=(0,250))\n",
    "    \n",
    "    \n",
    "    result = minTR(c, [1,len(c.config)-1], peak, delta, TR='T')\n",
    "    R.append(c.average('R',peak,delta))\n",
    "    n.append(i+1)\n",
    "    \n",
    "    stack_list.append(copy.deepcopy(c))\n",
    "  \n",
    "    print '============================================================================================'\n",
    "   \n",
    "    print i+1, ': ', 'R = ', c.average('R',peak,delta)\n",
    " \n",
    "    "
   ]
  },
  {
   "cell_type": "code",
   "execution_count": null,
   "metadata": {
    "collapsed": false
   },
   "outputs": [],
   "source": [
    "c.plot()"
   ]
  },
  {
   "cell_type": "code",
   "execution_count": null,
   "metadata": {
    "collapsed": false
   },
   "outputs": [],
   "source": [
    "fig = figure()\n",
    "ax = fig.add_subplot(111)\n",
    "R = []\n",
    "\n",
    "for stack in stack_list:\n",
    "    R.append(stack.average('R',0.65,0.01))\n",
    "    \n",
    "ax.plot(R)\n",
    "stack_list[-1].average('R', 0.65, 0.01)"
   ]
  },
  {
   "cell_type": "code",
   "execution_count": null,
   "metadata": {
    "collapsed": false
   },
   "outputs": [],
   "source": [
    "fig = figure()\n",
    "ax = fig.add_subplot(111)\n",
    "R = real(c.get_R())\n",
    "x = c.x\n",
    "\n",
    "ax.plot(x, R)\n",
    "ax.set_xlim([0.3,0.9])\n",
    "    "
   ]
  },
  {
   "cell_type": "code",
   "execution_count": null,
   "metadata": {
    "collapsed": true
   },
   "outputs": [],
   "source": []
  }
 ],
 "metadata": {
  "kernelspec": {
   "display_name": "Python 2",
   "language": "python",
   "name": "python2"
  },
  "language_info": {
   "codemirror_mode": {
    "name": "ipython",
    "version": 2
   },
   "file_extension": ".py",
   "mimetype": "text/x-python",
   "name": "python",
   "nbconvert_exporter": "python",
   "pygments_lexer": "ipython2",
   "version": "2.7.6"
  }
 },
 "nbformat": 4,
 "nbformat_minor": 0
}
