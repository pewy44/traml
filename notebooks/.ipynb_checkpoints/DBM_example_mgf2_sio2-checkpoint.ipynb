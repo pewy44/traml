{
 "cells": [
  {
   "cell_type": "code",
   "execution_count": 40,
   "metadata": {
    "collapsed": false
   },
   "outputs": [
    {
     "name": "stdout",
     "output_type": "stream",
     "text": [
      "Populating the interactive namespace from numpy and matplotlib\n"
     ]
    },
    {
     "name": "stderr",
     "output_type": "stream",
     "text": [
      "WARNING: pylab import has clobbered these variables: ['copy']\n",
      "`%matplotlib` prevents importing * from pylab and numpy\n"
     ]
    }
   ],
   "source": [
    "%pylab inline\n",
    "import os, sys\n",
    "sys.path.append(\"../\")\n",
    "import traml\n",
    "import db\n",
    "from scipy.optimize import minimize\n",
    "import copy"
   ]
  },
  {
   "cell_type": "code",
   "execution_count": 41,
   "metadata": {
    "collapsed": true
   },
   "outputs": [],
   "source": [
    "PAZO = 500603\n",
    "PMMA = 500201"
   ]
  },
  {
   "cell_type": "code",
   "execution_count": 42,
   "metadata": {
    "collapsed": false
   },
   "outputs": [],
   "source": [
    "def fun(x, stack, layers, c, delta, TR):\n",
    "    for i in layers:\n",
    "        stack.d(i, x[i-1])\n",
    "\n",
    "    for p in x:\n",
    "        p = np.sqrt(x[0]**2)\n",
    "    x[0]=np.sqrt(x[0]**2)\n",
    "    #min = 1-stack.average(TR, c, delta, o='a')\n",
    "    min = stack.average(TR, c, delta)\n",
    "   \n",
    "    return min**10"
   ]
  },
  {
   "cell_type": "code",
   "execution_count": 56,
   "metadata": {
    "collapsed": true
   },
   "outputs": [],
   "source": [
    "def minTR(stack, film_range, c, delta, TR='T'):\n",
    "    \n",
    "    x = []\n",
    "    layers = []\n",
    "    bnds = []\n",
    "    for i in range(film_range[0],film_range[1]+1):\n",
    "        x.append(stack.config[i][1])\n",
    "        layers.append(i)\n",
    "        bnds.append(stack.config[i][3])\n",
    "        \n",
    "    result = minimize(fun, x, args=(stack, layers, c,delta, TR), bounds = bnds,tol=1e-30, method='SLSQP')\n",
    "    \n",
    "    \n",
    "    return result"
   ]
  },
  {
   "cell_type": "code",
   "execution_count": 57,
   "metadata": {
    "collapsed": false
   },
   "outputs": [
    {
     "name": "stdout",
     "output_type": "stream",
     "text": [
      "============================================================================================\n",
      "1 :  R =  0.102603210335\n",
      "============================================================================================\n",
      "2 :  R =  0.161660889696\n",
      "============================================================================================\n",
      "3 :  R =  0.234006814379\n",
      "============================================================================================\n",
      "4 :  R =  0.314105744078\n",
      "============================================================================================\n",
      "5 :  R =  0.396801768238\n",
      "============================================================================================\n",
      "6 :  R =  0.477841273838\n",
      "============================================================================================\n",
      "7 :  R =  0.554109255277\n",
      "============================================================================================\n",
      "8 :  R =  0.623623860679\n",
      "============================================================================================\n",
      "9 :  R =  0.685344526179\n",
      "============================================================================================\n",
      "10 :  R =  0.738996708948\n",
      "============================================================================================\n",
      "11 :  R =  0.784882634737\n",
      "============================================================================================\n",
      "12 :  R =  0.823720473794\n",
      "============================================================================================\n",
      "13 :  R =  0.856189210326\n",
      "============================================================================================\n",
      "14 :  R =  0.883029758654\n",
      "============================================================================================\n",
      "15 :  R =  0.905185051908\n",
      "============================================================================================\n",
      "16 :  R =  0.923318146114\n",
      "============================================================================================\n",
      "17 :  R =  0.937926659798\n",
      "============================================================================================\n",
      "18 :  R =  0.9495490217\n",
      "============================================================================================\n",
      "19 :  R =  0.958763730161\n",
      "============================================================================================\n",
      "20 :  R =  0.966081369646\n",
      "============================================================================================\n",
      "21 :  R =  0.971917318663\n",
      "============================================================================================\n",
      "22 :  R =  0.976597300271\n",
      "============================================================================================\n",
      "23 :  R =  0.980372727822\n",
      "============================================================================================\n",
      "24 :  R =  0.983436708586\n",
      "============================================================================================\n",
      "25 :  R =  0.985937714283\n",
      "============================================================================================\n",
      "26 :  R =  0.987990377578\n",
      "============================================================================================\n",
      "27 :  R =  0.989683721361\n",
      "============================================================================================\n",
      "28 :  R =  0.991087333735\n",
      "============================================================================================\n",
      "29 :  R =  0.992255977338\n",
      "============================================================================================\n",
      "30 :  R =  0.993233032094\n",
      "============================================================================================\n",
      "31 :  R =  0.994053076898\n",
      "============================================================================================\n",
      "32 :  R =  0.994743837057\n",
      "============================================================================================\n",
      "33 :  R =  0.995327663474\n",
      "============================================================================================\n",
      "34 :  R =  0.995822664435\n",
      "============================================================================================\n",
      "35 :  R =  0.996243578012\n",
      "============================================================================================\n",
      "36 :  R =  0.996602449401\n",
      "============================================================================================\n",
      "37 :  R =  0.996909160426\n",
      "============================================================================================\n",
      "38 :  R =  0.997171846146\n",
      "============================================================================================\n",
      "39 :  R =  0.997397224615\n",
      "============================================================================================\n",
      "40 :  R =  0.9975908593\n"
     ]
    }
   ],
   "source": [
    "c = traml.Stack()\n",
    "\n",
    "peak = 0.65\n",
    "delta = 0.01\n",
    "\n",
    "stack_list = []\n",
    "\n",
    "\n",
    "R=[]\n",
    "n = [0]\n",
    "\n",
    "N =40\n",
    "for i in range(0, N):\n",
    "    #if i % 2 == 0:\n",
    "       # print 'even', i\n",
    "        #c.add(PMMA,100, bnds=(50,250))\n",
    "    # else:\n",
    "        #c.add(PAZO,100, bnds=(50,250))\n",
    "    \n",
    "    c.add(PMMA, 100, bnds=(50,250))\n",
    "    c.add(PAZO, 100, bnds=(50,250))\n",
    "    \n",
    "    \n",
    "    result = minTR(c, [1,len(c.config)-1], peak, delta, TR='T')\n",
    "    R.append(c.average('R',peak,delta))\n",
    "    n.append(i+1)\n",
    "    \n",
    "    stack_list.append(copy.deepcopy(c))\n",
    "  \n",
    "    print '============================================================================================'\n",
    "   \n",
    "    print i+1, ': ', 'R = ', c.average('R',peak,delta)\n",
    " \n",
    "    "
   ]
  },
  {
   "cell_type": "code",
   "execution_count": 59,
   "metadata": {
    "collapsed": false
   },
   "outputs": [
    {
     "data": {
      "image/png": "[encoded data removed]",
      "text/plain": [
       "<matplotlib.figure.Figure at 0x7f29de2200d0>"
      ]
     },
     "metadata": {},
     "output_type": "display_data"
    }
   ],
   "source": [
    "c.plot()"
   ]
  },
  {
   "cell_type": "code",
   "execution_count": 58,
   "metadata": {
    "collapsed": false
   },
   "outputs": [
    {
     "data": {
      "text/plain": [
       "0.99759085929972846"
      ]
     },
     "execution_count": 58,
     "metadata": {},
     "output_type": "execute_result"
    },
    {
     "data": {
      "image/png": "[encoded data removed]",
      "text/plain": [
       "<matplotlib.figure.Figure at 0x7f29dfa52d50>"
      ]
     },
     "metadata": {},
     "output_type": "display_data"
    }
   ],
   "source": [
    "fig = figure()\n",
    "ax = fig.add_subplot(111)\n",
    "R = []\n",
    "\n",
    "for stack in stack_list:\n",
    "    R.append(stack.average('R',0.65,0.01))\n",
    "    \n",
    "ax.plot(R)\n",
    "stack_list[-1].average('R', 0.65, 0.01)"
   ]
  },
  {
   "cell_type": "code",
   "execution_count": 60,
   "metadata": {
    "collapsed": false
   },
   "outputs": [
    {
     "name": "stdout",
     "output_type": "stream",
     "text": [
      "|   # |     ID | Material   | Thickness (nm)   | Type      |\n",
      "|-----+--------+------------+------------------+-----------|\n",
      "|   0 | 301005 | soda-lime  | --               | substrate |\n",
      "|   1 | 500201 | plastics   | 50.0             | passive   |\n",
      "|   2 | 500603 | misc       | 61.1896196324    | passive   |\n",
      "|   3 | 500201 | plastics   | 108.787137413    | passive   |\n",
      "|   4 | 500603 | misc       | 96.9238098471    | passive   |\n",
      "|   5 | 500201 | plastics   | 108.762375457    | passive   |\n",
      "|   6 | 500603 | misc       | 96.9116961207    | passive   |\n",
      "|   7 | 500201 | plastics   | 108.761950664    | passive   |\n",
      "|   8 | 500603 | misc       | 96.9282085069    | passive   |\n",
      "|   9 | 500201 | plastics   | 108.777882397    | passive   |\n",
      "|  10 | 500603 | misc       | 96.9428173172    | passive   |\n",
      "|  11 | 500201 | plastics   | 108.796917934    | passive   |\n",
      "|  12 | 500603 | misc       | 97.0301501674    | passive   |\n",
      "|  13 | 500201 | plastics   | 108.889783862    | passive   |\n",
      "|  14 | 500603 | misc       | 97.1523016852    | passive   |\n",
      "|  15 | 500201 | plastics   | 108.73136959     | passive   |\n",
      "|  16 | 500603 | misc       | 97.3371109305    | passive   |\n",
      "|  17 | 500201 | plastics   | 108.168151711    | passive   |\n",
      "|  18 | 500603 | misc       | 98.188020677     | passive   |\n",
      "|  19 | 500201 | plastics   | 106.524371313    | passive   |\n",
      "|  20 | 500603 | misc       | 99.4900512509    | passive   |\n",
      "|  21 | 500201 | plastics   | 105.057221097    | passive   |\n",
      "|  22 | 500603 | misc       | 100.53830802     | passive   |\n",
      "|  23 | 500201 | plastics   | 104.874392379    | passive   |\n",
      "|  24 | 500603 | misc       | 101.491140371    | passive   |\n",
      "|  25 | 500201 | plastics   | 104.62656757     | passive   |\n",
      "|  26 | 500603 | misc       | 102.232967052    | passive   |\n",
      "|  27 | 500201 | plastics   | 103.832358902    | passive   |\n",
      "|  28 | 500603 | misc       | 102.583570702    | passive   |\n",
      "|  29 | 500201 | plastics   | 103.178658514    | passive   |\n",
      "|  30 | 500603 | misc       | 101.827963864    | passive   |\n",
      "|  31 | 500201 | plastics   | 101.522975043    | passive   |\n",
      "|  32 | 500603 | misc       | 100.475170791    | passive   |\n",
      "|  33 | 500201 | plastics   | 100.0            | passive   |\n",
      "|  34 | 500603 | misc       | 100.0            | passive   |\n",
      "|  35 | 500201 | plastics   | 100.0            | passive   |\n",
      "|  36 | 500603 | misc       | 100.0            | passive   |\n",
      "|  37 | 500201 | plastics   | 100.0            | passive   |\n",
      "|  38 | 500603 | misc       | 100.0            | passive   |\n",
      "|  39 | 500201 | plastics   | 100.0            | passive   |\n",
      "|  40 | 500603 | misc       | 100.000000015    | passive   |\n",
      "|  41 | 500201 | plastics   | 100.0            | passive   |\n",
      "|  42 | 500603 | misc       | 100.000000015    | passive   |\n",
      "|  43 | 500201 | plastics   | 100.0            | passive   |\n",
      "|  44 | 500603 | misc       | 100.000000015    | passive   |\n",
      "|  45 | 500201 | plastics   | 100.0            | passive   |\n",
      "|  46 | 500603 | misc       | 100.000000015    | passive   |\n",
      "|  47 | 500201 | plastics   | 100.0            | passive   |\n",
      "|  48 | 500603 | misc       | 100.000000015    | passive   |\n",
      "|  49 | 500201 | plastics   | 100.0            | passive   |\n",
      "|  50 | 500603 | misc       | 100.000000015    | passive   |\n",
      "|  51 | 500201 | plastics   | 100.0            | passive   |\n",
      "|  52 | 500603 | misc       | 100.000000015    | passive   |\n",
      "|  53 | 500201 | plastics   | 100.0            | passive   |\n",
      "|  54 | 500603 | misc       | 100.000000015    | passive   |\n",
      "|  55 | 500201 | plastics   | 100.0            | passive   |\n",
      "|  56 | 500603 | misc       | 100.000000015    | passive   |\n",
      "|  57 | 500201 | plastics   | 100.0            | passive   |\n",
      "|  58 | 500603 | misc       | 100.000000015    | passive   |\n",
      "|  59 | 500201 | plastics   | 100.0            | passive   |\n",
      "|  60 | 500603 | misc       | 100.000000015    | passive   |\n",
      "|  61 | 500201 | plastics   | 100.0            | passive   |\n",
      "|  62 | 500603 | misc       | 100.000000015    | passive   |\n",
      "|  63 | 500201 | plastics   | 100.0            | passive   |\n",
      "|  64 | 500603 | misc       | 100.000000015    | passive   |\n",
      "|  65 | 500201 | plastics   | 100.0            | passive   |\n",
      "|  66 | 500603 | misc       | 100.000000015    | passive   |\n",
      "|  67 | 500201 | plastics   | 100.0            | passive   |\n",
      "|  68 | 500603 | misc       | 100.000000015    | passive   |\n",
      "|  69 | 500201 | plastics   | 100.0            | passive   |\n",
      "|  70 | 500603 | misc       | 100.000000015    | passive   |\n",
      "|  71 | 500201 | plastics   | 100.0            | passive   |\n",
      "|  72 | 500603 | misc       | 100.000000015    | passive   |\n",
      "|  73 | 500201 | plastics   | 100.0            | passive   |\n",
      "|  74 | 500603 | misc       | 100.000000015    | passive   |\n",
      "|  75 | 500201 | plastics   | 100.0            | passive   |\n",
      "|  76 | 500603 | misc       | 100.000000015    | passive   |\n",
      "|  77 | 500201 | plastics   | 100.0            | passive   |\n",
      "|  78 | 500603 | misc       | 100.000000015    | passive   |\n",
      "|  79 | 500201 | plastics   | 100.0            | passive   |\n",
      "|  80 | 500603 | misc       | 100.000000015    | passive   |\n"
     ]
    }
   ],
   "source": [
    "c.table()"
   ]
  },
  {
   "cell_type": "code",
   "execution_count": null,
   "metadata": {
    "collapsed": true
   },
   "outputs": [],
   "source": []
  }
 ],
 "metadata": {
  "kernelspec": {
   "display_name": "Python 2",
   "language": "python",
   "name": "python2"
  },
  "language_info": {
   "codemirror_mode": {
    "name": "ipython",
    "version": 2
   },
   "file_extension": ".py",
   "mimetype": "text/x-python",
   "name": "python",
   "nbconvert_exporter": "python",
   "pygments_lexer": "ipython2",
   "version": "2.7.6"
  }
 },
 "nbformat": 4,
 "nbformat_minor": 0
}
