{
 "cells": [
  {
   "cell_type": "markdown",
   "metadata": {},
   "source": [
    "<h1>Traml Slider Demo</h1>\n",
    "<h3>Single film of AZO on SLG substrate</h3>"
   ]
  },
  {
   "cell_type": "code",
   "execution_count": 20,
   "metadata": {
    "collapsed": false
   },
   "outputs": [
    {
     "name": "stdout",
     "output_type": "stream",
     "text": [
      "Populating the interactive namespace from numpy and matplotlib\n"
     ]
    }
   ],
   "source": [
    "%pylab inline\n",
    "import os, sys\n",
    "sys.path.append(\"../\")\n",
    "import traml #TMM script\n",
    "import db"
   ]
  },
  {
   "cell_type": "code",
   "execution_count": 21,
   "metadata": {
    "collapsed": false
   },
   "outputs": [],
   "source": [
    "a = traml.Stack() #create new stack object, default SLG substrate"
   ]
  },
  {
   "cell_type": "code",
   "execution_count": 22,
   "metadata": {
    "collapsed": false
   },
   "outputs": [
    {
     "name": "stdout",
     "output_type": "stream",
     "text": [
      "|     ID | SHELF   | BOOK   | PAGE     | DESCRIPTION                    |\n",
      "|--------+---------+--------+----------+--------------------------------|\n",
      "| 112001 | main    | ZnO    | Bond-o   | Bond et al. 1965: n(o) 0.45-4. |\n",
      "| 112002 | main    | ZnO    | Bond-e   | Bond et al. 1965: n(e) 0.45-4. |\n",
      "| 401401 | other   | Al:ZnO | Treharne | Treharne et al. 2011: Thin fil |\n"
     ]
    }
   ],
   "source": [
    "a.library.search('ZnO') #search for a ZnO film as an example"
   ]
  },
  {
   "cell_type": "code",
   "execution_count": 23,
   "metadata": {
    "collapsed": false
   },
   "outputs": [
    {
     "name": "stdout",
     "output_type": "stream",
     "text": [
      "|   # |     ID | Material   | Thickness (nm)   | Type      |\n",
      "|-----+--------+------------+------------------+-----------|\n",
      "|   0 | 301005 | soda-lime  | --               | substrate |\n",
      "|   1 | 401401 | Al:ZnO     | 100              | passive   |\n"
     ]
    }
   ],
   "source": [
    "a.add(401401) #Add the Al:ZnO layer\n",
    "a.table()"
   ]
  },
  {
   "cell_type": "code",
   "execution_count": 24,
   "metadata": {
    "collapsed": false
   },
   "outputs": [],
   "source": [
    "def getTR(stack):\n",
    "    '''Get T and R for stack'''\n",
    "    T = stack.get_T()\n",
    "    R = stack.get_R()\n",
    "    x = stack.x\n",
    "    return x, real(T), real(R)"
   ]
  },
  {
   "cell_type": "code",
   "execution_count": 25,
   "metadata": {
    "collapsed": false
   },
   "outputs": [],
   "source": [
    "def plot(d):\n",
    "    '''Plot T and R for stack'''\n",
    "    \n",
    "    fig = figure(figsize(9,5))\n",
    "    ax = fig.add_subplot(111)\n",
    "    \n",
    "    stack = a\n",
    "    stack.d(1, d) #change layer 1 thickness\n",
    "    x, T, R = getTR(a) \n",
    "    \n",
    "    ax.plot(x, T, color='red', linewidth=3)\n",
    "    ax.plot(x, R, color='blue', linewidth=3)\n",
    "    ax.set_xlim([min(x), max(x)])\n",
    "    ax.set_ylim([0,1])\n",
    "    ax.set_xlabel('$\\lambda$ ($\\mu$m)', fontsize=20)\n",
    "    ax.set_ylabel('T, R', fontsize=20)\n",
    "    \n",
    "    \n",
    "    "
   ]
  },
  {
   "cell_type": "markdown",
   "metadata": {},
   "source": [
    "<h1>Traml Slider Demo</h1>\n",
    "<h3>Single film of AZO on SLG substrate</h3>"
   ]
  },
  {
   "cell_type": "code",
   "execution_count": 26,
   "metadata": {
    "collapsed": false
   },
   "outputs": [
    {
     "data": {
      "image/png": "[encoded data removed]",
      "text/plain": [
       "<matplotlib.figure.Figure at 0x7f637d81af10>"
      ]
     },
     "metadata": {},
     "output_type": "display_data"
    }
   ],
   "source": [
    "from ipywidgets import *\n",
    "d_s = FloatSlider(min=0, max=1000, step=5, value = 0)\n",
    "interactive(plot,a=a,d=d_s)"
   ]
  }
 ],
 "metadata": {
  "kernelspec": {
   "display_name": "Python 2",
   "language": "python",
   "name": "python2"
  },
  "language_info": {
   "codemirror_mode": {
    "name": "ipython",
    "version": 2
   },
   "file_extension": ".py",
   "mimetype": "text/x-python",
   "name": "python",
   "nbconvert_exporter": "python",
   "pygments_lexer": "ipython2",
   "version": "2.7.6"
  }
 },
 "nbformat": 4,
 "nbformat_minor": 0
}
