{
 "cells": [
  {
   "cell_type": "code",
   "execution_count": 3,
   "metadata": {
    "collapsed": false
   },
   "outputs": [
    {
     "name": "stdout",
     "output_type": "stream",
     "text": [
      "Populating the interactive namespace from numpy and matplotlib\n"
     ]
    }
   ],
   "source": [
    "%pylab inline\n",
    "import os, sys\n",
    "sys.path.append(\"../\")\n",
    "import traml\n",
    "import db"
   ]
  },
  {
   "cell_type": "code",
   "execution_count": 4,
   "metadata": {
    "collapsed": false
   },
   "outputs": [],
   "source": [
    "a = traml.Stack()"
   ]
  },
  {
   "cell_type": "code",
   "execution_count": 5,
   "metadata": {
    "collapsed": false
   },
   "outputs": [
    {
     "name": "stdout",
     "output_type": "stream",
     "text": [
      "|     ID | SHELF   | BOOK   | PAGE     | DESCRIPTION                    |\n",
      "|--------+---------+--------+----------+--------------------------------|\n",
      "| 112001 | main    | ZnO    | Bond-o   | Bond et al. 1965: n(o) 0.45-4. |\n",
      "| 112002 | main    | ZnO    | Bond-e   | Bond et al. 1965: n(e) 0.45-4. |\n",
      "| 401401 | other   | Al:ZnO | Treharne | Treharne et al. 2011: Thin fil |\n"
     ]
    }
   ],
   "source": [
    "a.library.search('ZnO')"
   ]
  },
  {
   "cell_type": "code",
   "execution_count": 6,
   "metadata": {
    "collapsed": true
   },
   "outputs": [],
   "source": [
    "a.add(401401, 1000)"
   ]
  },
  {
   "cell_type": "code",
   "execution_count": 23,
   "metadata": {
    "collapsed": false
   },
   "outputs": [
    {
     "name": "stdout",
     "output_type": "stream",
     "text": [
      "Using matplotlib backend: TkAgg\n"
     ]
    },
    {
     "data": {
      "text/plain": [
       "(0, 1)"
      ]
     },
     "execution_count": 23,
     "metadata": {},
     "output_type": "execute_result"
    }
   ],
   "source": [
    "%matplotlib\n",
    "fig = figure(figsize=(9,7))\n",
    "ax = fig.add_subplot(111)\n",
    "\n",
    "ax.tick_params(labelsize = 20)\n",
    "ax.set_xlabel('$\\lambda$ ($\\mu$m)', fontsize=24)\n",
    "ax.set_ylabel('T, R', fontsize=24)\n",
    "\n",
    "T = a.get_T()\n",
    "R = a.get_R()\n",
    "x = a.x\n",
    "\n",
    "ax.plot(x, T, color='red')\n",
    "ax.plot(x, R, color='blue')\n",
    "\n",
    "ax.set_xlim([0.35, 0.9])\n",
    "ax.set_ylim([0,1])\n"
   ]
  },
  {
   "cell_type": "code",
   "execution_count": null,
   "metadata": {
    "collapsed": true
   },
   "outputs": [],
   "source": []
  }
 ],
 "metadata": {
  "kernelspec": {
   "display_name": "Python 2",
   "language": "python",
   "name": "python2"
  },
  "language_info": {
   "codemirror_mode": {
    "name": "ipython",
    "version": 2
   },
   "file_extension": ".py",
   "mimetype": "text/x-python",
   "name": "python",
   "nbconvert_exporter": "python",
   "pygments_lexer": "ipython2",
   "version": "2.7.6"
  }
 },
 "nbformat": 4,
 "nbformat_minor": 0
}
