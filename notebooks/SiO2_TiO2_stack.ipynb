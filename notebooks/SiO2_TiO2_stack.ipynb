{
 "cells": [
  {
   "cell_type": "code",
   "execution_count": 29,
   "metadata": {
    "collapsed": true
   },
   "outputs": [],
   "source": [
    "%matplotlib inline\n",
    "import traml"
   ]
  },
  {
   "cell_type": "code",
   "execution_count": 30,
   "metadata": {
    "collapsed": false
   },
   "outputs": [
    {
     "name": "stdout",
     "output_type": "stream",
     "text": [
      "|   # |   Material | Thickness (nm)   | Type      |\n",
      "|-----+------------+------------------+-----------|\n",
      "|   0 |     301005 | --               | substrate |\n"
     ]
    }
   ],
   "source": [
    "a = traml.Stack()"
   ]
  },
  {
   "cell_type": "code",
   "execution_count": 31,
   "metadata": {
    "collapsed": false
   },
   "outputs": [
    {
     "name": "stdout",
     "output_type": "stream",
     "text": [
      "|     ID | SHELF   | BOOK         | PAGE            | DESCRIPTION                    |\n",
      "|--------+---------+--------------+-----------------+--------------------------------|\n",
      "| 111401 | main    | SiO2         | Malitson        | Malitson 1965: Fused silica; n |\n",
      "| 111402 | main    | SiO2         | Ghosh-o         | Ghosh 1999: α-Quartz, n(o) 0.1 |\n",
      "| 111403 | main    | SiO2         | Ghosh-e         | Ghosh 1999: α-Quartz, n(e) 0.1 |\n",
      "| 111404 | main    | SiO2         | Radhakrishnan-o | Radhakrishnan 1951: α-Quartz;  |\n",
      "| 111405 | main    | SiO2         | Radhakrishnan-e | Radhakrishnan 1951: α-Quartz;  |\n",
      "| 111406 | main    | SiO2         | Kischkat        | Kischkat et al. 2012: Thin fil |\n",
      "| 111407 | main    | SiO2         | Gao             | Gao et al. 2013: Thin film; n, |\n",
      "| 111408 | main    | SiO2         | Lemarchand      | Lemarchand 2013: Thin film; n, |\n",
      "| 116001 | main    | Bi12SiO20    | Gospodinov      | Gospodinov et al. 1988: n 0.48 |\n",
      "| 300901 | glass   | fused_silica | Malitson        | Malitson 1965: n 0.21-3.71 µm  |\n",
      "| 500304 | 3d      | crystals     | quartz          | Quartz (SiO2)                  |\n"
     ]
    }
   ],
   "source": [
    "a.library.search('sio2')"
   ]
  },
  {
   "cell_type": "code",
   "execution_count": 32,
   "metadata": {
    "collapsed": false
   },
   "outputs": [
    {
     "name": "stdout",
     "output_type": "stream",
     "text": [
      "|   # |   Material | Thickness (nm)   | Type      |\n",
      "|-----+------------+------------------+-----------|\n",
      "|   0 |     301005 | --               | substrate |\n",
      "|   1 |     111407 | 15               | passive   |\n"
     ]
    }
   ],
   "source": [
    "a.add(111407, 15)"
   ]
  },
  {
   "cell_type": "code",
   "execution_count": 33,
   "metadata": {
    "collapsed": false
   },
   "outputs": [
    {
     "name": "stdout",
     "output_type": "stream",
     "text": [
      "|   # |   Material | Thickness (nm)   | Type      |\n",
      "|-----+------------+------------------+-----------|\n",
      "|   0 |     301005 | --               | substrate |\n",
      "|   1 |     111407 | 15               | passive   |\n",
      "|   2 |     112003 | 90               | passive   |\n"
     ]
    }
   ],
   "source": [
    "a.add(112003, 90)"
   ]
  },
  {
   "cell_type": "code",
   "execution_count": 34,
   "metadata": {
    "collapsed": false
   },
   "outputs": [
    {
     "name": "stdout",
     "output_type": "stream",
     "text": [
      "|   # |   Material | Thickness (nm)   | Type      |\n",
      "|-----+------------+------------------+-----------|\n",
      "|   0 |     301005 | --               | substrate |\n",
      "|   1 |     111407 | 15               | passive   |\n",
      "|   2 |     112003 | 90               | passive   |\n",
      "|   3 |     111407 | 15               | passive   |\n",
      "|   4 |     112003 | 90               | passive   |\n",
      "|   5 |     111407 | 15               | passive   |\n",
      "|   6 |     112003 | 90               | passive   |\n",
      "|   7 |     111407 | 15               | passive   |\n",
      "|   8 |     112003 | 90               | passive   |\n",
      "|   9 |     111407 | 15               | passive   |\n",
      "|  10 |     112003 | 90               | passive   |\n",
      "|  11 |     111407 | 15               | passive   |\n",
      "|  12 |     112003 | 90               | passive   |\n",
      "|  13 |     111407 | 15               | passive   |\n",
      "|  14 |     112003 | 90               | passive   |\n",
      "|  15 |     111407 | 15               | passive   |\n",
      "|  16 |     112003 | 90               | passive   |\n",
      "|  17 |     111407 | 15               | passive   |\n",
      "|  18 |     112003 | 90               | passive   |\n",
      "|  19 |     111407 | 15               | passive   |\n",
      "|  20 |     112003 | 90               | passive   |\n",
      "|  21 |     111407 | 15               | passive   |\n",
      "|  22 |     112003 | 90               | passive   |\n",
      "|  23 |     111407 | 15               | passive   |\n",
      "|  24 |     112003 | 90               | passive   |\n",
      "|  25 |     111407 | 15               | passive   |\n",
      "|  26 |     112003 | 90               | passive   |\n",
      "|  27 |     111407 | 15               | passive   |\n",
      "|  28 |     112003 | 90               | passive   |\n",
      "|  29 |     111407 | 15               | passive   |\n",
      "|  30 |     112003 | 90               | passive   |\n",
      "|  31 |     111407 | 15               | passive   |\n",
      "|  32 |     112003 | 90               | passive   |\n",
      "|  33 |     111407 | 15               | passive   |\n",
      "|  34 |     112003 | 90               | passive   |\n",
      "|  35 |     111407 | 15               | passive   |\n",
      "|  36 |     112003 | 90               | passive   |\n",
      "|  37 |     111407 | 15               | passive   |\n",
      "|  38 |     112003 | 90               | passive   |\n",
      "|  39 |     111407 | 15               | passive   |\n",
      "|  40 |     112003 | 90               | passive   |\n",
      "|  41 |     111407 | 15               | passive   |\n",
      "|  42 |     112003 | 90               | passive   |\n"
     ]
    }
   ],
   "source": [
    "a.repeat('1,2',20)"
   ]
  },
  {
   "cell_type": "code",
   "execution_count": 35,
   "metadata": {
    "collapsed": false
   },
   "outputs": [
    {
     "name": "stdout",
     "output_type": "stream",
     "text": [
      "|   # |   Material | Thickness (nm)   | Type      |\n",
      "|-----+------------+------------------+-----------|\n",
      "|   0 |     301005 | --               | substrate |\n",
      "|   1 |     111407 | 15               | passive   |\n",
      "|   2 |     112003 | 90               | passive   |\n",
      "|   3 |     111407 | 15               | passive   |\n",
      "|   4 |     112003 | 90               | passive   |\n",
      "|   5 |     111407 | 15               | passive   |\n",
      "|   6 |     112003 | 90               | passive   |\n",
      "|   7 |     111407 | 15               | passive   |\n",
      "|   8 |     112003 | 90               | passive   |\n",
      "|   9 |     111407 | 15               | passive   |\n",
      "|  10 |     112003 | 90               | passive   |\n",
      "|  11 |     111407 | 15               | passive   |\n",
      "|  12 |     112003 | 90               | passive   |\n",
      "|  13 |     111407 | 15               | passive   |\n",
      "|  14 |     112003 | 90               | passive   |\n",
      "|  15 |     111407 | 15               | passive   |\n",
      "|  16 |     112003 | 90               | passive   |\n",
      "|  17 |     111407 | 15               | passive   |\n",
      "|  18 |     112003 | 90               | passive   |\n",
      "|  19 |     111407 | 15               | passive   |\n",
      "|  20 |     112003 | 90               | passive   |\n",
      "|  21 |     111407 | 15               | passive   |\n",
      "|  22 |     112003 | 90               | passive   |\n",
      "|  23 |     111407 | 15               | passive   |\n",
      "|  24 |     112003 | 90               | passive   |\n",
      "|  25 |     111407 | 15               | passive   |\n",
      "|  26 |     112003 | 90               | passive   |\n",
      "|  27 |     111407 | 15               | passive   |\n",
      "|  28 |     112003 | 90               | passive   |\n",
      "|  29 |     111407 | 15               | passive   |\n",
      "|  30 |     112003 | 90               | passive   |\n",
      "|  31 |     111407 | 15               | passive   |\n",
      "|  32 |     112003 | 90               | passive   |\n",
      "|  33 |     111407 | 15               | passive   |\n",
      "|  34 |     112003 | 90               | passive   |\n",
      "|  35 |     111407 | 15               | passive   |\n",
      "|  36 |     112003 | 90               | passive   |\n",
      "|  37 |     111407 | 15               | passive   |\n",
      "|  38 |     112003 | 90               | passive   |\n",
      "|  39 |     111407 | 15               | passive   |\n",
      "|  40 |     112003 | 90               | passive   |\n",
      "|  41 |     111407 | 15               | passive   |\n",
      "|  42 |     112003 | 90               | passive   |\n",
      "|  43 |     114203 | 100              | passive   |\n"
     ]
    }
   ],
   "source": [
    "a.add(114203, 100)"
   ]
  },
  {
   "cell_type": "code",
   "execution_count": 36,
   "metadata": {
    "collapsed": false
   },
   "outputs": [
    {
     "name": "stdout",
     "output_type": "stream",
     "text": [
      "|   # |   Material | Thickness (nm)   | Type      |\n",
      "|-----+------------+------------------+-----------|\n",
      "|   0 |     301005 | --               | substrate |\n",
      "|   1 |     111407 | 15               | passive   |\n",
      "|   2 |     112003 | 90               | passive   |\n",
      "|   3 |     111407 | 15               | passive   |\n",
      "|   4 |     112003 | 90               | passive   |\n",
      "|   5 |     111407 | 15               | passive   |\n",
      "|   6 |     112003 | 90               | passive   |\n",
      "|   7 |     111407 | 15               | passive   |\n",
      "|   8 |     112003 | 90               | passive   |\n",
      "|   9 |     111407 | 15               | passive   |\n",
      "|  10 |     112003 | 90               | passive   |\n",
      "|  11 |     111407 | 15               | passive   |\n",
      "|  12 |     112003 | 90               | passive   |\n",
      "|  13 |     111407 | 15               | passive   |\n",
      "|  14 |     112003 | 90               | passive   |\n",
      "|  15 |     111407 | 15               | passive   |\n",
      "|  16 |     112003 | 90               | passive   |\n",
      "|  17 |     111407 | 15               | passive   |\n",
      "|  18 |     112003 | 90               | passive   |\n",
      "|  19 |     111407 | 15               | passive   |\n",
      "|  20 |     112003 | 90               | passive   |\n",
      "|  21 |     111407 | 15               | passive   |\n",
      "|  22 |     112003 | 90               | passive   |\n",
      "|  23 |     111407 | 15               | passive   |\n",
      "|  24 |     112003 | 90               | passive   |\n",
      "|  25 |     111407 | 15               | passive   |\n",
      "|  26 |     112003 | 90               | passive   |\n",
      "|  27 |     111407 | 15               | passive   |\n",
      "|  28 |     112003 | 90               | passive   |\n",
      "|  29 |     111407 | 15               | passive   |\n",
      "|  30 |     112003 | 90               | passive   |\n",
      "|  31 |     111407 | 15               | passive   |\n",
      "|  32 |     112003 | 90               | passive   |\n",
      "|  33 |     111407 | 15               | passive   |\n",
      "|  34 |     112003 | 90               | passive   |\n",
      "|  35 |     111407 | 15               | passive   |\n",
      "|  36 |     112003 | 90               | passive   |\n",
      "|  37 |     111407 | 15               | passive   |\n",
      "|  38 |     112003 | 90               | passive   |\n",
      "|  39 |     111407 | 15               | passive   |\n",
      "|  40 |     112003 | 90               | passive   |\n",
      "|  41 |     111407 | 15               | passive   |\n",
      "|  42 |     112003 | 90               | passive   |\n",
      "|  43 |     114203 | 100              | passive   |\n",
      "|  44 |     116605 | 1000             | absorber  |\n"
     ]
    }
   ],
   "source": [
    "a.add(116605, 1000, film_type='absorber')"
   ]
  },
  {
   "cell_type": "code",
   "execution_count": 37,
   "metadata": {
    "collapsed": false
   },
   "outputs": [
    {
     "data": {
      "image/png": "[encoded data removed]",
      "text/plain": [
       "<matplotlib.figure.Figure at 0x7f088e3c1110>"
      ]
     },
     "metadata": {},
     "output_type": "display_data"
    }
   ],
   "source": [
    "a.plot()"
   ]
  },
  {
   "cell_type": "code",
   "execution_count": 38,
   "metadata": {
    "collapsed": false
   },
   "outputs": [
    {
     "name": "stdout",
     "output_type": "stream",
     "text": [
      "16.862270296 (ma/cm^2)\n"
     ]
    },
    {
     "data": {
      "text/plain": [
       "16.862270295974774"
      ]
     },
     "execution_count": 38,
     "metadata": {},
     "output_type": "execute_result"
    }
   ],
   "source": [
    "a.jsc()"
   ]
  },
  {
   "cell_type": "code",
   "execution_count": null,
   "metadata": {
    "collapsed": true
   },
   "outputs": [],
   "source": []
  }
 ],
 "metadata": {
  "kernelspec": {
   "display_name": "Python 2",
   "language": "python",
   "name": "python2"
  },
  "language_info": {
   "codemirror_mode": {
    "name": "ipython",
    "version": 2
   },
   "file_extension": ".py",
   "mimetype": "text/x-python",
   "name": "python",
   "nbconvert_exporter": "python",
   "pygments_lexer": "ipython2",
   "version": "2.7.6"
  }
 },
 "nbformat": 4,
 "nbformat_minor": 0
}
