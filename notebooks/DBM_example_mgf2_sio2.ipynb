{
 "cells": [
  {
   "cell_type": "code",
   "execution_count": 1,
   "metadata": {
    "collapsed": false
   },
   "outputs": [
    {
     "name": "stdout",
     "output_type": "stream",
     "text": [
      "Populating the interactive namespace from numpy and matplotlib\n"
     ]
    }
   ],
   "source": [
    "%pylab inline\n",
    "import os, sys\n",
    "sys.path.append(\"../\")\n",
    "import traml\n",
    "import db\n",
    "from scipy.optimize import minimize\n",
    "import copy"
   ]
  },
  {
   "cell_type": "code",
   "execution_count": 2,
   "metadata": {
    "collapsed": false
   },
   "outputs": [
    {
     "name": "stdout",
     "output_type": "stream",
     "text": [
      "|     ID | SHELF   | BOOK         | PAGE            | DESCRIPTION                    |\n",
      "|--------+---------+--------------+-----------------+--------------------------------|\n",
      "| 111401 | main    | SiO2         | Malitson        | Malitson 1965: Fused silica; n |\n",
      "| 111402 | main    | SiO2         | Ghosh-o         | Ghosh 1999: α-Quartz, n(o) 0.1 |\n",
      "| 111403 | main    | SiO2         | Ghosh-e         | Ghosh 1999: α-Quartz, n(e) 0.1 |\n",
      "| 111404 | main    | SiO2         | Radhakrishnan-o | Radhakrishnan 1951: α-Quartz;  |\n",
      "| 111405 | main    | SiO2         | Radhakrishnan-e | Radhakrishnan 1951: α-Quartz;  |\n",
      "| 111406 | main    | SiO2         | Kischkat        | Kischkat et al. 2012: Thin fil |\n",
      "| 111407 | main    | SiO2         | Gao             | Gao et al. 2013: Thin film; n, |\n",
      "| 111408 | main    | SiO2         | Lemarchand      | Lemarchand 2013: Thin film; n, |\n",
      "| 116001 | main    | Bi12SiO20    | Gospodinov      | Gospodinov et al. 1988: n 0.48 |\n",
      "| 300901 | glass   | fused_silica | Malitson        | Malitson 1965: n 0.21-3.71 µm  |\n",
      "| 500304 | 3d      | crystals     | quartz          | Quartz (SiO2)                  |\n",
      "|     ID | SHELF   | BOOK   | PAGE    | DESCRIPTION                 |\n",
      "|--------+---------+--------+---------+-----------------------------|\n",
      "| 105401 | main    | MgF2   | Li-o    | Li 1980: n(o) 0.14-7.5 µm   |\n",
      "| 105402 | main    | MgF2   | Li-e    | Li 1980: n(e) 0.14-7.5 µm   |\n",
      "| 105403 | main    | MgF2   | Dodge-o | Dodge 1984: n(o) 0.2-7.0 µm |\n",
      "| 105404 | main    | MgF2   | Dodge-e | Dodge 1984: n(e) 0.2-7.0 µm |\n"
     ]
    }
   ],
   "source": [
    "a = traml.Stack()\n",
    "a.library.search('SiO2')\n",
    "a.library.search('mgf2')"
   ]
  },
  {
   "cell_type": "code",
   "execution_count": 3,
   "metadata": {
    "collapsed": false
   },
   "outputs": [
    {
     "data": {
      "text/plain": [
       "{'COMMENTS': 'Room temperature',\n",
       " 'DATA': [{'coefficients': '0 0.6961663 0.0684043 0.4079426 0.1162414 0.8974794 9.896161',\n",
       "   'range': '0.21 3.71',\n",
       "   'type': 'formula 1'}],\n",
       " 'REFERENCES': 'I. H. Malitson. Interspecimen Comparison of the Refractive Index of Fused Silica, <a href=\"http://dx.doi.org/10.1364/JOSA.55.001205\"><i>J. Opt. Soc. Am.</i> <b>55</b>, 1205-1208 (1965)</a>'}"
      ]
     },
     "execution_count": 3,
     "metadata": {},
     "output_type": "execute_result"
    }
   ],
   "source": [
    "PAZO = 500603\n",
    "PMMA = 500201\n",
    "sio2 = 111401\n",
    "mgf2 = 105404\n",
    "a.library.page(sio2)"
   ]
  },
  {
   "cell_type": "code",
   "execution_count": 4,
   "metadata": {
    "collapsed": false
   },
   "outputs": [],
   "source": [
    "def fun(x, stack, layers, c, delta, TR):\n",
    "    for i in layers:\n",
    "        stack.d(i, x[i-1])\n",
    "\n",
    "    for p in x:\n",
    "        p = np.sqrt(x[0]**2)\n",
    "    x[0]=np.sqrt(x[0]**2)\n",
    "    #min = 1-stack.average(TR, c, delta, o='a')\n",
    "    min = stack.average(TR, c, delta)\n",
    "   \n",
    "    return min**10"
   ]
  },
  {
   "cell_type": "code",
   "execution_count": 5,
   "metadata": {
    "collapsed": true
   },
   "outputs": [],
   "source": [
    "def minTR(stack, film_range, c, delta, TR='T'):\n",
    "    \n",
    "    x = []\n",
    "    layers = []\n",
    "    bnds = []\n",
    "    for i in range(film_range[0],film_range[1]+1):\n",
    "        x.append(stack.config[i][1])\n",
    "        layers.append(i)\n",
    "        bnds.append(stack.config[i][3])\n",
    "        \n",
    "    result = minimize(fun, x, args=(stack, layers, c,delta, TR), bounds = bnds,tol=1e-30, method='SLSQP')\n",
    "    \n",
    "    \n",
    "    return result"
   ]
  },
  {
   "cell_type": "code",
   "execution_count": 6,
   "metadata": {
    "collapsed": false
   },
   "outputs": [
    {
     "name": "stdout",
     "output_type": "stream",
     "text": [
      "============================================================================================\n",
      "1 :  R =  0.0820558799705\n",
      "============================================================================================\n",
      "2 :  R =  0.0902340593145\n",
      "============================================================================================\n",
      "3 :  R =  0.110915928382\n",
      "============================================================================================\n",
      "4 :  R =  0.134692789365\n",
      "============================================================================================\n",
      "5 :  R =  0.146256761445\n"
     ]
    }
   ],
   "source": [
    "c = traml.Stack()\n",
    "\n",
    "peak = 0.65\n",
    "delta = 0.01\n",
    "\n",
    "stack_list = []\n",
    "\n",
    "\n",
    "R=[]\n",
    "n = [0]\n",
    "\n",
    "N =5\n",
    "for i in range(0, N):\n",
    "    #if i % 2 == 0:\n",
    "       # print 'even', i\n",
    "        #c.add(PMMA,100, bnds=(50,250))\n",
    "    # else:\n",
    "        #c.add(PAZO,100, bnds=(50,250))\n",
    "    \n",
    "    c.add(mgf2, 100, bnds=(0,250))\n",
    "    c.add(sio2, 100, bnds=(0,250))\n",
    "    \n",
    "    \n",
    "    result = minTR(c, [1,len(c.config)-1], peak, delta, TR='T')\n",
    "    R.append(c.average('R',peak,delta))\n",
    "    n.append(i+1)\n",
    "    \n",
    "    stack_list.append(copy.deepcopy(c))\n",
    "  \n",
    "    print '============================================================================================'\n",
    "   \n",
    "    print i+1, ': ', 'R = ', c.average('R',peak,delta)\n",
    " \n",
    "    "
   ]
  },
  {
   "cell_type": "code",
   "execution_count": 7,
   "metadata": {
    "collapsed": false
   },
   "outputs": [
    {
     "data": {
      "image/png": "[encoded data removed]",
      "text/plain": [
       "<matplotlib.figure.Figure at 0xb002244c>"
      ]
     },
     "metadata": {},
     "output_type": "display_data"
    }
   ],
   "source": [
    "c.plot()"
   ]
  },
  {
   "cell_type": "code",
   "execution_count": 8,
   "metadata": {
    "collapsed": false
   },
   "outputs": [
    {
     "data": {
      "text/plain": [
       "0.14625676144546285"
      ]
     },
     "execution_count": 8,
     "metadata": {},
     "output_type": "execute_result"
    },
    {
     "data": {
      "image/png": "[encoded data removed]",
      "text/plain": [
       "<matplotlib.figure.Figure at 0xafad380c>"
      ]
     },
     "metadata": {},
     "output_type": "display_data"
    }
   ],
   "source": [
    "fig = figure()\n",
    "ax = fig.add_subplot(111)\n",
    "R = []\n",
    "\n",
    "for stack in stack_list:\n",
    "    R.append(stack.average('R',0.65,0.01))\n",
    "    \n",
    "ax.plot(R)\n",
    "stack_list[-1].average('R', 0.65, 0.01)"
   ]
  },
  {
   "cell_type": "code",
   "execution_count": 9,
   "metadata": {
    "collapsed": false
   },
   "outputs": [
    {
     "data": {
      "text/plain": [
       "(0.3, 0.9)"
      ]
     },
     "execution_count": 9,
     "metadata": {},
     "output_type": "execute_result"
    },
    {
     "data": {
      "image/png": "[encoded data removed]",
      "text/plain": [
       "<matplotlib.figure.Figure at 0xaf81104c>"
      ]
     },
     "metadata": {},
     "output_type": "display_data"
    }
   ],
   "source": [
    "fig = figure()\n",
    "ax = fig.add_subplot(111)\n",
    "R = real(c.get_R())\n",
    "x = c.x\n",
    "\n",
    "ax.plot(x, R)\n",
    "ax.set_xlim([0.3,0.9])\n",
    "    "
   ]
  },
  {
   "cell_type": "code",
   "execution_count": null,
   "metadata": {
    "collapsed": true
   },
   "outputs": [],
   "source": []
  }
 ],
 "metadata": {
  "kernelspec": {
   "display_name": "Python 2",
   "language": "python",
   "name": "python2"
  },
  "language_info": {
   "codemirror_mode": {
    "name": "ipython",
    "version": 2
   },
   "file_extension": ".py",
   "mimetype": "text/x-python",
   "name": "python",
   "nbconvert_exporter": "python",
   "pygments_lexer": "ipython2",
   "version": "2.7.6"
  }
 },
 "nbformat": 4,
 "nbformat_minor": 0
}
