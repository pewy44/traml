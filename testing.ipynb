{
 "cells": [
  {
   "cell_type": "code",
   "execution_count": 1,
   "metadata": {
    "collapsed": false
   },
   "outputs": [],
   "source": [
    "%matplotlib inline\n",
    "import db"
   ]
  },
  {
   "cell_type": "code",
   "execution_count": 2,
   "metadata": {
    "collapsed": true
   },
   "outputs": [],
   "source": [
    "a = db.L()"
   ]
  },
  {
   "cell_type": "code",
   "execution_count": 8,
   "metadata": {
    "collapsed": false
   },
   "outputs": [
    {
     "name": "stdout",
     "output_type": "stream",
     "text": [
      "|     ID | SHELF   | BOOK   | PAGE   | DESCRIPTION                    |\n",
      "|--------+---------+--------+--------+--------------------------------|\n",
      "| 112001 | main    | ZnO    | Bond-o | Bond et al. 1965: n(o) 0.45-4. |\n",
      "| 112002 | main    | ZnO    | Bond-e | Bond et al. 1965: n(e) 0.45-4. |\n"
     ]
    }
   ],
   "source": [
    "a.search('zno', deep=True)"
   ]
  },
  {
   "cell_type": "code",
   "execution_count": 4,
   "metadata": {
    "collapsed": false
   },
   "outputs": [
    {
     "data": {
      "image/png": "[encoded data removed]",
      "text/plain": [
       "<matplotlib.figure.Figure at 0xb657784c>"
      ]
     },
     "metadata": {},
     "output_type": "display_data"
    }
   ],
   "source": [
    "a.plot(116601)"
   ]
  },
  {
   "cell_type": "code",
   "execution_count": 5,
   "metadata": {
    "collapsed": false
   },
   "outputs": [
    {
     "name": "stdout",
     "output_type": "stream",
     "text": [
      "|     ID | SHELF   | BOOK   | PAGE   | DESCRIPTION                    |\n",
      "|--------+---------+--------+--------+--------------------------------|\n",
      "| 112001 | main    | ZnO    | Bond-o | Bond et al. 1965: n(o) 0.45-4. |\n",
      "| 112002 | main    | ZnO    | Bond-e | Bond et al. 1965: n(e) 0.45-4. |\n"
     ]
    }
   ],
   "source": [
    "a.search('zno')"
   ]
  },
  {
   "cell_type": "code",
   "execution_count": 6,
   "metadata": {
    "collapsed": false
   },
   "outputs": [
    {
     "data": {
      "text/plain": [
       "{'COMMENTS': 'Ordinary ray (o). Room temperature.',\n",
       " 'DATA': [{'coefficients': '2.81418 0.87968 2 0.3042 2 0 0 0 1 -0.00711 2',\n",
       "   'range': '0.45 4.0',\n",
       "   'type': 'formula 4'}],\n",
       " 'REFERENCES': '1) W. L. Bond. Measurement of the refractive indices of several crystals, <a href=\"http://dx.doi.org/10.1063/1.1703106\"><i>J. Appl. Phys.</i> <b>36</b>, 1674-1677 (1965)</a><br>2) Handbook of Optics, 3rd edition, Vol. 4. McGraw-Hill 2009</br>* Ref. 2 provides Sellmeier equation based on the data from ref. 1'}"
      ]
     },
     "execution_count": 6,
     "metadata": {},
     "output_type": "execute_result"
    }
   ],
   "source": [
    "a.page(112001)"
   ]
  },
  {
   "cell_type": "code",
   "execution_count": 7,
   "metadata": {
    "collapsed": false
   },
   "outputs": [
    {
     "name": "stdout",
     "output_type": "stream",
     "text": [
      "-----------\n",
      "No Results\n",
      "-----------\n"
     ]
    }
   ],
   "source": [
    "a.search('formula 4')"
   ]
  },
  {
   "cell_type": "code",
   "execution_count": null,
   "metadata": {
    "collapsed": true
   },
   "outputs": [],
   "source": []
  }
 ],
 "metadata": {
  "kernelspec": {
   "display_name": "Python 2",
   "language": "python",
   "name": "python2"
  },
  "language_info": {
   "codemirror_mode": {
    "name": "ipython",
    "version": 2
   },
   "file_extension": ".py",
   "mimetype": "text/x-python",
   "name": "python",
   "nbconvert_exporter": "python",
   "pygments_lexer": "ipython2",
   "version": "2.7.6"
  }
 },
 "nbformat": 4,
 "nbformat_minor": 0
}
