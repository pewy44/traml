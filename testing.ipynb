{
 "cells": [
  {
   "cell_type": "code",
   "execution_count": 1,
   "metadata": {
    "collapsed": false
   },
   "outputs": [],
   "source": [
    "%matplotlib inline\n",
    "import db"
   ]
  },
  {
   "cell_type": "code",
   "execution_count": 2,
   "metadata": {
    "collapsed": true
   },
   "outputs": [],
   "source": [
    "a = db.L()"
   ]
  },
  {
   "cell_type": "code",
   "execution_count": 3,
   "metadata": {
    "collapsed": false
   },
   "outputs": [
    {
     "name": "stdout",
     "output_type": "stream",
     "text": [
      "|     ID | SHELF   | BOOK   | PAGE        | DESCRIPTION                    |\n",
      "|--------+---------+--------+-------------+--------------------------------|\n",
      "| 116601 | main    | CdTe   | DeBell-300K | DeBell et al. 1979: n 6-22 µm; |\n",
      "| 116602 | main    | CdTe   | DeBell-80K  | DeBell et al. 1979: n 6-22 µm; |\n",
      "| 116603 | main    | CdTe   | DeBell-20K  | DeBell et al. 1979: n 6-22 µm; |\n"
     ]
    }
   ],
   "source": [
    "a.search('cdte')"
   ]
  },
  {
   "cell_type": "code",
   "execution_count": 4,
   "metadata": {
    "collapsed": false
   },
   "outputs": [
    {
     "name": "stdout",
     "output_type": "stream",
     "text": [
      "|     ID | SHELF   | BOOK   | PAGE   | DESCRIPTION                    |\n",
      "|--------+---------+--------+--------+--------------------------------|\n",
      "| 112001 | main    | ZnO    | Bond-o | Bond et al. 1965: n(o) 0.45-4. |\n",
      "| 112002 | main    | ZnO    | Bond-e | Bond et al. 1965: n(e) 0.45-4. |\n"
     ]
    }
   ],
   "source": [
    "a.search('zno')"
   ]
  },
  {
   "cell_type": "code",
   "execution_count": 5,
   "metadata": {
    "collapsed": false
   },
   "outputs": [
    {
     "name": "stdout",
     "output_type": "stream",
     "text": [
      "|     ID | SHELF   | BOOK   | PAGE         | DESCRIPTION                    |\n",
      "|--------+---------+--------+--------------+--------------------------------|\n",
      "| 114201 | main    | CdS    | Bieniewski-o | Bieniewski and Czyzak 1963: n( |\n",
      "| 114202 | main    | CdS    | Bieniewski-e | Bieniewski and Czyzak 1963: n( |\n",
      "| 115301 | main    | CdSe   | Lisitsa-o    | Lisitsa et al. 1969: n(o) 1.01 |\n",
      "| 115302 | main    | CdSe   | Lisitsa-e    | Lisitsa et al. 1969: n(e) 1.01 |\n"
     ]
    }
   ],
   "source": [
    "a.search('cds')"
   ]
  },
  {
   "cell_type": "code",
   "execution_count": 6,
   "metadata": {
    "collapsed": false
   },
   "outputs": [
    {
     "name": "stdout",
     "output_type": "stream",
     "text": [
      "-----------\n",
      "No Results\n",
      "-----------\n"
     ]
    }
   ],
   "source": [
    "a.search('cdo')"
   ]
  },
  {
   "cell_type": "code",
   "execution_count": 7,
   "metadata": {
    "collapsed": false
   },
   "outputs": [
    {
     "data": {
      "text/plain": [
       "{'COMMENTS': u'Ordinary ray (o). 25 \\xb0C.',\n",
       " 'DATA': [{'coefficients': '5.1792 0.23504 0 0.083591 1 0.036927 0 0.23504 1',\n",
       "   'range': '0.51 1.4',\n",
       "   'type': 'formula 4'}],\n",
       " 'REFERENCES': '1) T. M. Bieniewski and S. J. Czyzak. Refractive indexes of single hexagonal ZnS and CdS crystals, <a href=\"http://dx.doi.org/10.1364/JOSA.53.000496\"><i>J. Opt. Soc. Am.</i> <b>53</b>, 496-497 (1963)</a><br>2) M. Sanchez Gomez, J. M. Guerra, and F. Vilches. Weighted nonlinear regression analysis of a Sellmeier expansion: comparison of several nonlinear fits of CdS dispersion, <a href=\"http://dx.doi.org/10.1364/AO.24.001147\"><i>Appl. Opt.</i> <b>24</b>, 1147-1150 (1985)</a></br>* Ref. 2 provides Sellmeier equation based on the data from ref. 1'}"
      ]
     },
     "execution_count": 7,
     "metadata": {},
     "output_type": "execute_result"
    }
   ],
   "source": [
    "a.page(114201)"
   ]
  },
  {
   "cell_type": "code",
   "execution_count": 8,
   "metadata": {
    "collapsed": false
   },
   "outputs": [
    {
     "name": "stdout",
     "output_type": "stream",
     "text": [
      "|     ID | SHELF   | BOOK   | PAGE   | DESCRIPTION                    |\n",
      "|--------+---------+--------+--------+--------------------------------|\n",
      "| 112001 | main    | ZnO    | Bond-o | Bond et al. 1965: n(o) 0.45-4. |\n",
      "| 112002 | main    | ZnO    | Bond-e | Bond et al. 1965: n(e) 0.45-4. |\n"
     ]
    }
   ],
   "source": [
    "a.search('zno')"
   ]
  },
  {
   "cell_type": "code",
   "execution_count": 9,
   "metadata": {
    "collapsed": false
   },
   "outputs": [
    {
     "data": {
      "text/plain": [
       "{'COMMENTS': 'Ordinary ray (o). Room temperature.',\n",
       " 'DATA': [{'coefficients': '2.81418 0.87968 2 0.3042 2 0 0 0 1 -0.00711 2',\n",
       "   'range': '0.45 4.0',\n",
       "   'type': 'formula 4'}],\n",
       " 'REFERENCES': '1) W. L. Bond. Measurement of the refractive indices of several crystals, <a href=\"http://dx.doi.org/10.1063/1.1703106\"><i>J. Appl. Phys.</i> <b>36</b>, 1674-1677 (1965)</a><br>2) Handbook of Optics, 3rd edition, Vol. 4. McGraw-Hill 2009</br>* Ref. 2 provides Sellmeier equation based on the data from ref. 1'}"
      ]
     },
     "execution_count": 9,
     "metadata": {},
     "output_type": "execute_result"
    }
   ],
   "source": [
    "a.page(112001)"
   ]
  },
  {
   "cell_type": "code",
   "execution_count": null,
   "metadata": {
    "collapsed": true
   },
   "outputs": [],
   "source": []
  }
 ],
 "metadata": {
  "kernelspec": {
   "display_name": "Python 2",
   "language": "python",
   "name": "python2"
  },
  "language_info": {
   "codemirror_mode": {
    "name": "ipython",
    "version": 2
   },
   "file_extension": ".py",
   "mimetype": "text/x-python",
   "name": "python",
   "nbconvert_exporter": "python",
   "pygments_lexer": "ipython2",
   "version": "2.7.6"
  }
 },
 "nbformat": 4,
 "nbformat_minor": 0
}
